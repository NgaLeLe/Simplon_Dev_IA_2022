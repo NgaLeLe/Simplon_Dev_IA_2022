{
 "cells": [
  {
   "cell_type": "markdown",
   "metadata": {},
   "source": [
    "# ML supervisé pour les timeseries"
   ]
  },
  {
   "cell_type": "markdown",
   "metadata": {},
   "source": [
    "Dans ce premier notebook on va créer un modèle simple de la forme  $ Y_t = f(Y_{t-1}, Y_{t-2}, Y_{t-3}) $"
   ]
  },
  {
   "cell_type": "markdown",
   "metadata": {},
   "source": [
    "Charger le dataset 'univariate_time_series.csv'. On utilisera les argument index_col et parse_dates"
   ]
  },
  {
   "cell_type": "code",
   "execution_count": 5,
   "metadata": {},
   "outputs": [
    {
     "output_type": "stream",
     "name": "stdout",
     "text": [
      "<class 'pandas.core.frame.DataFrame'>\nDatetimeIndex: 14398 entries, 2018-09-25 14:01:00 to 2018-10-05 13:58:00\nData columns (total 1 columns):\n #   Column  Non-Null Count  Dtype  \n---  ------  --------------  -----  \n 0   count   14398 non-null  float64\ndtypes: float64(1)\nmemory usage: 225.0 KB\n"
     ]
    }
   ],
   "source": [
    "\n",
    "data = pd.read_csv(\"data/univariate_time_series.csv\", parse_dates=[\"timestamp\"], index_col=\"timestamp\")\n",
    "data.info()"
   ]
  },
  {
   "cell_type": "markdown",
   "metadata": {},
   "source": [
    "Afficher la time series"
   ]
  },
  {
   "cell_type": "code",
   "execution_count": 7,
   "metadata": {},
   "outputs": [
    {
     "output_type": "execute_result",
     "data": {
      "text/plain": [
       "DatetimeIndex(['2018-09-25 14:01:00', '2018-09-25 14:02:00',\n",
       "               '2018-09-25 14:03:00', '2018-09-25 14:04:00',\n",
       "               '2018-09-25 14:05:00', '2018-09-25 14:06:00',\n",
       "               '2018-09-25 14:07:00', '2018-09-25 14:08:00',\n",
       "               '2018-09-25 14:09:00', '2018-09-25 14:10:00',\n",
       "               ...\n",
       "               '2018-10-05 13:49:00', '2018-10-05 13:50:00',\n",
       "               '2018-10-05 13:51:00', '2018-10-05 13:52:00',\n",
       "               '2018-10-05 13:53:00', '2018-10-05 13:54:00',\n",
       "               '2018-10-05 13:55:00', '2018-10-05 13:56:00',\n",
       "               '2018-10-05 13:57:00', '2018-10-05 13:58:00'],\n",
       "              dtype='datetime64[ns]', name='timestamp', length=14398, freq=None)"
      ]
     },
     "metadata": {},
     "execution_count": 7
    }
   ],
   "source": [
    "data.index"
   ]
  },
  {
   "cell_type": "markdown",
   "metadata": {},
   "source": [
    "Avec la méthode shift de pandas créer les colonnes correspondants à $Y_{t-1}, Y_{t-2}, Y_{t-3}$ avec la méthode shift de pandas"
   ]
  },
  {
   "cell_type": "code",
   "execution_count": 9,
   "metadata": {},
   "outputs": [],
   "source": [
    "data['\"count_1'] = data['count'].shift(1)\n",
    "data['\"count_2'] = data['count'].shift(2)\n",
    "data['\"count_3'] = data['count'].shift(3)"
   ]
  },
  {
   "cell_type": "code",
   "execution_count": 10,
   "metadata": {},
   "outputs": [
    {
     "output_type": "execute_result",
     "data": {
      "text/plain": [
       "                       count  \"count_1  \"count_2  \"count_3\n",
       "timestamp                                                 \n",
       "2018-09-25 14:01:00  182.478       NaN       NaN       NaN\n",
       "2018-09-25 14:02:00  176.231   182.478       NaN       NaN\n",
       "2018-09-25 14:03:00  183.917   176.231   182.478       NaN\n",
       "2018-09-25 14:04:00  177.798   183.917   176.231   182.478\n",
       "2018-09-25 14:05:00  165.469   177.798   183.917   176.231\n",
       "...                      ...       ...       ...       ...\n",
       "2018-10-05 13:54:00  151.492   149.801   151.788   153.938\n",
       "2018-10-05 13:55:00  151.724   151.492   149.801   151.788\n",
       "2018-10-05 13:56:00  153.776   151.724   151.492   149.801\n",
       "2018-10-05 13:57:00  150.481   153.776   151.724   151.492\n",
       "2018-10-05 13:58:00  146.638   150.481   153.776   151.724\n",
       "\n",
       "[14398 rows x 4 columns]"
      ],
      "text/html": "<div>\n<style scoped>\n    .dataframe tbody tr th:only-of-type {\n        vertical-align: middle;\n    }\n\n    .dataframe tbody tr th {\n        vertical-align: top;\n    }\n\n    .dataframe thead th {\n        text-align: right;\n    }\n</style>\n<table border=\"1\" class=\"dataframe\">\n  <thead>\n    <tr style=\"text-align: right;\">\n      <th></th>\n      <th>count</th>\n      <th>\"count_1</th>\n      <th>\"count_2</th>\n      <th>\"count_3</th>\n    </tr>\n    <tr>\n      <th>timestamp</th>\n      <th></th>\n      <th></th>\n      <th></th>\n      <th></th>\n    </tr>\n  </thead>\n  <tbody>\n    <tr>\n      <th>2018-09-25 14:01:00</th>\n      <td>182.478</td>\n      <td>NaN</td>\n      <td>NaN</td>\n      <td>NaN</td>\n    </tr>\n    <tr>\n      <th>2018-09-25 14:02:00</th>\n      <td>176.231</td>\n      <td>182.478</td>\n      <td>NaN</td>\n      <td>NaN</td>\n    </tr>\n    <tr>\n      <th>2018-09-25 14:03:00</th>\n      <td>183.917</td>\n      <td>176.231</td>\n      <td>182.478</td>\n      <td>NaN</td>\n    </tr>\n    <tr>\n      <th>2018-09-25 14:04:00</th>\n      <td>177.798</td>\n      <td>183.917</td>\n      <td>176.231</td>\n      <td>182.478</td>\n    </tr>\n    <tr>\n      <th>2018-09-25 14:05:00</th>\n      <td>165.469</td>\n      <td>177.798</td>\n      <td>183.917</td>\n      <td>176.231</td>\n    </tr>\n    <tr>\n      <th>...</th>\n      <td>...</td>\n      <td>...</td>\n      <td>...</td>\n      <td>...</td>\n    </tr>\n    <tr>\n      <th>2018-10-05 13:54:00</th>\n      <td>151.492</td>\n      <td>149.801</td>\n      <td>151.788</td>\n      <td>153.938</td>\n    </tr>\n    <tr>\n      <th>2018-10-05 13:55:00</th>\n      <td>151.724</td>\n      <td>151.492</td>\n      <td>149.801</td>\n      <td>151.788</td>\n    </tr>\n    <tr>\n      <th>2018-10-05 13:56:00</th>\n      <td>153.776</td>\n      <td>151.724</td>\n      <td>151.492</td>\n      <td>149.801</td>\n    </tr>\n    <tr>\n      <th>2018-10-05 13:57:00</th>\n      <td>150.481</td>\n      <td>153.776</td>\n      <td>151.724</td>\n      <td>151.492</td>\n    </tr>\n    <tr>\n      <th>2018-10-05 13:58:00</th>\n      <td>146.638</td>\n      <td>150.481</td>\n      <td>153.776</td>\n      <td>151.724</td>\n    </tr>\n  </tbody>\n</table>\n<p>14398 rows × 4 columns</p>\n</div>"
     },
     "metadata": {},
     "execution_count": 10
    }
   ],
   "source": [
    "data"
   ]
  },
  {
   "cell_type": "markdown",
   "metadata": {},
   "source": [
    "On va normaliser les données de la série temporelle avec le scaler MinMaxScaler. Importer le MinMaxScaler du module preprocessing de sklearn et normaliser les données du dataframe"
   ]
  },
  {
   "cell_type": "code",
   "execution_count": 11,
   "metadata": {},
   "outputs": [],
   "source": [
    "from sklearn.preprocessing import MinMaxScaler\n",
    "scaler = MinMaxScaler()\n",
    "data_scaled = scaler.fit(data)"
   ]
  },
  {
   "cell_type": "code",
   "execution_count": 12,
   "metadata": {},
   "outputs": [
    {
     "output_type": "execute_result",
     "data": {
      "text/plain": [
       "MinMaxScaler()"
      ]
     },
     "metadata": {},
     "execution_count": 12
    }
   ],
   "source": [
    "data_scaled"
   ]
  },
  {
   "cell_type": "markdown",
   "metadata": {},
   "source": [
    "Le scaler retourne-t-il un dataframe ? Sinon le recréer à partir des données normalisées"
   ]
  },
  {
   "cell_type": "code",
   "execution_count": 27,
   "metadata": {},
   "outputs": [
    {
     "output_type": "execute_result",
     "data": {
      "text/plain": [
       "       index     count   count_1   count_2   count_3\n",
       "0          0  0.704691       NaN       NaN       NaN\n",
       "1          1  0.677370  0.704691       NaN       NaN\n",
       "2          2  0.710985  0.677370  0.704691       NaN\n",
       "3          3  0.684223  0.710985  0.677370  0.704691\n",
       "4          4  0.630302  0.684223  0.710985  0.677370\n",
       "...      ...       ...       ...       ...       ...\n",
       "14393  14393  0.569174  0.561778  0.570468  0.579871\n",
       "14394  14394  0.570188  0.569174  0.561778  0.570468\n",
       "14395  14395  0.579163  0.570188  0.569174  0.561778\n",
       "14396  14396  0.564752  0.579163  0.570188  0.569174\n",
       "14397  14397  0.547945  0.564752  0.579163  0.570188\n",
       "\n",
       "[14398 rows x 5 columns]"
      ],
      "text/html": "<div>\n<style scoped>\n    .dataframe tbody tr th:only-of-type {\n        vertical-align: middle;\n    }\n\n    .dataframe tbody tr th {\n        vertical-align: top;\n    }\n\n    .dataframe thead th {\n        text-align: right;\n    }\n</style>\n<table border=\"1\" class=\"dataframe\">\n  <thead>\n    <tr style=\"text-align: right;\">\n      <th></th>\n      <th>index</th>\n      <th>count</th>\n      <th>count_1</th>\n      <th>count_2</th>\n      <th>count_3</th>\n    </tr>\n  </thead>\n  <tbody>\n    <tr>\n      <th>0</th>\n      <td>0</td>\n      <td>0.704691</td>\n      <td>NaN</td>\n      <td>NaN</td>\n      <td>NaN</td>\n    </tr>\n    <tr>\n      <th>1</th>\n      <td>1</td>\n      <td>0.677370</td>\n      <td>0.704691</td>\n      <td>NaN</td>\n      <td>NaN</td>\n    </tr>\n    <tr>\n      <th>2</th>\n      <td>2</td>\n      <td>0.710985</td>\n      <td>0.677370</td>\n      <td>0.704691</td>\n      <td>NaN</td>\n    </tr>\n    <tr>\n      <th>3</th>\n      <td>3</td>\n      <td>0.684223</td>\n      <td>0.710985</td>\n      <td>0.677370</td>\n      <td>0.704691</td>\n    </tr>\n    <tr>\n      <th>4</th>\n      <td>4</td>\n      <td>0.630302</td>\n      <td>0.684223</td>\n      <td>0.710985</td>\n      <td>0.677370</td>\n    </tr>\n    <tr>\n      <th>...</th>\n      <td>...</td>\n      <td>...</td>\n      <td>...</td>\n      <td>...</td>\n      <td>...</td>\n    </tr>\n    <tr>\n      <th>14393</th>\n      <td>14393</td>\n      <td>0.569174</td>\n      <td>0.561778</td>\n      <td>0.570468</td>\n      <td>0.579871</td>\n    </tr>\n    <tr>\n      <th>14394</th>\n      <td>14394</td>\n      <td>0.570188</td>\n      <td>0.569174</td>\n      <td>0.561778</td>\n      <td>0.570468</td>\n    </tr>\n    <tr>\n      <th>14395</th>\n      <td>14395</td>\n      <td>0.579163</td>\n      <td>0.570188</td>\n      <td>0.569174</td>\n      <td>0.561778</td>\n    </tr>\n    <tr>\n      <th>14396</th>\n      <td>14396</td>\n      <td>0.564752</td>\n      <td>0.579163</td>\n      <td>0.570188</td>\n      <td>0.569174</td>\n    </tr>\n    <tr>\n      <th>14397</th>\n      <td>14397</td>\n      <td>0.547945</td>\n      <td>0.564752</td>\n      <td>0.579163</td>\n      <td>0.570188</td>\n    </tr>\n  </tbody>\n</table>\n<p>14398 rows × 5 columns</p>\n</div>"
     },
     "metadata": {},
     "execution_count": 27
    }
   ],
   "source": [
    "data_scaled = pd.DataFrame(scaler.transform(data)).reset_index()\n",
    "data_scaled= data_scaled.rename(columns={0: \"count\", 1: \"count_1\", 2: \"count_2\", 3: \"count_3\" })\n",
    "data_scaled"
   ]
  },
  {
   "cell_type": "code",
   "execution_count": 24,
   "metadata": {},
   "outputs": [],
   "source": [
    "data_scaled"
   ]
  },
  {
   "cell_type": "markdown",
   "metadata": {},
   "source": [
    "Sauvegarder le dataframe dans un fichier \"time_series_preprocessed.csv\""
   ]
  },
  {
   "cell_type": "code",
   "execution_count": 29,
   "metadata": {},
   "outputs": [],
   "source": [
    "data_scaled.to_csv(\"data/time_series_preprocessed.csv\")"
   ]
  },
  {
   "cell_type": "markdown",
   "metadata": {},
   "source": [
    "Séparer les données en train et test "
   ]
  },
  {
   "cell_type": "code",
   "execution_count": 37,
   "metadata": {},
   "outputs": [],
   "source": [
    "data_scaled = data_scaled.dropna().reset_index()"
   ]
  },
  {
   "cell_type": "code",
   "execution_count": 38,
   "metadata": {},
   "outputs": [],
   "source": [
    "from sklearn.model_selection import train_test_split\n",
    "X = data_scaled[[\"count_1\", \"count_2\", \"count_3\"]]\n",
    "y = data_scaled[\"count\"]\n",
    "X_train, X_test, y_train, y_test = train_test_split(X, y, test_size=0.33, random_state=42)"
   ]
  },
  {
   "cell_type": "code",
   "execution_count": 39,
   "metadata": {},
   "outputs": [
    {
     "output_type": "stream",
     "name": "stdout",
     "text": [
      "X_train =  (9644, 3) y_train =  (9644,)\nX_test =  (4751, 3) y_test =  (4751,)\n"
     ]
    }
   ],
   "source": [
    "print(\"X_train = \", X_train.shape, \"y_train = \", y_train.shape)\n",
    "print(\"X_test = \", X_test.shape, \"y_test = \", y_test.shape)"
   ]
  },
  {
   "cell_type": "markdown",
   "metadata": {},
   "source": [
    "Entrainer une régression linéaire sur les données de train"
   ]
  },
  {
   "cell_type": "code",
   "execution_count": 40,
   "metadata": {},
   "outputs": [
    {
     "output_type": "execute_result",
     "data": {
      "text/plain": [
       "LinearRegression()"
      ]
     },
     "metadata": {},
     "execution_count": 40
    }
   ],
   "source": [
    "#entrainement du modèle\n",
    "from sklearn.linear_model import LinearRegression\n",
    "from sklearn.metrics import mean_squared_error\n",
    " \n",
    "model = LinearRegression()\n",
    "model.fit(X_train, y_train)\n"
   ]
  },
  {
   "cell_type": "code",
   "execution_count": 51,
   "metadata": {},
   "outputs": [],
   "source": [
    "# Evaluation du training set\n",
    "from sklearn.metrics import r2_score\n",
    "import numpy as np\n",
    "y_train_predict = model.predict(X_train)\n",
    "rmse_train = (np.sqrt(mean_squared_error(y_train, y_train_predict)))\n",
    "r2_train = r2_score(y_train, y_train_predict)\n"
   ]
  },
  {
   "cell_type": "code",
   "execution_count": 52,
   "metadata": {},
   "outputs": [],
   "source": [
    "# model evaluation for testing set\n",
    "y_test_predict = model.predict(X_test)\n",
    "rmse_test = (np.sqrt(mean_squared_error(y_test, y_test_predict)))\n",
    "r2_test = r2_score(y_test, y_test_predict)"
   ]
  },
  {
   "cell_type": "markdown",
   "metadata": {},
   "source": [
    "Avec la méthode score du modèle, afficher le score de train et le score de test"
   ]
  },
  {
   "cell_type": "code",
   "execution_count": 56,
   "metadata": {},
   "outputs": [
    {
     "output_type": "stream",
     "name": "stdout",
     "text": [
      "---R2 Score---\nTrain\n R2 = 0.933 --- RMSE = 0.030\nTest\n R2 = 0.949 --- RMSE = 0.027\n"
     ]
    }
   ],
   "source": [
    "print(\"---R2 Score---\")\n",
    "print(\"Train\\n R2 = %.3f --- RMSE = %.3f\" %(r2_train, rmse_train))\n",
    "print(\"Test\\n R2 = %.3f --- RMSE = %.3f\" %(r2_test, rmse_test))"
   ]
  },
  {
   "cell_type": "markdown",
   "metadata": {},
   "source": [
    "Afficher les coefficients du modèle"
   ]
  },
  {
   "cell_type": "code",
   "execution_count": null,
   "metadata": {},
   "outputs": [],
   "source": []
  },
  {
   "source": [
    "On va maintenant voir comment faire pour faire des prédiction à plusieurs time step.  \n",
    "\n",
    "On veut désormais faire un modèle qui prédit $Y_{t+10} = f(Y_t, Y_{t_1}, Y_{t-2}) $\n",
    "\n",
    "Préparer à nouveau le dataframe avec des shift pour quecela marche"
   ],
   "cell_type": "markdown",
   "metadata": {}
  },
  {
   "cell_type": "code",
   "execution_count": 25,
   "metadata": {},
   "outputs": [],
   "source": [
    "import pandas as pd\n",
    "import numpy as np\n",
    "\n",
    "from sklearn.model_selection import train_test_split\n",
    "from sklearn.preprocessing import MinMaxScaler\n",
    "from sklearn.metrics import mean_squared_error, r2_score, mean_absolute_error\n",
    "\n",
    "from sklearn.linear_model import SGDRegressor, LinearRegression"
   ]
  },
  {
   "cell_type": "code",
   "execution_count": 2,
   "metadata": {},
   "outputs": [],
   "source": [
    "data1 = pd.read_csv(\"data/univariate_time_series.csv\", parse_dates=[\"timestamp\"], index_col=\"timestamp\")\n"
   ]
  },
  {
   "cell_type": "markdown",
   "metadata": {},
   "source": [
    "On va maintenant voir comment faire pour faire des prédiction à plusieurs time step. L'idée est similaire à avant. On va simplement shift du nombre de time step qu'on veut prédire. "
   ]
  },
  {
   "cell_type": "code",
   "execution_count": 7,
   "metadata": {},
   "outputs": [],
   "source": [
    "def creer_df_shift_time_step_normalizer(data1: pd.DataFrame, step: int):\n",
    "    \n",
    "    data1[\"count_t\"+str(step)] = data1[\"count\"].shift(step)\n",
    "    data1[\"count_t\"+str(step+1)] = data1[\"count\"].shift(step+1)\n",
    "    data1[\"count_t\"+str(step+2)] = data1[\"count\"].shift(step+2)\n",
    "\n",
    "    data1 = data1.dropna()\n",
    "    scaler = MinMaxScaler()\n",
    "    data1_scaled = scaler.fit(data1)\n",
    "    data1_scaled = pd.DataFrame(scaler.transform(data1)).reset_index()\n",
    "    data1_scaled = data1_scaled.rename(columns={0:\"count\", 1: \"count_t\"+str(step), 2: \"count_t\"+str(step+1), 3:\"count_t\"+str(step+2)})\n",
    "\n",
    "    return data1_scaled"
   ]
  },
  {
   "cell_type": "code",
   "execution_count": 8,
   "metadata": {},
   "outputs": [],
   "source": [
    "data_normalize = creer_df_shift_time_step_normalizer(data1, 10)"
   ]
  },
  {
   "cell_type": "code",
   "execution_count": 9,
   "metadata": {},
   "outputs": [
    {
     "output_type": "execute_result",
     "data": {
      "text/plain": [
       "       index     count  count_t10  count_t11  count_t12\n",
       "0          0  0.730841   0.710985   0.677370   0.704691\n",
       "1          1  0.675218   0.684223   0.710985   0.677370\n",
       "2          2  0.674278   0.630302   0.684223   0.710985\n",
       "3          3  0.733775   0.702067   0.630302   0.684223\n",
       "4          4  0.680230   0.713543   0.702067   0.630302\n",
       "...      ...       ...        ...        ...        ...\n",
       "14381  14381  0.569174   0.574982   0.593394   0.604437\n",
       "14382  14382  0.570188   0.565745   0.574982   0.593394\n",
       "14383  14383  0.579163   0.571216   0.565745   0.574982\n",
       "14384  14384  0.564752   0.591050   0.571216   0.565745\n",
       "14385  14385  0.547945   0.609874   0.591050   0.571216\n",
       "\n",
       "[14386 rows x 5 columns]"
      ],
      "text/html": "<div>\n<style scoped>\n    .dataframe tbody tr th:only-of-type {\n        vertical-align: middle;\n    }\n\n    .dataframe tbody tr th {\n        vertical-align: top;\n    }\n\n    .dataframe thead th {\n        text-align: right;\n    }\n</style>\n<table border=\"1\" class=\"dataframe\">\n  <thead>\n    <tr style=\"text-align: right;\">\n      <th></th>\n      <th>index</th>\n      <th>count</th>\n      <th>count_t10</th>\n      <th>count_t11</th>\n      <th>count_t12</th>\n    </tr>\n  </thead>\n  <tbody>\n    <tr>\n      <th>0</th>\n      <td>0</td>\n      <td>0.730841</td>\n      <td>0.710985</td>\n      <td>0.677370</td>\n      <td>0.704691</td>\n    </tr>\n    <tr>\n      <th>1</th>\n      <td>1</td>\n      <td>0.675218</td>\n      <td>0.684223</td>\n      <td>0.710985</td>\n      <td>0.677370</td>\n    </tr>\n    <tr>\n      <th>2</th>\n      <td>2</td>\n      <td>0.674278</td>\n      <td>0.630302</td>\n      <td>0.684223</td>\n      <td>0.710985</td>\n    </tr>\n    <tr>\n      <th>3</th>\n      <td>3</td>\n      <td>0.733775</td>\n      <td>0.702067</td>\n      <td>0.630302</td>\n      <td>0.684223</td>\n    </tr>\n    <tr>\n      <th>4</th>\n      <td>4</td>\n      <td>0.680230</td>\n      <td>0.713543</td>\n      <td>0.702067</td>\n      <td>0.630302</td>\n    </tr>\n    <tr>\n      <th>...</th>\n      <td>...</td>\n      <td>...</td>\n      <td>...</td>\n      <td>...</td>\n      <td>...</td>\n    </tr>\n    <tr>\n      <th>14381</th>\n      <td>14381</td>\n      <td>0.569174</td>\n      <td>0.574982</td>\n      <td>0.593394</td>\n      <td>0.604437</td>\n    </tr>\n    <tr>\n      <th>14382</th>\n      <td>14382</td>\n      <td>0.570188</td>\n      <td>0.565745</td>\n      <td>0.574982</td>\n      <td>0.593394</td>\n    </tr>\n    <tr>\n      <th>14383</th>\n      <td>14383</td>\n      <td>0.579163</td>\n      <td>0.571216</td>\n      <td>0.565745</td>\n      <td>0.574982</td>\n    </tr>\n    <tr>\n      <th>14384</th>\n      <td>14384</td>\n      <td>0.564752</td>\n      <td>0.591050</td>\n      <td>0.571216</td>\n      <td>0.565745</td>\n    </tr>\n    <tr>\n      <th>14385</th>\n      <td>14385</td>\n      <td>0.547945</td>\n      <td>0.609874</td>\n      <td>0.591050</td>\n      <td>0.571216</td>\n    </tr>\n  </tbody>\n</table>\n<p>14386 rows × 5 columns</p>\n</div>"
     },
     "metadata": {},
     "execution_count": 9
    }
   ],
   "source": [
    "data_normalize"
   ]
  },
  {
   "cell_type": "markdown",
   "metadata": {},
   "source": [
    "Réentraîner une regression linéaire"
   ]
  },
  {
   "cell_type": "code",
   "execution_count": 149,
   "metadata": {},
   "outputs": [
    {
     "output_type": "execute_result",
     "data": {
      "text/plain": [
       "          count\n",
       "0      0.730841\n",
       "1      0.675218\n",
       "2      0.674278\n",
       "3      0.733775\n",
       "4      0.680230\n",
       "...         ...\n",
       "14381  0.569174\n",
       "14382  0.570188\n",
       "14383  0.579163\n",
       "14384  0.564752\n",
       "14385  0.547945\n",
       "\n",
       "[14386 rows x 1 columns]"
      ],
      "text/html": "<div>\n<style scoped>\n    .dataframe tbody tr th:only-of-type {\n        vertical-align: middle;\n    }\n\n    .dataframe tbody tr th {\n        vertical-align: top;\n    }\n\n    .dataframe thead th {\n        text-align: right;\n    }\n</style>\n<table border=\"1\" class=\"dataframe\">\n  <thead>\n    <tr style=\"text-align: right;\">\n      <th></th>\n      <th>count</th>\n    </tr>\n  </thead>\n  <tbody>\n    <tr>\n      <th>0</th>\n      <td>0.730841</td>\n    </tr>\n    <tr>\n      <th>1</th>\n      <td>0.675218</td>\n    </tr>\n    <tr>\n      <th>2</th>\n      <td>0.674278</td>\n    </tr>\n    <tr>\n      <th>3</th>\n      <td>0.733775</td>\n    </tr>\n    <tr>\n      <th>4</th>\n      <td>0.680230</td>\n    </tr>\n    <tr>\n      <th>...</th>\n      <td>...</td>\n    </tr>\n    <tr>\n      <th>14381</th>\n      <td>0.569174</td>\n    </tr>\n    <tr>\n      <th>14382</th>\n      <td>0.570188</td>\n    </tr>\n    <tr>\n      <th>14383</th>\n      <td>0.579163</td>\n    </tr>\n    <tr>\n      <th>14384</th>\n      <td>0.564752</td>\n    </tr>\n    <tr>\n      <th>14385</th>\n      <td>0.547945</td>\n    </tr>\n  </tbody>\n</table>\n<p>14386 rows × 1 columns</p>\n</div>"
     },
     "metadata": {},
     "execution_count": 149
    }
   ],
   "source": [
    "cols_df = data1_scaled.columns\n",
    "data1_scaled[cols_df[-4:-3]]"
   ]
  },
  {
   "cell_type": "code",
   "execution_count": 37,
   "metadata": {},
   "outputs": [],
   "source": [
    "#from sklearn.linear_model import SGDRegressor\n",
    "def model_regression_linear(df: pd.DataFrame):\n",
    "    cols_df = df.columns \n",
    "    X = df[cols_df[-3:]] \n",
    "    y = df[\"count\"]\n",
    "\n",
    "    X_train, X_test, y_train, y_test  = train_test_split(X, y, test_size = 0.4, \n",
    "                                                random_state = 42)\n",
    "\n",
    "    #model = SGDRegressor(max_iter=1000, alpha=0.008)\n",
    "    model = LinearRegression()\n",
    "    model.fit(X_train, y_train)\n",
    "\n",
    "    metric_train = { 'modele': 'model',\n",
    "           'mean_absolute_error' : mean_absolute_error(y_train, model.predict(X_train)),\n",
    "           'mean_squared_error' : mean_squared_error(y_train, model.predict(X_train)),\n",
    "           'r2_score' : r2_score(y_train, model.predict(X_train))\n",
    "            }\n",
    "    metric_test = { 'modele': 'model',\n",
    "           'mean_absolute_error' : mean_absolute_error(y_test, model.predict(X_test)),\n",
    "           'mean_squared_error' : mean_squared_error(y_test, model.predict(X_test)),\n",
    "           'r2_score' : r2_score(y_test, model.predict(X_test))\n",
    "            }\n",
    "    return metric_train, metric_test\n"
   ]
  },
  {
   "cell_type": "code",
   "execution_count": 38,
   "metadata": {},
   "outputs": [],
   "source": [
    "mtx_train, mtx_test = model_regression_linear(data_normalize)"
   ]
  },
  {
   "source": [
    "### Resume: \n",
    "- LinearRegression a mieux résultat que SGDRegression, R2 = 90% et mse 0.1%\n",
    "- SGD : R2 = 83% et mse = 0.2%"
   ],
   "cell_type": "markdown",
   "metadata": {}
  },
  {
   "cell_type": "code",
   "execution_count": 39,
   "metadata": {},
   "outputs": [
    {
     "output_type": "stream",
     "name": "stdout",
     "text": [
      "---TRAIN\nR2 = 0.898 --- mse = 0.001\n\n---TEST\nR2 = 0.905 --- mse = 0.001\n"
     ]
    }
   ],
   "source": [
    "print(\"---TRAIN\")\n",
    "print(\"R2 = %.3f --- mse = %.3f\" %(mtx_train['r2_score'], mtx_train['mean_squared_error']))\n",
    "print(\"\\n---TEST\")\n",
    "print(\"R2 = %.3f --- mse = %.3f\" %(mtx_test['r2_score'], mtx_test['mean_squared_error']))"
   ]
  },
  {
   "cell_type": "markdown",
   "metadata": {},
   "source": [
    "A la place d'une régression linéaire on va utiliser un arbre de décision. Importer le modèle DecisionTreeRegressor"
   ]
  },
  {
   "cell_type": "code",
   "execution_count": null,
   "metadata": {},
   "outputs": [],
   "source": []
  }
 ],
 "metadata": {
  "kernelspec": {
   "name": "python3",
   "display_name": "Python 3.8.8 64-bit ('base': conda)"
  },
  "language_info": {
   "codemirror_mode": {
    "name": "ipython",
    "version": 3
   },
   "file_extension": ".py",
   "mimetype": "text/x-python",
   "name": "python",
   "nbconvert_exporter": "python",
   "pygments_lexer": "ipython3",
   "version": "3.8.8"
  },
  "interpreter": {
   "hash": "64b474f71659f9be32f34132c3eef93d33d176ead871b80ca6db3fa26bc83f65"
  }
 },
 "nbformat": 4,
 "nbformat_minor": 4
}