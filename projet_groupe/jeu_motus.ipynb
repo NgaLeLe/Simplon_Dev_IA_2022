{
 "cells": [
  {
   "cell_type": "code",
   "execution_count": 46,
   "metadata": {},
   "outputs": [
    {
     "name": "stdout",
     "output_type": "stream",
     "text": [
      "Devine un mot de 6 characters:  Graces\n",
      "g r a C# E? s \n",
      "Devine un mot de 6 characters:  Crates\n",
      "C? r a t E? s \n"
     ]
    },
    {
     "ename": "KeyboardInterrupt",
     "evalue": "Interrupted by user",
     "output_type": "error",
     "traceback": [
      "\u001b[0;31m---------------------------------------------------------------------------\u001b[0m",
      "\u001b[0;31mKeyboardInterrupt\u001b[0m                         Traceback (most recent call last)",
      "\u001b[0;32m<ipython-input-46-516ae6019a89>\u001b[0m in \u001b[0;36m<module>\u001b[0;34m\u001b[0m\n\u001b[1;32m     27\u001b[0m \u001b[0;32mwhile\u001b[0m \u001b[0mcpt\u001b[0m \u001b[0;34m<=\u001b[0m \u001b[0;36m8\u001b[0m \u001b[0;34m:\u001b[0m\u001b[0;34m\u001b[0m\u001b[0;34m\u001b[0m\u001b[0m\n\u001b[1;32m     28\u001b[0m     \u001b[0mcpt\u001b[0m \u001b[0;34m=\u001b[0m\u001b[0mcpt\u001b[0m \u001b[0;34m+\u001b[0m \u001b[0;36m1\u001b[0m\u001b[0;34m\u001b[0m\u001b[0;34m\u001b[0m\u001b[0m\n\u001b[0;32m---> 29\u001b[0;31m     \u001b[0mmot_user\u001b[0m \u001b[0;34m=\u001b[0m \u001b[0minput\u001b[0m\u001b[0;34m(\u001b[0m\u001b[0;34m\"Devine un mot de 6 characters:  \"\u001b[0m\u001b[0;34m)\u001b[0m\u001b[0;34m.\u001b[0m\u001b[0mupper\u001b[0m\u001b[0;34m(\u001b[0m\u001b[0;34m)\u001b[0m\u001b[0;34m\u001b[0m\u001b[0;34m\u001b[0m\u001b[0m\n\u001b[0m\u001b[1;32m     30\u001b[0m     \u001b[0;32mif\u001b[0m \u001b[0mlen\u001b[0m\u001b[0;34m(\u001b[0m\u001b[0mmot_user\u001b[0m\u001b[0;34m)\u001b[0m \u001b[0;34m!=\u001b[0m \u001b[0;36m6\u001b[0m \u001b[0;34m:\u001b[0m\u001b[0;34m\u001b[0m\u001b[0;34m\u001b[0m\u001b[0m\n\u001b[1;32m     31\u001b[0m         \u001b[0mprint\u001b[0m\u001b[0;34m(\u001b[0m\u001b[0;34m\"......\"\u001b[0m\u001b[0;34m)\u001b[0m\u001b[0;34m\u001b[0m\u001b[0;34m\u001b[0m\u001b[0m\n",
      "\u001b[0;32m~/anaconda3/lib/python3.8/site-packages/ipykernel/kernelbase.py\u001b[0m in \u001b[0;36mraw_input\u001b[0;34m(self, prompt)\u001b[0m\n\u001b[1;32m    858\u001b[0m                 \u001b[0;34m\"raw_input was called, but this frontend does not support input requests.\"\u001b[0m\u001b[0;34m\u001b[0m\u001b[0;34m\u001b[0m\u001b[0m\n\u001b[1;32m    859\u001b[0m             )\n\u001b[0;32m--> 860\u001b[0;31m         return self._input_request(str(prompt),\n\u001b[0m\u001b[1;32m    861\u001b[0m             \u001b[0mself\u001b[0m\u001b[0;34m.\u001b[0m\u001b[0m_parent_ident\u001b[0m\u001b[0;34m,\u001b[0m\u001b[0;34m\u001b[0m\u001b[0;34m\u001b[0m\u001b[0m\n\u001b[1;32m    862\u001b[0m             \u001b[0mself\u001b[0m\u001b[0;34m.\u001b[0m\u001b[0m_parent_header\u001b[0m\u001b[0;34m,\u001b[0m\u001b[0;34m\u001b[0m\u001b[0;34m\u001b[0m\u001b[0m\n",
      "\u001b[0;32m~/anaconda3/lib/python3.8/site-packages/ipykernel/kernelbase.py\u001b[0m in \u001b[0;36m_input_request\u001b[0;34m(self, prompt, ident, parent, password)\u001b[0m\n\u001b[1;32m    902\u001b[0m             \u001b[0;32mexcept\u001b[0m \u001b[0mKeyboardInterrupt\u001b[0m\u001b[0;34m:\u001b[0m\u001b[0;34m\u001b[0m\u001b[0;34m\u001b[0m\u001b[0m\n\u001b[1;32m    903\u001b[0m                 \u001b[0;31m# re-raise KeyboardInterrupt, to truncate traceback\u001b[0m\u001b[0;34m\u001b[0m\u001b[0;34m\u001b[0m\u001b[0;34m\u001b[0m\u001b[0m\n\u001b[0;32m--> 904\u001b[0;31m                 \u001b[0;32mraise\u001b[0m \u001b[0mKeyboardInterrupt\u001b[0m\u001b[0;34m(\u001b[0m\u001b[0;34m\"Interrupted by user\"\u001b[0m\u001b[0;34m)\u001b[0m \u001b[0;32mfrom\u001b[0m \u001b[0;32mNone\u001b[0m\u001b[0;34m\u001b[0m\u001b[0;34m\u001b[0m\u001b[0m\n\u001b[0m\u001b[1;32m    905\u001b[0m             \u001b[0;32mexcept\u001b[0m \u001b[0mException\u001b[0m \u001b[0;32mas\u001b[0m \u001b[0me\u001b[0m\u001b[0;34m:\u001b[0m\u001b[0;34m\u001b[0m\u001b[0;34m\u001b[0m\u001b[0m\n\u001b[1;32m    906\u001b[0m                 \u001b[0mself\u001b[0m\u001b[0;34m.\u001b[0m\u001b[0mlog\u001b[0m\u001b[0;34m.\u001b[0m\u001b[0mwarning\u001b[0m\u001b[0;34m(\u001b[0m\u001b[0;34m\"Invalid Message:\"\u001b[0m\u001b[0;34m,\u001b[0m \u001b[0mexc_info\u001b[0m\u001b[0;34m=\u001b[0m\u001b[0;32mTrue\u001b[0m\u001b[0;34m)\u001b[0m\u001b[0;34m\u001b[0m\u001b[0;34m\u001b[0m\u001b[0m\n",
      "\u001b[0;31mKeyboardInterrupt\u001b[0m: Interrupted by user"
     ]
    }
   ],
   "source": [
    "from random import choice\n",
    "#generer alératoire un mot secret\n",
    "def choisiMot() :\n",
    "    ls_Mots =[\"ACTEUR\", \"AVIRON\", \"BOXEUR\", \"BRONZE\", \"BUDGET\", \"CARTON\", \"CHAQUE\", \"CHEVAL\", \"CIMENT\", \"CLIENT\",\n",
    "              \"COMPTE\", \"CONTRE\", \"CUPIDE\", \"DESIGN\", \"DICTER\", \"DOSAGE\", \"DOUCHE\", \"DROITE\", \"EXPORT\", \"FLAQUE\", \n",
    "              \"FORAGE\", \"GLAIVE\", \"GRAINE\", \"GROUPE\", \"JARDIN\", \"JUNGLE\", \"LUCIDE\", \"MANCHE\", \"MARQUE\", \"MIRAGE\", \n",
    "              \"MOUCHE\", \"NIVEAU\", \"NOVICE\", \"OISEAU\", \"PAQUET\", \"PILOTE\", \"PLANTE\", \"POTEAU\", \"PROJET\", \"PUBLIC\", \n",
    "              \"REGAIN\", \"RYTHME\", \"SATIRE\", \"SENTIR\", \"SIMPLE\", \"SONGER\", \"SOUPLE\", \"SQUARE\" ]\n",
    "    secret = choice(ls_Mots)\n",
    "    return secret\n",
    "\n",
    "#comparer mot_utilisateur et mot_secret\n",
    "def compareMot(sec, dev) :\n",
    "    mot_par = \"\"\n",
    "    for i in range(len(dev)) :\n",
    "        if dev[i] == sec[i] :\n",
    "            mot_par = mot_par + dev[i]+\"# \"\n",
    "        elif dev[i] in sec :\n",
    "            mot_par = mot_par + dev[i]+\"? \"\n",
    "        else :\n",
    "            mot_par = mot_par + dev[i].lower()+\" \"\n",
    "    return mot_par\n",
    "\n",
    "####MAIN#####\n",
    "mot_sec= choisiMot()\n",
    "cpt = 0\n",
    "while cpt <= 8 :\n",
    "    cpt =cpt + 1\n",
    "    mot_user = input(\"Devine un mot de 6 characters:  \").upper()\n",
    "    if len(mot_user) != 6 :\n",
    "        print(\"......\")\n",
    "    else :\n",
    "        if mot_user == mot_sec :\n",
    "            print(\"GAGNE\")\n",
    "            break\n",
    "        result = compareMot(mot_sec, mot_user)\n",
    "        print(result)\n",
    "    print(\"vous reste \", cpt, \"fois de tenter\")\n"
   ]
  },
  {
   "cell_type": "code",
   "execution_count": 42,
   "metadata": {},
   "outputs": [
    {
     "name": "stdout",
     "output_type": "stream",
     "text": [
      "--- DEPART ----\n",
      "Pourquoi venez-vous me voir ?\n",
      "?\n",
      "Je ne peux malheureusement pas répondre à cette question.\n"
     ]
    }
   ],
   "source": [
    "from random import randint\n",
    "def genPhrase(list):\n",
    "    gene = randint(0, len(list)-1)\n",
    "    return list[gene]\n",
    "\n",
    "phrase_demarre=[\"Comment allez-vous ?\", \"Pourquoi venez-vous me voir ?\", \"Comment s’est passée votre journée ?\"]\n",
    "phrase_relation=[\"Comment va votre {0} ?\", \"La relation avec {0} vous pose-t-elle problème ?\", \n",
    "                 \"Pourquoi pensez-vous en ce moment à votre {0} ?\"]\n",
    "phrase_interrogation=[\"Pourquoi me posez-vous cette question  ?\", \"Oseriez-vous poser cette question à un humain ?\",\n",
    "                      \"Je ne peux malheureusement pas répondre à cette question.\"]\n",
    "phrase_contraire=[\"J’entends bien.\", \"Je sens une pointe de regret.\", \"Est-ce une bonne nouvelle ?\",\n",
    "                  \"Oui, c’est ça le problème.\",\"Pensez-vous ce que vous dites ?\",\"Hum... Il se peut.\"]\n",
    "relation=[\"pere\", \"mere\", \"copain\", \"copine\", \"maman\", \"papa\", \"ami\", \"amie\"]\n",
    "\n",
    "print(\"--- DEPART ----\")\n",
    "robot_dit = genPhrase(phrase_demarre)\n",
    "print(robot_dit)\n",
    "reponse=input().lower()\n",
    "ls_repond = reponse.split(\" \")\n",
    "for i in ls_repond :\n",
    "    if i in relation :\n",
    "        robot_dit = genPhrase(phrase_relation)\n",
    "        break\n",
    "    elif i == \"?\" :\n",
    "        robot_dit = genPhrase(phrase_interrogation)\n",
    "        break\n",
    "    else :\n",
    "        robot_dit = genPhrase(phrase_contraire)\n",
    "        break\n",
    "print(robot_dit.format(i))"
   ]
  },
  {
   "cell_type": "code",
   "execution_count": null,
   "metadata": {},
   "outputs": [],
   "source": []
  },
  {
   "cell_type": "code",
   "execution_count": null,
   "metadata": {},
   "outputs": [],
   "source": []
  }
 ],
 "metadata": {
  "kernelspec": {
   "display_name": "Python 3",
   "language": "python",
   "name": "python3"
  },
  "language_info": {
   "codemirror_mode": {
    "name": "ipython",
    "version": 3
   },
   "file_extension": ".py",
   "mimetype": "text/x-python",
   "name": "python",
   "nbconvert_exporter": "python",
   "pygments_lexer": "ipython3",
   "version": "3.8.8"
  }
 },
 "nbformat": 4,
 "nbformat_minor": 4
}
