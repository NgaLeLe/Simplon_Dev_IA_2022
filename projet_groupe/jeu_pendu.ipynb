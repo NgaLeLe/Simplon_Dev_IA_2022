{
 "cells": [
  {
   "cell_type": "code",
   "execution_count": 71,
   "metadata": {},
   "outputs": [
    {
     "name": "stdout",
     "output_type": "stream",
     "text": [
      "Jeu du pendu\n",
      "# # # # # # \n",
      "Donnez une character deviner: A\n",
      "Vous restez 5 fois de proposer!\n",
      "# A # # # #\n",
      "Donnez une character deviner: H\n",
      "Vous restez 4 fois de proposer!\n",
      "# A # # # #\n",
      "Donnez une character deviner: N\n",
      "Vous restez 3 fois de proposer!\n",
      "# A # # # N\n",
      "Donnez une character deviner: O\n",
      "Vous restez 2 fois de proposer!\n",
      "# A # # O N\n",
      "Donnez une character deviner: C\n",
      "Vous restez 1 fois de proposer!\n",
      "# A # C O N\n",
      "Donnez une character deviner: R\n",
      "Vous restez 0 fois de proposer!\n",
      "# A R C O N\n",
      "\n",
      "Mot mystère :  GARCON\n",
      "Mot devine : GARCON\n",
      "GAGNE\n"
     ]
    }
   ],
   "source": [
    "#SOLUTION plus simple\n",
    "#mot=\"mentir\"\n",
    "mot=\"garcon\".upper()\n",
    "print(\"Jeu du pendu\")\n",
    "print(\"# \"*len(mot)) #affiche la longeur du mot mystère\n",
    "charDev = list(\"#\"*len(mot)) #cree une liste avec nombre d'élément autant la longeur du mot\n",
    "\n",
    "lsmot = list(mot); #converti mot_mystère par liste\n",
    "proposition = 0 \n",
    "# print(charDev)\n",
    "\n",
    "while (proposition < 6)  :\n",
    "    devine = input(\"Donnez une character deviner: \")\n",
    "    devine.upper()\n",
    "    proposition += 1\n",
    "    print(\"Vous restez %d fois de proposer!\" %(6-proposition))\n",
    "    if devine in lsmot :\n",
    "        charDev[lsmot.index(devine)] = devine\n",
    "        print(\" \".join(charDev))\n",
    "    else :\n",
    "        print(\" \".join(charDev))\n",
    "    if (charDev.count(\"#\") == 0) :\n",
    "        break\n",
    "\n",
    "motUtilisateur = input(\"Mot devine : \").upper()\n",
    "if motUtilisateur == mot  :\n",
    "    print(\"GAGNE\")\n",
    "else :\n",
    "    print(\"PERDU\")\n",
    "\n"
   ]
  },
  {
   "cell_type": "code",
   "execution_count": 40,
   "metadata": {},
   "outputs": [
    {
     "name": "stdout",
     "output_type": "stream",
     "text": [
      "Jeu du pendu !!\n"
     ]
    },
    {
     "ename": "KeyboardInterrupt",
     "evalue": "Interrupted by user",
     "output_type": "error",
     "traceback": [
      "\u001b[0;31m---------------------------------------------------------------------------\u001b[0m",
      "\u001b[0;31mKeyboardInterrupt\u001b[0m                         Traceback (most recent call last)",
      "\u001b[0;32m<ipython-input-40-4f428d3cac8d>\u001b[0m in \u001b[0;36m<module>\u001b[0;34m\u001b[0m\n\u001b[1;32m      7\u001b[0m     \u001b[0;31m#for i in range(0, len(mot_mystere)):\u001b[0m\u001b[0;34m\u001b[0m\u001b[0;34m\u001b[0m\u001b[0;34m\u001b[0m\u001b[0m\n\u001b[1;32m      8\u001b[0m         \u001b[0;31m#print(\"*\", end=\" \")\u001b[0m\u001b[0;34m\u001b[0m\u001b[0;34m\u001b[0m\u001b[0;34m\u001b[0m\u001b[0m\n\u001b[0;32m----> 9\u001b[0;31m     \u001b[0mlettre\u001b[0m \u001b[0;34m=\u001b[0m \u001b[0minput\u001b[0m\u001b[0;34m(\u001b[0m\u001b[0;34m\"Vueillez saisir une lettre : \"\u001b[0m\u001b[0;34m)\u001b[0m\u001b[0;34m\u001b[0m\u001b[0;34m\u001b[0m\u001b[0m\n\u001b[0m\u001b[1;32m     10\u001b[0m     \u001b[0mnb_chance\u001b[0m \u001b[0;34m-=\u001b[0m \u001b[0;36m1\u001b[0m\u001b[0;34m\u001b[0m\u001b[0;34m\u001b[0m\u001b[0m\n\u001b[1;32m     11\u001b[0m     \u001b[0;32mfor\u001b[0m \u001b[0mj\u001b[0m \u001b[0;32min\u001b[0m \u001b[0mrange\u001b[0m\u001b[0;34m(\u001b[0m\u001b[0;36m0\u001b[0m\u001b[0;34m,\u001b[0m \u001b[0mlen\u001b[0m\u001b[0;34m(\u001b[0m\u001b[0mmot_mystere\u001b[0m\u001b[0;34m)\u001b[0m\u001b[0;34m)\u001b[0m\u001b[0;34m:\u001b[0m\u001b[0;34m\u001b[0m\u001b[0;34m\u001b[0m\u001b[0m\n",
      "\u001b[0;32m~/anaconda3/lib/python3.8/site-packages/ipykernel/kernelbase.py\u001b[0m in \u001b[0;36mraw_input\u001b[0;34m(self, prompt)\u001b[0m\n\u001b[1;32m    858\u001b[0m                 \u001b[0;34m\"raw_input was called, but this frontend does not support input requests.\"\u001b[0m\u001b[0;34m\u001b[0m\u001b[0;34m\u001b[0m\u001b[0m\n\u001b[1;32m    859\u001b[0m             )\n\u001b[0;32m--> 860\u001b[0;31m         return self._input_request(str(prompt),\n\u001b[0m\u001b[1;32m    861\u001b[0m             \u001b[0mself\u001b[0m\u001b[0;34m.\u001b[0m\u001b[0m_parent_ident\u001b[0m\u001b[0;34m,\u001b[0m\u001b[0;34m\u001b[0m\u001b[0;34m\u001b[0m\u001b[0m\n\u001b[1;32m    862\u001b[0m             \u001b[0mself\u001b[0m\u001b[0;34m.\u001b[0m\u001b[0m_parent_header\u001b[0m\u001b[0;34m,\u001b[0m\u001b[0;34m\u001b[0m\u001b[0;34m\u001b[0m\u001b[0m\n",
      "\u001b[0;32m~/anaconda3/lib/python3.8/site-packages/ipykernel/kernelbase.py\u001b[0m in \u001b[0;36m_input_request\u001b[0;34m(self, prompt, ident, parent, password)\u001b[0m\n\u001b[1;32m    902\u001b[0m             \u001b[0;32mexcept\u001b[0m \u001b[0mKeyboardInterrupt\u001b[0m\u001b[0;34m:\u001b[0m\u001b[0;34m\u001b[0m\u001b[0;34m\u001b[0m\u001b[0m\n\u001b[1;32m    903\u001b[0m                 \u001b[0;31m# re-raise KeyboardInterrupt, to truncate traceback\u001b[0m\u001b[0;34m\u001b[0m\u001b[0;34m\u001b[0m\u001b[0;34m\u001b[0m\u001b[0m\n\u001b[0;32m--> 904\u001b[0;31m                 \u001b[0;32mraise\u001b[0m \u001b[0mKeyboardInterrupt\u001b[0m\u001b[0;34m(\u001b[0m\u001b[0;34m\"Interrupted by user\"\u001b[0m\u001b[0;34m)\u001b[0m \u001b[0;32mfrom\u001b[0m \u001b[0;32mNone\u001b[0m\u001b[0;34m\u001b[0m\u001b[0;34m\u001b[0m\u001b[0m\n\u001b[0m\u001b[1;32m    905\u001b[0m             \u001b[0;32mexcept\u001b[0m \u001b[0mException\u001b[0m \u001b[0;32mas\u001b[0m \u001b[0me\u001b[0m\u001b[0;34m:\u001b[0m\u001b[0;34m\u001b[0m\u001b[0;34m\u001b[0m\u001b[0m\n\u001b[1;32m    906\u001b[0m                 \u001b[0mself\u001b[0m\u001b[0;34m.\u001b[0m\u001b[0mlog\u001b[0m\u001b[0;34m.\u001b[0m\u001b[0mwarning\u001b[0m\u001b[0;34m(\u001b[0m\u001b[0;34m\"Invalid Message:\"\u001b[0m\u001b[0;34m,\u001b[0m \u001b[0mexc_info\u001b[0m\u001b[0;34m=\u001b[0m\u001b[0;32mTrue\u001b[0m\u001b[0;34m)\u001b[0m\u001b[0;34m\u001b[0m\u001b[0;34m\u001b[0m\u001b[0m\n",
      "\u001b[0;31mKeyboardInterrupt\u001b[0m: Interrupted by user"
     ]
    }
   ],
   "source": [
    "#La 2e solution que mon groupe a choisie\n",
    "\n",
    "nb_chance = 6\n",
    "mot_mystere = \"JAPON\"\n",
    "list_index_lettre = {}\n",
    "\n",
    "for i in range(0, len(mot_mystere)):\n",
    "    list_index_lettre[mot_mystere[i]] = \"# \"\n",
    "\n",
    "while nb_chance != 0:\n",
    "    lettre = input(\"Veuillez saisir une lettre : \")\n",
    "    lettre = lettre.upper()\n",
    "    for cle, valeur in list_index_lettre.items():\n",
    "        if lettre == cle :\n",
    "            list_index_lettre[cle] = lettre\n",
    "    nb_chance -= 1\n",
    "    for cle, valeur in list_index_lettre.items():\n",
    "        print(valeur, end=\" \")\n",
    "    print(\"\\n\")\n",
    "    print(f\"Il vous reste encore {nb_chance} essai(s) !\")\n",
    "        \n",
    "guessed = input(\"Devinez le mot: \")\n",
    "guessed = guessed.upper()\n",
    "if guessed == mot_mystere: \n",
    "    print(\"GAGNÉ\")\n",
    "else:\n",
    "    print(\"PERDU\")"
   ]
  },
  {
   "cell_type": "code",
   "execution_count": 68,
   "metadata": {},
   "outputs": [
    {
     "name": "stdout",
     "output_type": "stream",
     "text": [
      "Veuillez saisir une lettre : O\n",
      "#  #  #  O #  \n",
      "\n",
      "Il vous reste encore 5 essai(s) !\n",
      "Veuillez saisir une lettre : H\n",
      "#  #  #  O #  \n",
      "\n",
      "Il vous reste encore 4 essai(s) !\n",
      "Veuillez saisir une lettre : B\n",
      "#  #  #  O #  \n",
      "\n",
      "Il vous reste encore 3 essai(s) !\n",
      "Veuillez saisir une lettre : A\n",
      "#  A #  O #  \n",
      "\n",
      "Il vous reste encore 2 essai(s) !\n",
      "Veuillez saisir une lettre : N\n",
      "#  A #  O N \n",
      "\n",
      "Il vous reste encore 1 essai(s) !\n",
      "Veuillez saisir une lettre : P\n",
      "#  A P O N \n",
      "\n",
      "Il vous reste encore 0 essai(s) !\n",
      "Devinez le mot: TAPON\n",
      "PERDU\n"
     ]
    }
   ],
   "source": [
    "nb_chance = 6\n",
    "\n",
    "mot_mystere = \"JAPON\"\n",
    "list_index_lettre = {}\n",
    "\n",
    "for i in range(0, len(mot_mystere)):\n",
    "    list_index_lettre[mot_mystere[i]] = \"# \"\n",
    "\n",
    "while nb_chance != 0:\n",
    "    lettre = input(\"Veuillez saisir une lettre : \")\n",
    "    lettre = lettre.upper()\n",
    "    for cle, valeur in list_index_lettre.items():\n",
    "        if lettre == cle :\n",
    "            list_index_lettre[cle] = lettre\n",
    "    nb_chance -= 1\n",
    "    for cle, valeur in list_index_lettre.items():\n",
    "        print(valeur, end=\" \")\n",
    "    print(\"\\n\")\n",
    "    print(f\"Il vous reste encore {nb_chance} essai(s) !\")\n",
    "    \n",
    "guessed = input(\"Devinez le mot: \")\n",
    "guessed = guessed.upper()\n",
    "if guessed == mot_mystere: \n",
    "    print(\"GAGNÉ\")\n",
    "else:\n",
    "    print(\"PERDU\")"
   ]
  },
  {
   "cell_type": "code",
   "execution_count": null,
   "metadata": {},
   "outputs": [],
   "source": []
  }
 ],
 "metadata": {
  "kernelspec": {
   "display_name": "Python 3",
   "language": "python",
   "name": "python3"
  },
  "language_info": {
   "codemirror_mode": {
    "name": "ipython",
    "version": 3
   },
   "file_extension": ".py",
   "mimetype": "text/x-python",
   "name": "python",
   "nbconvert_exporter": "python",
   "pygments_lexer": "ipython3",
   "version": "3.8.5"
  }
 },
 "nbformat": 4,
 "nbformat_minor": 4
}
