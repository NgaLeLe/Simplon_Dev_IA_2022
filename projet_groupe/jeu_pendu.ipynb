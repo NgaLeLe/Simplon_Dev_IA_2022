{
 "cells": [
  {
   "cell_type": "code",
   "execution_count": 71,
   "metadata": {},
   "outputs": [
    {
     "name": "stdout",
     "output_type": "stream",
     "text": [
      "Jeu du pendu\n",
      "# # # # # # \n",
      "Donnez une character deviner: A\n",
      "Vous restez 5 fois de proposer!\n",
      "# A # # # #\n",
      "Donnez une character deviner: H\n",
      "Vous restez 4 fois de proposer!\n",
      "# A # # # #\n",
      "Donnez une character deviner: N\n",
      "Vous restez 3 fois de proposer!\n",
      "# A # # # N\n",
      "Donnez une character deviner: O\n",
      "Vous restez 2 fois de proposer!\n",
      "# A # # O N\n",
      "Donnez une character deviner: C\n",
      "Vous restez 1 fois de proposer!\n",
      "# A # C O N\n",
      "Donnez une character deviner: R\n",
      "Vous restez 0 fois de proposer!\n",
      "# A R C O N\n",
      "\n",
      "Mot mystère :  GARCON\n",
      "Mot devine : GARCON\n",
      "GAGNE\n"
     ]
    }
   ],
   "source": [
    "#SOLUTION plus simple\n",
    "#mot=\"mentir\"\n",
    "mot=\"garcon\".upper()\n",
    "print(\"Jeu du pendu\")\n",
    "print(\"# \"*len(mot)) #affiche la longeur du mot mystère\n",
    "charDev = list(\"#\"*len(mot)) #cree une liste avec nombre d'élément autant la longeur du mot\n",
    "\n",
    "lsmot = list(mot); #converti mot_mystère par liste\n",
    "proposition = 0 \n",
    "# print(charDev)\n",
    "\n",
    "while (proposition < 6)  :\n",
    "    devine = input(\"Donnez une character deviner: \")\n",
    "    devine.upper()\n",
    "    proposition += 1\n",
    "    print(\"Vous restez %d fois de proposer!\" %(6-proposition))\n",
    "    if devine in lsmot :\n",
    "        charDev[lsmot.index(devine)] = devine\n",
    "        print(\" \".join(charDev))\n",
    "    else :\n",
    "        print(\" \".join(charDev))\n",
    "    if (charDev.count(\"#\") == 0) :\n",
    "        break\n",
    "\n",
    "motUtilisateur = input(\"Mot devine : \").upper()\n",
    "if motUtilisateur == mot  :\n",
    "    print(\"GAGNE\")\n",
    "else :\n",
    "    print(\"PERDU\")\n",
    "\n"
   ]
  },
  {
   "cell_type": "code",
   "execution_count": 68,
   "metadata": {},
   "outputs": [
    {
     "name": "stdout",
     "output_type": "stream",
     "text": [
      "Veuillez saisir une lettre : O\n",
      "#  #  #  O #  \n",
      "\n",
      "Il vous reste encore 5 essai(s) !\n",
      "Veuillez saisir une lettre : H\n",
      "#  #  #  O #  \n",
      "\n",
      "Il vous reste encore 4 essai(s) !\n",
      "Veuillez saisir une lettre : B\n",
      "#  #  #  O #  \n",
      "\n",
      "Il vous reste encore 3 essai(s) !\n",
      "Veuillez saisir une lettre : A\n",
      "#  A #  O #  \n",
      "\n",
      "Il vous reste encore 2 essai(s) !\n",
      "Veuillez saisir une lettre : N\n",
      "#  A #  O N \n",
      "\n",
      "Il vous reste encore 1 essai(s) !\n",
      "Veuillez saisir une lettre : P\n",
      "#  A P O N \n",
      "\n",
      "Il vous reste encore 0 essai(s) !\n",
      "Devinez le mot: TAPON\n",
      "PERDU\n"
     ]
    }
   ],
   "source": [
    "#La solution que mon group a choisie\n",
    "\n",
    "nb_chance = 6\n",
    "\n",
    "mot_mystere = \"JAPON\"\n",
    "list_index_lettre = {}\n",
    "\n",
    "for i in range(0, len(mot_mystere)):\n",
    "    list_index_lettre[mot_mystere[i]] = \"# \"\n",
    "\n",
    "while nb_chance != 0:\n",
    "    lettre = input(\"Veuillez saisir une lettre : \")\n",
    "    lettre = lettre.upper()\n",
    "    for cle, valeur in list_index_lettre.items():\n",
    "        if lettre == cle :\n",
    "            list_index_lettre[cle] = lettre\n",
    "    nb_chance -= 1\n",
    "    for cle, valeur in list_index_lettre.items():\n",
    "        print(valeur, end=\" \")\n",
    "    print(\"\\n\")\n",
    "    print(f\"Il vous reste encore {nb_chance} essai(s) !\")\n",
    "    \n",
    "guessed = input(\"Devinez le mot: \")\n",
    "guessed = guessed.upper()\n",
    "if guessed == mot_mystere: \n",
    "    print(\"GAGNÉ\")\n",
    "else:\n",
    "    print(\"PERDU\")"
   ]
  },
  {
   "cell_type": "code",
   "execution_count": null,
   "metadata": {},
   "outputs": [],
   "source": []
  }
 ],
 "metadata": {
  "kernelspec": {
   "display_name": "Python 3",
   "language": "python",
   "name": "python3"
  },
  "language_info": {
   "codemirror_mode": {
    "name": "ipython",
    "version": 3
   },
   "file_extension": ".py",
   "mimetype": "text/x-python",
   "name": "python",
   "nbconvert_exporter": "python",
   "pygments_lexer": "ipython3",
   "version": "3.8.5"
  }
 },
 "nbformat": 4,
 "nbformat_minor": 4
}
