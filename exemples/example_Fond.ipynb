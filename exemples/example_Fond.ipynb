{
 "cells": [
  {
   "cell_type": "code",
   "execution_count": 8,
   "metadata": {},
   "outputs": [
    {
     "name": "stdout",
     "output_type": "stream",
     "text": [
      "<class 'tuple'>\n"
     ]
    }
   ],
   "source": [
    "mon_tube=(1, \"deux\", 3, 4, 5)\n",
    "\n",
    "print(type(mon_tube))"
   ]
  },
  {
   "cell_type": "code",
   "execution_count": 12,
   "metadata": {},
   "outputs": [
    {
     "name": "stdout",
     "output_type": "stream",
     "text": [
      "1 2\n",
      "<class 'tuple'>\n",
      "4 5\n",
      "<class 'tuple'>\n",
      "<class 'int'>\n"
     ]
    }
   ],
   "source": [
    "(a, b) = (1, 2)\n",
    "print(a, b)\n",
    "print(type((a,b)))\n",
    "c, d = 4, 5\n",
    "print(c, d)\n",
    "print(type((c,d)))\n",
    "print(type(c))\n"
   ]
  },
  {
   "cell_type": "code",
   "execution_count": 34,
   "metadata": {},
   "outputs": [
    {
     "name": "stdout",
     "output_type": "stream",
     "text": [
      "{'Anthony': 15, 'Marie': 12, 'Julien': 'absent', 'Mohamad': 9, 'Brihiman': 17}\n",
      "<class 'dict'>\n",
      "14\n",
      "{'Anthony': 15, 'Marie': 'acquis', 'Julien': 14, 'Mohamad': 9, 'Brihiman': 17, 'Rafik': \"C'est le formateur\"}\n",
      "Key dict_keys(['Anthony', 'Marie', 'Julien', 'Mohamad', 'Brihiman', 'Rafik'])\n",
      "('Anthony', 15)\n",
      "('Marie', 'acquis')\n",
      "('Julien', 14)\n",
      "('Mohamad', 9)\n",
      "('Brihiman', 17)\n",
      "('Rafik', \"C'est le formateur\")\n",
      "Anthony 25\n",
      "{'Anthony': 15, 'Marie': 'acquis', 'Julien': 14, 'Mohamad': 9, 'Brihiman': 17, 'Rafik': \"C'est le formateur\"}\n"
     ]
    }
   ],
   "source": [
    "notes_eleves = {\n",
    "   \"Anthony\" : 15,\n",
    "    \"Marie\" : 12,\n",
    "    \"Julien\" : \"absent\",\n",
    "    \"Mohamad\" : 9,\n",
    "    \"Brihiman\": 17\n",
    "}\n",
    "print(notes_eleves)\n",
    "print(type(notes_eleves))\n",
    "notes_eleves[\"Julien\"] = 14\n",
    "print(notes_eleves[\"Julien\"])\n",
    "notes_eleves[\"Rafik\"] = \"C'est le formateur\"\n",
    "notes_eleves[\"Marie\"] = \"acquis\"\n",
    "print(notes_eleves)\n",
    "print(\"Key\",notes_eleves.keys())\n",
    "for e in notes_eleves.items() :\n",
    "    print(e)\n",
    "for k,v in notes_eleves.items() :\n",
    "    if (k == \"Anthony\") :\n",
    "        v = 25\n",
    "        print(k,v)\n",
    "print(notes_eleves)"
   ]
  },
  {
   "cell_type": "code",
   "execution_count": 43,
   "metadata": {},
   "outputs": [
    {
     "name": "stdout",
     "output_type": "stream",
     "text": [
      "47.849999999999994%d\n"
     ]
    }
   ],
   "source": [
    "#creer une fonction\n",
    "def PrixTTC(PrixHT, TVA=0.2) : \n",
    "    #TVA a valeur par défault 0.2\n",
    "    return PrixHT * ( 1 + TVA) \n",
    "\n",
    "Prix1HT = 18 \n",
    "Prix2HT = 21 \n",
    "\n",
    "TotalTTC = 0\n",
    "TotalTTC += PrixTTC(Prix1HT) #TotalTTC += PrixTTC(Prix1HT, TVA)\n",
    "TotalTTC += PrixTTC(TVA=0.25, PrixHT = Prix2HT) \n",
    "print(\"{}%d\".format(TotalTTC)) "
   ]
  },
  {
   "cell_type": "code",
   "execution_count": null,
   "metadata": {},
   "outputs": [],
   "source": []
  }
 ],
 "metadata": {
  "kernelspec": {
   "display_name": "Python 3",
   "language": "python",
   "name": "python3"
  },
  "language_info": {
   "codemirror_mode": {
    "name": "ipython",
    "version": 3
   },
   "file_extension": ".py",
   "mimetype": "text/x-python",
   "name": "python",
   "nbconvert_exporter": "python",
   "pygments_lexer": "ipython3",
   "version": "3.8.5"
  }
 },
 "nbformat": 4,
 "nbformat_minor": 4
}
