{
 "cells": [
  {
   "cell_type": "code",
   "execution_count": 3,
   "id": "cfd81f7e",
   "metadata": {},
   "outputs": [
    {
     "name": "stdout",
     "output_type": "stream",
     "text": [
      "{0, 1, 2, 3, 4, 5, 6, 7, 8, 9, 10, 11, 12, 13, 14, 15, 16, 17, 18, 19, 20}\n"
     ]
    },
    {
     "data": {
      "text/plain": [
       "numpy.ndarray"
      ]
     },
     "execution_count": 3,
     "metadata": {},
     "output_type": "execute_result"
    }
   ],
   "source": [
    "import numpy as np\n",
    "notre_tableau = np.array({i for i in range(21)})\n",
    "print(notre_tableau)\n",
    "type(notre_tableau)"
   ]
  },
  {
   "cell_type": "code",
   "execution_count": 4,
   "id": "e69d4edd",
   "metadata": {},
   "outputs": [
    {
     "name": "stdout",
     "output_type": "stream",
     "text": [
      "[[1 2 3]\n",
      " [4 5 6]\n",
      " [7 8 9]]\n"
     ]
    }
   ],
   "source": [
    "mon_array_bidimension=np.array([[1, 2, 3], [4, 5, 6], [7, 8, 9]])\n",
    "print(mon_array_bidimension)"
   ]
  },
  {
   "cell_type": "code",
   "execution_count": 7,
   "id": "3c064582",
   "metadata": {},
   "outputs": [
    {
     "name": "stdout",
     "output_type": "stream",
     "text": [
      "3\n",
      "3\n",
      "[1 4 7]\n",
      "[1 2 3]\n"
     ]
    }
   ],
   "source": [
    "#pour selectionne la valeur de la tableau\n",
    "print(mon_array_bidimension[0][2])\n",
    "print(mon_array_bidimension[0,2])\n",
    "#pour selectionne la 1er colonne\n",
    "print(mon_array_bidimension[:,0])\n",
    "#pour selectionne la 1er ligne\n",
    "print(mon_array_bidimension[0,:])"
   ]
  },
  {
   "cell_type": "code",
   "execution_count": 8,
   "id": "da6ce5c4",
   "metadata": {},
   "outputs": [
    {
     "ename": "ValueError",
     "evalue": "invalid literal for int() with base 10: 'texte'",
     "output_type": "error",
     "traceback": [
      "\u001b[0;31m---------------------------------------------------------------------------\u001b[0m",
      "\u001b[0;31mValueError\u001b[0m                                Traceback (most recent call last)",
      "\u001b[0;32m<ipython-input-8-c00f4dca7acc>\u001b[0m in \u001b[0;36m<module>\u001b[0;34m\u001b[0m\n\u001b[1;32m      1\u001b[0m \u001b[0;31m#pour selectionne la 1er colonne\u001b[0m\u001b[0;34m\u001b[0m\u001b[0;34m\u001b[0m\u001b[0;34m\u001b[0m\u001b[0m\n\u001b[0;32m----> 2\u001b[0;31m \u001b[0mmon_array_bidimension\u001b[0m\u001b[0;34m[\u001b[0m\u001b[0;36m0\u001b[0m\u001b[0;34m,\u001b[0m\u001b[0;36m0\u001b[0m\u001b[0;34m]\u001b[0m\u001b[0;34m=\u001b[0m\u001b[0;34m\"texte\"\u001b[0m\u001b[0;34m\u001b[0m\u001b[0;34m\u001b[0m\u001b[0m\n\u001b[0m",
      "\u001b[0;31mValueError\u001b[0m: invalid literal for int() with base 10: 'texte'"
     ]
    }
   ],
   "source": [
    "#pour selectionne la 1er colonne\n",
    "mon_array_bidimension[0,0]=\"texte\""
   ]
  },
  {
   "cell_type": "code",
   "execution_count": 9,
   "id": "24cebf59",
   "metadata": {},
   "outputs": [],
   "source": [
    "mon_array_bidimension[0,0]=2.5"
   ]
  },
  {
   "cell_type": "code",
   "execution_count": 10,
   "id": "53313950",
   "metadata": {},
   "outputs": [
    {
     "name": "stdout",
     "output_type": "stream",
     "text": [
      "[[2 2 3]\n",
      " [4 5 6]\n",
      " [7 8 9]]\n"
     ]
    }
   ],
   "source": [
    "print(mon_array_bidimension)"
   ]
  },
  {
   "cell_type": "code",
   "execution_count": 11,
   "id": "d88ea017",
   "metadata": {},
   "outputs": [
    {
     "data": {
      "text/plain": [
       "dtype('int64')"
      ]
     },
     "execution_count": 11,
     "metadata": {},
     "output_type": "execute_result"
    }
   ],
   "source": [
    "#affiche de capacité de mémoire\n",
    "mon_array_bidimension.dtype"
   ]
  },
  {
   "cell_type": "code",
   "execution_count": 13,
   "id": "3940e427",
   "metadata": {},
   "outputs": [
    {
     "data": {
      "text/plain": [
       "dtype('int64')"
      ]
     },
     "execution_count": 13,
     "metadata": {},
     "output_type": "execute_result"
    }
   ],
   "source": [
    "mon_array_bidimension[0,0]=1\n",
    "mon_array_bidimension.dtype"
   ]
  },
  {
   "cell_type": "code",
   "execution_count": 14,
   "id": "a6fa1de4",
   "metadata": {},
   "outputs": [
    {
     "name": "stdout",
     "output_type": "stream",
     "text": [
      "[[1.5 2.  3. ]\n",
      " [4.  5.  6.7]\n",
      " [7.  8.4 9. ]]\n"
     ]
    },
    {
     "data": {
      "text/plain": [
       "dtype('float64')"
      ]
     },
     "execution_count": 14,
     "metadata": {},
     "output_type": "execute_result"
    }
   ],
   "source": [
    "#define le type de donnees de départ dtype=\"float\"\n",
    "mon_array_bidimension=np.array([[1.5, 2, 3], [4, 5, 6.7], [7, 8.4, 9]], dtype=\"float\")\n",
    "print(mon_array_bidimension)\n",
    "mon_array_bidimension.dtype"
   ]
  },
  {
   "cell_type": "code",
   "execution_count": 16,
   "id": "b2625778",
   "metadata": {},
   "outputs": [
    {
     "name": "stdout",
     "output_type": "stream",
     "text": [
      "[[0 0 0 0 0 0]\n",
      " [0 0 0 0 0 0]\n",
      " [0 0 0 0 0 0]\n",
      " [0 0 0 0 0 0]]\n"
     ]
    }
   ],
   "source": [
    "#np.zeros() permet de creer un ndarray spécifier que  le tableau soit int, soit float\n",
    "mon_array_zeros=np.zeros((4,6), dtype=int)\n",
    "print(mon_array_zeros)"
   ]
  },
  {
   "cell_type": "code",
   "execution_count": 17,
   "id": "4ae1700b",
   "metadata": {},
   "outputs": [
    {
     "name": "stdout",
     "output_type": "stream",
     "text": [
      "[[1 1 1 1 1 1]\n",
      " [1 1 1 1 1 1]\n",
      " [1 1 1 1 1 1]\n",
      " [1 1 1 1 1 1]]\n"
     ]
    }
   ],
   "source": [
    "#np.ones() permet de creer un ndarray spécifier que  le tableau soit int, soit float\n",
    "mon_array_ones=np.ones((4,6), dtype=int)\n",
    "print(mon_array_ones)"
   ]
  },
  {
   "cell_type": "code",
   "execution_count": 18,
   "id": "fb7d9272",
   "metadata": {},
   "outputs": [
    {
     "name": "stdout",
     "output_type": "stream",
     "text": [
      "[[0.23558564 0.79583025]\n",
      " [0.40675394 0.86014862]\n",
      " [0.63083638 0.77944914]\n",
      " [0.5335349  0.65066979]]\n"
     ]
    }
   ],
   "source": [
    "#np.randoms() permet de creer un ndarray dont les valeurs s crées aléroitoire\n",
    "mon_array_random=np.random.random((4,2))\n",
    "print(mon_array_random)"
   ]
  },
  {
   "cell_type": "code",
   "execution_count": 26,
   "id": "5f4dec72",
   "metadata": {},
   "outputs": [
    {
     "name": "stdout",
     "output_type": "stream",
     "text": [
      "[[5.1 3.5 1.4 0.2 1. ]\n",
      " [4.9 3.  1.4 0.2 1. ]\n",
      " [4.7 3.2 1.3 0.2 1. ]\n",
      " [4.6 3.1 1.5 0.2 1. ]\n",
      " [5.  3.6 1.4 0.2 1. ]\n",
      " [5.4 3.9 1.7 0.4 1. ]\n",
      " [4.6 3.4 1.4 0.3 1. ]\n",
      " [5.  3.4 1.5 0.2 1. ]\n",
      " [4.4 2.9 1.4 0.2 1. ]\n",
      " [4.9 3.1 1.5 0.1 1. ]\n",
      " [5.4 3.7 1.5 0.2 1. ]\n",
      " [4.8 3.4 1.6 0.2 1. ]\n",
      " [4.8 3.  1.4 0.1 1. ]\n",
      " [4.3 3.  1.1 0.1 1. ]\n",
      " [5.8 4.  1.2 0.2 1. ]\n",
      " [5.7 4.4 1.5 0.4 1. ]\n",
      " [5.4 3.9 1.3 0.4 1. ]\n",
      " [5.1 3.5 1.4 0.3 1. ]\n",
      " [5.7 3.8 1.7 0.3 1. ]\n",
      " [5.1 3.8 1.5 0.3 1. ]\n",
      " [5.4 3.4 1.7 0.2 1. ]\n",
      " [5.1 3.7 1.5 0.4 1. ]\n",
      " [4.6 3.6 1.  0.2 1. ]\n",
      " [5.1 3.3 1.7 0.5 1. ]\n",
      " [4.8 3.4 1.9 0.2 1. ]\n",
      " [5.  3.  1.6 0.2 1. ]\n",
      " [5.  3.4 1.6 0.4 1. ]\n",
      " [5.2 3.5 1.5 0.2 1. ]\n",
      " [5.2 3.4 1.4 0.2 1. ]\n",
      " [4.7 3.2 1.6 0.2 1. ]\n",
      " [4.8 3.1 1.6 0.2 1. ]\n",
      " [5.4 3.4 1.5 0.4 1. ]\n",
      " [5.2 4.1 1.5 0.1 1. ]\n",
      " [5.5 4.2 1.4 0.2 1. ]\n",
      " [4.9 3.1 1.5 0.2 1. ]\n",
      " [5.  3.2 1.2 0.2 1. ]\n",
      " [5.5 3.5 1.3 0.2 1. ]\n",
      " [4.9 3.6 1.4 0.1 1. ]\n",
      " [4.4 3.  1.3 0.2 1. ]\n",
      " [5.1 3.4 1.5 0.2 1. ]\n",
      " [5.  3.5 1.3 0.3 1. ]\n",
      " [4.5 2.3 1.3 0.3 1. ]\n",
      " [4.4 3.2 1.3 0.2 1. ]\n",
      " [5.  3.5 1.6 0.6 1. ]\n",
      " [5.1 3.8 1.9 0.4 1. ]\n",
      " [4.8 3.  1.4 0.3 1. ]\n",
      " [5.1 3.8 1.6 0.2 1. ]\n",
      " [4.6 3.2 1.4 0.2 1. ]\n",
      " [5.3 3.7 1.5 0.2 1. ]\n",
      " [5.  3.3 1.4 0.2 1. ]\n",
      " [7.  3.2 4.7 1.4 2. ]\n",
      " [6.4 3.2 4.5 1.5 2. ]\n",
      " [6.9 3.1 4.9 1.5 2. ]\n",
      " [5.5 2.3 4.  1.3 2. ]\n",
      " [6.5 2.8 4.6 1.5 2. ]\n",
      " [5.7 2.8 4.5 1.3 2. ]\n",
      " [6.3 3.3 4.7 1.6 2. ]\n",
      " [4.9 2.4 3.3 1.  2. ]\n",
      " [6.6 2.9 4.6 1.3 2. ]\n",
      " [5.2 2.7 3.9 1.4 2. ]\n",
      " [5.  2.  3.5 1.  2. ]\n",
      " [5.9 3.  4.2 1.5 2. ]\n",
      " [6.  2.2 4.  1.  2. ]\n",
      " [6.1 2.9 4.7 1.4 2. ]\n",
      " [5.6 2.9 3.6 1.3 2. ]\n",
      " [6.7 3.1 4.4 1.4 2. ]\n",
      " [5.6 3.  4.5 1.5 2. ]\n",
      " [5.8 2.7 4.1 1.  2. ]\n",
      " [6.2 2.2 4.5 1.5 2. ]\n",
      " [5.6 2.5 3.9 1.1 2. ]\n",
      " [5.9 3.2 4.8 1.8 2. ]\n",
      " [6.1 2.8 4.  1.3 2. ]\n",
      " [6.3 2.5 4.9 1.5 2. ]\n",
      " [6.1 2.8 4.7 1.2 2. ]\n",
      " [6.4 2.9 4.3 1.3 2. ]\n",
      " [6.6 3.  4.4 1.4 2. ]\n",
      " [6.8 2.8 4.8 1.4 2. ]\n",
      " [6.7 3.  5.  1.7 2. ]\n",
      " [6.  2.9 4.5 1.5 2. ]\n",
      " [5.7 2.6 3.5 1.  2. ]\n",
      " [5.5 2.4 3.8 1.1 2. ]\n",
      " [5.5 2.4 3.7 1.  2. ]\n",
      " [5.8 2.7 3.9 1.2 2. ]\n",
      " [6.  2.7 5.1 1.6 2. ]\n",
      " [5.4 3.  4.5 1.5 2. ]\n",
      " [6.  3.4 4.5 1.6 2. ]\n",
      " [6.7 3.1 4.7 1.5 2. ]\n",
      " [6.3 2.3 4.4 1.3 2. ]\n",
      " [5.6 3.  4.1 1.3 2. ]\n",
      " [5.5 2.5 4.  1.3 2. ]\n",
      " [5.5 2.6 4.4 1.2 2. ]\n",
      " [6.1 3.  4.6 1.4 2. ]\n",
      " [5.8 2.6 4.  1.2 2. ]\n",
      " [5.  2.3 3.3 1.  2. ]\n",
      " [5.6 2.7 4.2 1.3 2. ]\n",
      " [5.7 3.  4.2 1.2 2. ]\n",
      " [5.7 2.9 4.2 1.3 2. ]\n",
      " [6.2 2.9 4.3 1.3 2. ]\n",
      " [5.1 2.5 3.  1.1 2. ]\n",
      " [5.7 2.8 4.1 1.3 2. ]\n",
      " [6.3 3.3 6.  2.5 3. ]\n",
      " [5.8 2.7 5.1 1.9 3. ]\n",
      " [7.1 3.  5.9 2.1 3. ]\n",
      " [6.3 2.9 5.6 1.8 3. ]\n",
      " [6.5 3.  5.8 2.2 3. ]\n",
      " [7.6 3.  6.6 2.1 3. ]\n",
      " [4.9 2.5 4.5 1.7 3. ]\n",
      " [7.3 2.9 6.3 1.8 3. ]\n",
      " [6.7 2.5 5.8 1.8 3. ]\n",
      " [7.2 3.6 6.1 2.5 3. ]\n",
      " [6.5 3.2 5.1 2.  3. ]\n",
      " [6.4 2.7 5.3 1.9 3. ]\n",
      " [6.8 3.  5.5 2.1 3. ]\n",
      " [5.7 2.5 5.  2.  3. ]\n",
      " [5.8 2.8 5.1 2.4 3. ]\n",
      " [6.4 3.2 5.3 2.3 3. ]\n",
      " [6.5 3.  5.5 1.8 3. ]\n",
      " [7.7 3.8 6.7 2.2 3. ]\n",
      " [7.7 2.6 6.9 2.3 3. ]\n",
      " [6.  2.2 5.  1.5 3. ]\n",
      " [6.9 3.2 5.7 2.3 3. ]\n",
      " [5.6 2.8 4.9 2.  3. ]\n",
      " [7.7 2.8 6.7 2.  3. ]\n",
      " [6.3 2.7 4.9 1.8 3. ]\n",
      " [6.7 3.3 5.7 2.1 3. ]\n",
      " [7.2 3.2 6.  1.8 3. ]\n",
      " [6.2 2.8 4.8 1.8 3. ]\n",
      " [6.1 3.  4.9 1.8 3. ]\n",
      " [6.4 2.8 5.6 2.1 3. ]\n",
      " [7.2 3.  5.8 1.6 3. ]\n",
      " [7.4 2.8 6.1 1.9 3. ]\n",
      " [7.9 3.8 6.4 2.  3. ]\n",
      " [6.4 2.8 5.6 2.2 3. ]\n",
      " [6.3 2.8 5.1 1.5 3. ]\n",
      " [6.1 2.6 5.6 1.4 3. ]\n",
      " [7.7 3.  6.1 2.3 3. ]\n",
      " [6.3 3.4 5.6 2.4 3. ]\n",
      " [6.4 3.1 5.5 1.8 3. ]\n",
      " [6.  3.  4.8 1.8 3. ]\n",
      " [6.9 3.1 5.4 2.1 3. ]\n",
      " [6.7 3.1 5.6 2.4 3. ]\n",
      " [6.9 3.1 5.1 2.3 3. ]\n",
      " [5.8 2.7 5.1 1.9 3. ]\n",
      " [6.8 3.2 5.9 2.3 3. ]\n",
      " [6.7 3.3 5.7 2.5 3. ]\n",
      " [6.7 3.  5.2 2.3 3. ]\n",
      " [6.3 2.5 5.  1.9 3. ]\n",
      " [6.5 3.  5.2 2.  3. ]\n",
      " [6.2 3.4 5.4 2.3 3. ]\n",
      " [5.9 3.  5.1 1.8 3. ]]\n"
     ]
    },
    {
     "data": {
      "text/plain": [
       "dtype('float64')"
      ]
     },
     "execution_count": 26,
     "metadata": {},
     "output_type": "execute_result"
    }
   ],
   "source": [
    "#lire des donnees de fichier\n",
    "#delimiter=\";\" skip_header : sauter la 1er ligne comme la tete de fichier\n",
    "iris=np.genfromtxt(\"exoPython/Simplon_Dev_IA_2022/exemples/iris.csv\", delimiter=\";\", skip_header=True, encoding=\"latin-1\")\n",
    "print(iris)\n",
    "iris.dtype"
   ]
  },
  {
   "cell_type": "code",
   "execution_count": 23,
   "id": "e64d5614",
   "metadata": {},
   "outputs": [],
   "source": [
    "np.savetxt(\"exoPython/Simplon_Devi_IA_2022/exemples/iris2.csv\", iris, delimiter=\";\")"
   ]
  },
  {
   "cell_type": "code",
   "execution_count": 32,
   "id": "bc15c16d",
   "metadata": {},
   "outputs": [
    {
     "data": {
      "text/plain": [
       "'/home/simplon'"
      ]
     },
     "execution_count": 32,
     "metadata": {},
     "output_type": "execute_result"
    }
   ],
   "source": [
    "%pwd\n"
   ]
  },
  {
   "cell_type": "code",
   "execution_count": 33,
   "id": "5339300e",
   "metadata": {},
   "outputs": [
    {
     "data": {
      "text/plain": [
       "numpy.ndarray"
      ]
     },
     "execution_count": 33,
     "metadata": {},
     "output_type": "execute_result"
    }
   ],
   "source": [
    "type(iris)"
   ]
  },
  {
   "cell_type": "code",
   "execution_count": 34,
   "id": "1067116e",
   "metadata": {},
   "outputs": [
    {
     "name": "stdout",
     "output_type": "stream",
     "text": [
      "3.2\n"
     ]
    }
   ],
   "source": [
    "print(iris[2,1])"
   ]
  },
  {
   "cell_type": "code",
   "execution_count": 35,
   "id": "4b82f92a",
   "metadata": {},
   "outputs": [
    {
     "data": {
      "text/plain": [
       "472"
      ]
     },
     "execution_count": 35,
     "metadata": {},
     "output_type": "execute_result"
    }
   ],
   "source": [
    "iris[iris>2].shape[0]"
   ]
  },
  {
   "cell_type": "code",
   "execution_count": 36,
   "id": "51721bcb",
   "metadata": {},
   "outputs": [
    {
     "data": {
      "text/plain": [
       "array([[ True,  True, False, False, False],\n",
       "       [ True,  True, False, False, False],\n",
       "       [ True,  True, False, False, False],\n",
       "       [ True,  True, False, False, False],\n",
       "       [ True,  True, False, False, False],\n",
       "       [ True,  True, False, False, False],\n",
       "       [ True,  True, False, False, False],\n",
       "       [ True,  True, False, False, False],\n",
       "       [ True,  True, False, False, False],\n",
       "       [ True,  True, False, False, False],\n",
       "       [ True,  True, False, False, False],\n",
       "       [ True,  True, False, False, False],\n",
       "       [ True,  True, False, False, False],\n",
       "       [ True,  True, False, False, False],\n",
       "       [ True,  True, False, False, False],\n",
       "       [ True,  True, False, False, False],\n",
       "       [ True,  True, False, False, False],\n",
       "       [ True,  True, False, False, False],\n",
       "       [ True,  True, False, False, False],\n",
       "       [ True,  True, False, False, False],\n",
       "       [ True,  True, False, False, False],\n",
       "       [ True,  True, False, False, False],\n",
       "       [ True,  True, False, False, False],\n",
       "       [ True,  True, False, False, False],\n",
       "       [ True,  True, False, False, False],\n",
       "       [ True,  True, False, False, False],\n",
       "       [ True,  True, False, False, False],\n",
       "       [ True,  True, False, False, False],\n",
       "       [ True,  True, False, False, False],\n",
       "       [ True,  True, False, False, False],\n",
       "       [ True,  True, False, False, False],\n",
       "       [ True,  True, False, False, False],\n",
       "       [ True,  True, False, False, False],\n",
       "       [ True,  True, False, False, False],\n",
       "       [ True,  True, False, False, False],\n",
       "       [ True,  True, False, False, False],\n",
       "       [ True,  True, False, False, False],\n",
       "       [ True,  True, False, False, False],\n",
       "       [ True,  True, False, False, False],\n",
       "       [ True,  True, False, False, False],\n",
       "       [ True,  True, False, False, False],\n",
       "       [ True,  True, False, False, False],\n",
       "       [ True,  True, False, False, False],\n",
       "       [ True,  True, False, False, False],\n",
       "       [ True,  True, False, False, False],\n",
       "       [ True,  True, False, False, False],\n",
       "       [ True,  True, False, False, False],\n",
       "       [ True,  True, False, False, False],\n",
       "       [ True,  True, False, False, False],\n",
       "       [ True,  True, False, False, False],\n",
       "       [ True,  True,  True, False, False],\n",
       "       [ True,  True,  True, False, False],\n",
       "       [ True,  True,  True, False, False],\n",
       "       [ True,  True,  True, False, False],\n",
       "       [ True,  True,  True, False, False],\n",
       "       [ True,  True,  True, False, False],\n",
       "       [ True,  True,  True, False, False],\n",
       "       [ True,  True,  True, False, False],\n",
       "       [ True,  True,  True, False, False],\n",
       "       [ True,  True,  True, False, False],\n",
       "       [ True, False,  True, False, False],\n",
       "       [ True,  True,  True, False, False],\n",
       "       [ True,  True,  True, False, False],\n",
       "       [ True,  True,  True, False, False],\n",
       "       [ True,  True,  True, False, False],\n",
       "       [ True,  True,  True, False, False],\n",
       "       [ True,  True,  True, False, False],\n",
       "       [ True,  True,  True, False, False],\n",
       "       [ True,  True,  True, False, False],\n",
       "       [ True,  True,  True, False, False],\n",
       "       [ True,  True,  True, False, False],\n",
       "       [ True,  True,  True, False, False],\n",
       "       [ True,  True,  True, False, False],\n",
       "       [ True,  True,  True, False, False],\n",
       "       [ True,  True,  True, False, False],\n",
       "       [ True,  True,  True, False, False],\n",
       "       [ True,  True,  True, False, False],\n",
       "       [ True,  True,  True, False, False],\n",
       "       [ True,  True,  True, False, False],\n",
       "       [ True,  True,  True, False, False],\n",
       "       [ True,  True,  True, False, False],\n",
       "       [ True,  True,  True, False, False],\n",
       "       [ True,  True,  True, False, False],\n",
       "       [ True,  True,  True, False, False],\n",
       "       [ True,  True,  True, False, False],\n",
       "       [ True,  True,  True, False, False],\n",
       "       [ True,  True,  True, False, False],\n",
       "       [ True,  True,  True, False, False],\n",
       "       [ True,  True,  True, False, False],\n",
       "       [ True,  True,  True, False, False],\n",
       "       [ True,  True,  True, False, False],\n",
       "       [ True,  True,  True, False, False],\n",
       "       [ True,  True,  True, False, False],\n",
       "       [ True,  True,  True, False, False],\n",
       "       [ True,  True,  True, False, False],\n",
       "       [ True,  True,  True, False, False],\n",
       "       [ True,  True,  True, False, False],\n",
       "       [ True,  True,  True, False, False],\n",
       "       [ True,  True,  True, False, False],\n",
       "       [ True,  True,  True, False, False],\n",
       "       [ True,  True,  True,  True,  True],\n",
       "       [ True,  True,  True, False,  True],\n",
       "       [ True,  True,  True,  True,  True],\n",
       "       [ True,  True,  True, False,  True],\n",
       "       [ True,  True,  True,  True,  True],\n",
       "       [ True,  True,  True,  True,  True],\n",
       "       [ True,  True,  True, False,  True],\n",
       "       [ True,  True,  True, False,  True],\n",
       "       [ True,  True,  True, False,  True],\n",
       "       [ True,  True,  True,  True,  True],\n",
       "       [ True,  True,  True, False,  True],\n",
       "       [ True,  True,  True, False,  True],\n",
       "       [ True,  True,  True,  True,  True],\n",
       "       [ True,  True,  True, False,  True],\n",
       "       [ True,  True,  True,  True,  True],\n",
       "       [ True,  True,  True,  True,  True],\n",
       "       [ True,  True,  True, False,  True],\n",
       "       [ True,  True,  True,  True,  True],\n",
       "       [ True,  True,  True,  True,  True],\n",
       "       [ True,  True,  True, False,  True],\n",
       "       [ True,  True,  True,  True,  True],\n",
       "       [ True,  True,  True, False,  True],\n",
       "       [ True,  True,  True, False,  True],\n",
       "       [ True,  True,  True, False,  True],\n",
       "       [ True,  True,  True,  True,  True],\n",
       "       [ True,  True,  True, False,  True],\n",
       "       [ True,  True,  True, False,  True],\n",
       "       [ True,  True,  True, False,  True],\n",
       "       [ True,  True,  True,  True,  True],\n",
       "       [ True,  True,  True, False,  True],\n",
       "       [ True,  True,  True, False,  True],\n",
       "       [ True,  True,  True, False,  True],\n",
       "       [ True,  True,  True,  True,  True],\n",
       "       [ True,  True,  True, False,  True],\n",
       "       [ True,  True,  True, False,  True],\n",
       "       [ True,  True,  True,  True,  True],\n",
       "       [ True,  True,  True,  True,  True],\n",
       "       [ True,  True,  True, False,  True],\n",
       "       [ True,  True,  True, False,  True],\n",
       "       [ True,  True,  True,  True,  True],\n",
       "       [ True,  True,  True,  True,  True],\n",
       "       [ True,  True,  True,  True,  True],\n",
       "       [ True,  True,  True, False,  True],\n",
       "       [ True,  True,  True,  True,  True],\n",
       "       [ True,  True,  True,  True,  True],\n",
       "       [ True,  True,  True,  True,  True],\n",
       "       [ True,  True,  True, False,  True],\n",
       "       [ True,  True,  True, False,  True],\n",
       "       [ True,  True,  True,  True,  True],\n",
       "       [ True,  True,  True, False,  True]])"
      ]
     },
     "execution_count": 36,
     "metadata": {},
     "output_type": "execute_result"
    }
   ],
   "source": [
    "iris>2"
   ]
  },
  {
   "cell_type": "code",
   "execution_count": 46,
   "id": "ef4f783b",
   "metadata": {},
   "outputs": [
    {
     "data": {
      "text/plain": [
       "array([[6.3, 3.3, 6. , 2.5, 3. ],\n",
       "       [5.8, 2.7, 5.1, 1.9, 3. ],\n",
       "       [7.1, 3. , 5.9, 2.1, 3. ],\n",
       "       [6.3, 2.9, 5.6, 1.8, 3. ],\n",
       "       [6.5, 3. , 5.8, 2.2, 3. ],\n",
       "       [7.6, 3. , 6.6, 2.1, 3. ],\n",
       "       [4.9, 2.5, 4.5, 1.7, 3. ],\n",
       "       [7.3, 2.9, 6.3, 1.8, 3. ],\n",
       "       [6.7, 2.5, 5.8, 1.8, 3. ],\n",
       "       [7.2, 3.6, 6.1, 2.5, 3. ],\n",
       "       [6.5, 3.2, 5.1, 2. , 3. ],\n",
       "       [6.4, 2.7, 5.3, 1.9, 3. ],\n",
       "       [6.8, 3. , 5.5, 2.1, 3. ],\n",
       "       [5.7, 2.5, 5. , 2. , 3. ],\n",
       "       [5.8, 2.8, 5.1, 2.4, 3. ],\n",
       "       [6.4, 3.2, 5.3, 2.3, 3. ],\n",
       "       [6.5, 3. , 5.5, 1.8, 3. ],\n",
       "       [7.7, 3.8, 6.7, 2.2, 3. ],\n",
       "       [7.7, 2.6, 6.9, 2.3, 3. ],\n",
       "       [6. , 2.2, 5. , 1.5, 3. ],\n",
       "       [6.9, 3.2, 5.7, 2.3, 3. ],\n",
       "       [5.6, 2.8, 4.9, 2. , 3. ],\n",
       "       [7.7, 2.8, 6.7, 2. , 3. ],\n",
       "       [6.3, 2.7, 4.9, 1.8, 3. ],\n",
       "       [6.7, 3.3, 5.7, 2.1, 3. ],\n",
       "       [7.2, 3.2, 6. , 1.8, 3. ],\n",
       "       [6.2, 2.8, 4.8, 1.8, 3. ],\n",
       "       [6.1, 3. , 4.9, 1.8, 3. ],\n",
       "       [6.4, 2.8, 5.6, 2.1, 3. ],\n",
       "       [7.2, 3. , 5.8, 1.6, 3. ],\n",
       "       [7.4, 2.8, 6.1, 1.9, 3. ],\n",
       "       [7.9, 3.8, 6.4, 2. , 3. ],\n",
       "       [6.4, 2.8, 5.6, 2.2, 3. ],\n",
       "       [6.3, 2.8, 5.1, 1.5, 3. ],\n",
       "       [6.1, 2.6, 5.6, 1.4, 3. ],\n",
       "       [7.7, 3. , 6.1, 2.3, 3. ],\n",
       "       [6.3, 3.4, 5.6, 2.4, 3. ],\n",
       "       [6.4, 3.1, 5.5, 1.8, 3. ],\n",
       "       [6. , 3. , 4.8, 1.8, 3. ],\n",
       "       [6.9, 3.1, 5.4, 2.1, 3. ],\n",
       "       [6.7, 3.1, 5.6, 2.4, 3. ],\n",
       "       [6.9, 3.1, 5.1, 2.3, 3. ],\n",
       "       [5.8, 2.7, 5.1, 1.9, 3. ],\n",
       "       [6.8, 3.2, 5.9, 2.3, 3. ],\n",
       "       [6.7, 3.3, 5.7, 2.5, 3. ],\n",
       "       [6.7, 3. , 5.2, 2.3, 3. ],\n",
       "       [6.3, 2.5, 5. , 1.9, 3. ],\n",
       "       [6.5, 3. , 5.2, 2. , 3. ],\n",
       "       [6.2, 3.4, 5.4, 2.3, 3. ],\n",
       "       [5.9, 3. , 5.1, 1.8, 3. ]])"
      ]
     },
     "execution_count": 46,
     "metadata": {},
     "output_type": "execute_result"
    }
   ],
   "source": [
    "#filtre des lignes dont la valeur du colonne 3 > 5\n",
    "iris_bis = iris[iris[:,4]==3]\n",
    "iris_bis"
   ]
  },
  {
   "cell_type": "code",
   "execution_count": 38,
   "id": "1de8a9ec",
   "metadata": {},
   "outputs": [
    {
     "data": {
      "text/plain": [
       "array([5.1, 4.9, 4.7, 4.6, 5. , 5.4, 4.6, 5. , 4.4, 4.9, 5.4, 4.8, 4.8,\n",
       "       4.3, 5.8, 5.7, 5.4, 5.1, 5.7, 5.1, 5.4, 5.1, 4.6, 5.1, 4.8, 5. ,\n",
       "       5. , 5.2, 5.2, 4.7, 4.8, 5.4, 5.2, 5.5, 4.9, 5. , 5.5, 4.9, 4.4,\n",
       "       5.1, 5. , 4.5, 4.4, 5. , 5.1, 4.8, 5.1, 4.6, 5.3, 5. , 7. , 6.4,\n",
       "       6.9, 5.5, 6.5, 5.7, 6.3, 4.9, 6.6, 5.2, 5. , 5.9, 6. , 6.1, 5.6,\n",
       "       6.7, 5.6, 5.8, 6.2, 5.6, 5.9, 6.1, 6.3, 6.1, 6.4, 6.6, 6.8, 6.7,\n",
       "       6. , 5.7, 5.5, 5.5, 5.8, 6. , 5.4, 6. , 6.7, 6.3, 5.6, 5.5, 5.5,\n",
       "       6.1, 5.8, 5. , 5.6, 5.7, 5.7, 6.2, 5.1, 5.7, 6.3, 5.8, 7.1, 6.3,\n",
       "       6.5, 7.6, 4.9, 7.3, 6.7, 7.2, 6.5, 6.4, 6.8, 5.7, 5.8, 6.4, 6.5,\n",
       "       7.7, 7.7, 6. , 6.9, 5.6, 7.7, 6.3, 6.7, 7.2, 6.2, 6.1, 6.4, 7.2,\n",
       "       7.4, 7.9, 6.4, 6.3, 6.1, 7.7, 6.3, 6.4, 6. , 6.9, 6.7, 6.9, 5.8,\n",
       "       6.8, 6.7, 6.7, 6.3, 6.5, 6.2, 5.9])"
      ]
     },
     "execution_count": 38,
     "metadata": {},
     "output_type": "execute_result"
    }
   ],
   "source": [
    "#select que colonne 0\n",
    "iris[:,0]    "
   ]
  },
  {
   "cell_type": "code",
   "execution_count": 47,
   "id": "d551ba4c",
   "metadata": {},
   "outputs": [
    {
     "data": {
      "text/plain": [
       "'/home/simplon'"
      ]
     },
     "execution_count": 47,
     "metadata": {},
     "output_type": "execute_result"
    }
   ],
   "source": [
    "%pwd\n"
   ]
  },
  {
   "cell_type": "code",
   "execution_count": 49,
   "id": "81a3d6d3",
   "metadata": {},
   "outputs": [
    {
     "data": {
      "text/plain": [
       "'/home/simplon'"
      ]
     },
     "execution_count": 49,
     "metadata": {},
     "output_type": "execute_result"
    }
   ],
   "source": [
    "%pwd"
   ]
  },
  {
   "cell_type": "code",
   "execution_count": 61,
   "id": "a18fe258",
   "metadata": {},
   "outputs": [
    {
     "name": "stdout",
     "output_type": "stream",
     "text": [
      "Mon tableau\n",
      "[ 1  2  3  4  5  6  7  8  9 10 11 12 13 14 15 16 17 18 19 20]\n",
      "apres fancy indexing\n",
      "[[ 5 11  6]\n",
      " [13  9 10]\n",
      " [ 7 15 16]]\n",
      "[ 1  2  3  4  5  6  7  8  9 10 11 12 13 14 15 16 17 18 19 20]\n"
     ]
    }
   ],
   "source": [
    "#fancy indexing\n",
    "notre_tableau=np.array([i for i in range(1,21)])\n",
    "print(\"Mon tableau\")\n",
    "print(notre_tableau)\n",
    "print(\"apres fancy indexing\")\n",
    "indices=np.array([[4,10,5],[12,8,9], [6,14,15]])\n",
    "print(notre_tableau[indices])\n",
    "print(notre_tableau)"
   ]
  },
  {
   "cell_type": "code",
   "execution_count": 63,
   "id": "c99ada02",
   "metadata": {},
   "outputs": [
    {
     "name": "stdout",
     "output_type": "stream",
     "text": [
      "6\n",
      "16\n"
     ]
    }
   ],
   "source": [
    "#BUT: donner un tableau d'index\n",
    "A = notre_tableau[indices]\n",
    "print(A[0,2])\n",
    "print(A[2,2])"
   ]
  },
  {
   "cell_type": "code",
   "execution_count": 65,
   "id": "3c914a0b",
   "metadata": {},
   "outputs": [
    {
     "data": {
      "text/plain": [
       "array([1, 2, 3])"
      ]
     },
     "execution_count": 65,
     "metadata": {},
     "output_type": "execute_result"
    }
   ],
   "source": [
    "#3 premier element \n",
    "notre_tableau[:3]"
   ]
  },
  {
   "cell_type": "code",
   "execution_count": 66,
   "id": "dec9b9af",
   "metadata": {},
   "outputs": [
    {
     "data": {
      "text/plain": [
       "array([11, 12, 13, 14, 15, 16, 17, 18, 19, 20])"
      ]
     },
     "execution_count": 66,
     "metadata": {},
     "output_type": "execute_result"
    }
   ],
   "source": [
    "#10 dernier éléments à partir de l'index 10\n",
    "notre_tableau[10:]"
   ]
  },
  {
   "cell_type": "code",
   "execution_count": 67,
   "id": "72c4f579",
   "metadata": {},
   "outputs": [
    {
     "data": {
      "text/plain": [
       "array([4, 5, 6, 7])"
      ]
     },
     "execution_count": 67,
     "metadata": {},
     "output_type": "execute_result"
    }
   ],
   "source": [
    "notre_tableau[3:7]"
   ]
  },
  {
   "cell_type": "code",
   "execution_count": 69,
   "id": "b7f49e51",
   "metadata": {},
   "outputs": [
    {
     "data": {
      "text/plain": [
       "array([ 1,  3,  5,  7,  9, 11, 13, 15, 17, 19])"
      ]
     },
     "execution_count": 69,
     "metadata": {},
     "output_type": "execute_result"
    }
   ],
   "source": [
    "#tous les éléments avec un pas de deux, entre 3:8\n",
    "notre_tableau[3:8:2]\n",
    "notre_tableau[::2]"
   ]
  },
  {
   "cell_type": "code",
   "execution_count": 70,
   "id": "c2b43cf0",
   "metadata": {},
   "outputs": [
    {
     "data": {
      "text/plain": [
       "array([[5.1, 3.5, 1.4, 0.2],\n",
       "       [4.9, 3. , 1.4, 0.2]])"
      ]
     },
     "execution_count": 70,
     "metadata": {},
     "output_type": "execute_result"
    }
   ],
   "source": [
    "#selectionne les 2 première lignes des 4 colonne\n",
    "iris[:2, :4]"
   ]
  },
  {
   "cell_type": "code",
   "execution_count": 72,
   "id": "913c4105",
   "metadata": {},
   "outputs": [
    {
     "data": {
      "text/plain": [
       "array([[5.2, 2.3, 3. ],\n",
       "       [5. , 1.9, 3. ],\n",
       "       [5.2, 2. , 3. ],\n",
       "       [5.4, 2.3, 3. ],\n",
       "       [5.1, 1.8, 3. ]])"
      ]
     },
     "execution_count": 72,
     "metadata": {},
     "output_type": "execute_result"
    }
   ],
   "source": [
    "iris[145:, 2:]"
   ]
  },
  {
   "cell_type": "code",
   "execution_count": 73,
   "id": "ea83d857",
   "metadata": {},
   "outputs": [
    {
     "data": {
      "text/plain": [
       "array([5.1, 3.5, 1.4, 0.2, 1. ])"
      ]
     },
     "execution_count": 73,
     "metadata": {},
     "output_type": "execute_result"
    }
   ],
   "source": [
    "#première ligne et tous les colonnes\n",
    "iris[0,:]"
   ]
  },
  {
   "cell_type": "code",
   "execution_count": 75,
   "id": "1db53138",
   "metadata": {},
   "outputs": [
    {
     "data": {
      "text/plain": [
       "array([5.1, 4.9, 4.7, 4.6, 5. , 5.4, 4.6, 5. , 4.4, 4.9, 5.4, 4.8, 4.8,\n",
       "       4.3, 5.8, 5.7, 5.4, 5.1, 5.7, 5.1, 5.4, 5.1, 4.6, 5.1, 4.8, 5. ,\n",
       "       5. , 5.2, 5.2, 4.7, 4.8, 5.4, 5.2, 5.5, 4.9, 5. , 5.5, 4.9, 4.4,\n",
       "       5.1, 5. , 4.5, 4.4, 5. , 5.1, 4.8, 5.1, 4.6, 5.3, 5. , 7. , 6.4,\n",
       "       6.9, 5.5, 6.5, 5.7, 6.3, 4.9, 6.6, 5.2, 5. , 5.9, 6. , 6.1, 5.6,\n",
       "       6.7, 5.6, 5.8, 6.2, 5.6, 5.9, 6.1, 6.3, 6.1, 6.4, 6.6, 6.8, 6.7,\n",
       "       6. , 5.7, 5.5, 5.5, 5.8, 6. , 5.4, 6. , 6.7, 6.3, 5.6, 5.5, 5.5,\n",
       "       6.1, 5.8, 5. , 5.6, 5.7, 5.7, 6.2, 5.1, 5.7, 6.3, 5.8, 7.1, 6.3,\n",
       "       6.5, 7.6, 4.9, 7.3, 6.7, 7.2, 6.5, 6.4, 6.8, 5.7, 5.8, 6.4, 6.5,\n",
       "       7.7, 7.7, 6. , 6.9, 5.6, 7.7, 6.3, 6.7, 7.2, 6.2, 6.1, 6.4, 7.2,\n",
       "       7.4, 7.9, 6.4, 6.3, 6.1, 7.7, 6.3, 6.4, 6. , 6.9, 6.7, 6.9, 5.8,\n",
       "       6.8, 6.7, 6.7, 6.3, 6.5, 6.2, 5.9])"
      ]
     },
     "execution_count": 75,
     "metadata": {},
     "output_type": "execute_result"
    }
   ],
   "source": [
    "#premier colonne s/tous les lignes\n",
    "iris[:,0]"
   ]
  },
  {
   "cell_type": "code",
   "execution_count": 76,
   "id": "7ae1d617",
   "metadata": {},
   "outputs": [
    {
     "data": {
      "text/plain": [
       "array([5.9, 3. , 5.1, 1.8, 3. ])"
      ]
     },
     "execution_count": 76,
     "metadata": {},
     "output_type": "execute_result"
    }
   ],
   "source": [
    "#derniere ligne\n",
    "iris[-1, :]"
   ]
  },
  {
   "cell_type": "code",
   "execution_count": 77,
   "id": "d5651594",
   "metadata": {},
   "outputs": [
    {
     "data": {
      "text/plain": [
       "array([1, 2, 3, 4, 5])"
      ]
     },
     "execution_count": 77,
     "metadata": {},
     "output_type": "execute_result"
    }
   ],
   "source": [
    "#creer sous_tableau de 5 premier ele de notre_tableau\n",
    "#creer une vue s/notre_tableau\n",
    "sous_tableau=notre_tableau[:5]\n",
    "sous_tableau"
   ]
  },
  {
   "cell_type": "code",
   "execution_count": 78,
   "id": "7885bfd1",
   "metadata": {},
   "outputs": [
    {
     "data": {
      "text/plain": [
       "array([10,  2,  3,  4,  5,  6,  7,  8,  9, 10, 11, 12, 13, 14, 15, 16, 17,\n",
       "       18, 19, 20])"
      ]
     },
     "execution_count": 78,
     "metadata": {},
     "output_type": "execute_result"
    }
   ],
   "source": [
    "sous_tableau[0] = 10\n",
    "notre_tableau"
   ]
  },
  {
   "cell_type": "code",
   "execution_count": 88,
   "id": "194ed39f",
   "metadata": {},
   "outputs": [
    {
     "name": "stdout",
     "output_type": "stream",
     "text": [
      "notre_tableau =  [ 1  2  3  4  5  6  7  8  9 10 11 12 13 14 15 16 17 18 19 20]\n",
      "sous_tableau =  [1 2 3 4 5]\n",
      "sous_tableau2 =  [100   2   3   4   5]\n"
     ]
    }
   ],
   "source": [
    "sous_tableau2=notre_tableau[:5].copy()\n",
    "sous_tableau[0]=1\n",
    "print(\"notre_tableau = \",notre_tableau)\n",
    "print(\"sous_tableau = \",sous_tableau)\n",
    "print(\"sous_tableau2 = \",sous_tableau2)"
   ]
  },
  {
   "cell_type": "code",
   "execution_count": 89,
   "id": "c94eb814",
   "metadata": {},
   "outputs": [
    {
     "data": {
      "text/plain": [
       "array([ 1,  2,  3,  4,  5,  6,  7,  8,  9, 10, 11, 12, 13, 14, 15, 16, 17,\n",
       "       18, 19, 20])"
      ]
     },
     "execution_count": 89,
     "metadata": {},
     "output_type": "execute_result"
    }
   ],
   "source": [
    "np.add(notre_tableau,10)\n",
    "notre_tableau"
   ]
  },
  {
   "cell_type": "code",
   "execution_count": 91,
   "id": "3f73cb3e",
   "metadata": {},
   "outputs": [
    {
     "data": {
      "text/plain": [
       "array([[10, 11, 12],\n",
       "       [13, 14, 15],\n",
       "       [16, 17, 18]])"
      ]
     },
     "execution_count": 91,
     "metadata": {},
     "output_type": "execute_result"
    }
   ],
   "source": [
    "import numpy as np\n",
    "m_t=np.array([[10,11,12],[13,14,15],[16,17,18]])\n",
    "m_t\n"
   ]
  },
  {
   "cell_type": "code",
   "execution_count": 93,
   "id": "621c33f4",
   "metadata": {},
   "outputs": [
    {
     "data": {
      "text/plain": [
       "array([[20, 21, 22],\n",
       "       [23, 24, 25],\n",
       "       [26, 27, 28]])"
      ]
     },
     "execution_count": 93,
     "metadata": {},
     "output_type": "execute_result"
    }
   ],
   "source": [
    "a=np.add(m_t,10)\n",
    "a\n",
    "m_t"
   ]
  },
  {
   "cell_type": "code",
   "execution_count": 95,
   "id": "1288f6af",
   "metadata": {},
   "outputs": [
    {
     "data": {
      "text/plain": [
       "array([[10, 11, 12],\n",
       "       [13, 14, 15],\n",
       "       [16, 17, 18]])"
      ]
     },
     "execution_count": 95,
     "metadata": {},
     "output_type": "execute_result"
    }
   ],
   "source": [
    "m=np.multiply(m_t, 20)\n",
    "m\n",
    "m_t"
   ]
  },
  {
   "cell_type": "code",
   "execution_count": 96,
   "id": "4facf579",
   "metadata": {},
   "outputs": [
    {
     "data": {
      "text/plain": [
       "array([10, 20, 30])"
      ]
     },
     "execution_count": 96,
     "metadata": {},
     "output_type": "execute_result"
    }
   ],
   "source": [
    "m_t2=np.array([10,20,30])\n",
    "m_t2"
   ]
  },
  {
   "cell_type": "code",
   "execution_count": 98,
   "id": "2afbc57e",
   "metadata": {},
   "outputs": [
    {
     "data": {
      "text/plain": [
       "array([[  0,  -9, -18],\n",
       "       [  3,  -6, -15],\n",
       "       [  6,  -3, -12]])"
      ]
     },
     "execution_count": 98,
     "metadata": {},
     "output_type": "execute_result"
    }
   ],
   "source": [
    "s=np.subtract(m_t, m_t2)\n",
    "s"
   ]
  },
  {
   "cell_type": "code",
   "execution_count": 100,
   "id": "af73bc1d",
   "metadata": {},
   "outputs": [
    {
     "data": {
      "text/plain": [
       "array([[1, 2, 3],\n",
       "       [4, 5, 6],\n",
       "       [7, 8, 9]])"
      ]
     },
     "execution_count": 100,
     "metadata": {},
     "output_type": "execute_result"
    }
   ],
   "source": [
    "tableau3=np.array([[1,2,3],[4,5,6], [7,8,9]])\n",
    "tableau3"
   ]
  },
  {
   "cell_type": "code",
   "execution_count": 105,
   "id": "e5c6121d",
   "metadata": {},
   "outputs": [
    {
     "name": "stdout",
     "output_type": "stream",
     "text": [
      "Somme /l'ensemble des ele: \n",
      "2378.7\n",
      "Somme s/colonne\n",
      "[876.5 458.6 563.7 179.9 300. ]\n",
      "Somme s/ligne\n",
      "[11.2 10.5 10.4 10.4 11.2 12.4 10.7 11.1  9.9 10.6 11.8 11.  10.3  9.5\n",
      " 12.2 13.  12.  11.3 12.5 11.7 11.7 11.7 10.4 11.6 11.3 10.8 11.4 11.4\n",
      " 11.2 10.7 10.7 11.7 11.9 12.3 10.7 10.6 11.5 11.   9.9 11.2 11.1  9.4\n",
      " 10.1 11.7 12.2 10.5 11.7 10.4 11.7 10.9 18.3 17.6 18.4 15.1 17.4 16.3\n",
      " 17.9 13.6 17.4 15.2 13.5 16.6 15.2 17.1 15.4 17.6 16.6 15.6 16.4 15.1\n",
      " 17.7 16.2 17.2 16.8 16.9 17.4 17.8 18.4 16.9 14.8 14.8 14.6 15.6 17.4\n",
      " 16.4 17.5 18.  16.3 16.  15.3 15.7 17.1 15.6 13.6 15.8 16.1 16.1 16.7\n",
      " 13.7 15.9 21.1 18.5 21.1 19.6 20.5 22.3 16.6 21.3 19.8 22.4 19.8 19.3\n",
      " 20.4 18.2 19.1 20.2 19.8 23.4 22.5 17.7 21.1 18.3 22.2 18.7 20.8 21.2\n",
      " 18.6 18.8 19.9 20.6 21.2 23.1 20.  18.7 18.7 22.1 20.7 19.8 18.6 20.5\n",
      " 20.8 20.4 18.5 21.2 21.2 20.2 18.7 19.7 20.3 18.8]\n"
     ]
    }
   ],
   "source": [
    "#aggréation == GROUPBY\n",
    "print(\"Somme /l'ensemble des ele: \")\n",
    "print(np.sum(iris))\n",
    "\n",
    "#axis = 0 : effectue le calcul p/colonne\n",
    "print(\"Somme s/colonne\")\n",
    "print(np.sum(iris, axis=0))\n",
    "print(\"Somme s/ligne\")\n",
    "print(np.sum(iris, axis=1)) #s/ligne"
   ]
  },
  {
   "cell_type": "code",
   "execution_count": 108,
   "id": "42d6cc17",
   "metadata": {},
   "outputs": [
    {
     "name": "stdout",
     "output_type": "stream",
     "text": [
      "Moyenne :\n",
      " [5.84333333 3.05733333 3.758      1.19933333 2.        ]\n",
      "Variant avec moyenne :\n",
      " [0.82530129 0.43441097 1.75940407 0.75969263 0.81649658]\n"
     ]
    }
   ],
   "source": [
    "print(\"Moyenne :\\n\", np.mean(iris, axis=0))\n",
    "print(\"Variant avec moyenne :\\n\", np.std(iris, axis=0))"
   ]
  },
  {
   "cell_type": "code",
   "execution_count": 111,
   "id": "60b892e9",
   "metadata": {},
   "outputs": [
    {
     "name": "stdout",
     "output_type": "stream",
     "text": [
      "Max par colonne:\n",
      " [7.9 4.4 6.9 2.5 3. ]\n"
     ]
    }
   ],
   "source": [
    "print(\"Max par colonne:\\n\", np.max(iris, axis=0))\n"
   ]
  },
  {
   "cell_type": "code",
   "execution_count": 125,
   "id": "872925a9",
   "metadata": {},
   "outputs": [
    {
     "data": {
      "text/plain": [
       "array([1., 1., 1., 1., 1., 1., 1., 1., 1., 1., 1., 1., 1., 1., 1., 1., 1.,\n",
       "       1., 1., 1., 1., 1., 1., 1., 1., 1., 1., 1., 1., 1., 1., 1., 1., 1.,\n",
       "       1., 1., 1., 1., 1., 1., 1., 1., 1., 1., 1., 1., 1., 1., 1., 1., 2.,\n",
       "       2., 2., 2., 2., 2., 2., 2., 2., 2., 2., 2., 2., 2., 2., 2., 2., 2.,\n",
       "       2., 2., 2., 2., 2., 2., 2., 2., 2., 2., 2., 2., 2., 2., 2., 2., 2.,\n",
       "       2., 2., 2., 2., 2., 2., 2., 2., 2., 2., 2., 2., 2., 2., 2., 3., 3.,\n",
       "       3., 3., 3., 3., 3., 3., 3., 3., 3., 3., 3., 3., 3., 3., 3., 3., 3.,\n",
       "       3., 3., 3., 3., 3., 3., 3., 3., 3., 3., 3., 3., 3., 3., 3., 3., 3.,\n",
       "       3., 3., 3., 3., 3., 3., 3., 3., 3., 3., 3., 3., 3., 3.])"
      ]
     },
     "execution_count": 125,
     "metadata": {},
     "output_type": "execute_result"
    }
   ],
   "source": [
    "#select tous les lignes, que le colonne 5 (dernier colonne)\n",
    "iris[:,4]"
   ]
  },
  {
   "cell_type": "code",
   "execution_count": 122,
   "id": "71fa3977",
   "metadata": {},
   "outputs": [
    {
     "name": "stdout",
     "output_type": "stream",
     "text": [
      "Moyenne par colonnes \n",
      " Type 3 =  [6.588 2.974 5.552 2.026 3.   ]\n",
      " Type 2 =  [5.936 2.77  4.26  1.326 2.   ]\n",
      " Type 1 =  [5.006 3.428 1.462 0.246 1.   ]\n"
     ]
    }
   ],
   "source": [
    "#vue qui contienne tous les lignes dont la valeur en 5e colonne = 3\n",
    "#creer une vue des lignes dont le type (colonne 5) = 1 ou 2 ou 3\n",
    "#faire un masque par un teste iris[:,4]==?\n",
    "iris3 = iris[iris[:,4]==3] \n",
    "iris2 = iris[iris[:,4]==2]\n",
    "iris1 = iris[iris[:,4]==1]\n",
    "#print(iris3)\n",
    "print(\"Moyenne par colonnes \\n Type 3 = \",np.mean(iris3, axis=0))\n",
    "print(\" Type 2 = \",np.mean(iris2, axis=0))\n",
    "print(\" Type 1 = \",np.mean(iris1, axis=0))"
   ]
  },
  {
   "cell_type": "code",
   "execution_count": 132,
   "id": "4b4d41c2",
   "metadata": {},
   "outputs": [
    {
     "name": "stdout",
     "output_type": "stream",
     "text": [
      "Size de table :  750\n",
      "Size de table :  (150, 5)\n"
     ]
    }
   ],
   "source": [
    "print(\"Size de table : \", np.size(iris))\n",
    "print(\"Shape de table : \", np.shape(iris))"
   ]
  },
  {
   "cell_type": "code",
   "execution_count": 133,
   "id": "9974eb2c",
   "metadata": {},
   "outputs": [
    {
     "data": {
      "text/plain": [
       "array([ 1,  2,  3,  4,  5,  6,  7,  8,  9, 10, 11, 12, 13, 14, 15, 16, 17,\n",
       "       18, 19, 20, 21, 22, 23, 24, 25])"
      ]
     },
     "execution_count": 133,
     "metadata": {},
     "output_type": "execute_result"
    }
   ],
   "source": [
    "np.append(notre_tableau,[21,22,23,24,25])"
   ]
  },
  {
   "cell_type": "code",
   "execution_count": 134,
   "id": "a2d5228c",
   "metadata": {},
   "outputs": [
    {
     "data": {
      "text/plain": [
       "array([[ 5.1,  3.5,  1.4,  0.2,  1. ],\n",
       "       [ 4.9,  3. ,  1.4,  0.2,  1. ],\n",
       "       [ 4.7,  3.2,  1.3,  0.2,  1. ],\n",
       "       [ 4.6,  3.1,  1.5,  0.2,  1. ],\n",
       "       [ 5. ,  3.6,  1.4,  0.2,  1. ],\n",
       "       [ 5.4,  3.9,  1.7,  0.4,  1. ],\n",
       "       [ 4.6,  3.4,  1.4,  0.3,  1. ],\n",
       "       [ 5. ,  3.4,  1.5,  0.2,  1. ],\n",
       "       [ 4.4,  2.9,  1.4,  0.2,  1. ],\n",
       "       [ 4.9,  3.1,  1.5,  0.1,  1. ],\n",
       "       [ 5.4,  3.7,  1.5,  0.2,  1. ],\n",
       "       [ 4.8,  3.4,  1.6,  0.2,  1. ],\n",
       "       [ 4.8,  3. ,  1.4,  0.1,  1. ],\n",
       "       [ 4.3,  3. ,  1.1,  0.1,  1. ],\n",
       "       [ 5.8,  4. ,  1.2,  0.2,  1. ],\n",
       "       [ 5.7,  4.4,  1.5,  0.4,  1. ],\n",
       "       [ 5.4,  3.9,  1.3,  0.4,  1. ],\n",
       "       [ 5.1,  3.5,  1.4,  0.3,  1. ],\n",
       "       [ 5.7,  3.8,  1.7,  0.3,  1. ],\n",
       "       [ 5.1,  3.8,  1.5,  0.3,  1. ],\n",
       "       [ 5.4,  3.4,  1.7,  0.2,  1. ],\n",
       "       [ 5.1,  3.7,  1.5,  0.4,  1. ],\n",
       "       [ 4.6,  3.6,  1. ,  0.2,  1. ],\n",
       "       [ 5.1,  3.3,  1.7,  0.5,  1. ],\n",
       "       [ 4.8,  3.4,  1.9,  0.2,  1. ],\n",
       "       [ 5. ,  3. ,  1.6,  0.2,  1. ],\n",
       "       [ 5. ,  3.4,  1.6,  0.4,  1. ],\n",
       "       [ 5.2,  3.5,  1.5,  0.2,  1. ],\n",
       "       [ 5.2,  3.4,  1.4,  0.2,  1. ],\n",
       "       [ 4.7,  3.2,  1.6,  0.2,  1. ],\n",
       "       [ 4.8,  3.1,  1.6,  0.2,  1. ],\n",
       "       [ 5.4,  3.4,  1.5,  0.4,  1. ],\n",
       "       [ 5.2,  4.1,  1.5,  0.1,  1. ],\n",
       "       [ 5.5,  4.2,  1.4,  0.2,  1. ],\n",
       "       [ 4.9,  3.1,  1.5,  0.2,  1. ],\n",
       "       [ 5. ,  3.2,  1.2,  0.2,  1. ],\n",
       "       [ 5.5,  3.5,  1.3,  0.2,  1. ],\n",
       "       [ 4.9,  3.6,  1.4,  0.1,  1. ],\n",
       "       [ 4.4,  3. ,  1.3,  0.2,  1. ],\n",
       "       [ 5.1,  3.4,  1.5,  0.2,  1. ],\n",
       "       [ 5. ,  3.5,  1.3,  0.3,  1. ],\n",
       "       [ 4.5,  2.3,  1.3,  0.3,  1. ],\n",
       "       [ 4.4,  3.2,  1.3,  0.2,  1. ],\n",
       "       [ 5. ,  3.5,  1.6,  0.6,  1. ],\n",
       "       [ 5.1,  3.8,  1.9,  0.4,  1. ],\n",
       "       [ 4.8,  3. ,  1.4,  0.3,  1. ],\n",
       "       [ 5.1,  3.8,  1.6,  0.2,  1. ],\n",
       "       [ 4.6,  3.2,  1.4,  0.2,  1. ],\n",
       "       [ 5.3,  3.7,  1.5,  0.2,  1. ],\n",
       "       [ 5. ,  3.3,  1.4,  0.2,  1. ],\n",
       "       [ 7. ,  3.2,  4.7,  1.4,  2. ],\n",
       "       [ 6.4,  3.2,  4.5,  1.5,  2. ],\n",
       "       [ 6.9,  3.1,  4.9,  1.5,  2. ],\n",
       "       [ 5.5,  2.3,  4. ,  1.3,  2. ],\n",
       "       [ 6.5,  2.8,  4.6,  1.5,  2. ],\n",
       "       [ 5.7,  2.8,  4.5,  1.3,  2. ],\n",
       "       [ 6.3,  3.3,  4.7,  1.6,  2. ],\n",
       "       [ 4.9,  2.4,  3.3,  1. ,  2. ],\n",
       "       [ 6.6,  2.9,  4.6,  1.3,  2. ],\n",
       "       [ 5.2,  2.7,  3.9,  1.4,  2. ],\n",
       "       [ 5. ,  2. ,  3.5,  1. ,  2. ],\n",
       "       [ 5.9,  3. ,  4.2,  1.5,  2. ],\n",
       "       [ 6. ,  2.2,  4. ,  1. ,  2. ],\n",
       "       [ 6.1,  2.9,  4.7,  1.4,  2. ],\n",
       "       [ 5.6,  2.9,  3.6,  1.3,  2. ],\n",
       "       [ 6.7,  3.1,  4.4,  1.4,  2. ],\n",
       "       [ 5.6,  3. ,  4.5,  1.5,  2. ],\n",
       "       [ 5.8,  2.7,  4.1,  1. ,  2. ],\n",
       "       [ 6.2,  2.2,  4.5,  1.5,  2. ],\n",
       "       [ 5.6,  2.5,  3.9,  1.1,  2. ],\n",
       "       [ 5.9,  3.2,  4.8,  1.8,  2. ],\n",
       "       [ 6.1,  2.8,  4. ,  1.3,  2. ],\n",
       "       [ 6.3,  2.5,  4.9,  1.5,  2. ],\n",
       "       [ 6.1,  2.8,  4.7,  1.2,  2. ],\n",
       "       [ 6.4,  2.9,  4.3,  1.3,  2. ],\n",
       "       [ 6.6,  3. ,  4.4,  1.4,  2. ],\n",
       "       [ 6.8,  2.8,  4.8,  1.4,  2. ],\n",
       "       [ 6.7,  3. ,  5. ,  1.7,  2. ],\n",
       "       [ 6. ,  2.9,  4.5,  1.5,  2. ],\n",
       "       [ 5.7,  2.6,  3.5,  1. ,  2. ],\n",
       "       [ 5.5,  2.4,  3.8,  1.1,  2. ],\n",
       "       [ 5.5,  2.4,  3.7,  1. ,  2. ],\n",
       "       [ 5.8,  2.7,  3.9,  1.2,  2. ],\n",
       "       [ 6. ,  2.7,  5.1,  1.6,  2. ],\n",
       "       [ 5.4,  3. ,  4.5,  1.5,  2. ],\n",
       "       [ 6. ,  3.4,  4.5,  1.6,  2. ],\n",
       "       [ 6.7,  3.1,  4.7,  1.5,  2. ],\n",
       "       [ 6.3,  2.3,  4.4,  1.3,  2. ],\n",
       "       [ 5.6,  3. ,  4.1,  1.3,  2. ],\n",
       "       [ 5.5,  2.5,  4. ,  1.3,  2. ],\n",
       "       [ 5.5,  2.6,  4.4,  1.2,  2. ],\n",
       "       [ 6.1,  3. ,  4.6,  1.4,  2. ],\n",
       "       [ 5.8,  2.6,  4. ,  1.2,  2. ],\n",
       "       [ 5. ,  2.3,  3.3,  1. ,  2. ],\n",
       "       [ 5.6,  2.7,  4.2,  1.3,  2. ],\n",
       "       [ 5.7,  3. ,  4.2,  1.2,  2. ],\n",
       "       [ 5.7,  2.9,  4.2,  1.3,  2. ],\n",
       "       [ 6.2,  2.9,  4.3,  1.3,  2. ],\n",
       "       [ 5.1,  2.5,  3. ,  1.1,  2. ],\n",
       "       [ 5.7,  2.8,  4.1,  1.3,  2. ],\n",
       "       [ 6.3,  3.3,  6. ,  2.5,  3. ],\n",
       "       [ 5.8,  2.7,  5.1,  1.9,  3. ],\n",
       "       [ 7.1,  3. ,  5.9,  2.1,  3. ],\n",
       "       [ 6.3,  2.9,  5.6,  1.8,  3. ],\n",
       "       [ 6.5,  3. ,  5.8,  2.2,  3. ],\n",
       "       [ 7.6,  3. ,  6.6,  2.1,  3. ],\n",
       "       [ 4.9,  2.5,  4.5,  1.7,  3. ],\n",
       "       [ 7.3,  2.9,  6.3,  1.8,  3. ],\n",
       "       [ 6.7,  2.5,  5.8,  1.8,  3. ],\n",
       "       [ 7.2,  3.6,  6.1,  2.5,  3. ],\n",
       "       [ 6.5,  3.2,  5.1,  2. ,  3. ],\n",
       "       [ 6.4,  2.7,  5.3,  1.9,  3. ],\n",
       "       [ 6.8,  3. ,  5.5,  2.1,  3. ],\n",
       "       [ 5.7,  2.5,  5. ,  2. ,  3. ],\n",
       "       [ 5.8,  2.8,  5.1,  2.4,  3. ],\n",
       "       [ 6.4,  3.2,  5.3,  2.3,  3. ],\n",
       "       [ 6.5,  3. ,  5.5,  1.8,  3. ],\n",
       "       [ 7.7,  3.8,  6.7,  2.2,  3. ],\n",
       "       [ 7.7,  2.6,  6.9,  2.3,  3. ],\n",
       "       [ 6. ,  2.2,  5. ,  1.5,  3. ],\n",
       "       [ 6.9,  3.2,  5.7,  2.3,  3. ],\n",
       "       [ 5.6,  2.8,  4.9,  2. ,  3. ],\n",
       "       [ 7.7,  2.8,  6.7,  2. ,  3. ],\n",
       "       [ 6.3,  2.7,  4.9,  1.8,  3. ],\n",
       "       [ 6.7,  3.3,  5.7,  2.1,  3. ],\n",
       "       [ 7.2,  3.2,  6. ,  1.8,  3. ],\n",
       "       [ 6.2,  2.8,  4.8,  1.8,  3. ],\n",
       "       [ 6.1,  3. ,  4.9,  1.8,  3. ],\n",
       "       [ 6.4,  2.8,  5.6,  2.1,  3. ],\n",
       "       [ 7.2,  3. ,  5.8,  1.6,  3. ],\n",
       "       [ 7.4,  2.8,  6.1,  1.9,  3. ],\n",
       "       [ 7.9,  3.8,  6.4,  2. ,  3. ],\n",
       "       [ 6.4,  2.8,  5.6,  2.2,  3. ],\n",
       "       [ 6.3,  2.8,  5.1,  1.5,  3. ],\n",
       "       [ 6.1,  2.6,  5.6,  1.4,  3. ],\n",
       "       [ 7.7,  3. ,  6.1,  2.3,  3. ],\n",
       "       [ 6.3,  3.4,  5.6,  2.4,  3. ],\n",
       "       [ 6.4,  3.1,  5.5,  1.8,  3. ],\n",
       "       [ 6. ,  3. ,  4.8,  1.8,  3. ],\n",
       "       [ 6.9,  3.1,  5.4,  2.1,  3. ],\n",
       "       [ 6.7,  3.1,  5.6,  2.4,  3. ],\n",
       "       [ 6.9,  3.1,  5.1,  2.3,  3. ],\n",
       "       [ 5.8,  2.7,  5.1,  1.9,  3. ],\n",
       "       [ 6.8,  3.2,  5.9,  2.3,  3. ],\n",
       "       [ 6.7,  3.3,  5.7,  2.5,  3. ],\n",
       "       [ 6.7,  3. ,  5.2,  2.3,  3. ],\n",
       "       [ 6.3,  2.5,  5. ,  1.9,  3. ],\n",
       "       [ 6.5,  3. ,  5.2,  2. ,  3. ],\n",
       "       [ 6.2,  3.4,  5.4,  2.3,  3. ],\n",
       "       [ 5.9,  3. ,  5.1,  1.8,  3. ],\n",
       "       [10. , 10. , 10. , 10. , 10. ]])"
      ]
     },
     "execution_count": 134,
     "metadata": {},
     "output_type": "execute_result"
    }
   ],
   "source": [
    "np.append(iris,[[10,10,10,10,10]], axis = 0)"
   ]
  },
  {
   "cell_type": "code",
   "execution_count": 135,
   "id": "5c09c5d4",
   "metadata": {},
   "outputs": [
    {
     "data": {
      "text/plain": [
       "array([ 1, 42,  2,  3,  4,  5,  6,  7,  8,  9, 10, 11, 12, 13, 14, 15, 16,\n",
       "       17, 18, 19, 20])"
      ]
     },
     "execution_count": 135,
     "metadata": {},
     "output_type": "execute_result"
    }
   ],
   "source": [
    "np.insert(notre_tableau,1,42)"
   ]
  },
  {
   "cell_type": "code",
   "execution_count": 136,
   "id": "15f18a3a",
   "metadata": {},
   "outputs": [
    {
     "data": {
      "text/plain": [
       "array([ 1, 42, 43, 44, 45, 46,  2,  3,  4,  5,  6,  7,  8,  9, 10, 11, 12,\n",
       "       13, 14, 15, 16, 17, 18, 19, 20])"
      ]
     },
     "execution_count": 136,
     "metadata": {},
     "output_type": "execute_result"
    }
   ],
   "source": [
    "np.insert(notre_tableau,1,[42,43,44,45,46])"
   ]
  },
  {
   "cell_type": "code",
   "execution_count": 137,
   "id": "6829050e",
   "metadata": {},
   "outputs": [
    {
     "data": {
      "text/plain": [
       "array([[ 5.1,  3.5,  1.4,  0.2,  1. ],\n",
       "       [10. , 10. , 10. , 10. ,  3. ],\n",
       "       [ 4.9,  3. ,  1.4,  0.2,  1. ],\n",
       "       [ 4.7,  3.2,  1.3,  0.2,  1. ],\n",
       "       [ 4.6,  3.1,  1.5,  0.2,  1. ],\n",
       "       [ 5. ,  3.6,  1.4,  0.2,  1. ],\n",
       "       [ 5.4,  3.9,  1.7,  0.4,  1. ],\n",
       "       [ 4.6,  3.4,  1.4,  0.3,  1. ],\n",
       "       [ 5. ,  3.4,  1.5,  0.2,  1. ],\n",
       "       [ 4.4,  2.9,  1.4,  0.2,  1. ],\n",
       "       [ 4.9,  3.1,  1.5,  0.1,  1. ],\n",
       "       [ 5.4,  3.7,  1.5,  0.2,  1. ],\n",
       "       [ 4.8,  3.4,  1.6,  0.2,  1. ],\n",
       "       [ 4.8,  3. ,  1.4,  0.1,  1. ],\n",
       "       [ 4.3,  3. ,  1.1,  0.1,  1. ],\n",
       "       [ 5.8,  4. ,  1.2,  0.2,  1. ],\n",
       "       [ 5.7,  4.4,  1.5,  0.4,  1. ],\n",
       "       [ 5.4,  3.9,  1.3,  0.4,  1. ],\n",
       "       [ 5.1,  3.5,  1.4,  0.3,  1. ],\n",
       "       [ 5.7,  3.8,  1.7,  0.3,  1. ],\n",
       "       [ 5.1,  3.8,  1.5,  0.3,  1. ],\n",
       "       [ 5.4,  3.4,  1.7,  0.2,  1. ],\n",
       "       [ 5.1,  3.7,  1.5,  0.4,  1. ],\n",
       "       [ 4.6,  3.6,  1. ,  0.2,  1. ],\n",
       "       [ 5.1,  3.3,  1.7,  0.5,  1. ],\n",
       "       [ 4.8,  3.4,  1.9,  0.2,  1. ],\n",
       "       [ 5. ,  3. ,  1.6,  0.2,  1. ],\n",
       "       [ 5. ,  3.4,  1.6,  0.4,  1. ],\n",
       "       [ 5.2,  3.5,  1.5,  0.2,  1. ],\n",
       "       [ 5.2,  3.4,  1.4,  0.2,  1. ],\n",
       "       [ 4.7,  3.2,  1.6,  0.2,  1. ],\n",
       "       [ 4.8,  3.1,  1.6,  0.2,  1. ],\n",
       "       [ 5.4,  3.4,  1.5,  0.4,  1. ],\n",
       "       [ 5.2,  4.1,  1.5,  0.1,  1. ],\n",
       "       [ 5.5,  4.2,  1.4,  0.2,  1. ],\n",
       "       [ 4.9,  3.1,  1.5,  0.2,  1. ],\n",
       "       [ 5. ,  3.2,  1.2,  0.2,  1. ],\n",
       "       [ 5.5,  3.5,  1.3,  0.2,  1. ],\n",
       "       [ 4.9,  3.6,  1.4,  0.1,  1. ],\n",
       "       [ 4.4,  3. ,  1.3,  0.2,  1. ],\n",
       "       [ 5.1,  3.4,  1.5,  0.2,  1. ],\n",
       "       [ 5. ,  3.5,  1.3,  0.3,  1. ],\n",
       "       [ 4.5,  2.3,  1.3,  0.3,  1. ],\n",
       "       [ 4.4,  3.2,  1.3,  0.2,  1. ],\n",
       "       [ 5. ,  3.5,  1.6,  0.6,  1. ],\n",
       "       [ 5.1,  3.8,  1.9,  0.4,  1. ],\n",
       "       [ 4.8,  3. ,  1.4,  0.3,  1. ],\n",
       "       [ 5.1,  3.8,  1.6,  0.2,  1. ],\n",
       "       [ 4.6,  3.2,  1.4,  0.2,  1. ],\n",
       "       [ 5.3,  3.7,  1.5,  0.2,  1. ],\n",
       "       [ 5. ,  3.3,  1.4,  0.2,  1. ],\n",
       "       [ 7. ,  3.2,  4.7,  1.4,  2. ],\n",
       "       [ 6.4,  3.2,  4.5,  1.5,  2. ],\n",
       "       [ 6.9,  3.1,  4.9,  1.5,  2. ],\n",
       "       [ 5.5,  2.3,  4. ,  1.3,  2. ],\n",
       "       [ 6.5,  2.8,  4.6,  1.5,  2. ],\n",
       "       [ 5.7,  2.8,  4.5,  1.3,  2. ],\n",
       "       [ 6.3,  3.3,  4.7,  1.6,  2. ],\n",
       "       [ 4.9,  2.4,  3.3,  1. ,  2. ],\n",
       "       [ 6.6,  2.9,  4.6,  1.3,  2. ],\n",
       "       [ 5.2,  2.7,  3.9,  1.4,  2. ],\n",
       "       [ 5. ,  2. ,  3.5,  1. ,  2. ],\n",
       "       [ 5.9,  3. ,  4.2,  1.5,  2. ],\n",
       "       [ 6. ,  2.2,  4. ,  1. ,  2. ],\n",
       "       [ 6.1,  2.9,  4.7,  1.4,  2. ],\n",
       "       [ 5.6,  2.9,  3.6,  1.3,  2. ],\n",
       "       [ 6.7,  3.1,  4.4,  1.4,  2. ],\n",
       "       [ 5.6,  3. ,  4.5,  1.5,  2. ],\n",
       "       [ 5.8,  2.7,  4.1,  1. ,  2. ],\n",
       "       [ 6.2,  2.2,  4.5,  1.5,  2. ],\n",
       "       [ 5.6,  2.5,  3.9,  1.1,  2. ],\n",
       "       [ 5.9,  3.2,  4.8,  1.8,  2. ],\n",
       "       [ 6.1,  2.8,  4. ,  1.3,  2. ],\n",
       "       [ 6.3,  2.5,  4.9,  1.5,  2. ],\n",
       "       [ 6.1,  2.8,  4.7,  1.2,  2. ],\n",
       "       [ 6.4,  2.9,  4.3,  1.3,  2. ],\n",
       "       [ 6.6,  3. ,  4.4,  1.4,  2. ],\n",
       "       [ 6.8,  2.8,  4.8,  1.4,  2. ],\n",
       "       [ 6.7,  3. ,  5. ,  1.7,  2. ],\n",
       "       [ 6. ,  2.9,  4.5,  1.5,  2. ],\n",
       "       [ 5.7,  2.6,  3.5,  1. ,  2. ],\n",
       "       [ 5.5,  2.4,  3.8,  1.1,  2. ],\n",
       "       [ 5.5,  2.4,  3.7,  1. ,  2. ],\n",
       "       [ 5.8,  2.7,  3.9,  1.2,  2. ],\n",
       "       [ 6. ,  2.7,  5.1,  1.6,  2. ],\n",
       "       [ 5.4,  3. ,  4.5,  1.5,  2. ],\n",
       "       [ 6. ,  3.4,  4.5,  1.6,  2. ],\n",
       "       [ 6.7,  3.1,  4.7,  1.5,  2. ],\n",
       "       [ 6.3,  2.3,  4.4,  1.3,  2. ],\n",
       "       [ 5.6,  3. ,  4.1,  1.3,  2. ],\n",
       "       [ 5.5,  2.5,  4. ,  1.3,  2. ],\n",
       "       [ 5.5,  2.6,  4.4,  1.2,  2. ],\n",
       "       [ 6.1,  3. ,  4.6,  1.4,  2. ],\n",
       "       [ 5.8,  2.6,  4. ,  1.2,  2. ],\n",
       "       [ 5. ,  2.3,  3.3,  1. ,  2. ],\n",
       "       [ 5.6,  2.7,  4.2,  1.3,  2. ],\n",
       "       [ 5.7,  3. ,  4.2,  1.2,  2. ],\n",
       "       [ 5.7,  2.9,  4.2,  1.3,  2. ],\n",
       "       [ 6.2,  2.9,  4.3,  1.3,  2. ],\n",
       "       [ 5.1,  2.5,  3. ,  1.1,  2. ],\n",
       "       [ 5.7,  2.8,  4.1,  1.3,  2. ],\n",
       "       [ 6.3,  3.3,  6. ,  2.5,  3. ],\n",
       "       [ 5.8,  2.7,  5.1,  1.9,  3. ],\n",
       "       [ 7.1,  3. ,  5.9,  2.1,  3. ],\n",
       "       [ 6.3,  2.9,  5.6,  1.8,  3. ],\n",
       "       [ 6.5,  3. ,  5.8,  2.2,  3. ],\n",
       "       [ 7.6,  3. ,  6.6,  2.1,  3. ],\n",
       "       [ 4.9,  2.5,  4.5,  1.7,  3. ],\n",
       "       [ 7.3,  2.9,  6.3,  1.8,  3. ],\n",
       "       [ 6.7,  2.5,  5.8,  1.8,  3. ],\n",
       "       [ 7.2,  3.6,  6.1,  2.5,  3. ],\n",
       "       [ 6.5,  3.2,  5.1,  2. ,  3. ],\n",
       "       [ 6.4,  2.7,  5.3,  1.9,  3. ],\n",
       "       [ 6.8,  3. ,  5.5,  2.1,  3. ],\n",
       "       [ 5.7,  2.5,  5. ,  2. ,  3. ],\n",
       "       [ 5.8,  2.8,  5.1,  2.4,  3. ],\n",
       "       [ 6.4,  3.2,  5.3,  2.3,  3. ],\n",
       "       [ 6.5,  3. ,  5.5,  1.8,  3. ],\n",
       "       [ 7.7,  3.8,  6.7,  2.2,  3. ],\n",
       "       [ 7.7,  2.6,  6.9,  2.3,  3. ],\n",
       "       [ 6. ,  2.2,  5. ,  1.5,  3. ],\n",
       "       [ 6.9,  3.2,  5.7,  2.3,  3. ],\n",
       "       [ 5.6,  2.8,  4.9,  2. ,  3. ],\n",
       "       [ 7.7,  2.8,  6.7,  2. ,  3. ],\n",
       "       [ 6.3,  2.7,  4.9,  1.8,  3. ],\n",
       "       [ 6.7,  3.3,  5.7,  2.1,  3. ],\n",
       "       [ 7.2,  3.2,  6. ,  1.8,  3. ],\n",
       "       [ 6.2,  2.8,  4.8,  1.8,  3. ],\n",
       "       [ 6.1,  3. ,  4.9,  1.8,  3. ],\n",
       "       [ 6.4,  2.8,  5.6,  2.1,  3. ],\n",
       "       [ 7.2,  3. ,  5.8,  1.6,  3. ],\n",
       "       [ 7.4,  2.8,  6.1,  1.9,  3. ],\n",
       "       [ 7.9,  3.8,  6.4,  2. ,  3. ],\n",
       "       [ 6.4,  2.8,  5.6,  2.2,  3. ],\n",
       "       [ 6.3,  2.8,  5.1,  1.5,  3. ],\n",
       "       [ 6.1,  2.6,  5.6,  1.4,  3. ],\n",
       "       [ 7.7,  3. ,  6.1,  2.3,  3. ],\n",
       "       [ 6.3,  3.4,  5.6,  2.4,  3. ],\n",
       "       [ 6.4,  3.1,  5.5,  1.8,  3. ],\n",
       "       [ 6. ,  3. ,  4.8,  1.8,  3. ],\n",
       "       [ 6.9,  3.1,  5.4,  2.1,  3. ],\n",
       "       [ 6.7,  3.1,  5.6,  2.4,  3. ],\n",
       "       [ 6.9,  3.1,  5.1,  2.3,  3. ],\n",
       "       [ 5.8,  2.7,  5.1,  1.9,  3. ],\n",
       "       [ 6.8,  3.2,  5.9,  2.3,  3. ],\n",
       "       [ 6.7,  3.3,  5.7,  2.5,  3. ],\n",
       "       [ 6.7,  3. ,  5.2,  2.3,  3. ],\n",
       "       [ 6.3,  2.5,  5. ,  1.9,  3. ],\n",
       "       [ 6.5,  3. ,  5.2,  2. ,  3. ],\n",
       "       [ 6.2,  3.4,  5.4,  2.3,  3. ],\n",
       "       [ 5.9,  3. ,  5.1,  1.8,  3. ]])"
      ]
     },
     "execution_count": 137,
     "metadata": {},
     "output_type": "execute_result"
    }
   ],
   "source": [
    "np.insert(iris, 1, [10,10,10,10,3], axis=0)"
   ]
  },
  {
   "cell_type": "code",
   "execution_count": 138,
   "id": "8a01bc01",
   "metadata": {},
   "outputs": [
    {
     "data": {
      "text/plain": [
       "array([[5.1, 1.4, 0.2, 1. ],\n",
       "       [4.9, 1.4, 0.2, 1. ],\n",
       "       [4.7, 1.3, 0.2, 1. ],\n",
       "       [4.6, 1.5, 0.2, 1. ],\n",
       "       [5. , 1.4, 0.2, 1. ],\n",
       "       [5.4, 1.7, 0.4, 1. ],\n",
       "       [4.6, 1.4, 0.3, 1. ],\n",
       "       [5. , 1.5, 0.2, 1. ],\n",
       "       [4.4, 1.4, 0.2, 1. ],\n",
       "       [4.9, 1.5, 0.1, 1. ],\n",
       "       [5.4, 1.5, 0.2, 1. ],\n",
       "       [4.8, 1.6, 0.2, 1. ],\n",
       "       [4.8, 1.4, 0.1, 1. ],\n",
       "       [4.3, 1.1, 0.1, 1. ],\n",
       "       [5.8, 1.2, 0.2, 1. ],\n",
       "       [5.7, 1.5, 0.4, 1. ],\n",
       "       [5.4, 1.3, 0.4, 1. ],\n",
       "       [5.1, 1.4, 0.3, 1. ],\n",
       "       [5.7, 1.7, 0.3, 1. ],\n",
       "       [5.1, 1.5, 0.3, 1. ],\n",
       "       [5.4, 1.7, 0.2, 1. ],\n",
       "       [5.1, 1.5, 0.4, 1. ],\n",
       "       [4.6, 1. , 0.2, 1. ],\n",
       "       [5.1, 1.7, 0.5, 1. ],\n",
       "       [4.8, 1.9, 0.2, 1. ],\n",
       "       [5. , 1.6, 0.2, 1. ],\n",
       "       [5. , 1.6, 0.4, 1. ],\n",
       "       [5.2, 1.5, 0.2, 1. ],\n",
       "       [5.2, 1.4, 0.2, 1. ],\n",
       "       [4.7, 1.6, 0.2, 1. ],\n",
       "       [4.8, 1.6, 0.2, 1. ],\n",
       "       [5.4, 1.5, 0.4, 1. ],\n",
       "       [5.2, 1.5, 0.1, 1. ],\n",
       "       [5.5, 1.4, 0.2, 1. ],\n",
       "       [4.9, 1.5, 0.2, 1. ],\n",
       "       [5. , 1.2, 0.2, 1. ],\n",
       "       [5.5, 1.3, 0.2, 1. ],\n",
       "       [4.9, 1.4, 0.1, 1. ],\n",
       "       [4.4, 1.3, 0.2, 1. ],\n",
       "       [5.1, 1.5, 0.2, 1. ],\n",
       "       [5. , 1.3, 0.3, 1. ],\n",
       "       [4.5, 1.3, 0.3, 1. ],\n",
       "       [4.4, 1.3, 0.2, 1. ],\n",
       "       [5. , 1.6, 0.6, 1. ],\n",
       "       [5.1, 1.9, 0.4, 1. ],\n",
       "       [4.8, 1.4, 0.3, 1. ],\n",
       "       [5.1, 1.6, 0.2, 1. ],\n",
       "       [4.6, 1.4, 0.2, 1. ],\n",
       "       [5.3, 1.5, 0.2, 1. ],\n",
       "       [5. , 1.4, 0.2, 1. ],\n",
       "       [7. , 4.7, 1.4, 2. ],\n",
       "       [6.4, 4.5, 1.5, 2. ],\n",
       "       [6.9, 4.9, 1.5, 2. ],\n",
       "       [5.5, 4. , 1.3, 2. ],\n",
       "       [6.5, 4.6, 1.5, 2. ],\n",
       "       [5.7, 4.5, 1.3, 2. ],\n",
       "       [6.3, 4.7, 1.6, 2. ],\n",
       "       [4.9, 3.3, 1. , 2. ],\n",
       "       [6.6, 4.6, 1.3, 2. ],\n",
       "       [5.2, 3.9, 1.4, 2. ],\n",
       "       [5. , 3.5, 1. , 2. ],\n",
       "       [5.9, 4.2, 1.5, 2. ],\n",
       "       [6. , 4. , 1. , 2. ],\n",
       "       [6.1, 4.7, 1.4, 2. ],\n",
       "       [5.6, 3.6, 1.3, 2. ],\n",
       "       [6.7, 4.4, 1.4, 2. ],\n",
       "       [5.6, 4.5, 1.5, 2. ],\n",
       "       [5.8, 4.1, 1. , 2. ],\n",
       "       [6.2, 4.5, 1.5, 2. ],\n",
       "       [5.6, 3.9, 1.1, 2. ],\n",
       "       [5.9, 4.8, 1.8, 2. ],\n",
       "       [6.1, 4. , 1.3, 2. ],\n",
       "       [6.3, 4.9, 1.5, 2. ],\n",
       "       [6.1, 4.7, 1.2, 2. ],\n",
       "       [6.4, 4.3, 1.3, 2. ],\n",
       "       [6.6, 4.4, 1.4, 2. ],\n",
       "       [6.8, 4.8, 1.4, 2. ],\n",
       "       [6.7, 5. , 1.7, 2. ],\n",
       "       [6. , 4.5, 1.5, 2. ],\n",
       "       [5.7, 3.5, 1. , 2. ],\n",
       "       [5.5, 3.8, 1.1, 2. ],\n",
       "       [5.5, 3.7, 1. , 2. ],\n",
       "       [5.8, 3.9, 1.2, 2. ],\n",
       "       [6. , 5.1, 1.6, 2. ],\n",
       "       [5.4, 4.5, 1.5, 2. ],\n",
       "       [6. , 4.5, 1.6, 2. ],\n",
       "       [6.7, 4.7, 1.5, 2. ],\n",
       "       [6.3, 4.4, 1.3, 2. ],\n",
       "       [5.6, 4.1, 1.3, 2. ],\n",
       "       [5.5, 4. , 1.3, 2. ],\n",
       "       [5.5, 4.4, 1.2, 2. ],\n",
       "       [6.1, 4.6, 1.4, 2. ],\n",
       "       [5.8, 4. , 1.2, 2. ],\n",
       "       [5. , 3.3, 1. , 2. ],\n",
       "       [5.6, 4.2, 1.3, 2. ],\n",
       "       [5.7, 4.2, 1.2, 2. ],\n",
       "       [5.7, 4.2, 1.3, 2. ],\n",
       "       [6.2, 4.3, 1.3, 2. ],\n",
       "       [5.1, 3. , 1.1, 2. ],\n",
       "       [5.7, 4.1, 1.3, 2. ],\n",
       "       [6.3, 6. , 2.5, 3. ],\n",
       "       [5.8, 5.1, 1.9, 3. ],\n",
       "       [7.1, 5.9, 2.1, 3. ],\n",
       "       [6.3, 5.6, 1.8, 3. ],\n",
       "       [6.5, 5.8, 2.2, 3. ],\n",
       "       [7.6, 6.6, 2.1, 3. ],\n",
       "       [4.9, 4.5, 1.7, 3. ],\n",
       "       [7.3, 6.3, 1.8, 3. ],\n",
       "       [6.7, 5.8, 1.8, 3. ],\n",
       "       [7.2, 6.1, 2.5, 3. ],\n",
       "       [6.5, 5.1, 2. , 3. ],\n",
       "       [6.4, 5.3, 1.9, 3. ],\n",
       "       [6.8, 5.5, 2.1, 3. ],\n",
       "       [5.7, 5. , 2. , 3. ],\n",
       "       [5.8, 5.1, 2.4, 3. ],\n",
       "       [6.4, 5.3, 2.3, 3. ],\n",
       "       [6.5, 5.5, 1.8, 3. ],\n",
       "       [7.7, 6.7, 2.2, 3. ],\n",
       "       [7.7, 6.9, 2.3, 3. ],\n",
       "       [6. , 5. , 1.5, 3. ],\n",
       "       [6.9, 5.7, 2.3, 3. ],\n",
       "       [5.6, 4.9, 2. , 3. ],\n",
       "       [7.7, 6.7, 2. , 3. ],\n",
       "       [6.3, 4.9, 1.8, 3. ],\n",
       "       [6.7, 5.7, 2.1, 3. ],\n",
       "       [7.2, 6. , 1.8, 3. ],\n",
       "       [6.2, 4.8, 1.8, 3. ],\n",
       "       [6.1, 4.9, 1.8, 3. ],\n",
       "       [6.4, 5.6, 2.1, 3. ],\n",
       "       [7.2, 5.8, 1.6, 3. ],\n",
       "       [7.4, 6.1, 1.9, 3. ],\n",
       "       [7.9, 6.4, 2. , 3. ],\n",
       "       [6.4, 5.6, 2.2, 3. ],\n",
       "       [6.3, 5.1, 1.5, 3. ],\n",
       "       [6.1, 5.6, 1.4, 3. ],\n",
       "       [7.7, 6.1, 2.3, 3. ],\n",
       "       [6.3, 5.6, 2.4, 3. ],\n",
       "       [6.4, 5.5, 1.8, 3. ],\n",
       "       [6. , 4.8, 1.8, 3. ],\n",
       "       [6.9, 5.4, 2.1, 3. ],\n",
       "       [6.7, 5.6, 2.4, 3. ],\n",
       "       [6.9, 5.1, 2.3, 3. ],\n",
       "       [5.8, 5.1, 1.9, 3. ],\n",
       "       [6.8, 5.9, 2.3, 3. ],\n",
       "       [6.7, 5.7, 2.5, 3. ],\n",
       "       [6.7, 5.2, 2.3, 3. ],\n",
       "       [6.3, 5. , 1.9, 3. ],\n",
       "       [6.5, 5.2, 2. , 3. ],\n",
       "       [6.2, 5.4, 2.3, 3. ],\n",
       "       [5.9, 5.1, 1.8, 3. ]])"
      ]
     },
     "execution_count": 138,
     "metadata": {},
     "output_type": "execute_result"
    }
   ],
   "source": [
    "#supprime une colonne, les eles de tableau , s/vue\n",
    "np.delete(iris, 1, axis=1)"
   ]
  },
  {
   "cell_type": "code",
   "execution_count": 140,
   "id": "08e87078",
   "metadata": {},
   "outputs": [
    {
     "data": {
      "text/plain": [
       "array([ 1,  3,  4,  5,  6,  7,  8,  9, 10, 11, 12, 13, 14, 15, 16, 17, 18,\n",
       "       19, 20])"
      ]
     },
     "execution_count": 140,
     "metadata": {},
     "output_type": "execute_result"
    }
   ],
   "source": [
    "np.delete(notre_tableau,1)"
   ]
  },
  {
   "cell_type": "code",
   "execution_count": 141,
   "id": "7a71a1d9",
   "metadata": {},
   "outputs": [
    {
     "data": {
      "text/plain": [
       "array([ 1,  2,  3,  4,  5,  6,  7,  8,  9, 10, 11, 12, 13, 14, 15, 16, 17,\n",
       "       18, 19, 20])"
      ]
     },
     "execution_count": 141,
     "metadata": {},
     "output_type": "execute_result"
    }
   ],
   "source": [
    "#split : separe le tableau\n",
    "notre_tableau\n"
   ]
  },
  {
   "cell_type": "code",
   "execution_count": 144,
   "id": "80ff3257",
   "metadata": {},
   "outputs": [
    {
     "name": "stdout",
     "output_type": "stream",
     "text": [
      "tab1 =  [1 2]\n",
      "tab2 =  [3 4 5 6 7 8]\n",
      "tab3 =  [ 9 10 11 12 13 14 15]\n",
      "tab4 =  [16 17 18 19 20]\n"
     ]
    }
   ],
   "source": [
    "tab1, tab2, tab3, tab4 = np.split(notre_tableau, [2,8,15])\n",
    "print(\"tab1 = \", tab1)\n",
    "print(\"tab2 = \", tab2)\n",
    "print(\"tab3 = \", tab3)\n",
    "print(\"tab4 = \", tab4)"
   ]
  },
  {
   "cell_type": "code",
   "execution_count": 146,
   "id": "11978c27",
   "metadata": {},
   "outputs": [
    {
     "name": "stdout",
     "output_type": "stream",
     "text": [
      "avant division\n",
      "[[ 2  5  6]\n",
      " [ 9 10 11]\n",
      " [ 5  9 15]]\n",
      "Resultat division vertical\n",
      "a1 =  [[ 2  5  6]\n",
      " [ 9 10 11]]\n",
      "a2 =  [[ 5  9 15]]\n"
     ]
    }
   ],
   "source": [
    "my_array = np.array([[2,5,6],[9,10,11],[5,9,15]])\n",
    "print(\"avant division\")\n",
    "print(my_array)\n",
    "array1, array2 = np.vsplit(my_array, [2])\n",
    "print(\"Resultat division vertical\")\n",
    "print(\"a1 = \", array1)\n",
    "print(\"a2 = \",array2)"
   ]
  },
  {
   "cell_type": "code",
   "execution_count": 147,
   "id": "04d49c89",
   "metadata": {},
   "outputs": [
    {
     "name": "stdout",
     "output_type": "stream",
     "text": [
      "Resultat division vertical\n",
      "a1 =  [[2]\n",
      " [9]\n",
      " [5]]\n",
      "a2 =  [[ 5  6]\n",
      " [10 11]\n",
      " [ 9 15]]\n"
     ]
    }
   ],
   "source": [
    "array3, array4 = np.hsplit(my_array, [1])\n",
    "print(\"Resultat division vertical\")\n",
    "print(\"a3 = \", array3)\n",
    "print(\"a4 = \",array4)"
   ]
  },
  {
   "cell_type": "code",
   "execution_count": 148,
   "id": "5cdecfde",
   "metadata": {},
   "outputs": [
    {
     "name": "stdout",
     "output_type": "stream",
     "text": [
      "[1 2 3 4 5]\n",
      "[6 7 8 9]\n"
     ]
    },
    {
     "data": {
      "text/plain": [
       "array([1, 2, 3, 4, 5, 6, 7, 8, 9])"
      ]
     },
     "execution_count": 148,
     "metadata": {},
     "output_type": "execute_result"
    }
   ],
   "source": [
    "arr1 = np.array([1,2,3,4,5])\n",
    "arr2 = np.array([6, 7, 8, 9])\n",
    "print(arr1)\n",
    "print(arr2)\n",
    "np.concatenate([arr1, arr2])"
   ]
  },
  {
   "cell_type": "code",
   "execution_count": 154,
   "id": "3ac7a49e",
   "metadata": {},
   "outputs": [
    {
     "name": "stdout",
     "output_type": "stream",
     "text": [
      "[[1. 2. 3.]\n",
      " [4. 5. 8.]]\n",
      "[[ 6.  7.  8.]\n",
      " [ 9. 10. 11.]]\n"
     ]
    },
    {
     "data": {
      "text/plain": [
       "array([[ 1.,  2.,  3.],\n",
       "       [ 4.,  5.,  8.],\n",
       "       [ 6.,  7.,  8.],\n",
       "       [ 9., 10., 11.]])"
      ]
     },
     "execution_count": 154,
     "metadata": {},
     "output_type": "execute_result"
    }
   ],
   "source": [
    "arr3 = np.array([[1,2,3],[4,5,8]], dtype=\"float\")\n",
    "arr4 = np.array([[6, 7, 8],[9,10,11]], dtype=\"float\")\n",
    "print(arr3)\n",
    "print(arr4)\n",
    "np.concatenate([arr3, arr4])"
   ]
  },
  {
   "cell_type": "code",
   "execution_count": 158,
   "id": "369db0e1",
   "metadata": {},
   "outputs": [
    {
     "data": {
      "text/plain": [
       "array([[ 1.,  2.,  3.],\n",
       "       [ 4.,  5.,  8.],\n",
       "       [ 6.,  7.,  8.],\n",
       "       [ 9., 10., 11.],\n",
       "       [11., 12., 13.],\n",
       "       [14.,  5., 18.],\n",
       "       [ 0.,  5., 18.]])"
      ]
     },
     "execution_count": 158,
     "metadata": {},
     "output_type": "execute_result"
    }
   ],
   "source": [
    "arr5 = np.array([[11,12,13],[14,5,18],[0,5,18]], dtype=\"float\")\n",
    "np.concatenate([arr3, arr4, arr5])"
   ]
  },
  {
   "cell_type": "code",
   "execution_count": 193,
   "id": "0e7c120e",
   "metadata": {},
   "outputs": [
    {
     "name": "stdout",
     "output_type": "stream",
     "text": [
      "[[11. 12. 13.]\n",
      " [14.  5. 18.]\n",
      " [ 0.  5. 18.]]\n",
      "----\n",
      "[11 11 11]\n",
      "----\n",
      "concat vertical, ajout des lignes\n",
      "----\n",
      "concat horizon, ajout des COLONNES\n"
     ]
    },
    {
     "ename": "ValueError",
     "evalue": "all the input arrays must have same number of dimensions, but the array at index 0 has 2 dimension(s) and the array at index 1 has 1 dimension(s)",
     "output_type": "error",
     "traceback": [
      "\u001b[0;31m---------------------------------------------------------------------------\u001b[0m",
      "\u001b[0;31mValueError\u001b[0m                                Traceback (most recent call last)",
      "\u001b[0;32m<ipython-input-193-4632164c7244>\u001b[0m in \u001b[0;36m<module>\u001b[0;34m\u001b[0m\n\u001b[1;32m      9\u001b[0m \u001b[0mprint\u001b[0m\u001b[0;34m(\u001b[0m\u001b[0;34m\"----\"\u001b[0m\u001b[0;34m)\u001b[0m\u001b[0;34m\u001b[0m\u001b[0;34m\u001b[0m\u001b[0m\n\u001b[1;32m     10\u001b[0m \u001b[0mprint\u001b[0m\u001b[0;34m(\u001b[0m\u001b[0;34m\"concat horizon, ajout des COLONNES\"\u001b[0m\u001b[0;34m)\u001b[0m\u001b[0;34m\u001b[0m\u001b[0;34m\u001b[0m\u001b[0m\n\u001b[0;32m---> 11\u001b[0;31m \u001b[0mnp\u001b[0m\u001b[0;34m.\u001b[0m\u001b[0mhstack\u001b[0m\u001b[0;34m(\u001b[0m\u001b[0;34m(\u001b[0m\u001b[0marr5\u001b[0m\u001b[0;34m,\u001b[0m \u001b[0marr7\u001b[0m\u001b[0;34m)\u001b[0m\u001b[0;34m)\u001b[0m\u001b[0;34m\u001b[0m\u001b[0;34m\u001b[0m\u001b[0m\n\u001b[0m",
      "\u001b[0;32m<__array_function__ internals>\u001b[0m in \u001b[0;36mhstack\u001b[0;34m(*args, **kwargs)\u001b[0m\n",
      "\u001b[0;32m~/anaconda3/lib/python3.8/site-packages/numpy/core/shape_base.py\u001b[0m in \u001b[0;36mhstack\u001b[0;34m(tup)\u001b[0m\n\u001b[1;32m    344\u001b[0m         \u001b[0;32mreturn\u001b[0m \u001b[0m_nx\u001b[0m\u001b[0;34m.\u001b[0m\u001b[0mconcatenate\u001b[0m\u001b[0;34m(\u001b[0m\u001b[0marrs\u001b[0m\u001b[0;34m,\u001b[0m \u001b[0;36m0\u001b[0m\u001b[0;34m)\u001b[0m\u001b[0;34m\u001b[0m\u001b[0;34m\u001b[0m\u001b[0m\n\u001b[1;32m    345\u001b[0m     \u001b[0;32melse\u001b[0m\u001b[0;34m:\u001b[0m\u001b[0;34m\u001b[0m\u001b[0;34m\u001b[0m\u001b[0m\n\u001b[0;32m--> 346\u001b[0;31m         \u001b[0;32mreturn\u001b[0m \u001b[0m_nx\u001b[0m\u001b[0;34m.\u001b[0m\u001b[0mconcatenate\u001b[0m\u001b[0;34m(\u001b[0m\u001b[0marrs\u001b[0m\u001b[0;34m,\u001b[0m \u001b[0;36m1\u001b[0m\u001b[0;34m)\u001b[0m\u001b[0;34m\u001b[0m\u001b[0;34m\u001b[0m\u001b[0m\n\u001b[0m\u001b[1;32m    347\u001b[0m \u001b[0;34m\u001b[0m\u001b[0m\n\u001b[1;32m    348\u001b[0m \u001b[0;34m\u001b[0m\u001b[0m\n",
      "\u001b[0;32m<__array_function__ internals>\u001b[0m in \u001b[0;36mconcatenate\u001b[0;34m(*args, **kwargs)\u001b[0m\n",
      "\u001b[0;31mValueError\u001b[0m: all the input arrays must have same number of dimensions, but the array at index 0 has 2 dimension(s) and the array at index 1 has 1 dimension(s)"
     ]
    }
   ],
   "source": [
    "arr6 = np.array([11,11,11])\n",
    "arr7 = np.array([10,110,110])\n",
    "print(arr5)\n",
    "print(\"----\")\n",
    "print(arr6)\n",
    "print(\"----\")\n",
    "print(\"concat vertical, ajout des lignes\")\n",
    "np.vstack([arr5, arr6])\n",
    "print(\"----\")\n",
    "print(\"concat horizon, ajout des COLONNES\")\n",
    "np.hstack((arr5, arr7))"
   ]
  },
  {
   "cell_type": "code",
   "execution_count": 191,
   "id": "822e417e",
   "metadata": {},
   "outputs": [
    {
     "data": {
      "text/plain": [
       "array([[5.1  , 3.5  , 1.4  , 0.2  , 1.   , 2.55 ],\n",
       "       [4.9  , 3.   , 1.4  , 0.2  , 1.   , 2.375],\n",
       "       [4.7  , 3.2  , 1.3  , 0.2  , 1.   , 2.35 ],\n",
       "       [4.6  , 3.1  , 1.5  , 0.2  , 1.   , 2.35 ],\n",
       "       [5.   , 3.6  , 1.4  , 0.2  , 1.   , 2.55 ],\n",
       "       [5.4  , 3.9  , 1.7  , 0.4  , 1.   , 2.85 ],\n",
       "       [4.6  , 3.4  , 1.4  , 0.3  , 1.   , 2.425],\n",
       "       [5.   , 3.4  , 1.5  , 0.2  , 1.   , 2.525],\n",
       "       [4.4  , 2.9  , 1.4  , 0.2  , 1.   , 2.225],\n",
       "       [4.9  , 3.1  , 1.5  , 0.1  , 1.   , 2.4  ],\n",
       "       [5.4  , 3.7  , 1.5  , 0.2  , 1.   , 2.7  ],\n",
       "       [4.8  , 3.4  , 1.6  , 0.2  , 1.   , 2.5  ],\n",
       "       [4.8  , 3.   , 1.4  , 0.1  , 1.   , 2.325],\n",
       "       [4.3  , 3.   , 1.1  , 0.1  , 1.   , 2.125],\n",
       "       [5.8  , 4.   , 1.2  , 0.2  , 1.   , 2.8  ],\n",
       "       [5.7  , 4.4  , 1.5  , 0.4  , 1.   , 3.   ],\n",
       "       [5.4  , 3.9  , 1.3  , 0.4  , 1.   , 2.75 ],\n",
       "       [5.1  , 3.5  , 1.4  , 0.3  , 1.   , 2.575],\n",
       "       [5.7  , 3.8  , 1.7  , 0.3  , 1.   , 2.875],\n",
       "       [5.1  , 3.8  , 1.5  , 0.3  , 1.   , 2.675],\n",
       "       [5.4  , 3.4  , 1.7  , 0.2  , 1.   , 2.675],\n",
       "       [5.1  , 3.7  , 1.5  , 0.4  , 1.   , 2.675],\n",
       "       [4.6  , 3.6  , 1.   , 0.2  , 1.   , 2.35 ],\n",
       "       [5.1  , 3.3  , 1.7  , 0.5  , 1.   , 2.65 ],\n",
       "       [4.8  , 3.4  , 1.9  , 0.2  , 1.   , 2.575],\n",
       "       [5.   , 3.   , 1.6  , 0.2  , 1.   , 2.45 ],\n",
       "       [5.   , 3.4  , 1.6  , 0.4  , 1.   , 2.6  ],\n",
       "       [5.2  , 3.5  , 1.5  , 0.2  , 1.   , 2.6  ],\n",
       "       [5.2  , 3.4  , 1.4  , 0.2  , 1.   , 2.55 ],\n",
       "       [4.7  , 3.2  , 1.6  , 0.2  , 1.   , 2.425],\n",
       "       [4.8  , 3.1  , 1.6  , 0.2  , 1.   , 2.425],\n",
       "       [5.4  , 3.4  , 1.5  , 0.4  , 1.   , 2.675],\n",
       "       [5.2  , 4.1  , 1.5  , 0.1  , 1.   , 2.725],\n",
       "       [5.5  , 4.2  , 1.4  , 0.2  , 1.   , 2.825],\n",
       "       [4.9  , 3.1  , 1.5  , 0.2  , 1.   , 2.425],\n",
       "       [5.   , 3.2  , 1.2  , 0.2  , 1.   , 2.4  ],\n",
       "       [5.5  , 3.5  , 1.3  , 0.2  , 1.   , 2.625],\n",
       "       [4.9  , 3.6  , 1.4  , 0.1  , 1.   , 2.5  ],\n",
       "       [4.4  , 3.   , 1.3  , 0.2  , 1.   , 2.225],\n",
       "       [5.1  , 3.4  , 1.5  , 0.2  , 1.   , 2.55 ],\n",
       "       [5.   , 3.5  , 1.3  , 0.3  , 1.   , 2.525],\n",
       "       [4.5  , 2.3  , 1.3  , 0.3  , 1.   , 2.1  ],\n",
       "       [4.4  , 3.2  , 1.3  , 0.2  , 1.   , 2.275],\n",
       "       [5.   , 3.5  , 1.6  , 0.6  , 1.   , 2.675],\n",
       "       [5.1  , 3.8  , 1.9  , 0.4  , 1.   , 2.8  ],\n",
       "       [4.8  , 3.   , 1.4  , 0.3  , 1.   , 2.375],\n",
       "       [5.1  , 3.8  , 1.6  , 0.2  , 1.   , 2.675],\n",
       "       [4.6  , 3.2  , 1.4  , 0.2  , 1.   , 2.35 ],\n",
       "       [5.3  , 3.7  , 1.5  , 0.2  , 1.   , 2.675],\n",
       "       [5.   , 3.3  , 1.4  , 0.2  , 1.   , 2.475],\n",
       "       [7.   , 3.2  , 4.7  , 1.4  , 2.   , 4.075],\n",
       "       [6.4  , 3.2  , 4.5  , 1.5  , 2.   , 3.9  ],\n",
       "       [6.9  , 3.1  , 4.9  , 1.5  , 2.   , 4.1  ],\n",
       "       [5.5  , 2.3  , 4.   , 1.3  , 2.   , 3.275],\n",
       "       [6.5  , 2.8  , 4.6  , 1.5  , 2.   , 3.85 ],\n",
       "       [5.7  , 2.8  , 4.5  , 1.3  , 2.   , 3.575],\n",
       "       [6.3  , 3.3  , 4.7  , 1.6  , 2.   , 3.975],\n",
       "       [4.9  , 2.4  , 3.3  , 1.   , 2.   , 2.9  ],\n",
       "       [6.6  , 2.9  , 4.6  , 1.3  , 2.   , 3.85 ],\n",
       "       [5.2  , 2.7  , 3.9  , 1.4  , 2.   , 3.3  ],\n",
       "       [5.   , 2.   , 3.5  , 1.   , 2.   , 2.875],\n",
       "       [5.9  , 3.   , 4.2  , 1.5  , 2.   , 3.65 ],\n",
       "       [6.   , 2.2  , 4.   , 1.   , 2.   , 3.3  ],\n",
       "       [6.1  , 2.9  , 4.7  , 1.4  , 2.   , 3.775],\n",
       "       [5.6  , 2.9  , 3.6  , 1.3  , 2.   , 3.35 ],\n",
       "       [6.7  , 3.1  , 4.4  , 1.4  , 2.   , 3.9  ],\n",
       "       [5.6  , 3.   , 4.5  , 1.5  , 2.   , 3.65 ],\n",
       "       [5.8  , 2.7  , 4.1  , 1.   , 2.   , 3.4  ],\n",
       "       [6.2  , 2.2  , 4.5  , 1.5  , 2.   , 3.6  ],\n",
       "       [5.6  , 2.5  , 3.9  , 1.1  , 2.   , 3.275],\n",
       "       [5.9  , 3.2  , 4.8  , 1.8  , 2.   , 3.925],\n",
       "       [6.1  , 2.8  , 4.   , 1.3  , 2.   , 3.55 ],\n",
       "       [6.3  , 2.5  , 4.9  , 1.5  , 2.   , 3.8  ],\n",
       "       [6.1  , 2.8  , 4.7  , 1.2  , 2.   , 3.7  ],\n",
       "       [6.4  , 2.9  , 4.3  , 1.3  , 2.   , 3.725],\n",
       "       [6.6  , 3.   , 4.4  , 1.4  , 2.   , 3.85 ],\n",
       "       [6.8  , 2.8  , 4.8  , 1.4  , 2.   , 3.95 ],\n",
       "       [6.7  , 3.   , 5.   , 1.7  , 2.   , 4.1  ],\n",
       "       [6.   , 2.9  , 4.5  , 1.5  , 2.   , 3.725],\n",
       "       [5.7  , 2.6  , 3.5  , 1.   , 2.   , 3.2  ],\n",
       "       [5.5  , 2.4  , 3.8  , 1.1  , 2.   , 3.2  ],\n",
       "       [5.5  , 2.4  , 3.7  , 1.   , 2.   , 3.15 ],\n",
       "       [5.8  , 2.7  , 3.9  , 1.2  , 2.   , 3.4  ],\n",
       "       [6.   , 2.7  , 5.1  , 1.6  , 2.   , 3.85 ],\n",
       "       [5.4  , 3.   , 4.5  , 1.5  , 2.   , 3.6  ],\n",
       "       [6.   , 3.4  , 4.5  , 1.6  , 2.   , 3.875],\n",
       "       [6.7  , 3.1  , 4.7  , 1.5  , 2.   , 4.   ],\n",
       "       [6.3  , 2.3  , 4.4  , 1.3  , 2.   , 3.575],\n",
       "       [5.6  , 3.   , 4.1  , 1.3  , 2.   , 3.5  ],\n",
       "       [5.5  , 2.5  , 4.   , 1.3  , 2.   , 3.325],\n",
       "       [5.5  , 2.6  , 4.4  , 1.2  , 2.   , 3.425],\n",
       "       [6.1  , 3.   , 4.6  , 1.4  , 2.   , 3.775],\n",
       "       [5.8  , 2.6  , 4.   , 1.2  , 2.   , 3.4  ],\n",
       "       [5.   , 2.3  , 3.3  , 1.   , 2.   , 2.9  ],\n",
       "       [5.6  , 2.7  , 4.2  , 1.3  , 2.   , 3.45 ],\n",
       "       [5.7  , 3.   , 4.2  , 1.2  , 2.   , 3.525],\n",
       "       [5.7  , 2.9  , 4.2  , 1.3  , 2.   , 3.525],\n",
       "       [6.2  , 2.9  , 4.3  , 1.3  , 2.   , 3.675],\n",
       "       [5.1  , 2.5  , 3.   , 1.1  , 2.   , 2.925],\n",
       "       [5.7  , 2.8  , 4.1  , 1.3  , 2.   , 3.475],\n",
       "       [6.3  , 3.3  , 6.   , 2.5  , 3.   , 4.525],\n",
       "       [5.8  , 2.7  , 5.1  , 1.9  , 3.   , 3.875],\n",
       "       [7.1  , 3.   , 5.9  , 2.1  , 3.   , 4.525],\n",
       "       [6.3  , 2.9  , 5.6  , 1.8  , 3.   , 4.15 ],\n",
       "       [6.5  , 3.   , 5.8  , 2.2  , 3.   , 4.375],\n",
       "       [7.6  , 3.   , 6.6  , 2.1  , 3.   , 4.825],\n",
       "       [4.9  , 2.5  , 4.5  , 1.7  , 3.   , 3.4  ],\n",
       "       [7.3  , 2.9  , 6.3  , 1.8  , 3.   , 4.575],\n",
       "       [6.7  , 2.5  , 5.8  , 1.8  , 3.   , 4.2  ],\n",
       "       [7.2  , 3.6  , 6.1  , 2.5  , 3.   , 4.85 ],\n",
       "       [6.5  , 3.2  , 5.1  , 2.   , 3.   , 4.2  ],\n",
       "       [6.4  , 2.7  , 5.3  , 1.9  , 3.   , 4.075],\n",
       "       [6.8  , 3.   , 5.5  , 2.1  , 3.   , 4.35 ],\n",
       "       [5.7  , 2.5  , 5.   , 2.   , 3.   , 3.8  ],\n",
       "       [5.8  , 2.8  , 5.1  , 2.4  , 3.   , 4.025],\n",
       "       [6.4  , 3.2  , 5.3  , 2.3  , 3.   , 4.3  ],\n",
       "       [6.5  , 3.   , 5.5  , 1.8  , 3.   , 4.2  ],\n",
       "       [7.7  , 3.8  , 6.7  , 2.2  , 3.   , 5.1  ],\n",
       "       [7.7  , 2.6  , 6.9  , 2.3  , 3.   , 4.875],\n",
       "       [6.   , 2.2  , 5.   , 1.5  , 3.   , 3.675],\n",
       "       [6.9  , 3.2  , 5.7  , 2.3  , 3.   , 4.525],\n",
       "       [5.6  , 2.8  , 4.9  , 2.   , 3.   , 3.825],\n",
       "       [7.7  , 2.8  , 6.7  , 2.   , 3.   , 4.8  ],\n",
       "       [6.3  , 2.7  , 4.9  , 1.8  , 3.   , 3.925],\n",
       "       [6.7  , 3.3  , 5.7  , 2.1  , 3.   , 4.45 ],\n",
       "       [7.2  , 3.2  , 6.   , 1.8  , 3.   , 4.55 ],\n",
       "       [6.2  , 2.8  , 4.8  , 1.8  , 3.   , 3.9  ],\n",
       "       [6.1  , 3.   , 4.9  , 1.8  , 3.   , 3.95 ],\n",
       "       [6.4  , 2.8  , 5.6  , 2.1  , 3.   , 4.225],\n",
       "       [7.2  , 3.   , 5.8  , 1.6  , 3.   , 4.4  ],\n",
       "       [7.4  , 2.8  , 6.1  , 1.9  , 3.   , 4.55 ],\n",
       "       [7.9  , 3.8  , 6.4  , 2.   , 3.   , 5.025],\n",
       "       [6.4  , 2.8  , 5.6  , 2.2  , 3.   , 4.25 ],\n",
       "       [6.3  , 2.8  , 5.1  , 1.5  , 3.   , 3.925],\n",
       "       [6.1  , 2.6  , 5.6  , 1.4  , 3.   , 3.925],\n",
       "       [7.7  , 3.   , 6.1  , 2.3  , 3.   , 4.775],\n",
       "       [6.3  , 3.4  , 5.6  , 2.4  , 3.   , 4.425],\n",
       "       [6.4  , 3.1  , 5.5  , 1.8  , 3.   , 4.2  ],\n",
       "       [6.   , 3.   , 4.8  , 1.8  , 3.   , 3.9  ],\n",
       "       [6.9  , 3.1  , 5.4  , 2.1  , 3.   , 4.375],\n",
       "       [6.7  , 3.1  , 5.6  , 2.4  , 3.   , 4.45 ],\n",
       "       [6.9  , 3.1  , 5.1  , 2.3  , 3.   , 4.35 ],\n",
       "       [5.8  , 2.7  , 5.1  , 1.9  , 3.   , 3.875],\n",
       "       [6.8  , 3.2  , 5.9  , 2.3  , 3.   , 4.55 ],\n",
       "       [6.7  , 3.3  , 5.7  , 2.5  , 3.   , 4.55 ],\n",
       "       [6.7  , 3.   , 5.2  , 2.3  , 3.   , 4.3  ],\n",
       "       [6.3  , 2.5  , 5.   , 1.9  , 3.   , 3.925],\n",
       "       [6.5  , 3.   , 5.2  , 2.   , 3.   , 4.175],\n",
       "       [6.2  , 3.4  , 5.4  , 2.3  , 3.   , 4.325],\n",
       "       [5.9  , 3.   , 5.1  , 1.8  , 3.   , 3.95 ]])"
      ]
     },
     "execution_count": 191,
     "metadata": {},
     "output_type": "execute_result"
    }
   ],
   "source": [
    "#t1,t2=np.hsplit(iris,[4])\n",
    "t1=np.delete(iris,4, axis=1)\n",
    "moyen=np.mean(t1,axis=1)\n",
    "np.insert(iris,5,moyen, axis=1)\n"
   ]
  },
  {
   "cell_type": "code",
   "execution_count": 188,
   "id": "3ed38f79",
   "metadata": {},
   "outputs": [
    {
     "data": {
      "text/plain": [
       "array([[5.1  , 3.5  , 1.4  , 0.2  , 1.   , 2.55 ],\n",
       "       [4.9  , 3.   , 1.4  , 0.2  , 1.   , 2.375],\n",
       "       [4.7  , 3.2  , 1.3  , 0.2  , 1.   , 2.35 ],\n",
       "       [4.6  , 3.1  , 1.5  , 0.2  , 1.   , 2.35 ],\n",
       "       [5.   , 3.6  , 1.4  , 0.2  , 1.   , 2.55 ],\n",
       "       [5.4  , 3.9  , 1.7  , 0.4  , 1.   , 2.85 ],\n",
       "       [4.6  , 3.4  , 1.4  , 0.3  , 1.   , 2.425],\n",
       "       [5.   , 3.4  , 1.5  , 0.2  , 1.   , 2.525],\n",
       "       [4.4  , 2.9  , 1.4  , 0.2  , 1.   , 2.225],\n",
       "       [4.9  , 3.1  , 1.5  , 0.1  , 1.   , 2.4  ],\n",
       "       [5.4  , 3.7  , 1.5  , 0.2  , 1.   , 2.7  ],\n",
       "       [4.8  , 3.4  , 1.6  , 0.2  , 1.   , 2.5  ],\n",
       "       [4.8  , 3.   , 1.4  , 0.1  , 1.   , 2.325],\n",
       "       [4.3  , 3.   , 1.1  , 0.1  , 1.   , 2.125],\n",
       "       [5.8  , 4.   , 1.2  , 0.2  , 1.   , 2.8  ],\n",
       "       [5.7  , 4.4  , 1.5  , 0.4  , 1.   , 3.   ],\n",
       "       [5.4  , 3.9  , 1.3  , 0.4  , 1.   , 2.75 ],\n",
       "       [5.1  , 3.5  , 1.4  , 0.3  , 1.   , 2.575],\n",
       "       [5.7  , 3.8  , 1.7  , 0.3  , 1.   , 2.875],\n",
       "       [5.1  , 3.8  , 1.5  , 0.3  , 1.   , 2.675],\n",
       "       [5.4  , 3.4  , 1.7  , 0.2  , 1.   , 2.675],\n",
       "       [5.1  , 3.7  , 1.5  , 0.4  , 1.   , 2.675],\n",
       "       [4.6  , 3.6  , 1.   , 0.2  , 1.   , 2.35 ],\n",
       "       [5.1  , 3.3  , 1.7  , 0.5  , 1.   , 2.65 ],\n",
       "       [4.8  , 3.4  , 1.9  , 0.2  , 1.   , 2.575],\n",
       "       [5.   , 3.   , 1.6  , 0.2  , 1.   , 2.45 ],\n",
       "       [5.   , 3.4  , 1.6  , 0.4  , 1.   , 2.6  ],\n",
       "       [5.2  , 3.5  , 1.5  , 0.2  , 1.   , 2.6  ],\n",
       "       [5.2  , 3.4  , 1.4  , 0.2  , 1.   , 2.55 ],\n",
       "       [4.7  , 3.2  , 1.6  , 0.2  , 1.   , 2.425],\n",
       "       [4.8  , 3.1  , 1.6  , 0.2  , 1.   , 2.425],\n",
       "       [5.4  , 3.4  , 1.5  , 0.4  , 1.   , 2.675],\n",
       "       [5.2  , 4.1  , 1.5  , 0.1  , 1.   , 2.725],\n",
       "       [5.5  , 4.2  , 1.4  , 0.2  , 1.   , 2.825],\n",
       "       [4.9  , 3.1  , 1.5  , 0.2  , 1.   , 2.425],\n",
       "       [5.   , 3.2  , 1.2  , 0.2  , 1.   , 2.4  ],\n",
       "       [5.5  , 3.5  , 1.3  , 0.2  , 1.   , 2.625],\n",
       "       [4.9  , 3.6  , 1.4  , 0.1  , 1.   , 2.5  ],\n",
       "       [4.4  , 3.   , 1.3  , 0.2  , 1.   , 2.225],\n",
       "       [5.1  , 3.4  , 1.5  , 0.2  , 1.   , 2.55 ],\n",
       "       [5.   , 3.5  , 1.3  , 0.3  , 1.   , 2.525],\n",
       "       [4.5  , 2.3  , 1.3  , 0.3  , 1.   , 2.1  ],\n",
       "       [4.4  , 3.2  , 1.3  , 0.2  , 1.   , 2.275],\n",
       "       [5.   , 3.5  , 1.6  , 0.6  , 1.   , 2.675],\n",
       "       [5.1  , 3.8  , 1.9  , 0.4  , 1.   , 2.8  ],\n",
       "       [4.8  , 3.   , 1.4  , 0.3  , 1.   , 2.375],\n",
       "       [5.1  , 3.8  , 1.6  , 0.2  , 1.   , 2.675],\n",
       "       [4.6  , 3.2  , 1.4  , 0.2  , 1.   , 2.35 ],\n",
       "       [5.3  , 3.7  , 1.5  , 0.2  , 1.   , 2.675],\n",
       "       [5.   , 3.3  , 1.4  , 0.2  , 1.   , 2.475],\n",
       "       [7.   , 3.2  , 4.7  , 1.4  , 2.   , 4.075],\n",
       "       [6.4  , 3.2  , 4.5  , 1.5  , 2.   , 3.9  ],\n",
       "       [6.9  , 3.1  , 4.9  , 1.5  , 2.   , 4.1  ],\n",
       "       [5.5  , 2.3  , 4.   , 1.3  , 2.   , 3.275],\n",
       "       [6.5  , 2.8  , 4.6  , 1.5  , 2.   , 3.85 ],\n",
       "       [5.7  , 2.8  , 4.5  , 1.3  , 2.   , 3.575],\n",
       "       [6.3  , 3.3  , 4.7  , 1.6  , 2.   , 3.975],\n",
       "       [4.9  , 2.4  , 3.3  , 1.   , 2.   , 2.9  ],\n",
       "       [6.6  , 2.9  , 4.6  , 1.3  , 2.   , 3.85 ],\n",
       "       [5.2  , 2.7  , 3.9  , 1.4  , 2.   , 3.3  ],\n",
       "       [5.   , 2.   , 3.5  , 1.   , 2.   , 2.875],\n",
       "       [5.9  , 3.   , 4.2  , 1.5  , 2.   , 3.65 ],\n",
       "       [6.   , 2.2  , 4.   , 1.   , 2.   , 3.3  ],\n",
       "       [6.1  , 2.9  , 4.7  , 1.4  , 2.   , 3.775],\n",
       "       [5.6  , 2.9  , 3.6  , 1.3  , 2.   , 3.35 ],\n",
       "       [6.7  , 3.1  , 4.4  , 1.4  , 2.   , 3.9  ],\n",
       "       [5.6  , 3.   , 4.5  , 1.5  , 2.   , 3.65 ],\n",
       "       [5.8  , 2.7  , 4.1  , 1.   , 2.   , 3.4  ],\n",
       "       [6.2  , 2.2  , 4.5  , 1.5  , 2.   , 3.6  ],\n",
       "       [5.6  , 2.5  , 3.9  , 1.1  , 2.   , 3.275],\n",
       "       [5.9  , 3.2  , 4.8  , 1.8  , 2.   , 3.925],\n",
       "       [6.1  , 2.8  , 4.   , 1.3  , 2.   , 3.55 ],\n",
       "       [6.3  , 2.5  , 4.9  , 1.5  , 2.   , 3.8  ],\n",
       "       [6.1  , 2.8  , 4.7  , 1.2  , 2.   , 3.7  ],\n",
       "       [6.4  , 2.9  , 4.3  , 1.3  , 2.   , 3.725],\n",
       "       [6.6  , 3.   , 4.4  , 1.4  , 2.   , 3.85 ],\n",
       "       [6.8  , 2.8  , 4.8  , 1.4  , 2.   , 3.95 ],\n",
       "       [6.7  , 3.   , 5.   , 1.7  , 2.   , 4.1  ],\n",
       "       [6.   , 2.9  , 4.5  , 1.5  , 2.   , 3.725],\n",
       "       [5.7  , 2.6  , 3.5  , 1.   , 2.   , 3.2  ],\n",
       "       [5.5  , 2.4  , 3.8  , 1.1  , 2.   , 3.2  ],\n",
       "       [5.5  , 2.4  , 3.7  , 1.   , 2.   , 3.15 ],\n",
       "       [5.8  , 2.7  , 3.9  , 1.2  , 2.   , 3.4  ],\n",
       "       [6.   , 2.7  , 5.1  , 1.6  , 2.   , 3.85 ],\n",
       "       [5.4  , 3.   , 4.5  , 1.5  , 2.   , 3.6  ],\n",
       "       [6.   , 3.4  , 4.5  , 1.6  , 2.   , 3.875],\n",
       "       [6.7  , 3.1  , 4.7  , 1.5  , 2.   , 4.   ],\n",
       "       [6.3  , 2.3  , 4.4  , 1.3  , 2.   , 3.575],\n",
       "       [5.6  , 3.   , 4.1  , 1.3  , 2.   , 3.5  ],\n",
       "       [5.5  , 2.5  , 4.   , 1.3  , 2.   , 3.325],\n",
       "       [5.5  , 2.6  , 4.4  , 1.2  , 2.   , 3.425],\n",
       "       [6.1  , 3.   , 4.6  , 1.4  , 2.   , 3.775],\n",
       "       [5.8  , 2.6  , 4.   , 1.2  , 2.   , 3.4  ],\n",
       "       [5.   , 2.3  , 3.3  , 1.   , 2.   , 2.9  ],\n",
       "       [5.6  , 2.7  , 4.2  , 1.3  , 2.   , 3.45 ],\n",
       "       [5.7  , 3.   , 4.2  , 1.2  , 2.   , 3.525],\n",
       "       [5.7  , 2.9  , 4.2  , 1.3  , 2.   , 3.525],\n",
       "       [6.2  , 2.9  , 4.3  , 1.3  , 2.   , 3.675],\n",
       "       [5.1  , 2.5  , 3.   , 1.1  , 2.   , 2.925],\n",
       "       [5.7  , 2.8  , 4.1  , 1.3  , 2.   , 3.475],\n",
       "       [6.3  , 3.3  , 6.   , 2.5  , 3.   , 4.525],\n",
       "       [5.8  , 2.7  , 5.1  , 1.9  , 3.   , 3.875],\n",
       "       [7.1  , 3.   , 5.9  , 2.1  , 3.   , 4.525],\n",
       "       [6.3  , 2.9  , 5.6  , 1.8  , 3.   , 4.15 ],\n",
       "       [6.5  , 3.   , 5.8  , 2.2  , 3.   , 4.375],\n",
       "       [7.6  , 3.   , 6.6  , 2.1  , 3.   , 4.825],\n",
       "       [4.9  , 2.5  , 4.5  , 1.7  , 3.   , 3.4  ],\n",
       "       [7.3  , 2.9  , 6.3  , 1.8  , 3.   , 4.575],\n",
       "       [6.7  , 2.5  , 5.8  , 1.8  , 3.   , 4.2  ],\n",
       "       [7.2  , 3.6  , 6.1  , 2.5  , 3.   , 4.85 ],\n",
       "       [6.5  , 3.2  , 5.1  , 2.   , 3.   , 4.2  ],\n",
       "       [6.4  , 2.7  , 5.3  , 1.9  , 3.   , 4.075],\n",
       "       [6.8  , 3.   , 5.5  , 2.1  , 3.   , 4.35 ],\n",
       "       [5.7  , 2.5  , 5.   , 2.   , 3.   , 3.8  ],\n",
       "       [5.8  , 2.8  , 5.1  , 2.4  , 3.   , 4.025],\n",
       "       [6.4  , 3.2  , 5.3  , 2.3  , 3.   , 4.3  ],\n",
       "       [6.5  , 3.   , 5.5  , 1.8  , 3.   , 4.2  ],\n",
       "       [7.7  , 3.8  , 6.7  , 2.2  , 3.   , 5.1  ],\n",
       "       [7.7  , 2.6  , 6.9  , 2.3  , 3.   , 4.875],\n",
       "       [6.   , 2.2  , 5.   , 1.5  , 3.   , 3.675],\n",
       "       [6.9  , 3.2  , 5.7  , 2.3  , 3.   , 4.525],\n",
       "       [5.6  , 2.8  , 4.9  , 2.   , 3.   , 3.825],\n",
       "       [7.7  , 2.8  , 6.7  , 2.   , 3.   , 4.8  ],\n",
       "       [6.3  , 2.7  , 4.9  , 1.8  , 3.   , 3.925],\n",
       "       [6.7  , 3.3  , 5.7  , 2.1  , 3.   , 4.45 ],\n",
       "       [7.2  , 3.2  , 6.   , 1.8  , 3.   , 4.55 ],\n",
       "       [6.2  , 2.8  , 4.8  , 1.8  , 3.   , 3.9  ],\n",
       "       [6.1  , 3.   , 4.9  , 1.8  , 3.   , 3.95 ],\n",
       "       [6.4  , 2.8  , 5.6  , 2.1  , 3.   , 4.225],\n",
       "       [7.2  , 3.   , 5.8  , 1.6  , 3.   , 4.4  ],\n",
       "       [7.4  , 2.8  , 6.1  , 1.9  , 3.   , 4.55 ],\n",
       "       [7.9  , 3.8  , 6.4  , 2.   , 3.   , 5.025],\n",
       "       [6.4  , 2.8  , 5.6  , 2.2  , 3.   , 4.25 ],\n",
       "       [6.3  , 2.8  , 5.1  , 1.5  , 3.   , 3.925],\n",
       "       [6.1  , 2.6  , 5.6  , 1.4  , 3.   , 3.925],\n",
       "       [7.7  , 3.   , 6.1  , 2.3  , 3.   , 4.775],\n",
       "       [6.3  , 3.4  , 5.6  , 2.4  , 3.   , 4.425],\n",
       "       [6.4  , 3.1  , 5.5  , 1.8  , 3.   , 4.2  ],\n",
       "       [6.   , 3.   , 4.8  , 1.8  , 3.   , 3.9  ],\n",
       "       [6.9  , 3.1  , 5.4  , 2.1  , 3.   , 4.375],\n",
       "       [6.7  , 3.1  , 5.6  , 2.4  , 3.   , 4.45 ],\n",
       "       [6.9  , 3.1  , 5.1  , 2.3  , 3.   , 4.35 ],\n",
       "       [5.8  , 2.7  , 5.1  , 1.9  , 3.   , 3.875],\n",
       "       [6.8  , 3.2  , 5.9  , 2.3  , 3.   , 4.55 ],\n",
       "       [6.7  , 3.3  , 5.7  , 2.5  , 3.   , 4.55 ],\n",
       "       [6.7  , 3.   , 5.2  , 2.3  , 3.   , 4.3  ],\n",
       "       [6.3  , 2.5  , 5.   , 1.9  , 3.   , 3.925],\n",
       "       [6.5  , 3.   , 5.2  , 2.   , 3.   , 4.175],\n",
       "       [6.2  , 3.4  , 5.4  , 2.3  , 3.   , 4.325],\n",
       "       [5.9  , 3.   , 5.1  , 1.8  , 3.   , 3.95 ]])"
      ]
     },
     "execution_count": 188,
     "metadata": {},
     "output_type": "execute_result"
    }
   ],
   "source": [
    "np.hstack([iris, np.reshape(np.mean(iris[:,0:4], axis=1), (-1, 1))])"
   ]
  },
  {
   "cell_type": "code",
   "execution_count": 202,
   "id": "f192cf80",
   "metadata": {},
   "outputs": [
    {
     "data": {
      "text/plain": [
       "array([[5.1       , 3.5       , 1.4       , 0.2       , 1.        ],\n",
       "       [4.9       , 3.        , 1.4       , 0.2       , 1.        ],\n",
       "       [4.7       , 3.2       , 1.3       , 0.2       , 1.        ],\n",
       "       [4.6       , 3.1       , 1.5       , 0.2       , 1.        ],\n",
       "       [5.        , 3.6       , 1.4       , 0.2       , 1.        ],\n",
       "       [5.4       , 3.9       , 1.7       , 0.4       , 1.        ],\n",
       "       [4.6       , 3.4       , 1.4       , 0.3       , 1.        ],\n",
       "       [5.        , 3.4       , 1.5       , 0.2       , 1.        ],\n",
       "       [4.4       , 2.9       , 1.4       , 0.2       , 1.        ],\n",
       "       [4.9       , 3.1       , 1.5       , 0.1       , 1.        ],\n",
       "       [5.4       , 3.7       , 1.5       , 0.2       , 1.        ],\n",
       "       [4.8       , 3.4       , 1.6       , 0.2       , 1.        ],\n",
       "       [4.8       , 3.        , 1.4       , 0.1       , 1.        ],\n",
       "       [4.3       , 3.        , 1.1       , 0.1       , 1.        ],\n",
       "       [5.8       , 4.        , 1.2       , 0.2       , 1.        ],\n",
       "       [5.7       , 4.4       , 1.5       , 0.4       , 1.        ],\n",
       "       [5.4       , 3.9       , 1.3       , 0.4       , 1.        ],\n",
       "       [5.1       , 3.5       , 1.4       , 0.3       , 1.        ],\n",
       "       [5.7       , 3.8       , 1.7       , 0.3       , 1.        ],\n",
       "       [5.1       , 3.8       , 1.5       , 0.3       , 1.        ],\n",
       "       [5.4       , 3.4       , 1.7       , 0.2       , 1.        ],\n",
       "       [5.1       , 3.7       , 1.5       , 0.4       , 1.        ],\n",
       "       [4.6       , 3.6       , 1.        , 0.2       , 1.        ],\n",
       "       [5.1       , 3.3       , 1.7       , 0.5       , 1.        ],\n",
       "       [4.8       , 3.4       , 1.9       , 0.2       , 1.        ],\n",
       "       [5.        , 3.        , 1.6       , 0.2       , 1.        ],\n",
       "       [5.        , 3.4       , 1.6       , 0.4       , 1.        ],\n",
       "       [5.2       , 3.5       , 1.5       , 0.2       , 1.        ],\n",
       "       [5.2       , 3.4       , 1.4       , 0.2       , 1.        ],\n",
       "       [4.7       , 3.2       , 1.6       , 0.2       , 1.        ],\n",
       "       [4.8       , 3.1       , 1.6       , 0.2       , 1.        ],\n",
       "       [5.4       , 3.4       , 1.5       , 0.4       , 1.        ],\n",
       "       [5.2       , 4.1       , 1.5       , 0.1       , 1.        ],\n",
       "       [5.5       , 4.2       , 1.4       , 0.2       , 1.        ],\n",
       "       [4.9       , 3.1       , 1.5       , 0.2       , 1.        ],\n",
       "       [5.        , 3.2       , 1.2       , 0.2       , 1.        ],\n",
       "       [5.5       , 3.5       , 1.3       , 0.2       , 1.        ],\n",
       "       [4.9       , 3.6       , 1.4       , 0.1       , 1.        ],\n",
       "       [4.4       , 3.        , 1.3       , 0.2       , 1.        ],\n",
       "       [5.1       , 3.4       , 1.5       , 0.2       , 1.        ],\n",
       "       [5.        , 3.5       , 1.3       , 0.3       , 1.        ],\n",
       "       [4.5       , 2.3       , 1.3       , 0.3       , 1.        ],\n",
       "       [4.4       , 3.2       , 1.3       , 0.2       , 1.        ],\n",
       "       [5.        , 3.5       , 1.6       , 0.6       , 1.        ],\n",
       "       [5.1       , 3.8       , 1.9       , 0.4       , 1.        ],\n",
       "       [4.8       , 3.        , 1.4       , 0.3       , 1.        ],\n",
       "       [5.1       , 3.8       , 1.6       , 0.2       , 1.        ],\n",
       "       [4.6       , 3.2       , 1.4       , 0.2       , 1.        ],\n",
       "       [5.3       , 3.7       , 1.5       , 0.2       , 1.        ],\n",
       "       [5.        , 3.3       , 1.4       , 0.2       , 1.        ],\n",
       "       [7.        , 3.2       , 4.7       , 1.4       , 2.        ],\n",
       "       [6.4       , 3.2       , 4.5       , 1.5       , 2.        ],\n",
       "       [6.9       , 3.1       , 4.9       , 1.5       , 2.        ],\n",
       "       [5.5       , 2.3       , 4.        , 1.3       , 2.        ],\n",
       "       [6.5       , 2.8       , 4.6       , 1.5       , 2.        ],\n",
       "       [5.7       , 2.8       , 4.5       , 1.3       , 2.        ],\n",
       "       [6.3       , 3.3       , 4.7       , 1.6       , 2.        ],\n",
       "       [4.9       , 2.4       , 3.3       , 1.        , 2.        ],\n",
       "       [6.6       , 2.9       , 4.6       , 1.3       , 2.        ],\n",
       "       [5.2       , 2.7       , 3.9       , 1.4       , 2.        ],\n",
       "       [5.        , 2.        , 3.5       , 1.        , 2.        ],\n",
       "       [5.9       , 3.        , 4.2       , 1.5       , 2.        ],\n",
       "       [6.        , 2.2       , 4.        , 1.        , 2.        ],\n",
       "       [6.1       , 2.9       , 4.7       , 1.4       , 2.        ],\n",
       "       [5.6       , 2.9       , 3.6       , 1.3       , 2.        ],\n",
       "       [6.7       , 3.1       , 4.4       , 1.4       , 2.        ],\n",
       "       [5.6       , 3.        , 4.5       , 1.5       , 2.        ],\n",
       "       [5.8       , 2.7       , 4.1       , 1.        , 2.        ],\n",
       "       [6.2       , 2.2       , 4.5       , 1.5       , 2.        ],\n",
       "       [5.6       , 2.5       , 3.9       , 1.1       , 2.        ],\n",
       "       [5.9       , 3.2       , 4.8       , 1.8       , 2.        ],\n",
       "       [6.1       , 2.8       , 4.        , 1.3       , 2.        ],\n",
       "       [6.3       , 2.5       , 4.9       , 1.5       , 2.        ],\n",
       "       [6.1       , 2.8       , 4.7       , 1.2       , 2.        ],\n",
       "       [6.4       , 2.9       , 4.3       , 1.3       , 2.        ],\n",
       "       [6.6       , 3.        , 4.4       , 1.4       , 2.        ],\n",
       "       [6.8       , 2.8       , 4.8       , 1.4       , 2.        ],\n",
       "       [6.7       , 3.        , 5.        , 1.7       , 2.        ],\n",
       "       [6.        , 2.9       , 4.5       , 1.5       , 2.        ],\n",
       "       [5.7       , 2.6       , 3.5       , 1.        , 2.        ],\n",
       "       [5.5       , 2.4       , 3.8       , 1.1       , 2.        ],\n",
       "       [5.5       , 2.4       , 3.7       , 1.        , 2.        ],\n",
       "       [5.8       , 2.7       , 3.9       , 1.2       , 2.        ],\n",
       "       [6.        , 2.7       , 5.1       , 1.6       , 2.        ],\n",
       "       [5.4       , 3.        , 4.5       , 1.5       , 2.        ],\n",
       "       [6.        , 3.4       , 4.5       , 1.6       , 2.        ],\n",
       "       [6.7       , 3.1       , 4.7       , 1.5       , 2.        ],\n",
       "       [6.3       , 2.3       , 4.4       , 1.3       , 2.        ],\n",
       "       [5.6       , 3.        , 4.1       , 1.3       , 2.        ],\n",
       "       [5.5       , 2.5       , 4.        , 1.3       , 2.        ],\n",
       "       [5.5       , 2.6       , 4.4       , 1.2       , 2.        ],\n",
       "       [6.1       , 3.        , 4.6       , 1.4       , 2.        ],\n",
       "       [5.8       , 2.6       , 4.        , 1.2       , 2.        ],\n",
       "       [5.        , 2.3       , 3.3       , 1.        , 2.        ],\n",
       "       [5.6       , 2.7       , 4.2       , 1.3       , 2.        ],\n",
       "       [5.7       , 3.        , 4.2       , 1.2       , 2.        ],\n",
       "       [5.7       , 2.9       , 4.2       , 1.3       , 2.        ],\n",
       "       [6.2       , 2.9       , 4.3       , 1.3       , 2.        ],\n",
       "       [5.1       , 2.5       , 3.        , 1.1       , 2.        ],\n",
       "       [5.7       , 2.8       , 4.1       , 1.3       , 2.        ],\n",
       "       [6.3       , 3.3       , 6.        , 2.5       , 3.        ],\n",
       "       [5.8       , 2.7       , 5.1       , 1.9       , 3.        ],\n",
       "       [7.1       , 3.        , 5.9       , 2.1       , 3.        ],\n",
       "       [6.3       , 2.9       , 5.6       , 1.8       , 3.        ],\n",
       "       [6.5       , 3.        , 5.8       , 2.2       , 3.        ],\n",
       "       [7.6       , 3.        , 6.6       , 2.1       , 3.        ],\n",
       "       [4.9       , 2.5       , 4.5       , 1.7       , 3.        ],\n",
       "       [7.3       , 2.9       , 6.3       , 1.8       , 3.        ],\n",
       "       [6.7       , 2.5       , 5.8       , 1.8       , 3.        ],\n",
       "       [7.2       , 3.6       , 6.1       , 2.5       , 3.        ],\n",
       "       [6.5       , 3.2       , 5.1       , 2.        , 3.        ],\n",
       "       [6.4       , 2.7       , 5.3       , 1.9       , 3.        ],\n",
       "       [6.8       , 3.        , 5.5       , 2.1       , 3.        ],\n",
       "       [5.7       , 2.5       , 5.        , 2.        , 3.        ],\n",
       "       [5.8       , 2.8       , 5.1       , 2.4       , 3.        ],\n",
       "       [6.4       , 3.2       , 5.3       , 2.3       , 3.        ],\n",
       "       [6.5       , 3.        , 5.5       , 1.8       , 3.        ],\n",
       "       [7.7       , 3.8       , 6.7       , 2.2       , 3.        ],\n",
       "       [7.7       , 2.6       , 6.9       , 2.3       , 3.        ],\n",
       "       [6.        , 2.2       , 5.        , 1.5       , 3.        ],\n",
       "       [6.9       , 3.2       , 5.7       , 2.3       , 3.        ],\n",
       "       [5.6       , 2.8       , 4.9       , 2.        , 3.        ],\n",
       "       [7.7       , 2.8       , 6.7       , 2.        , 3.        ],\n",
       "       [6.3       , 2.7       , 4.9       , 1.8       , 3.        ],\n",
       "       [6.7       , 3.3       , 5.7       , 2.1       , 3.        ],\n",
       "       [7.2       , 3.2       , 6.        , 1.8       , 3.        ],\n",
       "       [6.2       , 2.8       , 4.8       , 1.8       , 3.        ],\n",
       "       [6.1       , 3.        , 4.9       , 1.8       , 3.        ],\n",
       "       [6.4       , 2.8       , 5.6       , 2.1       , 3.        ],\n",
       "       [7.2       , 3.        , 5.8       , 1.6       , 3.        ],\n",
       "       [7.4       , 2.8       , 6.1       , 1.9       , 3.        ],\n",
       "       [7.9       , 3.8       , 6.4       , 2.        , 3.        ],\n",
       "       [6.4       , 2.8       , 5.6       , 2.2       , 3.        ],\n",
       "       [6.3       , 2.8       , 5.1       , 1.5       , 3.        ],\n",
       "       [6.1       , 2.6       , 5.6       , 1.4       , 3.        ],\n",
       "       [7.7       , 3.        , 6.1       , 2.3       , 3.        ],\n",
       "       [6.3       , 3.4       , 5.6       , 2.4       , 3.        ],\n",
       "       [6.4       , 3.1       , 5.5       , 1.8       , 3.        ],\n",
       "       [6.        , 3.        , 4.8       , 1.8       , 3.        ],\n",
       "       [6.9       , 3.1       , 5.4       , 2.1       , 3.        ],\n",
       "       [6.7       , 3.1       , 5.6       , 2.4       , 3.        ],\n",
       "       [6.9       , 3.1       , 5.1       , 2.3       , 3.        ],\n",
       "       [5.8       , 2.7       , 5.1       , 1.9       , 3.        ],\n",
       "       [6.8       , 3.2       , 5.9       , 2.3       , 3.        ],\n",
       "       [6.7       , 3.3       , 5.7       , 2.5       , 3.        ],\n",
       "       [6.7       , 3.        , 5.2       , 2.3       , 3.        ],\n",
       "       [6.3       , 2.5       , 5.        , 1.9       , 3.        ],\n",
       "       [6.5       , 3.        , 5.2       , 2.        , 3.        ],\n",
       "       [6.2       , 3.4       , 5.4       , 2.3       , 3.        ],\n",
       "       [5.9       , 3.        , 5.1       , 1.8       , 3.        ],\n",
       "       [5.84333333, 3.05733333, 3.758     , 1.19933333, 2.        ]])"
      ]
     },
     "execution_count": 202,
     "metadata": {},
     "output_type": "execute_result"
    }
   ],
   "source": [
    "moyen = np.mean(iris, axis=0)\n",
    "np.insert(iris, iris.shape[0], moyen, axis=0)\n",
    "# np.insert(iris, 0, moyen, axis=0)"
   ]
  },
  {
   "cell_type": "code",
   "execution_count": null,
   "id": "2c066851",
   "metadata": {},
   "outputs": [],
   "source": []
  }
 ],
 "metadata": {
  "kernelspec": {
   "display_name": "Python 3",
   "language": "python",
   "name": "python3"
  },
  "language_info": {
   "codemirror_mode": {
    "name": "ipython",
    "version": 3
   },
   "file_extension": ".py",
   "mimetype": "text/x-python",
   "name": "python",
   "nbconvert_exporter": "python",
   "pygments_lexer": "ipython3",
   "version": "3.8.8"
  }
 },
 "nbformat": 4,
 "nbformat_minor": 5
}
