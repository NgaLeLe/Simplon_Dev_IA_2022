{
 "cells": [
  {
   "cell_type": "code",
   "execution_count": 2,
   "id": "10086327",
   "metadata": {},
   "outputs": [
    {
     "data": {
      "text/html": [
       "<div>\n",
       "<style scoped>\n",
       "    .dataframe tbody tr th:only-of-type {\n",
       "        vertical-align: middle;\n",
       "    }\n",
       "\n",
       "    .dataframe tbody tr th {\n",
       "        vertical-align: top;\n",
       "    }\n",
       "\n",
       "    .dataframe thead th {\n",
       "        text-align: right;\n",
       "    }\n",
       "</style>\n",
       "<table border=\"1\" class=\"dataframe\">\n",
       "  <thead>\n",
       "    <tr style=\"text-align: right;\">\n",
       "      <th></th>\n",
       "      <th>FILM</th>\n",
       "      <th>RottenTomatoes</th>\n",
       "      <th>RottenTomatoes_User</th>\n",
       "      <th>Metacritic</th>\n",
       "      <th>Metacritic_User</th>\n",
       "      <th>IMDB</th>\n",
       "      <th>Fandango_Stars</th>\n",
       "      <th>Fandango_Ratingvalue</th>\n",
       "      <th>RT_norm</th>\n",
       "      <th>RT_user_norm</th>\n",
       "      <th>...</th>\n",
       "      <th>IMDB_norm</th>\n",
       "      <th>RT_norm_round</th>\n",
       "      <th>RT_user_norm_round</th>\n",
       "      <th>Metacritic_norm_round</th>\n",
       "      <th>Metacritic_user_norm_round</th>\n",
       "      <th>IMDB_norm_round</th>\n",
       "      <th>Metacritic_user_vote_count</th>\n",
       "      <th>IMDB_user_vote_count</th>\n",
       "      <th>Fandango_votes</th>\n",
       "      <th>Fandango_Difference</th>\n",
       "    </tr>\n",
       "  </thead>\n",
       "  <tbody>\n",
       "    <tr>\n",
       "      <th>0</th>\n",
       "      <td>Avengers: Age of Ultron (2015)</td>\n",
       "      <td>74</td>\n",
       "      <td>86</td>\n",
       "      <td>66</td>\n",
       "      <td>7.1</td>\n",
       "      <td>7.8</td>\n",
       "      <td>5.0</td>\n",
       "      <td>4.5</td>\n",
       "      <td>3.70</td>\n",
       "      <td>4.3</td>\n",
       "      <td>...</td>\n",
       "      <td>3.90</td>\n",
       "      <td>3.5</td>\n",
       "      <td>4.5</td>\n",
       "      <td>3.5</td>\n",
       "      <td>3.5</td>\n",
       "      <td>4.0</td>\n",
       "      <td>1330</td>\n",
       "      <td>271107</td>\n",
       "      <td>14846</td>\n",
       "      <td>0.5</td>\n",
       "    </tr>\n",
       "    <tr>\n",
       "      <th>1</th>\n",
       "      <td>Cinderella (2015)</td>\n",
       "      <td>85</td>\n",
       "      <td>80</td>\n",
       "      <td>67</td>\n",
       "      <td>7.5</td>\n",
       "      <td>7.1</td>\n",
       "      <td>5.0</td>\n",
       "      <td>4.5</td>\n",
       "      <td>4.25</td>\n",
       "      <td>4.0</td>\n",
       "      <td>...</td>\n",
       "      <td>3.55</td>\n",
       "      <td>4.5</td>\n",
       "      <td>4.0</td>\n",
       "      <td>3.5</td>\n",
       "      <td>4.0</td>\n",
       "      <td>3.5</td>\n",
       "      <td>249</td>\n",
       "      <td>65709</td>\n",
       "      <td>12640</td>\n",
       "      <td>0.5</td>\n",
       "    </tr>\n",
       "    <tr>\n",
       "      <th>2</th>\n",
       "      <td>Ant-Man (2015)</td>\n",
       "      <td>80</td>\n",
       "      <td>90</td>\n",
       "      <td>64</td>\n",
       "      <td>8.1</td>\n",
       "      <td>7.8</td>\n",
       "      <td>5.0</td>\n",
       "      <td>4.5</td>\n",
       "      <td>4.00</td>\n",
       "      <td>4.5</td>\n",
       "      <td>...</td>\n",
       "      <td>3.90</td>\n",
       "      <td>4.0</td>\n",
       "      <td>4.5</td>\n",
       "      <td>3.0</td>\n",
       "      <td>4.0</td>\n",
       "      <td>4.0</td>\n",
       "      <td>627</td>\n",
       "      <td>103660</td>\n",
       "      <td>12055</td>\n",
       "      <td>0.5</td>\n",
       "    </tr>\n",
       "    <tr>\n",
       "      <th>3</th>\n",
       "      <td>Do You Believe? (2015)</td>\n",
       "      <td>18</td>\n",
       "      <td>84</td>\n",
       "      <td>22</td>\n",
       "      <td>4.7</td>\n",
       "      <td>5.4</td>\n",
       "      <td>5.0</td>\n",
       "      <td>4.5</td>\n",
       "      <td>0.90</td>\n",
       "      <td>4.2</td>\n",
       "      <td>...</td>\n",
       "      <td>2.70</td>\n",
       "      <td>1.0</td>\n",
       "      <td>4.0</td>\n",
       "      <td>1.0</td>\n",
       "      <td>2.5</td>\n",
       "      <td>2.5</td>\n",
       "      <td>31</td>\n",
       "      <td>3136</td>\n",
       "      <td>1793</td>\n",
       "      <td>0.5</td>\n",
       "    </tr>\n",
       "    <tr>\n",
       "      <th>4</th>\n",
       "      <td>Hot Tub Time Machine 2 (2015)</td>\n",
       "      <td>14</td>\n",
       "      <td>28</td>\n",
       "      <td>29</td>\n",
       "      <td>3.4</td>\n",
       "      <td>5.1</td>\n",
       "      <td>3.5</td>\n",
       "      <td>3.0</td>\n",
       "      <td>0.70</td>\n",
       "      <td>1.4</td>\n",
       "      <td>...</td>\n",
       "      <td>2.55</td>\n",
       "      <td>0.5</td>\n",
       "      <td>1.5</td>\n",
       "      <td>1.5</td>\n",
       "      <td>1.5</td>\n",
       "      <td>2.5</td>\n",
       "      <td>88</td>\n",
       "      <td>19560</td>\n",
       "      <td>1021</td>\n",
       "      <td>0.5</td>\n",
       "    </tr>\n",
       "  </tbody>\n",
       "</table>\n",
       "<p>5 rows × 22 columns</p>\n",
       "</div>"
      ],
      "text/plain": [
       "                             FILM  RottenTomatoes  RottenTomatoes_User  \\\n",
       "0  Avengers: Age of Ultron (2015)              74                   86   \n",
       "1               Cinderella (2015)              85                   80   \n",
       "2                  Ant-Man (2015)              80                   90   \n",
       "3          Do You Believe? (2015)              18                   84   \n",
       "4   Hot Tub Time Machine 2 (2015)              14                   28   \n",
       "\n",
       "   Metacritic  Metacritic_User  IMDB  Fandango_Stars  Fandango_Ratingvalue  \\\n",
       "0          66              7.1   7.8             5.0                   4.5   \n",
       "1          67              7.5   7.1             5.0                   4.5   \n",
       "2          64              8.1   7.8             5.0                   4.5   \n",
       "3          22              4.7   5.4             5.0                   4.5   \n",
       "4          29              3.4   5.1             3.5                   3.0   \n",
       "\n",
       "   RT_norm  RT_user_norm  ...  IMDB_norm  RT_norm_round  RT_user_norm_round  \\\n",
       "0     3.70           4.3  ...       3.90            3.5                 4.5   \n",
       "1     4.25           4.0  ...       3.55            4.5                 4.0   \n",
       "2     4.00           4.5  ...       3.90            4.0                 4.5   \n",
       "3     0.90           4.2  ...       2.70            1.0                 4.0   \n",
       "4     0.70           1.4  ...       2.55            0.5                 1.5   \n",
       "\n",
       "   Metacritic_norm_round  Metacritic_user_norm_round  IMDB_norm_round  \\\n",
       "0                    3.5                         3.5              4.0   \n",
       "1                    3.5                         4.0              3.5   \n",
       "2                    3.0                         4.0              4.0   \n",
       "3                    1.0                         2.5              2.5   \n",
       "4                    1.5                         1.5              2.5   \n",
       "\n",
       "   Metacritic_user_vote_count  IMDB_user_vote_count  Fandango_votes  \\\n",
       "0                        1330                271107           14846   \n",
       "1                         249                 65709           12640   \n",
       "2                         627                103660           12055   \n",
       "3                          31                  3136            1793   \n",
       "4                          88                 19560            1021   \n",
       "\n",
       "   Fandango_Difference  \n",
       "0                  0.5  \n",
       "1                  0.5  \n",
       "2                  0.5  \n",
       "3                  0.5  \n",
       "4                  0.5  \n",
       "\n",
       "[5 rows x 22 columns]"
      ]
     },
     "execution_count": 2,
     "metadata": {},
     "output_type": "execute_result"
    }
   ],
   "source": [
    "import pandas as pd\n",
    "fandago = pd.read_csv(\"donnees/fandango_score_comparison.csv\")\n",
    "fandago.head(5)"
   ]
  },
  {
   "cell_type": "code",
   "execution_count": 3,
   "id": "c31f09ab",
   "metadata": {},
   "outputs": [
    {
     "name": "stdout",
     "output_type": "stream",
     "text": [
      "<class 'pandas.core.series.Series'>\n",
      "\n",
      "0    Avengers: Age of Ultron (2015)\n",
      "1                 Cinderella (2015)\n",
      "2                    Ant-Man (2015)\n",
      "3            Do You Believe? (2015)\n",
      "4     Hot Tub Time Machine 2 (2015)\n",
      "Name: FILM, dtype: object\n"
     ]
    }
   ],
   "source": [
    "#travail s/series\n",
    "ser_film = fandago[\"FILM\"]\n",
    "print(type(ser_film))\n",
    "print()\n",
    "print(ser_film[0:5])"
   ]
  },
  {
   "cell_type": "code",
   "execution_count": 6,
   "id": "b0835deb",
   "metadata": {},
   "outputs": [
    {
     "name": "stdout",
     "output_type": "stream",
     "text": [
      "0    74\n",
      "1    85\n",
      "2    80\n",
      "3    18\n",
      "4    14\n",
      "Name: RottenTomatoes, dtype: int64\n"
     ]
    }
   ],
   "source": [
    "se_rot = fandago[\"RottenTomatoes\"]\n",
    "print(se_rot[0:5])"
   ]
  },
  {
   "cell_type": "code",
   "execution_count": 7,
   "id": "0ba13a37",
   "metadata": {},
   "outputs": [
    {
     "name": "stdout",
     "output_type": "stream",
     "text": [
      "<class 'numpy.ndarray'>\n",
      "['Avengers: Age of Ultron (2015)' 'Cinderella (2015)' 'Ant-Man (2015)'\n",
      " 'Do You Believe? (2015)' 'Hot Tub Time Machine 2 (2015)'\n",
      " 'The Water Diviner (2015)' 'Irrational Man (2015)' 'Top Five (2014)'\n",
      " 'Shaun the Sheep Movie (2015)' 'Love & Mercy (2015)'\n",
      " 'Far From The Madding Crowd (2015)' 'Black Sea (2015)' 'Leviathan (2014)'\n",
      " 'Unbroken (2014)' 'The Imitation Game (2014)' 'Taken 3 (2015)'\n",
      " 'Ted 2 (2015)' 'Southpaw (2015)'\n",
      " 'Night at the Museum: Secret of the Tomb (2014)' 'Pixels (2015)'\n",
      " 'McFarland, USA (2015)' 'Insidious: Chapter 3 (2015)'\n",
      " 'The Man From U.N.C.L.E. (2015)' 'Run All Night (2015)'\n",
      " 'Trainwreck (2015)' 'Selma (2014)' 'Ex Machina (2015)'\n",
      " 'Still Alice (2015)' 'Wild Tales (2014)' 'The End of the Tour (2015)'\n",
      " 'Red Army (2015)' 'When Marnie Was There (2015)'\n",
      " 'The Hunting Ground (2015)' 'The Boy Next Door (2015)' 'Aloha (2015)'\n",
      " 'The Loft (2015)' '5 Flights Up (2015)' 'Welcome to Me (2015)'\n",
      " 'Saint Laurent (2015)' 'Maps to the Stars (2015)'\n",
      " \"I'll See You In My Dreams (2015)\" 'Timbuktu (2015)' 'About Elly (2015)'\n",
      " 'The Diary of a Teenage Girl (2015)'\n",
      " 'Kingsman: The Secret Service (2015)' 'Tomorrowland (2015)'\n",
      " 'The Divergent Series: Insurgent (2015)' 'Annie (2014)'\n",
      " 'Fantastic Four (2015)' 'Terminator Genisys (2015)'\n",
      " 'Pitch Perfect 2 (2015)' 'Entourage (2015)' 'The Age of Adaline (2015)'\n",
      " 'Hot Pursuit (2015)' 'The DUFF (2015)' 'Black or White (2015)'\n",
      " 'Project Almanac (2015)' 'Ricki and the Flash (2015)'\n",
      " 'Seventh Son (2015)' 'Mortdecai (2015)' 'Unfinished Business (2015)'\n",
      " 'American Ultra (2015)' 'True Story (2015)' 'Child 44 (2015)'\n",
      " 'Dark Places (2015)' 'Birdman (2014)' 'The Gift (2015)'\n",
      " 'Unfriended (2015)' 'Monkey Kingdom (2015)' 'Mr. Turner (2014)'\n",
      " 'Seymour: An Introduction (2015)' 'The Wrecking Crew (2015)'\n",
      " 'American Sniper (2015)' 'Furious 7 (2015)'\n",
      " 'The Hobbit: The Battle of the Five Armies (2014)' 'San Andreas (2015)'\n",
      " 'Straight Outta Compton (2015)' 'Vacation (2015)' 'Chappie (2015)'\n",
      " 'Poltergeist (2015)' 'Paper Towns (2015)' 'Big Eyes (2014)'\n",
      " 'Blackhat (2015)' 'Self/less (2015)' 'Sinister 2 (2015)'\n",
      " 'Little Boy (2015)' 'Me and Earl and The Dying Girl (2015)'\n",
      " 'Maggie (2015)' 'Mad Max: Fury Road (2015)' 'Spy (2015)'\n",
      " 'The SpongeBob Movie: Sponge Out of Water (2015)' 'Paddington (2015)'\n",
      " 'Dope (2015)' 'What We Do in the Shadows (2015)' 'The Overnight (2015)'\n",
      " 'The Salt of the Earth (2015)' 'Song of the Sea (2014)'\n",
      " 'Fifty Shades of Grey (2015)' 'Get Hard (2015)' 'Focus (2015)'\n",
      " 'Jupiter Ascending (2015)' 'The Gallows (2015)'\n",
      " 'The Second Best Exotic Marigold Hotel (2015)' 'Strange Magic (2015)'\n",
      " 'The Gunman (2015)' 'Hitman: Agent 47 (2015)' 'Cake (2015)'\n",
      " 'The Vatican Tapes (2015)' 'A Little Chaos (2015)'\n",
      " 'The 100-Year-Old Man Who Climbed Out the Window and Disappeared (2015)'\n",
      " 'Escobar: Paradise Lost (2015)' 'Into the Woods (2014)'\n",
      " 'It Follows (2015)' 'Inherent Vice (2014)' 'A Most Violent Year (2014)'\n",
      " \"While We're Young (2015)\" 'Clouds of Sils Maria (2015)'\n",
      " 'Testament of Youth (2015)' 'Infinitely Polar Bear (2015)'\n",
      " 'Phoenix (2015)' 'The Wolfpack (2015)'\n",
      " 'The Stanford Prison Experiment (2015)' 'Tangerine (2015)'\n",
      " 'Magic Mike XXL (2015)' 'Home (2015)' 'The Wedding Ringer (2015)'\n",
      " 'Woman in Gold (2015)' 'The Last Five Years (2015)'\n",
      " 'Mission: Impossible â€“ Rogue Nation (2015)' 'Amy (2015)'\n",
      " 'Jurassic World (2015)' 'Minions (2015)' 'Max (2015)'\n",
      " 'Paul Blart: Mall Cop 2 (2015)' 'The Longest Ride (2015)'\n",
      " 'The Lazarus Effect (2015)' 'The Woman In Black 2 Angel of Death (2015)'\n",
      " 'Danny Collins (2015)' 'Spare Parts (2015)' 'Serena (2015)'\n",
      " 'Inside Out (2015)' 'Mr. Holmes (2015)' \"'71 (2015)\"\n",
      " 'Two Days, One Night (2014)' 'Gett: The Trial of Viviane Amsalem (2015)'\n",
      " 'Kumiko, The Treasure Hunter (2015)']\n"
     ]
    }
   ],
   "source": [
    "#personnalise les index\n",
    "#import pk Series\n",
    "from pandas import Series\n",
    "#recupere les valeurs d'une series, type de retour dataframe\n",
    "film_names = ser_film.values\n",
    "rot_scores = se_rot.values\n",
    "print(type(film_names))\n",
    "print(film_names)"
   ]
  },
  {
   "cell_type": "code",
   "execution_count": 10,
   "id": "0295184e",
   "metadata": {},
   "outputs": [
    {
     "data": {
      "text/plain": [
       "Avengers: Age of Ultron (2015)                74\n",
       "Cinderella (2015)                             85\n",
       "Ant-Man (2015)                                80\n",
       "Do You Believe? (2015)                        18\n",
       "Hot Tub Time Machine 2 (2015)                 14\n",
       "                                            ... \n",
       "Mr. Holmes (2015)                             87\n",
       "'71 (2015)                                    97\n",
       "Two Days, One Night (2014)                    97\n",
       "Gett: The Trial of Viviane Amsalem (2015)    100\n",
       "Kumiko, The Treasure Hunter (2015)            87\n",
       "Length: 146, dtype: int64"
      ]
     },
     "execution_count": 10,
     "metadata": {},
     "output_type": "execute_result"
    }
   ],
   "source": [
    "#creer une serie avec index et valeur propriétaire\n",
    "se_custom = Series(rot_scores, index=film_names)\n",
    "se_custom"
   ]
  },
  {
   "cell_type": "code",
   "execution_count": 11,
   "id": "1083a7b1",
   "metadata": {},
   "outputs": [
    {
     "data": {
      "text/plain": [
       "Avengers: Age of Ultron (2015)                74\n",
       "Gett: The Trial of Viviane Amsalem (2015)    100\n",
       "dtype: int64"
      ]
     },
     "execution_count": 11,
     "metadata": {},
     "output_type": "execute_result"
    }
   ],
   "source": [
    "#choisi qq éléments dans la serie, par etiquette d'index, nourri par liste [list index]\n",
    "se_custom[[\"Avengers: Age of Ultron (2015)\",\"Gett: The Trial of Viviane Amsalem (2015)\"]]"
   ]
  },
  {
   "cell_type": "code",
   "execution_count": 12,
   "id": "9ce6ffc7",
   "metadata": {},
   "outputs": [
    {
     "data": {
      "text/plain": [
       "The Water Diviner (2015)        63\n",
       "Irrational Man (2015)           42\n",
       "Top Five (2014)                 86\n",
       "Shaun the Sheep Movie (2015)    99\n",
       "Love & Mercy (2015)             89\n",
       "dtype: int64"
      ]
     },
     "execution_count": 12,
     "metadata": {},
     "output_type": "execute_result"
    }
   ],
   "source": [
    "#affiche les ele par slicing\n",
    "se_custom[5:10]"
   ]
  },
  {
   "cell_type": "code",
   "execution_count": 13,
   "id": "2b25e048",
   "metadata": {},
   "outputs": [
    {
     "name": "stdout",
     "output_type": "stream",
     "text": [
      "'71 (2015)                          97\n",
      "5 Flights Up (2015)                 52\n",
      "A Little Chaos (2015)               40\n",
      "A Most Violent Year (2014)          90\n",
      "About Elly (2015)                   97\n",
      "                                    ..\n",
      "What We Do in the Shadows (2015)    96\n",
      "When Marnie Was There (2015)        89\n",
      "While We're Young (2015)            83\n",
      "Wild Tales (2014)                   96\n",
      "Woman in Gold (2015)                52\n",
      "Length: 146, dtype: int64\n"
     ]
    }
   ],
   "source": [
    "#reindex s/series\n",
    "#- Créer la liste original_index contenant l'index actuel à partir de l'attribut index.\n",
    "#- Trier cet index en utilisant la méthode sorted() et assigner le résultat à la variable sorted_index.\n",
    "#- Puis appliquer la méthode reindex() à notre Series custom_series afin de réindexer selon l'index de sorted_index.\n",
    "#- Stocker le résultat dans la variable sorted_by_index.\n",
    "#- Afficher le résultat.\n",
    "\n",
    "origin_id = se_custom.index\n",
    "sorted_id = sorted(origin_id) #sort by origin_id\n",
    "sorted_by_id = se_custom.reindex(sorted_id) #reindex par sorted_id\n",
    "print(sorted_by_id)"
   ]
  },
  {
   "cell_type": "code",
   "execution_count": 22,
   "id": "723de3b8",
   "metadata": {},
   "outputs": [
    {
     "data": {
      "text/plain": [
       "'71 (2015)                    97\n",
       "5 Flights Up (2015)           52\n",
       "A Little Chaos (2015)         40\n",
       "A Most Violent Year (2014)    90\n",
       "About Elly (2015)             97\n",
       "dtype: int64"
      ]
     },
     "execution_count": 22,
     "metadata": {},
     "output_type": "execute_result"
    }
   ],
   "source": [
    "#Trier un ojt series\n",
    "sc2 = se_custom.sort_index() #trier par id\n",
    "sc3 = se_custom.sort_values() #tries par valeurs\n",
    "sc2.head(5)"
   ]
  },
  {
   "cell_type": "code",
   "execution_count": 21,
   "id": "90ce73ec",
   "metadata": {},
   "outputs": [
    {
     "name": "stdout",
     "output_type": "stream",
     "text": [
      "Paul Blart: Mall Cop 2 (2015)     5\n",
      "Hitman: Agent 47 (2015)           7\n",
      "Hot Pursuit (2015)                8\n",
      "Fantastic Four (2015)             9\n",
      "Taken 3 (2015)                    9\n",
      "The Boy Next Door (2015)         10\n",
      "The Loft (2015)                  11\n",
      "Unfinished Business (2015)       11\n",
      "Mortdecai (2015)                 12\n",
      "Seventh Son (2015)               12\n",
      "dtype: int64\n"
     ]
    }
   ],
   "source": [
    "print(sc3[0:10])"
   ]
  },
  {
   "cell_type": "markdown",
   "id": "80470d1e",
   "metadata": {},
   "source": [
    "#trie décroissance\n",
    "sc4 = se_custom.sort_index(ascending=False)\n",
    "sc4.head(5)"
   ]
  },
  {
   "cell_type": "code",
   "execution_count": 24,
   "id": "91078de5",
   "metadata": {},
   "outputs": [
    {
     "data": {
      "text/plain": [
       "Woman in Gold (2015)                52\n",
       "Wild Tales (2014)                   96\n",
       "While We're Young (2015)            83\n",
       "When Marnie Was There (2015)        89\n",
       "What We Do in the Shadows (2015)    96\n",
       "dtype: int64"
      ]
     },
     "execution_count": 24,
     "metadata": {},
     "output_type": "execute_result"
    }
   ],
   "source": [
    "#trie décroissance\n",
    "sc4 = se_custom.sort_index(ascending=False)\n",
    "sc4.head(5)"
   ]
  },
  {
   "cell_type": "code",
   "execution_count": 25,
   "id": "76f4ebb0",
   "metadata": {},
   "outputs": [
    {
     "data": {
      "text/plain": [
       "Avengers: Age of Ultron (2015)               3.70\n",
       "Cinderella (2015)                            4.25\n",
       "Ant-Man (2015)                               4.00\n",
       "Do You Believe? (2015)                       0.90\n",
       "Hot Tub Time Machine 2 (2015)                0.70\n",
       "                                             ... \n",
       "Mr. Holmes (2015)                            4.35\n",
       "'71 (2015)                                   4.85\n",
       "Two Days, One Night (2014)                   4.85\n",
       "Gett: The Trial of Viviane Amsalem (2015)    5.00\n",
       "Kumiko, The Treasure Hunter (2015)           4.35\n",
       "Length: 146, dtype: float64"
      ]
     },
     "execution_count": 25,
     "metadata": {},
     "output_type": "execute_result"
    }
   ],
   "source": [
    "#transformation des cols\n",
    "#- Normaliser la Series series_custom (échelle de notes de 0 à 100) pour obtenir une échelle de notes de 0 à 5 en divisant l'objet par 20.\n",
    "#- Assigner le nouvel objet Series à la variable series_normalized.\n",
    "#- Afficher le résultat.\n",
    "se_normalized = (se_custom/20)\n",
    "se_normalized"
   ]
  },
  {
   "cell_type": "markdown",
   "id": "4800eed0",
   "metadata": {},
   "source": [
    "Comparer et filtrer"
   ]
  },
  {
   "cell_type": "code",
   "execution_count": 26,
   "id": "8ff02d61",
   "metadata": {},
   "outputs": [
    {
     "data": {
      "text/plain": [
       "Avengers: Age of Ultron (2015)                True\n",
       "Cinderella (2015)                             True\n",
       "Ant-Man (2015)                                True\n",
       "Do You Believe? (2015)                       False\n",
       "Hot Tub Time Machine 2 (2015)                False\n",
       "                                             ...  \n",
       "Mr. Holmes (2015)                             True\n",
       "'71 (2015)                                    True\n",
       "Two Days, One Night (2014)                    True\n",
       "Gett: The Trial of Viviane Amsalem (2015)     True\n",
       "Kumiko, The Treasure Hunter (2015)            True\n",
       "Length: 146, dtype: bool"
      ]
     },
     "execution_count": 26,
     "metadata": {},
     "output_type": "execute_result"
    }
   ],
   "source": [
    "#compare et filtre\n",
    "#critere value est entre 50-75\n",
    "critere1 = se_custom > 50\n",
    "critere2 = se_custom < 75\n",
    "critere1"
   ]
  },
  {
   "cell_type": "code",
   "execution_count": 28,
   "id": "b3634dfb",
   "metadata": {},
   "outputs": [
    {
     "data": {
      "text/plain": [
       "Avengers: Age of Ultron (2015)    74\n",
       "The Water Diviner (2015)          63\n",
       "Unbroken (2014)                   51\n",
       "Southpaw (2015)                   59\n",
       "Insidious: Chapter 3 (2015)       59\n",
       "The Man From U.N.C.L.E. (2015)    68\n",
       "Run All Night (2015)              60\n",
       "5 Flights Up (2015)               52\n",
       "Welcome to Me (2015)              71\n",
       "Saint Laurent (2015)              51\n",
       "dtype: int64"
      ]
     },
     "execution_count": 28,
     "metadata": {},
     "output_type": "execute_result"
    }
   ],
   "source": [
    "both_critere = se_custom[critere1 & critere2]\n",
    "both_critere[0:10]"
   ]
  },
  {
   "cell_type": "code",
   "execution_count": 33,
   "id": "a9e03d87",
   "metadata": {},
   "outputs": [],
   "source": [
    "#aligne des donnees\n",
    "#- Créer la Series rt_critics qui index les valeurs des notes de la colonne RottenTomatoes (notes des critiques) avec comme index le nom des films (colonne FILM).\n",
    "#- Créer la Series rt_users qui index les valeurs des notes de la colonne RottenTomatoes_User (note des utilisateurs) avec comme index le nom des films (colonne FILM).\n",
    "#- rt_critics et rt_users sont donc 2 objets Series contenant la moyenne des notes des critiques et des utilisateurs pour chaque film.\n",
    "#- Puisque chaque Series utilise le même index (correspondant aux noms des films), utiliser des opérations mathématiques pour retourner la moyenne des notes des critiques et des utilisateurs pour chaque film.\n",
    "#- Assigner la Series résultante à la variable rt_mean.\n",
    "#- Afficher le résultat.\n",
    "\n",
    "rt_critics = Series(fandago[\"RottenTomatoes\"].values, index = fandago[\"FILM\"])\n",
    "rt_users = Series(fandago[\"RottenTomatoes_User\"].values, index = fandago[\"FILM\"])"
   ]
  },
  {
   "cell_type": "code",
   "execution_count": 34,
   "id": "d3795394",
   "metadata": {},
   "outputs": [
    {
     "name": "stdout",
     "output_type": "stream",
     "text": [
      "FILM\n",
      "Avengers: Age of Ultron (2015)               80.0\n",
      "Cinderella (2015)                            82.5\n",
      "Ant-Man (2015)                               85.0\n",
      "Do You Believe? (2015)                       51.0\n",
      "Hot Tub Time Machine 2 (2015)                21.0\n",
      "                                             ... \n",
      "Mr. Holmes (2015)                            82.5\n",
      "'71 (2015)                                   89.5\n",
      "Two Days, One Night (2014)                   87.5\n",
      "Gett: The Trial of Viviane Amsalem (2015)    90.5\n",
      "Kumiko, The Treasure Hunter (2015)           75.0\n",
      "Length: 146, dtype: float64\n"
     ]
    }
   ],
   "source": [
    "rt_mean = (rt_critics + rt_users)/2\n",
    "print(rt_mean)"
   ]
  },
  {
   "cell_type": "code",
   "execution_count": null,
   "id": "b1835985",
   "metadata": {},
   "outputs": [],
   "source": []
  }
 ],
 "metadata": {
  "kernelspec": {
   "display_name": "Python 3",
   "language": "python",
   "name": "python3"
  },
  "language_info": {
   "codemirror_mode": {
    "name": "ipython",
    "version": 3
   },
   "file_extension": ".py",
   "mimetype": "text/x-python",
   "name": "python",
   "nbconvert_exporter": "python",
   "pygments_lexer": "ipython3",
   "version": "3.8.8"
  }
 },
 "nbformat": 4,
 "nbformat_minor": 5
}
