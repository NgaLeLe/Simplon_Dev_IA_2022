{
 "cells": [
  {
   "cell_type": "code",
   "execution_count": 1,
   "id": "366b2cee",
   "metadata": {},
   "outputs": [
    {
     "data": {
      "text/plain": [
       "'/home/simplon/exoPython/Simplon_Dev_IA_2022/Jeux_de_donnees'"
      ]
     },
     "execution_count": 1,
     "metadata": {},
     "output_type": "execute_result"
    }
   ],
   "source": [
    "%pwd"
   ]
  },
  {
   "cell_type": "code",
   "execution_count": 36,
   "id": "e0eae2e5",
   "metadata": {},
   "outputs": [
    {
     "name": "stdout",
     "output_type": "stream",
     "text": [
      "[['1986' 'Western Pacific' 'Viet Nam' 'Wine' '0']\n",
      " ['1986' 'Americas' 'Uruguay' 'Other' '0.5']\n",
      " ['1985' 'Africa' \"Cte d'Ivoire\" 'Wine' '1.62']\n",
      " ...\n",
      " ['1986' 'Europe' 'Switzerland' 'Spirits' '2.54']\n",
      " ['1987' 'Western Pacific' 'Papua New Guinea' 'Other' '0']\n",
      " ['1986' 'Africa' 'Swaziland' 'Other' '5.15']]\n",
      "(3257, 5)\n"
     ]
    }
   ],
   "source": [
    "import numpy as np\n",
    "world_alcohol = np.genfromtxt(\"world_alcohol.csv\", delimiter=\",\", dtype=\"U75\", skip_header=1)\n",
    "print(world_alcohol)\n",
    "print(world_alcohol.shape)"
   ]
  },
  {
   "cell_type": "code",
   "execution_count": 11,
   "id": "584f935b",
   "metadata": {},
   "outputs": [
    {
     "name": "stdout",
     "output_type": "stream",
     "text": [
      "3257\n",
      "\n",
      "[['1984' 'Americas' 'Canada' 'Spirits' '3.35']\n",
      " ['1989' 'Americas' 'Canada' 'Wine' '1.27']\n",
      " ['1984' 'Americas' 'Canada' 'Beer' '5']\n",
      " ['1985' 'Americas' 'Canada' 'Beer' '4.94']\n",
      " ['1987' 'Americas' 'Canada' 'Wine' '1.3']\n",
      " ['1987' 'Americas' 'Canada' 'Beer' '4.83']\n",
      " ['1986' 'Americas' 'Canada' 'Other' '']\n",
      " ['1986' 'Americas' 'Canada' 'Spirits' '3.11']\n",
      " ['1985' 'Americas' 'Canada' 'Spirits' '3.21']\n",
      " ['1985' 'Americas' 'Canada' 'Other' '']\n",
      " ['1986' 'Americas' 'Canada' 'Beer' '4.87']\n",
      " ['1984' 'Americas' 'Canada' 'Wine' '1.24']\n",
      " ['1989' 'Americas' 'Canada' 'Spirits' '2.91']\n",
      " ['1984' 'Americas' 'Canada' 'Other' '']\n",
      " ['1985' 'Americas' 'Canada' 'Wine' '1.29']\n",
      " ['1987' 'Americas' 'Canada' 'Spirits' '2.99']\n",
      " ['1989' 'Americas' 'Canada' 'Beer' '4.82']\n",
      " ['1989' 'Americas' 'Canada' 'Other' '']\n",
      " ['1986' 'Americas' 'Canada' 'Wine' '1.33']\n",
      " ['1987' 'Americas' 'Canada' 'Other' '']]\n"
     ]
    }
   ],
   "source": [
    "#L'annee, la zone geographique/continent, le pays, \n",
    "#le type de alcohol\n",
    "#la quantité moyenne d'alcohol consommé par habitant\n",
    "countries_is_canada = world_alcohol[:,2] == \"Canada\"\n",
    "#faire un masque , pour obtenir les donnees qui sont en Canada\n",
    "countries_canada = world_alcohol[countries_is_canada] \n",
    "print()\n",
    "print(countries_canada)"
   ]
  },
  {
   "cell_type": "code",
   "execution_count": 12,
   "id": "03aa2187",
   "metadata": {},
   "outputs": [
    {
     "name": "stdout",
     "output_type": "stream",
     "text": [
      "[['1984' 'Africa' 'Algeria' 'Spirits' '0.01']\n",
      " ['1987' 'Africa' 'Algeria' 'Beer' '0.17']\n",
      " ['1987' 'Africa' 'Algeria' 'Spirits' '0.01']\n",
      " ['1986' 'Africa' 'Algeria' 'Wine' '0.1']\n",
      " ['1984' 'Africa' 'Algeria' 'Other' '0']\n",
      " ['1989' 'Africa' 'Algeria' 'Beer' '0.16']\n",
      " ['1989' 'Africa' 'Algeria' 'Spirits' '0.01']\n",
      " ['1989' 'Africa' 'Algeria' 'Wine' '0.23']\n",
      " ['1986' 'Africa' 'Algeria' 'Spirits' '0.01']\n",
      " ['1984' 'Africa' 'Algeria' 'Wine' '0.12']\n",
      " ['1985' 'Africa' 'Algeria' 'Beer' '0.19']\n",
      " ['1985' 'Africa' 'Algeria' 'Other' '0']\n",
      " ['1986' 'Africa' 'Algeria' 'Beer' '0.18']\n",
      " ['1985' 'Africa' 'Algeria' 'Wine' '0.11']\n",
      " ['1986' 'Africa' 'Algeria' 'Other' '0']\n",
      " ['1989' 'Africa' 'Algeria' 'Other' '0']\n",
      " ['1987' 'Africa' 'Algeria' 'Other' '0']\n",
      " ['1984' 'Africa' 'Algeria' 'Beer' '0.2']\n",
      " ['1985' 'Africa' 'Algeria' 'Spirits' '0.01']\n",
      " ['1987' 'Africa' 'Algeria' 'Wine' '0.1']]\n",
      "(20, 5)\n"
     ]
    }
   ],
   "source": [
    "countries_is_algeria = world_alcohol[:,2] == \"Algeria\"\n",
    "algeria = world_alcohol[countries_is_algeria]\n",
    "print(algeria)\n",
    "print(algeria.shape)"
   ]
  },
  {
   "cell_type": "code",
   "execution_count": 24,
   "id": "b142fa9d",
   "metadata": {},
   "outputs": [
    {
     "name": "stdout",
     "output_type": "stream",
     "text": [
      "[['1984' 'Western Pacific' 'Viet Nam' 'Wine' '0']\n",
      " ['1984' 'Americas' 'Uruguay' 'Other' '0.5']\n",
      " ['1984' 'Africa' \"Cte d'Ivoire\" 'Wine' '1.62']\n",
      " ...\n",
      " ['1984' 'Europe' 'Switzerland' 'Spirits' '2.54']\n",
      " ['1984' 'Western Pacific' 'Papua New Guinea' 'Other' '0']\n",
      " ['1984' 'Africa' 'Swaziland' 'Other' '5.15']]\n",
      "3257\n"
     ]
    }
   ],
   "source": [
    "countries_in_1984 = world_alcohol[:,0] == \"1984\"\n",
    "countries1984 = world_alcohol[countries_in_1984]\n",
    "print(countries1984)\n",
    "print(countries1984.shape[0])"
   ]
  },
  {
   "cell_type": "code",
   "execution_count": 38,
   "id": "385151dc",
   "metadata": {},
   "outputs": [
    {
     "name": "stdout",
     "output_type": "stream",
     "text": [
      "[['1986' 'Africa' 'Algeria' 'Wine' '0.1']\n",
      " ['1986' 'Africa' 'Algeria' 'Spirits' '0.01']\n",
      " ['1986' 'Africa' 'Algeria' 'Beer' '0.18']\n",
      " ['1986' 'Africa' 'Algeria' 'Other' '0']]\n",
      "(4, 5)\n"
     ]
    }
   ],
   "source": [
    "is_algeria_1986 = (world_alcohol[:,2] == \"Algeria\") & (world_alcohol[:,0] == \"1986\")\n",
    "rows_algeria1986 = world_alcohol[is_algeria_1986]\n",
    "print(rows_algeria1986)\n",
    "print(rows_algeria1986.shape)"
   ]
  },
  {
   "cell_type": "code",
   "execution_count": 26,
   "id": "0c41732d",
   "metadata": {},
   "outputs": [
    {
     "name": "stdout",
     "output_type": "stream",
     "text": [
      "(3257, 5)\n"
     ]
    }
   ],
   "source": [
    "print(world_alcohol.shape)"
   ]
  },
  {
   "cell_type": "code",
   "execution_count": 29,
   "id": "6fee4c03",
   "metadata": {},
   "outputs": [
    {
     "name": "stdout",
     "output_type": "stream",
     "text": [
      "[['1984' 'Africa' 'Algeria' 'Spirits' '0.01']\n",
      " ['1984' 'Africa' 'Algeria' 'Beer' '0.17']\n",
      " ['1984' 'Africa' 'Algeria' 'Spirits' '0.01']\n",
      " ['1984' 'Africa' 'Algeria' 'Wine' '0.1']\n",
      " ['1984' 'Africa' 'Algeria' 'Other' '0']\n",
      " ['1984' 'Africa' 'Algeria' 'Beer' '0.16']\n",
      " ['1984' 'Africa' 'Algeria' 'Spirits' '0.01']\n",
      " ['1984' 'Africa' 'Algeria' 'Wine' '0.23']\n",
      " ['1984' 'Africa' 'Algeria' 'Spirits' '0.01']\n",
      " ['1984' 'Africa' 'Algeria' 'Wine' '0.12']\n",
      " ['1984' 'Africa' 'Algeria' 'Beer' '0.19']\n",
      " ['1984' 'Africa' 'Algeria' 'Other' '0']\n",
      " ['1984' 'Africa' 'Algeria' 'Beer' '0.18']\n",
      " ['1984' 'Africa' 'Algeria' 'Wine' '0.11']\n",
      " ['1984' 'Africa' 'Algeria' 'Other' '0']\n",
      " ['1984' 'Africa' 'Algeria' 'Other' '0']\n",
      " ['1984' 'Africa' 'Algeria' 'Other' '0']\n",
      " ['1984' 'Africa' 'Algeria' 'Beer' '0.2']\n",
      " ['1984' 'Africa' 'Algeria' 'Spirits' '0.01']\n",
      " ['1984' 'Africa' 'Algeria' 'Wine' '0.1']]\n"
     ]
    }
   ],
   "source": [
    "is_algeria_1986 = (world_alcohol[:,2] == \"Algeria\") \n",
    "print(world_alcohol[is_algeria_1986])"
   ]
  },
  {
   "cell_type": "code",
   "execution_count": 37,
   "id": "4f01ad43",
   "metadata": {},
   "outputs": [
    {
     "name": "stdout",
     "output_type": "stream",
     "text": [
      "[['1986' 'Western Pacific' 'Viet Nam' 'Wine' '0']\n",
      " ['1986' 'Americas' 'Uruguay' 'Other' '0.5']\n",
      " ['1986' 'Americas' 'Colombia' 'Beer' '4.27']\n",
      " ...\n",
      " ['1986' 'Western Pacific' 'Fiji' 'Spirits' '0.05']\n",
      " ['1986' 'Europe' 'Switzerland' 'Spirits' '2.54']\n",
      " ['1986' 'Africa' 'Swaziland' 'Other' '5.15']]\n"
     ]
    }
   ],
   "source": [
    "is_1986 = world_alcohol[:,0]==\"1986\"\n",
    "print(world_alcohol[is_1986])"
   ]
  },
  {
   "cell_type": "code",
   "execution_count": 33,
   "id": "a5443cec",
   "metadata": {},
   "outputs": [
    {
     "name": "stdout",
     "output_type": "stream",
     "text": [
      "[['1984' 'Western Pacific' 'Viet Nam' 'Wine' '0']\n",
      " ['1984' 'Americas' 'Uruguay' 'Other' '0.5']\n",
      " ['1984' 'Africa' \"Cte d'Ivoire\" 'Wine' '1.62']\n",
      " ...\n",
      " ['1984' 'Europe' 'Switzerland' 'Spirits' '2.54']\n",
      " ['1984' 'Western Pacific' 'Papua New Guinea' 'Other' '0']\n",
      " ['1984' 'Africa' 'Swaziland' 'Other' '5.15']]\n"
     ]
    }
   ],
   "source": [
    "print(world_alcohol)"
   ]
  },
  {
   "cell_type": "code",
   "execution_count": 39,
   "id": "ba940d66",
   "metadata": {},
   "outputs": [
    {
     "name": "stdout",
     "output_type": "stream",
     "text": [
      "[['1984' 'Americas' 'Canada' 'Spirits' '3.35']\n",
      " ['1984' 'Africa' 'Algeria' 'Spirits' '0.01']\n",
      " ['1987' 'Africa' 'Algeria' 'Beer' '0.17']\n",
      " ['1987' 'Africa' 'Algeria' 'Spirits' '0.01']\n",
      " ['1986' 'Africa' 'Algeria' 'Wine' '0.1']\n",
      " ['1989' 'Americas' 'Canada' 'Wine' '1.27']\n",
      " ['1984' 'Americas' 'Canada' 'Beer' '5']\n",
      " ['1985' 'Americas' 'Canada' 'Beer' '4.94']\n",
      " ['1987' 'Americas' 'Canada' 'Wine' '1.3']\n",
      " ['1984' 'Africa' 'Algeria' 'Other' '0']\n",
      " ['1989' 'Africa' 'Algeria' 'Beer' '0.16']\n",
      " ['1989' 'Africa' 'Algeria' 'Spirits' '0.01']\n",
      " ['1989' 'Africa' 'Algeria' 'Wine' '0.23']\n",
      " ['1987' 'Americas' 'Canada' 'Beer' '4.83']\n",
      " ['1986' 'Africa' 'Algeria' 'Spirits' '0.01']\n",
      " ['1984' 'Africa' 'Algeria' 'Wine' '0.12']\n",
      " ['1986' 'Americas' 'Canada' 'Other' '']\n",
      " ['1985' 'Africa' 'Algeria' 'Beer' '0.19']\n",
      " ['1986' 'Americas' 'Canada' 'Spirits' '3.11']\n",
      " ['1985' 'Africa' 'Algeria' 'Other' '0']\n",
      " ['1985' 'Americas' 'Canada' 'Spirits' '3.21']\n",
      " ['1985' 'Americas' 'Canada' 'Other' '']\n",
      " ['1986' 'Americas' 'Canada' 'Beer' '4.87']\n",
      " ['1986' 'Africa' 'Algeria' 'Beer' '0.18']\n",
      " ['1985' 'Africa' 'Algeria' 'Wine' '0.11']\n",
      " ['1984' 'Americas' 'Canada' 'Wine' '1.24']\n",
      " ['1986' 'Africa' 'Algeria' 'Other' '0']\n",
      " ['1989' 'Africa' 'Algeria' 'Other' '0']\n",
      " ['1987' 'Africa' 'Algeria' 'Other' '0']\n",
      " ['1989' 'Americas' 'Canada' 'Spirits' '2.91']\n",
      " ['1984' 'Africa' 'Algeria' 'Beer' '0.2']\n",
      " ['1985' 'Africa' 'Algeria' 'Spirits' '0.01']\n",
      " ['1987' 'Africa' 'Algeria' 'Wine' '0.1']\n",
      " ['1984' 'Americas' 'Canada' 'Other' '']\n",
      " ['1985' 'Americas' 'Canada' 'Wine' '1.29']\n",
      " ['1987' 'Americas' 'Canada' 'Spirits' '2.99']\n",
      " ['1989' 'Americas' 'Canada' 'Beer' '4.82']\n",
      " ['1989' 'Americas' 'Canada' 'Other' '']\n",
      " ['1986' 'Americas' 'Canada' 'Wine' '1.33']\n",
      " ['1987' 'Americas' 'Canada' 'Other' '']]\n",
      "(40, 5)\n"
     ]
    }
   ],
   "source": [
    "canada_ou_algeria = (world_alcohol[:,2] == \"Canada\") | (world_alcohol[:,2] == \"Algeria\")\n",
    "print(world_alcohol[canada_ou_algeria])\n",
    "print(world_alcohol[canada_ou_algeria].shape)"
   ]
  },
  {
   "cell_type": "code",
   "execution_count": 44,
   "id": "a0b99b50",
   "metadata": {},
   "outputs": [
    {
     "name": "stdout",
     "output_type": "stream",
     "text": [
      "(3257, 5)\n",
      "[['2018' 'Western Pacific' 'Viet Nam' 'Wine' '0']\n",
      " ['2018' 'Americas' 'Uruguay' 'Other' '0.5']\n",
      " ['1985' 'Africa' \"Cte d'Ivoire\" 'Wine' '1.62']\n",
      " ...\n",
      " ['2018' 'Europe' 'Switzerland' 'Spirits' '2.54']\n",
      " ['1987' 'Western Pacific' 'Papua New Guinea' 'Other' '0']\n",
      " ['2018' 'Africa' 'Swaziland' 'Other' '5.15']]\n",
      "(651, 5)\n"
     ]
    }
   ],
   "source": [
    "#copy des données\n",
    "#choisir, fait une masque des 1986\n",
    "#choisir les donnees c1 associe le mask 1986\n",
    "#changer par valeur 2018\n",
    "world_alcohol_2 = world_alcohol.copy()\n",
    "print(world_alcohol_2.shape)\n",
    "les_1986 = world_alcohol_2[:,0] == \"1986\"\n",
    "world_alcohol_2[:,0][les_1986] = \"2018\"\n",
    "print(world_alcohol_2)\n",
    "print(world_alcohol_2[world_alcohol_2[:,0] == \"2018\"].shape)"
   ]
  },
  {
   "cell_type": "code",
   "execution_count": 48,
   "id": "85e77be3",
   "metadata": {},
   "outputs": [
    {
     "name": "stdout",
     "output_type": "stream",
     "text": [
      "(816, 5)\n",
      "[['1986' 'Western Pacific' 'Viet Nam' 'Beer' '0']\n",
      " ['1986' 'Americas' 'Uruguay' 'Other' '0.5']\n",
      " ['1985' 'Africa' \"Cte d'Ivoire\" 'Beer' '1.62']\n",
      " ...\n",
      " ['1986' 'Europe' 'Switzerland' 'Spirits' '2.54']\n",
      " ['1987' 'Western Pacific' 'Papua New Guinea' 'Other' '0']\n",
      " ['1986' 'Africa' 'Swaziland' 'Other' '5.15']]\n"
     ]
    }
   ],
   "source": [
    "world_alcohol_2 = world_alcohol.copy()\n",
    "les_wine = world_alcohol_2[:,3] == \"Wine\"\n",
    "print(world_alcohol_2[les_wine].shape)\n",
    "world_alcohol_2[:,3][les_wine] = \"Beer\"\n",
    "print(world_alcohol_2)"
   ]
  },
  {
   "cell_type": "code",
   "execution_count": 50,
   "id": "a6e413ff",
   "metadata": {},
   "outputs": [
    {
     "name": "stdout",
     "output_type": "stream",
     "text": [
      "[['1986' 'Western Pacific' 'Viet Nam' 'Beer' '0']\n",
      " ['1986' 'Americas' 'Uruguay' 'Other' '0.5']\n",
      " ['1985' 'Africa' \"Cte d'Ivoire\" 'Beer' '1.62']\n",
      " ...\n",
      " ['1986' 'Europe' 'Switzerland' 'Spirits' '2.54']\n",
      " ['1987' 'Western Pacific' 'Papua New Guinea' 'Other' '0']\n",
      " ['1986' 'Africa' 'Swaziland' 'Other' '5.15']]\n"
     ]
    }
   ],
   "source": [
    "mask=(world_alcohol_2[:,2]=='1987')\n",
    "world_alcohol_2[:,0][mask]='1990'\n",
    "print(world_alcohol_2)"
   ]
  },
  {
   "cell_type": "code",
   "execution_count": 55,
   "id": "168a6c7a",
   "metadata": {},
   "outputs": [
    {
     "name": "stdout",
     "output_type": "stream",
     "text": [
      "[False False False ... False False False]\n",
      "(935, 5)\n"
     ]
    }
   ],
   "source": [
    "is_null = (world_alcohol[:,4] == '')\n",
    "print(is_null)\n",
    "#isoler des lignes dont la valeur en 4e colonne est vide\n",
    "world_alcohol[is_null,4] = '0'\n",
    "print(world_alcohol[world_alcohol[:,4]=='0'].shape)"
   ]
  },
  {
   "cell_type": "code",
   "execution_count": 70,
   "id": "f3beb766",
   "metadata": {},
   "outputs": [
    {
     "name": "stdout",
     "output_type": "stream",
     "text": [
      "[0.   0.5  1.62 ... 2.54 0.   5.15]\n",
      "Totalite de comnsommation d'alcohol : 3908.96\n",
      "MIN comnsommation d'alcohol : 1.200\n"
     ]
    }
   ],
   "source": [
    "#convertir des types de données\n",
    "mask_consomme = world_alcohol[:, 4]\n",
    "mask_consomme = mask_consomme.astype(float)\n",
    "print(mask_consomme)\n",
    "sum_consomme = mask_consomme.sum()\n",
    "ave_consomme = mask_consomme.mean()\n",
    "print(\"Totalite de comnsommation d'alcohol : {0}\".format(sum_consomme))\n",
    "print(\"Moyenne de comnsommation d'alcohol : %.3f\" %(ave_consomme))"
   ]
  },
  {
   "cell_type": "code",
   "execution_count": 58,
   "id": "1ec7e62f",
   "metadata": {},
   "outputs": [
    {
     "name": "stdout",
     "output_type": "stream",
     "text": [
      "['2018' '2018' '1985' ... '2018' '1987' '2018']\n"
     ]
    }
   ],
   "source": [
    "x = np.char.replace(world_alcohol_2[:,0],\"1986\",\"2018\" )\n",
    "print(x)"
   ]
  },
  {
   "cell_type": "code",
   "execution_count": 82,
   "id": "34bc633d",
   "metadata": {},
   "outputs": [
    {
     "name": "stdout",
     "output_type": "stream",
     "text": [
      "SUM =  9.120000000000001\n",
      "2.2800000000000002\n"
     ]
    }
   ],
   "source": [
    "mask_canada1987 = (world_alcohol[:,0] == '1987') & (world_alcohol[:,2] == 'Canada' )\n",
    "mask_consomme = world_alcohol[mask_canada1987]\n",
    "tab_consomme = mask_consomme[:,4]\n",
    "tab_consomme = tab_consomme.astype(float)\n",
    "print(\"SUM = \",tab_consomme.sum())\n",
    "print(tab_consomme.mean())"
   ]
  },
  {
   "cell_type": "code",
   "execution_count": 87,
   "id": "9f74a269",
   "metadata": {},
   "outputs": [
    {
     "name": "stdout",
     "output_type": "stream",
     "text": [
      "Sum =  310.02\n",
      "Max de consomme =  5.27\n",
      "Moyenne de consomme pour Americas =  2.0001290322580645\n"
     ]
    }
   ],
   "source": [
    "wset = world_alcohol\n",
    "#moyenne de consom beer s/conti american\n",
    "\n",
    "#m_beer_america = (wset[:,1] == 'Americas') & (w_set[:,3] == 'Beer')\n",
    "#v_consom_ame = wset[m_beer_america]\n",
    "v_consom_ame = wset[(wset[:,1] == 'Americas') & (w_set[:,3] == 'Beer')]\n",
    "\n",
    "tab_consom_ame = v_consom_ame[:,4]\n",
    "tab_consom_ame = tab_consom_ame.astype(float)\n",
    "print(\"Sum = \", tab_consom_ame.sum())\n",
    "print(\"Max de consomme = \", tab_consom_ame.max())\n",
    "print(\"Moyenne de consomme pour Americas = \", tab_consom_ame.mean())"
   ]
  },
  {
   "cell_type": "code",
   "execution_count": 142,
   "id": "ddafcaad",
   "metadata": {},
   "outputs": [
    {
     "name": "stdout",
     "output_type": "stream",
     "text": [
      "{'Afghanistan': 0.0, 'Albania': 1.73, 'Algeria': 0.4, 'Angola': 2.28, 'Antigua and Barbuda': 4.69, 'Argentina': 10.82, 'Australia': 12.09, 'Austria': 13.9, 'Bahamas': 12.29, 'Bahrain': 4.89, 'Bangladesh': 0.0, 'Belarus': 7.98, 'Belgium': 11.61, 'Belize': 0.0, 'Benin': 1.38, 'Bhutan': 0.31, 'Bolivia (Plurinational State of)': 3.05, 'Botswana': 4.63, 'Brazil': 5.52, 'Brunei Darussalam': 2.78, 'Bulgaria': 11.43, 'Burkina Faso': 3.99, 'Burundi': 8.16, 'Cabo Verde': 2.79, 'Cambodia': 0.33, 'Cameroon': 6.36, 'Canada': 9.0, 'Central African Republic': 2.52, 'Chad': 0.3, 'Chile': 8.65, 'China': 3.33, 'Colombia': 6.96, 'Comoros': 0.11, 'Congo': 3.15, 'Costa Rica': 5.4, 'Croatia': 10.92, \"Cte d'Ivoire\": 2.2, 'Cuba': 4.37, 'Cyprus': 9.29, 'Czech Republic': 13.01, \"Democratic People's Republic of Korea\": 3.68, 'Democratic Republic of the Congo': 1.92, 'Denmark': 11.65, 'Djibouti': 0.87, 'Dominican Republic': 4.53, 'Ecuador': 2.54, 'Egypt': 0.42, 'El Salvador': 1.77, 'Equatorial Guinea': 6.49, 'Eritrea': 0.29, 'Ethiopia': 0.86, 'Fiji': 1.96, 'Finland': 9.42, 'France': 16.05, 'Gabon': 9.34, 'Gambia': 1.63, 'Germany': 14.64, 'Ghana': 1.86, 'Greece': 10.15, 'Guatemala': 2.47, 'Guinea': 0.21, 'Guinea-Bissau': 2.67, 'Guyana': 9.94, 'Haiti': 5.81, 'Honduras': 2.15, 'Hungary': 16.29, 'Iceland': 5.36, 'India': 1.66, 'Indonesia': 0.07, 'Iran (Islamic Republic of)': 0.0, 'Iraq': 0.75, 'Ireland': 11.79, 'Israel': 2.03, 'Italy': 10.9, 'Jamaica': 3.03, 'Japan': 7.74, 'Jordan': 0.19, 'Kenya': 2.82, 'Kiribati': 0.48, 'Kuwait': 0.0, 'Kyrgyzstan': 4.28, \"Lao People's Democratic Republic\": 5.95, 'Latvia': 7.04, 'Lebanon': 3.94, 'Lesotho': 2.02, 'Liberia': 5.61, 'Libya': 0.0, 'Lithuania': 0.0, 'Luxembourg': 15.21, 'Madagascar': 1.38, 'Malawi': 1.02, 'Malaysia': 0.68, 'Mali': 0.67, 'Malta': 7.13, 'Mauritania': 0.02, 'Mauritius': 3.54, 'Mexico': 5.1, 'Micronesia (Federated States of)': 0.0, 'Mongolia': 2.59, 'Morocco': 0.7, 'Mozambique': 0.39, 'Myanmar': 0.16, 'Namibia': 0.24, 'Nepal': 0.03, 'Netherlands': 10.03, 'New Zealand': 11.52, 'Nicaragua': 2.5, 'Niger': 0.11, 'Nigeria': 6.74, 'Norway': 5.08, 'Oman': 1.03, 'Pakistan': 0.02, 'Panama': 4.6, 'Papua New Guinea': 1.11, 'Paraguay': 6.51, 'Peru': 4.99, 'Philippines': 3.78, 'Poland': 9.33, 'Portugal': 15.35, 'Qatar': 1.45, 'Republic of Korea': 9.62, 'Romania': 8.41, 'Russian Federation': 5.35, 'Rwanda': 7.55, 'Saint Kitts and Nevis': 4.65, 'Saint Lucia': 11.62, 'Samoa': 2.63, 'Sao Tome and Principe': 2.57, 'Saudi Arabia': 0.15, 'Senegal': 0.61, 'Seychelles': 3.3, 'Sierra Leone': 4.38, 'Singapore': 1.61, 'Slovakia': 12.7, 'Slovenia': 12.97, 'Solomon Islands': 0.58, 'Somalia': 0.0, 'South Africa': 9.21, 'Spain': 13.28, 'Sri Lanka': 0.14, 'Sudan': 0.15, 'Suriname': 3.67, 'Swaziland': 6.68, 'Sweden': 7.47, 'Switzerland': 13.85, 'Syrian Arab Republic': 0.54, 'Thailand': 3.92, 'Togo': 2.22, 'Trinidad and Tobago': 4.68, 'Tunisia': 0.95, 'Turkey': 0.72, 'Uganda': 7.8, 'Ukraine': 5.32, 'United Arab Emirates': 4.43, 'United Kingdom of Great Britain and Northern Ireland': 9.99, 'United Republic of Tanzania': 5.9, 'United States of America': 9.16, 'Uruguay': 7.44, 'Vanuatu': 1.74, 'Venezuela (Bolivarian Republic of)': 7.87, 'Viet Nam': 0.16, 'Yemen': 0.2, 'Zambia': 3.37, 'Zimbabwe': 4.92}\n",
      "\n",
      "Nombre de pays : 164\n",
      "Hungary a nb de consommation max =  16.29\n",
      "UK =  9.99\n",
      "France =  16.05\n"
     ]
    }
   ],
   "source": [
    "#creer un dictionnaire vide qui contient tous les pays vide\n",
    "\n",
    "dic_pays = {}\n",
    "anne = '1989'\n",
    "#extrait des pays de array\n",
    "list_pays = wset[:,2][wset[:,0]==anne]\n",
    "#creer un dictionnaire de pays\n",
    "#tmp_pay = list(set(list_pays))\n",
    "tmp_pay = np.unique(list_pays)\n",
    "# ou \n",
    "# for i in list_pays :\n",
    "#    if i not in dic_pays :\n",
    "#        dic_pays[i] = i\n",
    "        \n",
    "\n",
    "\n",
    "max_consomme = 0\n",
    "name_pays = \"\"\n",
    "\n",
    "for p in tmp_pay:\n",
    "    vpay = wset[(wset[:,2]==p) & (wset[:,0]==anne)]\n",
    "    tab_pay = vpay[:,4]\n",
    "    is_empty = tab_pay == ''\n",
    "    tab_pay[is_empty] = '0'\n",
    "    tab_pay = tab_pay.astype(float)\n",
    "    dic_pays[p] = round(tab_pay.sum(),3)\n",
    "    \n",
    "print(dic_pays)\n",
    "print(\"\\nNombre de pays :\",len(dic_pays))\n",
    "\n",
    "print(\"UK = \", dic_pays['United Kingdom of Great Britain and Northern Ireland'])\n",
    "print(\"France = \", dic_pays['France'])\n"
   ]
  },
  {
   "cell_type": "code",
   "execution_count": 156,
   "id": "57eb0792",
   "metadata": {},
   "outputs": [
    {
     "name": "stdout",
     "output_type": "stream",
     "text": [
      "Hungary a nb de consommation max =  16.29\n"
     ]
    }
   ],
   "source": [
    "# Trouver le pays qui consomme le plus d'alcool.\n",
    "def max_consomme(dic_pays) :\n",
    "    max_consomme = 0\n",
    "    name_pays = \"\"\n",
    "    for c, v in dic_pays.items() :\n",
    "        if v > max_consomme :\n",
    "            max_consomme = v\n",
    "            name_pays = c\n",
    "    return name_pays, max_consomme\n",
    "\n",
    "\n",
    "country, maxcon = max_consomme(dic_pays)\n",
    "print(country, \" est le maximun de consommation d'alcohol, = \", maxcon)"
   ]
  },
  {
   "cell_type": "code",
   "execution_count": 205,
   "id": "ad72f3ad",
   "metadata": {},
   "outputs": [
    {
     "name": "stdout",
     "output_type": "stream",
     "text": [
      "Saisie un annee : 1987\n",
      "La totalité de consommation pour chaque pays en 1987\n"
     ]
    },
    {
     "data": {
      "text/plain": [
       "{'Afghanistan': 0.0,\n",
       " 'Albania': 1.63,\n",
       " 'Algeria': 0.28,\n",
       " 'Angola': 1.63,\n",
       " 'Antigua and Barbuda': 3.68,\n",
       " 'Argentina': 12.76,\n",
       " 'Australia': 12.46,\n",
       " 'Austria': 13.5,\n",
       " 'Bahamas': 14.14,\n",
       " 'Bahrain': 5.56,\n",
       " 'Bangladesh': 0.0,\n",
       " 'Belarus': 0.0,\n",
       " 'Belgium': 13.16,\n",
       " 'Belize': 4.65,\n",
       " 'Benin': 1.54,\n",
       " 'Bhutan': 0.46,\n",
       " 'Bolivia (Plurinational State of)': 3.06,\n",
       " 'Botswana': 4.26,\n",
       " 'Brazil': 3.94,\n",
       " 'Brunei Darussalam': 2.89,\n",
       " 'Bulgaria': 10.91,\n",
       " 'Burkina Faso': 4.07,\n",
       " 'Burundi': 8.22,\n",
       " 'Cabo Verde': 3.36,\n",
       " 'Cambodia': 0.22,\n",
       " 'Cameroon': 6.5,\n",
       " 'Canada': 9.12,\n",
       " 'Central African Republic': 2.78,\n",
       " 'Chad': 0.3,\n",
       " 'Chile': 9.49,\n",
       " 'China': 3.16,\n",
       " 'Colombia': 6.82,\n",
       " 'Comoros': 0.08,\n",
       " 'Congo': 4.76,\n",
       " 'Costa Rica': 4.23,\n",
       " 'Croatia': 13.51,\n",
       " \"Cte d'Ivoire\": 2.49,\n",
       " 'Cuba': 4.37,\n",
       " 'Cyprus': 8.87,\n",
       " 'Czech Republic': 13.2,\n",
       " \"Democratic People's Republic of Korea\": 3.59,\n",
       " 'Democratic Republic of the Congo': 2.36,\n",
       " 'Denmark': 11.74,\n",
       " 'Djibouti': 1.59,\n",
       " 'Dominican Republic': 4.37,\n",
       " 'Ecuador': 2.54,\n",
       " 'Egypt': 0.39,\n",
       " 'El Salvador': 2.27,\n",
       " 'Equatorial Guinea': 2.4,\n",
       " 'Eritrea': 0.39,\n",
       " 'Ethiopia': 0.63,\n",
       " 'Fiji': 1.65,\n",
       " 'Finland': 8.75,\n",
       " 'France': 15.9,\n",
       " 'Gabon': 11.41,\n",
       " 'Gambia': 1.96,\n",
       " 'Germany': 14.83,\n",
       " 'Ghana': 1.28,\n",
       " 'Greece': 9.82,\n",
       " 'Guatemala': 2.78,\n",
       " 'Guinea': 0.18,\n",
       " 'Guinea-Bissau': 2.45,\n",
       " 'Guyana': 7.6,\n",
       " 'Haiti': 5.12,\n",
       " 'Honduras': 2.01,\n",
       " 'Hungary': 15.7,\n",
       " 'Iceland': 5.65,\n",
       " 'India': 1.49,\n",
       " 'Indonesia': 0.06,\n",
       " 'Iran (Islamic Republic of)': 0.0,\n",
       " 'Iraq': 0.66,\n",
       " 'Ireland': 10.98,\n",
       " 'Israel': 2.26,\n",
       " 'Italy': 11.79,\n",
       " 'Jamaica': 3.11,\n",
       " 'Japan': 7.7,\n",
       " 'Jordan': 0.3,\n",
       " 'Kenya': 2.78,\n",
       " 'Kiribati': 0.63,\n",
       " 'Kuwait': 0.0,\n",
       " 'Kyrgyzstan': 3.01,\n",
       " \"Lao People's Democratic Republic\": 4.59,\n",
       " 'Latvia': 5.77,\n",
       " 'Lebanon': 3.81,\n",
       " 'Lesotho': 2.1,\n",
       " 'Liberia': 4.87,\n",
       " 'Libya': 0.0,\n",
       " 'Lithuania': 0.0,\n",
       " 'Luxembourg': 15.23,\n",
       " 'Madagascar': 1.33,\n",
       " 'Malawi': 1.12,\n",
       " 'Malaysia': 0.64,\n",
       " 'Mali': 0.62,\n",
       " 'Malta': 5.0,\n",
       " 'Mauritania': 0.02,\n",
       " 'Mauritius': 3.42,\n",
       " 'Mexico': 4.7,\n",
       " 'Micronesia (Federated States of)': 0.0,\n",
       " 'Mongolia': 2.1,\n",
       " 'Morocco': 0.76,\n",
       " 'Mozambique': 0.29,\n",
       " 'Myanmar': 0.27,\n",
       " 'Namibia': 0.25,\n",
       " 'Nepal': 0.02,\n",
       " 'Netherlands': 10.2,\n",
       " 'New Zealand': 12.27,\n",
       " 'Nicaragua': 3.45,\n",
       " 'Niger': 0.16,\n",
       " 'Nigeria': 7.32,\n",
       " 'Norway': 5.38,\n",
       " 'Oman': 1.17,\n",
       " 'Pakistan': 0.02,\n",
       " 'Panama': 5.05,\n",
       " 'Papua New Guinea': 1.29,\n",
       " 'Paraguay': 7.35,\n",
       " 'Peru': 6.68,\n",
       " 'Philippines': 4.42,\n",
       " 'Poland': 9.41,\n",
       " 'Portugal': 13.22,\n",
       " 'Qatar': 1.42,\n",
       " 'Republic of Korea': 10.18,\n",
       " 'Romania': 7.08,\n",
       " 'Russian Federation': 4.59,\n",
       " 'Rwanda': 6.49,\n",
       " 'Saint Kitts and Nevis': 3.18,\n",
       " 'Saint Lucia': 10.03,\n",
       " 'Samoa': 3.14,\n",
       " 'Sao Tome and Principe': 1.9,\n",
       " 'Saudi Arabia': 0.21,\n",
       " 'Senegal': 0.46,\n",
       " 'Seychelles': 3.27,\n",
       " 'Sierra Leone': 4.52,\n",
       " 'Singapore': 1.74,\n",
       " 'Slovakia': 13.24,\n",
       " 'Slovenia': 16.64,\n",
       " 'Solomon Islands': 0.7,\n",
       " 'Somalia': 0.02,\n",
       " 'South Africa': 8.97,\n",
       " 'Spain': 14.41,\n",
       " 'Sri Lanka': 0.18,\n",
       " 'Sudan': 0.25,\n",
       " 'Suriname': 3.48,\n",
       " 'Swaziland': 3.47,\n",
       " 'Sweden': 7.07,\n",
       " 'Switzerland': 14.02,\n",
       " 'Syrian Arab Republic': 0.77,\n",
       " 'Thailand': 2.58,\n",
       " 'Togo': 2.65,\n",
       " 'Trinidad and Tobago': 4.35,\n",
       " 'Tunisia': 0.98,\n",
       " 'Turkey': 0.89,\n",
       " 'Uganda': 7.52,\n",
       " 'Ukraine': 4.01,\n",
       " 'United Arab Emirates': 5.36,\n",
       " 'United Kingdom of Great Britain and Northern Ireland': 9.53,\n",
       " 'United Republic of Tanzania': 6.89,\n",
       " 'United States of America': 9.61,\n",
       " 'Uruguay': 7.64,\n",
       " 'Vanuatu': 1.43,\n",
       " 'Venezuela (Bolivarian Republic of)': 9.16,\n",
       " 'Viet Nam': 0.16,\n",
       " 'Yemen': 0.17,\n",
       " 'Zambia': 3.12,\n",
       " 'Zimbabwe': 5.03}"
      ]
     },
     "execution_count": 205,
     "metadata": {},
     "output_type": "execute_result"
    }
   ],
   "source": [
    "# Puis ensuite créer une fonction qui aura pour argument d'entré une année et \n",
    "# retournera le dictionnaire contenant la consommation moyenne pour chaque pays\n",
    "def total_consomme_pays_annee(year, wset) :\n",
    "    ls_pays = {}\n",
    "    list_pays = wset[:,2][wset[:,0]==str(year)]\n",
    "    pays = np.unique(list_pays)\n",
    "    for p in pays :\n",
    "        vpay = wset[(wset[:,2]==p) & (wset[:,0]==str(year))]\n",
    "        tab_pay = vpay[:,4]\n",
    "        is_empty = tab_pay == ''\n",
    "        tab_pay[is_empty] = '0'\n",
    "        tab_pay = tab_pay.astype(float)\n",
    "        ls_pays[p] = round(tab_pay.sum(),3)\n",
    "    return ls_pays\n",
    "###\n",
    "year = int(input(\"Saisie un annee : \"))\n",
    "dic=total_consomme_pays_annee(year, wset)\n",
    "print(\"La totalité de consommation pour chaque pays en %d\" %year)\n",
    "dic"
   ]
  },
  {
   "cell_type": "code",
   "execution_count": 204,
   "id": "e2570209",
   "metadata": {},
   "outputs": [
    {
     "name": "stdout",
     "output_type": "stream",
     "text": [
      "        ------ Tableau de consommation par annee pour chaque continent ------\n",
      "                                1984      1985      1986      1987      1989\n",
      "                     Africa    146.72    151.59    148.86    141.90    146.61\n",
      "                   Americas    184.77    180.32    181.08    180.74    175.78\n",
      "      Eastern Mediterranean     32.38     27.47     25.49     23.44     20.68\n",
      "                     Europe    355.02    351.33    338.10    340.90    351.66\n",
      "            South-East Asia     11.68      8.33      8.28      8.65      9.97\n",
      "            Western Pacific     74.10     71.86     69.20     71.37     70.68\n"
     ]
    }
   ],
   "source": [
    "ls_annee = list(np.unique(wset[:,0]))\n",
    "ls_continent = np.unique(wset[:,1])\n",
    "\n",
    "# print(type(ls_pays))\n",
    "print(\" \"*7,\"------ Tableau de consommation par annee pour chaque continent ------\")\n",
    "print(\" \"*26, end=\"\")\n",
    "for y in ls_annee :\n",
    "    print(\"%10s\" %y, end = \"\")\n",
    "print()\n",
    "for c in ls_continent :\n",
    "    print(\"%27s\" %c,end=\"\")\n",
    "    for y in ls_annee :\n",
    "        #mask par annee et continent\n",
    "       # mask = (wset[:,0] == y) & (wset[:,1] == c)\n",
    "        #restrein set par mask\n",
    "        #vpay = wset[mask]\n",
    "        #choisi le 4e colonne - moyen de consommation\n",
    "        #tab_consom = vpay[:,4]\n",
    "        tab_consom = wset[(wset[:,0] == y) & (wset[:,1] == c),4]\n",
    "        #mask pour null value\n",
    "         #is_empty = tab_consom == ''\n",
    "         #tab_consom[is_empty] = '0'\n",
    "        #change null = 0\n",
    "        tab_consom[tab_consom == ''] = '0'\n",
    "        #convertir en float\n",
    "        tab_consom = tab_consom.astype(float)\n",
    "        #calcul la somme de consommation\n",
    "        print(\"%10.2f\" %tab_consom.sum(), end=\"\")\n",
    "    print()   \n"
   ]
  },
  {
   "cell_type": "code",
   "execution_count": null,
   "id": "0909fd26",
   "metadata": {},
   "outputs": [
    {
     "name": "stdout",
     "output_type": "stream",
     "text": [
      "List continent : \n",
      "id =  0  :  Africa\n",
      "id =  1  :  Americas\n",
      "id =  2  :  Eastern Mediterranean\n",
      "id =  3  :  Europe\n",
      "id =  4  :  South-East Asia\n",
      "id =  5  :  Western Pacific\n"
     ]
    }
   ],
   "source": [
    "list_continent = list(np.unique(wset[:,1]))\n",
    "ls_annee = list(np.unique(wset[:,0]))\n",
    "def consom_continent(continent) :\n",
    "   \n",
    "    ls_pays = list(np.unique(wset[(wset[:,1] == continent), 2]))\n",
    "    print(\" \"*10,\"------ Tableau de consommation par annee pour chaque pays ------\")\n",
    "    print(\" \"*32, end=\"\")\n",
    "    for y in ls_annee :\n",
    "        print(\"%10s\" %y, end = \"\")\n",
    "    print()\n",
    "    for p in ls_pays :\n",
    "        print(\"%32s\" %p,end=\"\")\n",
    "        for y in ls_annee :\n",
    "            vpay = wset[(wset[:,0]==y) & (wset[:,2]==p),4] \n",
    "            vpay[vpay==''] = 0\n",
    "            vpay = vpay.astype(float)\n",
    "            print(\"%10.2f\" %vpay.sum(), end=\"\")\n",
    "        print()\n",
    "    print(len(\"\"*20, ls_pays),\" pays\")\n",
    "            \n",
    "####\n",
    "print(\"List continent : \")\n",
    "for con in range(len(list_continent)) :\n",
    "    print(\"id = \", con, \" : \", list_continent[con])\n",
    "      \n",
    "id_continent = int(input(\"Saisie index de continent :\"))\n",
    "print(\" \"*15,list_continent[id_continent].upper())\n",
    "consom_continent(list_continent[id_continent])"
   ]
  },
  {
   "cell_type": "code",
   "execution_count": null,
   "id": "771545df",
   "metadata": {},
   "outputs": [],
   "source": []
  }
 ],
 "metadata": {
  "kernelspec": {
   "display_name": "Python 3",
   "language": "python",
   "name": "python3"
  },
  "language_info": {
   "codemirror_mode": {
    "name": "ipython",
    "version": 3
   },
   "file_extension": ".py",
   "mimetype": "text/x-python",
   "name": "python",
   "nbconvert_exporter": "python",
   "pygments_lexer": "ipython3",
   "version": "3.8.8"
  }
 },
 "nbformat": 4,
 "nbformat_minor": 5
}
