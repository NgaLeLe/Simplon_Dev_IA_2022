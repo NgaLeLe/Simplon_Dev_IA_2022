{
 "metadata": {
  "language_info": {
   "codemirror_mode": {
    "name": "ipython",
    "version": 3
   },
   "file_extension": ".py",
   "mimetype": "text/x-python",
   "name": "python",
   "nbconvert_exporter": "python",
   "pygments_lexer": "ipython3",
   "version": "3.8.8"
  },
  "orig_nbformat": 2,
  "kernelspec": {
   "name": "python388jvsc74a57bd064b474f71659f9be32f34132c3eef93d33d176ead871b80ca6db3fa26bc83f65",
   "display_name": "Python 3.8.8 64-bit ('base': conda)"
  }
 },
 "nbformat": 4,
 "nbformat_minor": 2,
 "cells": [
  {
   "cell_type": "code",
   "execution_count": 47,
   "metadata": {
    "tags": []
   },
   "outputs": [
    {
     "output_type": "stream",
     "name": "stdout",
     "text": [
      "jd =  DOJO23\nad =  DOAL30\n"
     ]
    },
    {
     "output_type": "execute_result",
     "data": {
      "text/plain": [
       "'ad.nom = \\'Marie 1\\'\\nprint(\\'apres affecter nom \\', ad.nom)\\nad.naissance = \"1987 6\"\\nprint(ad.printInfo())\\n'"
      ]
     },
     "metadata": {},
     "execution_count": 47
    }
   ],
   "source": [
    "class Formulaire:\n",
    "     #constructeur \n",
    "    def __init__(self, nom, prenom, naissance) :\n",
    "        self.nom = nom\n",
    "        self.prenom = prenom.upper()\n",
    "        self.naissance = naissance \n",
    "    def _set_naissance(self, naissance) :\n",
    "        if isinstance(naissance, list) :\n",
    "            if len(naissance) > 0 :\n",
    "                naissance = str(naissance[0])\n",
    "        if isinstance(naissance, int) :\n",
    "            self._naissance = naissance\n",
    "            return\n",
    "        if naissance != \"\":        \n",
    "            naissance = naissance.split()[0]\n",
    "        if naissance.isnumeric() :\n",
    "            self._naissance = int(naissance)\n",
    "        else:\n",
    "            self._naissance = 1900\n",
    "    def _get_naissance(self) :\n",
    "        # print(\"Getter la valeur de Naissance \", self._naissance)\n",
    "        return self._naissance\n",
    "    def _get_nom(self) :\n",
    "        return self._nom\n",
    "    def _set_nom(self, nom):\n",
    "        lsname = str(nom)\n",
    "        if not lsname :\n",
    "            self._nom = 'Unknown'\n",
    "        else :\n",
    "            self._nom = lsname.upper()\n",
    "    def _get_prenom(self) :\n",
    "        return self._prenom\n",
    "    def _set_prenom(self, prenom):\n",
    "        fsname = str(prenom)\n",
    "        if not fsname :\n",
    "            self._prenom = 'Unknown'\n",
    "        else :\n",
    "            self._prenom = fsname.upper()\n",
    "    naissance = property(_get_naissance, _set_naissance)\n",
    "    nom = property (_get_nom, _set_nom)\n",
    "    prenom = property (_get_prenom, _set_prenom)\n",
    "    \n",
    "    def age(self):\n",
    "        return 2021 - self.naissance\n",
    "        # self.naissance est automatique d'apeller la methode _get_naissance\n",
    "    \n",
    "    def majeur(self):\n",
    "        return self.age() >= 18\n",
    "        \n",
    "    def memeFamille(self, Formulaire):\n",
    "        return self.nom == Formulaire.nom\n",
    "    \n",
    "    def memePersonne(self, Formulaire):\n",
    "        return self.nom == Formulaire.nom and self.prenom == Formulaire.prenom and self.naissance == Formulaire.naissance\n",
    "    \n",
    "    def printInfo(self):\n",
    "        return \"Personne = \" + self.nom + \" \" + self.prenom + \", il a \" + str(self.age()) + \" ans\"\n",
    "\n",
    "#class Data qui hérite de la clasee Formulaire\n",
    "class Data(Formulaire):\n",
    "    def __init__(self, nom, prenom, naissance):\n",
    "        Formulaire.__init__(self, nom, prenom, naissance)\n",
    "        #soit\n",
    "        # super().__init__(nom, prenom, naissance)\n",
    "\n",
    "    def _get_id(self):\n",
    "        return self._id\n",
    "    id = property(_get_id)\n",
    "    def buildID(self):\n",
    "        self._id = str(self.nom)[:2]+str(self.prenom)[:2]+str(self.age())[:2]\n",
    "\n",
    "\n",
    "\n",
    "jd = Data('Doe', 'John', '1998')\n",
    "jd.buildID()\n",
    "ad = Data('Doe', 'Alice', 1991)\n",
    "ad.buildID()\n",
    "print(\"jd = \", jd.id)\n",
    "print(\"ad = \", ad.id)\n",
    "#ad = Formulaire('Doe', 'Alice', 'yolo')\n",
    "#jc = Formulaire('Doe', 'John', '2001')\n",
    "#print(\"jd et jc sont meme personnes \") if jd.memePersonne(jc) else print('Non, jd et jc sont les personnes differentes')\n",
    "#print(jd.age())\n",
    "#print('jd.nom = ',jd.nom)\n",
    "#jd.prenom = ''\n",
    "#print(jd.printInfo())\n",
    "#print(ad.age())\n",
    "#ad.naissance = 'yolo'\n",
    "#print('apres affecte nv valeur yolo = ', ad.age())\n",
    "\"\"\"ad.naissance = '1990'\n",
    "print('apres affecte nv valeur 1990 = ', ad.age())\n",
    "\"\"\"\n",
    "\"\"\"ad.nom = 'Marie 1'\n",
    "print('apres affecter nom ', ad.nom)\n",
    "ad.naissance = \"1987 6\"\n",
    "print(ad.printInfo())\n",
    "\"\"\""
   ]
  },
  {
   "cell_type": "code",
   "execution_count": 36,
   "metadata": {},
   "outputs": [
    {
     "output_type": "stream",
     "name": "stdout",
     "text": [
      "DEBOUT LES DORMANTSS\n"
     ]
    }
   ],
   "source": [
    "#dans la classe Superstring qui hérite classe list\n",
    "#on passe en arg dans la definition de la classe le nom de celle dont elle hérite\n",
    "#classe superstring hérite les méthode append, insert de class list\n",
    "class Superstring(list):\n",
    "    def __init__(self, chaine) :\n",
    "        list.__init__(self, chaine)\n",
    "    def upper(self):\n",
    "        for (i, c) in enumerate(self):\n",
    "            self[i] = c.upper()\n",
    "    def __str__(self):\n",
    "        return \"\".join(self)\n",
    "\n",
    "s1 = Superstring('Debout le dormant')\n",
    "s1.append('ss')\n",
    "s1.insert(9,'s')\n",
    "s1.upper()\n",
    "print(s1)"
   ]
  },
  {
   "cell_type": "code",
   "execution_count": 43,
   "metadata": {},
   "outputs": [
    {
     "output_type": "stream",
     "name": "stdout",
     "text": [
      "faire list Majeur\nget 2020\nLIST 2020\nget 2020\n<generator object <genexpr> at 0x7fd17660b200>\n"
     ]
    }
   ],
   "source": [
    "class Recensement:\n",
    "    def __init__(self, l1, l2, l3) :\n",
    "        self.f2020 = l3\n",
    "        self.f2019 = l2\n",
    "        self.f2018 = l1\n",
    "   \n",
    "    def _get_f2020(self):\n",
    "        print(\"get 2020\")\n",
    "        return self._f2020\n",
    "    def _set_f2020(self, l1):\n",
    "        self._f2020 = l1\n",
    "\n",
    "    def _get_f2019(self):\n",
    "        return self._f2019\n",
    "    def _set_f2019(self, l2):\n",
    "        self._f2019 = l2\n",
    "    \n",
    "    def _get_f2018(self):\n",
    "        return self._f2018\n",
    "    def _set_f2018(self, l3):\n",
    "        self._f2018 = l3\n",
    "    f2020 = property(_get_f2020, _set_f2020)\n",
    "    f2019 = property(_get_f2019, _set_f2019)\n",
    "    f2018 = property(_get_f2018, _set_f2018)\n",
    "\n",
    "    def permanents(self):\n",
    "        return [f for f in self.f2020 if f in self.f2019 and f in self.f2018]\n",
    "\n",
    "class ListeElectoral(Recensement):\n",
    "    def __init__(self, l1, l2, l3) :\n",
    "        Recensement.__init__(self, l1, l2, l3)\n",
    "\n",
    "    def listeMajeurs(self):\n",
    "        print(\"faire list Majeur\")\n",
    "        #return list(filter(lambda f: f.age() >= 18, self.f2018 + self.f2019 + self.f2020))\n",
    "        for e in self.f2020 :\n",
    "            if not e.majeur() :\n",
    "                self._f2020.remove(e)\n",
    "        for e in self.f2019 :\n",
    "            if not e.majeur() :\n",
    "                self._f2019.remove(e)\n",
    "        for e in self.f2018 :\n",
    "            if not e.majeur() :\n",
    "                self._f2018.remove(e)\n",
    "\n",
    "#MAIN PROGRAM\n",
    "per1 = Formulaire('Nga', 'TRAN', 1999)\n",
    "per2 = Formulaire('Marie', 'Schutz', 2000)\n",
    "per3 = Formulaire(\"\",\"ABC\", 1978)\n",
    "per4 = Formulaire(\"XYZ\",\"ABC\", 1978)\n",
    "list1 = [per1, per2]\n",
    "list2 = [per1, per2, per3]\n",
    "list3 = [per1,  per3, per4]\n",
    "electoral = ListeElectoral(list1,list2, list3)\n",
    "electoral.listeMajeurs()\n",
    "print(\"LIST 2020\")\n",
    "print(f.pri for f in electoral.f2020)"
   ]
  },
  {
   "cell_type": "code",
   "execution_count": null,
   "metadata": {},
   "outputs": [],
   "source": []
  }
 ]
}