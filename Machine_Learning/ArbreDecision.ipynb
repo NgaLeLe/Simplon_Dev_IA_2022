{
 "metadata": {
  "language_info": {
   "codemirror_mode": {
    "name": "ipython",
    "version": 3
   },
   "file_extension": ".py",
   "mimetype": "text/x-python",
   "name": "python",
   "nbconvert_exporter": "python",
   "pygments_lexer": "ipython3",
   "version": "3.8.8"
  },
  "orig_nbformat": 4,
  "kernelspec": {
   "name": "python3",
   "display_name": "Python 3.8.8 64-bit ('base': conda)"
  },
  "interpreter": {
   "hash": "64b474f71659f9be32f34132c3eef93d33d176ead871b80ca6db3fa26bc83f65"
  }
 },
 "nbformat": 4,
 "nbformat_minor": 2,
 "cells": [
  {
   "cell_type": "code",
   "execution_count": 35,
   "metadata": {},
   "outputs": [],
   "source": [
    "import pandas as pd\n",
    "\n",
    "\n",
    "def predict_cancer(size, p53_concentration):\n",
    "\n",
    "    isCancer = 0\n",
    "    if float(size) >= 0.03 :\n",
    "        isCancer = 1\n",
    "    else:\n",
    "        if float(p53_concentration) >= 0.01 :\n",
    "            isCancer = 1\n",
    "       \n",
    "    return isCancer\n",
    "    \n"
   ]
  },
  {
   "cell_type": "code",
   "execution_count": 27,
   "metadata": {},
   "outputs": [],
   "source": [
    "df =  pd. read_csv(\"Jeux_de_donnees/tumor_data_two_var.csv\")\n",
    "df[\"predict\"] = df.apply(\n",
    "    lambda x : predict_cancer(x[\"size\"], x[\"p53_concentration\"]), \n",
    "    axis = 1 )\n",
    "\n"
   ]
  },
  {
   "cell_type": "code",
   "execution_count": 30,
   "metadata": {},
   "outputs": [
    {
     "output_type": "execute_result",
     "data": {
      "text/plain": [
       "         size  p53_concentration  is_cancerous  predict\n",
       "100  0.008801           0.003338             0        0\n",
       "101  0.024484           0.000204             1        0\n",
       "102  0.002315           0.000807             1        0\n",
       "103  0.016715           0.003759             0        0\n",
       "104  0.018109           0.002847             0        0\n",
       "105  0.030338           0.002739             0        1\n",
       "106  0.040587           0.002022             1        1\n",
       "107 -0.000707           0.000362             1        0\n",
       "108  0.017045           0.000499             1        0\n",
       "109  0.004728           0.001507             1        0\n",
       "110  0.015749           0.003872             0        0\n",
       "111 -0.013955           0.000578             1        0\n",
       "112  0.026221           0.005182             0        0\n",
       "113  0.020995           0.003416             0        0\n",
       "114  0.025797           0.005727             0        0\n",
       "115 -0.017006           0.003209             0        0\n",
       "116 -0.002524           0.002182             0        0\n",
       "117 -0.009589           0.002244             0        0\n",
       "118  0.022064           0.002115             1        0\n",
       "119  0.013032           0.006044             0        0\n",
       "120 -0.004671           0.001658             1        0\n",
       "121  0.006403           0.001719             1        0\n",
       "122  0.026383           0.001488             1        0\n",
       "123 -0.001413           0.002392             0        0\n",
       "124  0.018707           0.004585             0        0\n",
       "125 -0.002472           0.001089             1        0\n",
       "126  0.012295           0.001624             1        0\n",
       "127 -0.007463           0.000056             1        0\n",
       "128  0.008420           0.002404             0        0\n",
       "129  0.006362           0.005599             0        0"
      ],
      "text/html": "<div>\n<style scoped>\n    .dataframe tbody tr th:only-of-type {\n        vertical-align: middle;\n    }\n\n    .dataframe tbody tr th {\n        vertical-align: top;\n    }\n\n    .dataframe thead th {\n        text-align: right;\n    }\n</style>\n<table border=\"1\" class=\"dataframe\">\n  <thead>\n    <tr style=\"text-align: right;\">\n      <th></th>\n      <th>size</th>\n      <th>p53_concentration</th>\n      <th>is_cancerous</th>\n      <th>predict</th>\n    </tr>\n  </thead>\n  <tbody>\n    <tr>\n      <th>100</th>\n      <td>0.008801</td>\n      <td>0.003338</td>\n      <td>0</td>\n      <td>0</td>\n    </tr>\n    <tr>\n      <th>101</th>\n      <td>0.024484</td>\n      <td>0.000204</td>\n      <td>1</td>\n      <td>0</td>\n    </tr>\n    <tr>\n      <th>102</th>\n      <td>0.002315</td>\n      <td>0.000807</td>\n      <td>1</td>\n      <td>0</td>\n    </tr>\n    <tr>\n      <th>103</th>\n      <td>0.016715</td>\n      <td>0.003759</td>\n      <td>0</td>\n      <td>0</td>\n    </tr>\n    <tr>\n      <th>104</th>\n      <td>0.018109</td>\n      <td>0.002847</td>\n      <td>0</td>\n      <td>0</td>\n    </tr>\n    <tr>\n      <th>105</th>\n      <td>0.030338</td>\n      <td>0.002739</td>\n      <td>0</td>\n      <td>1</td>\n    </tr>\n    <tr>\n      <th>106</th>\n      <td>0.040587</td>\n      <td>0.002022</td>\n      <td>1</td>\n      <td>1</td>\n    </tr>\n    <tr>\n      <th>107</th>\n      <td>-0.000707</td>\n      <td>0.000362</td>\n      <td>1</td>\n      <td>0</td>\n    </tr>\n    <tr>\n      <th>108</th>\n      <td>0.017045</td>\n      <td>0.000499</td>\n      <td>1</td>\n      <td>0</td>\n    </tr>\n    <tr>\n      <th>109</th>\n      <td>0.004728</td>\n      <td>0.001507</td>\n      <td>1</td>\n      <td>0</td>\n    </tr>\n    <tr>\n      <th>110</th>\n      <td>0.015749</td>\n      <td>0.003872</td>\n      <td>0</td>\n      <td>0</td>\n    </tr>\n    <tr>\n      <th>111</th>\n      <td>-0.013955</td>\n      <td>0.000578</td>\n      <td>1</td>\n      <td>0</td>\n    </tr>\n    <tr>\n      <th>112</th>\n      <td>0.026221</td>\n      <td>0.005182</td>\n      <td>0</td>\n      <td>0</td>\n    </tr>\n    <tr>\n      <th>113</th>\n      <td>0.020995</td>\n      <td>0.003416</td>\n      <td>0</td>\n      <td>0</td>\n    </tr>\n    <tr>\n      <th>114</th>\n      <td>0.025797</td>\n      <td>0.005727</td>\n      <td>0</td>\n      <td>0</td>\n    </tr>\n    <tr>\n      <th>115</th>\n      <td>-0.017006</td>\n      <td>0.003209</td>\n      <td>0</td>\n      <td>0</td>\n    </tr>\n    <tr>\n      <th>116</th>\n      <td>-0.002524</td>\n      <td>0.002182</td>\n      <td>0</td>\n      <td>0</td>\n    </tr>\n    <tr>\n      <th>117</th>\n      <td>-0.009589</td>\n      <td>0.002244</td>\n      <td>0</td>\n      <td>0</td>\n    </tr>\n    <tr>\n      <th>118</th>\n      <td>0.022064</td>\n      <td>0.002115</td>\n      <td>1</td>\n      <td>0</td>\n    </tr>\n    <tr>\n      <th>119</th>\n      <td>0.013032</td>\n      <td>0.006044</td>\n      <td>0</td>\n      <td>0</td>\n    </tr>\n    <tr>\n      <th>120</th>\n      <td>-0.004671</td>\n      <td>0.001658</td>\n      <td>1</td>\n      <td>0</td>\n    </tr>\n    <tr>\n      <th>121</th>\n      <td>0.006403</td>\n      <td>0.001719</td>\n      <td>1</td>\n      <td>0</td>\n    </tr>\n    <tr>\n      <th>122</th>\n      <td>0.026383</td>\n      <td>0.001488</td>\n      <td>1</td>\n      <td>0</td>\n    </tr>\n    <tr>\n      <th>123</th>\n      <td>-0.001413</td>\n      <td>0.002392</td>\n      <td>0</td>\n      <td>0</td>\n    </tr>\n    <tr>\n      <th>124</th>\n      <td>0.018707</td>\n      <td>0.004585</td>\n      <td>0</td>\n      <td>0</td>\n    </tr>\n    <tr>\n      <th>125</th>\n      <td>-0.002472</td>\n      <td>0.001089</td>\n      <td>1</td>\n      <td>0</td>\n    </tr>\n    <tr>\n      <th>126</th>\n      <td>0.012295</td>\n      <td>0.001624</td>\n      <td>1</td>\n      <td>0</td>\n    </tr>\n    <tr>\n      <th>127</th>\n      <td>-0.007463</td>\n      <td>0.000056</td>\n      <td>1</td>\n      <td>0</td>\n    </tr>\n    <tr>\n      <th>128</th>\n      <td>0.008420</td>\n      <td>0.002404</td>\n      <td>0</td>\n      <td>0</td>\n    </tr>\n    <tr>\n      <th>129</th>\n      <td>0.006362</td>\n      <td>0.005599</td>\n      <td>0</td>\n      <td>0</td>\n    </tr>\n  </tbody>\n</table>\n</div>"
     },
     "metadata": {},
     "execution_count": 30
    }
   ],
   "source": [
    "df.iloc[100:130]"
   ]
  },
  {
   "cell_type": "code",
   "execution_count": 33,
   "metadata": {},
   "outputs": [],
   "source": [
    "    \n",
    "num_cas_cancer =  df[df[\"predict\"]==1][\"predict\"].count()"
   ]
  },
  {
   "cell_type": "code",
   "execution_count": 34,
   "metadata": {},
   "outputs": [
    {
     "output_type": "stream",
     "name": "stdout",
     "text": [
      "30\n"
     ]
    }
   ],
   "source": [
    "print(num_cas_cancer)"
   ]
  },
  {
   "cell_type": "code",
   "execution_count": null,
   "metadata": {},
   "outputs": [],
   "source": []
  }
 ]
}