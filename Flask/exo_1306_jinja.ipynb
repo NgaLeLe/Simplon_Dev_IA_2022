{
 "cells": [
  {
   "cell_type": "code",
   "execution_count": 3,
   "id": "33b5d5ee",
   "metadata": {},
   "outputs": [
    {
     "name": "stdout",
     "output_type": "stream",
     "text": [
      "Votre nom: Nga\n",
      "Bonjour Nga\n"
     ]
    }
   ],
   "source": [
    "from jinja2 import Template\n",
    "\n",
    "reponse = input(\"Votre nom: \")\n",
    "\n",
    "tm = Template(\"Bonjour {{ nom }}\")\n",
    "\n",
    "texte = tm.render(nom=reponse)\n",
    "\n",
    "print(texte)"
   ]
  },
  {
   "cell_type": "code",
   "execution_count": 6,
   "id": "3b49fe38",
   "metadata": {},
   "outputs": [],
   "source": [
    "from jinja2 import Environment, FileSystemLoader\n",
    "\n",
    "import datetime #important pour les dates français\n",
    "TMPT_DIR = \"../exemples/app_flask/tmpl\"  #repertoire de templates\n",
    "fichier = \"base.jinja\" #nom de fichier\n",
    "\n",
    "reponse = input(\"Votre nom: \")\n",
    "\n",
    "templateLoader = FileSystemLoader(searchpath=TMPT_DIR)\n",
    "templateEnv = Environment(loader=templateLoader)\n",
    "template = templateEnv.get_template(fichier)\n",
    "\n",
    "data = {\n",
    "    'nom': reponse,\n",
    "    'time_stamp': datetime.datetime.now().strftime(\"%x %X\")\n",
    "}\n",
    "\n",
    "outputText = template.render(data)\n",
    "html_file = open('index.html', 'w')\n",
    "html_file.write(outputText)\n",
    "html_file.close()"
   ]
  },
  {
   "cell_type": "code",
   "execution_count": null,
   "metadata": {},
   "outputs": [],
   "source": []
  }
 ],
 "metadata": {
  "kernelspec": {
   "name": "python3",
   "display_name": "Python 3.8.8 64-bit ('base': conda)"
  },
  "language_info": {
   "codemirror_mode": {
    "name": "ipython",
    "version": 3
   },
   "file_extension": ".py",
   "mimetype": "text/x-python",
   "name": "python",
   "nbconvert_exporter": "python",
   "pygments_lexer": "ipython3",
   "version": "3.8.8"
  },
  "interpreter": {
   "hash": "64b474f71659f9be32f34132c3eef93d33d176ead871b80ca6db3fa26bc83f65"
  }
 },
 "nbformat": 4,
 "nbformat_minor": 5
}