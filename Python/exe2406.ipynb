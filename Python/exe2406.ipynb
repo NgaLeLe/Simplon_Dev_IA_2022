{
 "cells": [
  {
   "cell_type": "code",
   "execution_count": 1,
   "metadata": {},
   "outputs": [
    {
     "name": "stdout",
     "output_type": "stream",
     "text": [
      "1\n"
     ]
    }
   ],
   "source": [
    "a=1\n",
    "print(a)"
   ]
  },
  {
   "cell_type": "code",
   "execution_count": 2,
   "metadata": {},
   "outputs": [
    {
     "name": "stdout",
     "output_type": "stream",
     "text": [
      "<class 'int'>\n",
      "<class 'float'>\n",
      "<class 'str'>\n"
     ]
    }
   ],
   "source": [
    "#Les types de variables\n",
    "\n",
    "a = 1\n",
    "print(type(a))\n",
    "b = 1.0\n",
    "print(type(b))\n",
    "c = 'bonjour'\n",
    "print(type(c))\n"
   ]
  },
  {
   "cell_type": "code",
   "execution_count": 5,
   "metadata": {},
   "outputs": [
    {
     "name": "stdout",
     "output_type": "stream",
     "text": [
      "<class 'float'>\n",
      "4.140000000000001\n"
     ]
    }
   ],
   "source": [
    "#Les operations entre types différents\n",
    "\n",
    "a = 1\n",
    "b = 3.14\n",
    "c = a+b\n",
    "print(type(c))\n",
    "print(c)"
   ]
  },
  {
   "cell_type": "code",
   "execution_count": 6,
   "metadata": {},
   "outputs": [
    {
     "name": "stdout",
     "output_type": "stream",
     "text": [
      "4.5\n",
      "<class 'float'>\n",
      "4\n",
      "<class 'int'>\n"
     ]
    }
   ],
   "source": [
    "a = 9\n",
    "b = a/2\n",
    "print(b)\n",
    "print(type(b))\n",
    "\n",
    "b = a // 2\n",
    "print(b)\n",
    "print(type(b))\n",
    "\n"
   ]
  },
  {
   "cell_type": "code",
   "execution_count": 7,
   "metadata": {},
   "outputs": [
    {
     "name": "stdout",
     "output_type": "stream",
     "text": [
      "124\n",
      "123\n",
      "<class 'int'>\n"
     ]
    }
   ],
   "source": [
    "#convertir un type str - int\n",
    "a = '123'\n",
    "b = int(a)\n",
    "print(b+1)\n",
    "print(b)\n",
    "print(type(b))\n"
   ]
  },
  {
   "cell_type": "code",
   "execution_count": 8,
   "metadata": {},
   "outputs": [
    {
     "name": "stdout",
     "output_type": "stream",
     "text": [
      "124.5\n",
      "<class 'float'>\n"
     ]
    }
   ],
   "source": [
    "a = '123.5'\n",
    "b = float(a)\n",
    "print(b+1)\n",
    "print(type(b))\n"
   ]
  },
  {
   "cell_type": "code",
   "execution_count": 9,
   "metadata": {},
   "outputs": [
    {
     "name": "stdout",
     "output_type": "stream",
     "text": [
      "123\n",
      "<class 'int'>\n"
     ]
    }
   ],
   "source": [
    "#convertir type\n",
    "a = 123.5\n",
    "b = int(a)\n",
    "print(b)\n",
    "print(type(b))\n"
   ]
  },
  {
   "cell_type": "code",
   "execution_count": 13,
   "metadata": {},
   "outputs": [
    {
     "name": "stdout",
     "output_type": "stream",
     "text": [
      "<class 'str'>\n",
      "<class 'str'>\n",
      "c =  7 ,  d =  3.14\n"
     ]
    }
   ],
   "source": [
    "a = 7\n",
    "b = 3.14\n",
    "c = str(a)\n",
    "d = str(b)\n",
    "print( type(c))\n",
    "print( type(d))\n",
    "print('c = ', c, ',  d = ', d)\n",
    "\n"
   ]
  },
  {
   "cell_type": "code",
   "execution_count": 18,
   "metadata": {},
   "outputs": [
    {
     "name": "stdout",
     "output_type": "stream",
     "text": [
      "False\n",
      "True\n",
      "False\n",
      "True\n",
      "False\n"
     ]
    }
   ],
   "source": [
    "A = True; B = True \n",
    "#ou A = B = True\n",
    "#ou A , B = True, True\n",
    "C = D = False\n",
    "print((A or B) and (C or D))\n",
    "print(A or (B and C))\n",
    "print(A and B and (C or D))\n",
    "print((A and B) or ( not C ))\n",
    "print((not A) or D)"
   ]
  },
  {
   "cell_type": "code",
   "execution_count": 21,
   "metadata": {},
   "outputs": [
    {
     "name": "stdout",
     "output_type": "stream",
     "text": [
      "7\n",
      "-2\n",
      "7\n",
      "17\n",
      "10.0\n"
     ]
    }
   ],
   "source": [
    "#mahtématique\n",
    "print(abs(-3) + max (3,4))\n",
    "print(min(4, 8, 0, -2))\n",
    "print(max(min(7,8), min(4,6)))\n",
    "print(round(8.324) + round(8.88))\n",
    "print(round(8.98795136, 3))"
   ]
  },
  {
   "cell_type": "code",
   "execution_count": null,
   "metadata": {},
   "outputs": [],
   "source": [
    "import numpy as np\n",
    "a = 3\n",
    "b = -7\n",
    "c = -23\n",
    "delta = b*b - 4 * a * c\n",
    "x1 = (-b - np.sqrt(delta))/(2*a)\n",
    "x2 = (-b + delta**0.5)/(2*a) #** puissance , 0.5 = 1/2, = racine\n",
    "\n",
    "print(a,'* x * x ',b,'* x',' = ', -c)\n",
    "print(delta)\n",
    "print('x1 = ', x1)\n",
    "print('x2 = ', x2)"
   ]
  },
  {
   "cell_type": "code",
   "execution_count": 40,
   "metadata": {},
   "outputs": [
    {
     "name": "stdout",
     "output_type": "stream",
     "text": [
      "Calculer le volume d'un cône droit\n",
      "Saisir un rayon : \n",
      "7\n",
      "Saisir une hauteur : 7.9\n",
      "V =  1216.110516204609\n"
     ]
    }
   ],
   "source": [
    "import numpy as np\n",
    "print(\"Calculer le volume d'un cône droit\")\n",
    "print(\"Saisir un rayon : \")\n",
    "rayon = input() #saisie un chaine de characters\n",
    "hauteur = float(input(\"Saisir une hauteur : \"))\n",
    "# a = (rayon**2 + float(hauteur)**2)**0.5\n",
    "volume = np.pi * float(rayon) ** 2 * hauteur  #soit remplace np.pi par 3.1415 , pas besion d'import numpy\n",
    "print('V = ', volume)"
   ]
  },
  {
   "cell_type": "code",
   "execution_count": 41,
   "metadata": {},
   "outputs": [
    {
     "data": {
      "text/plain": [
       "[]"
      ]
     },
     "execution_count": 41,
     "metadata": {},
     "output_type": "execute_result"
    }
   ],
   "source": [
    "l = []\n",
    "l"
   ]
  },
  {
   "cell_type": "code",
   "execution_count": 42,
   "metadata": {},
   "outputs": [
    {
     "name": "stdout",
     "output_type": "stream",
     "text": [
      "<class 'list'>\n"
     ]
    }
   ],
   "source": [
    "print(type(l))"
   ]
  },
  {
   "cell_type": "code",
   "execution_count": 67,
   "metadata": {},
   "outputs": [
    {
     "name": "stdout",
     "output_type": "stream",
     "text": [
      "[6, 8, 9, 10, -5]\n",
      "[6, 8, 9, 10, -5, 2]\n",
      "size =  6\n",
      "index du premier 8 =  1\n",
      "[10000, 8, 9, 10, -5, 2, 8]\n",
      "nb de 8 =  2\n",
      "de id 2 -> avant 5:  [9, 10, -5]\n",
      "affiche le troisieme element avance dernier  -5\n",
      "affiche 3 derniers  [-5, 2, 8]\n",
      "total =  10032\n",
      "l =  []\n"
     ]
    }
   ],
   "source": [
    "l = [6, 8, 9, 10, -5]\n",
    "print(l)\n",
    "l.append(2)\n",
    "l[2]\n",
    "print(l)\n",
    "print('size = ',len(l))\n",
    "l.append(8)\n",
    "l[0] = 10000 #affecter nv valeur pour element 0\n",
    "print('index du premier 8 = ', l.index(8))\n",
    "print(l)\n",
    "print('nb de 8 = ', l.count(8))\n",
    "print('de id 2 -> avant 5: ',l[2:5]) \n",
    "print('affiche le troisieme element avance dernier ',l[-3])\n",
    "print('affiche 3 derniers ',l[-3:])\n",
    "tot = 0\n",
    "for i in l :  tot = tot + i\n",
    "print('total = ', tot)\n",
    "l[:] = [] #vider une liste\n",
    "print('l = ',l)"
   ]
  },
  {
   "cell_type": "code",
   "execution_count": 85,
   "metadata": {},
   "outputs": [
    {
     "name": "stdout",
     "output_type": "stream",
     "text": [
      "l =  [6, 8, 9, 10, -5]\n",
      "y =  [6, 198, 9, 10, -5]\n",
      "(0, 6)\n",
      "(1, 8)\n",
      "(2, 9)\n",
      "(3, 10)\n",
      "(4, -5)\n",
      "(5, 6)\n",
      "(6, 198)\n",
      "(7, 9)\n",
      "(8, 10)\n",
      "(9, -5)\n",
      "(10, 16)\n",
      "----\n",
      "(0, 6)\n",
      "(1, 198)\n",
      "(2, 9)\n",
      "(3, 10)\n",
      "(4, -5)\n",
      "(5, 16)\n"
     ]
    }
   ],
   "source": [
    "l = [6, 8, 9, 10, -5]\n",
    "y = l[:];\n",
    "print('l = ', l)\n",
    "y[1] = 198\n",
    "print('y = ', y)\n",
    "y.append(16)\n",
    "l.extend(y)\n",
    "for i in enumerate(l) : print(i)\n",
    "print('----')\n",
    "for j in enumerate(y) : print(j)"
   ]
  },
  {
   "cell_type": "code",
   "execution_count": null,
   "metadata": {},
   "outputs": [],
   "source": []
  }
 ],
 "metadata": {
  "kernelspec": {
   "display_name": "Python 3",
   "language": "python",
   "name": "python3"
  },
  "language_info": {
   "codemirror_mode": {
    "name": "ipython",
    "version": 3
   },
   "file_extension": ".py",
   "mimetype": "text/x-python",
   "name": "python",
   "nbconvert_exporter": "python",
   "pygments_lexer": "ipython3",
   "version": "3.8.5"
  }
 },
 "nbformat": 4,
 "nbformat_minor": 4
}
