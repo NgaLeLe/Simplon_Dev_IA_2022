{
 "cells": [
  {
   "cell_type": "code",
   "execution_count": 3,
   "metadata": {},
   "outputs": [
    {
     "name": "stdout",
     "output_type": "stream",
     "text": [
      "Vive la Data avec un grand D\n",
      "nouvelle valeur\n"
     ]
    }
   ],
   "source": [
    "a = 'DevData'\n",
    "if a == 'DevData' :\n",
    "    print('Vive la Data avec un grand D')\n",
    "    a = 'nouvelle valeur'\n",
    "    print(a)\n",
    "else :\n",
    "    print(\"Ho ! Es ce qu'il y a de la data à Cannes?\")"
   ]
  },
  {
   "cell_type": "code",
   "execution_count": 6,
   "metadata": {},
   "outputs": [
    {
     "name": "stdout",
     "output_type": "stream",
     "text": [
      "Vive la data\n"
     ]
    }
   ],
   "source": [
    "a = 'devData'\n",
    "if a == 'DevData' :\n",
    "    print('Vive la Data avec un grand D')\n",
    "    a = 'nouvelle valeur'\n",
    "    print(a)\n",
    "elif a == 'devData' :\n",
    "    print('Vive la data')\n",
    "else :\n",
    "    print(\"Ho ! Es ce qu'il y a de la data à Cannes?\")"
   ]
  },
  {
   "cell_type": "code",
   "execution_count": 10,
   "metadata": {},
   "outputs": [
    {
     "name": "stdout",
     "output_type": "stream",
     "text": [
      "[4.7, 53, 2019, 'formation', 'Montpellier', True]\n",
      "------ print par element\n",
      "DevData\n",
      "53\n",
      "2019\n",
      "formation\n",
      "Montpellier\n"
     ]
    }
   ],
   "source": [
    "maListe = [4.7 , 53, 2019, \"formation\", \"Montpellier\", True]\n",
    "print(maListe)\n",
    "maListe[0] = 'DevData' #affecter une nv valeur\n",
    "print('------ print par element')\n",
    "print(maListe[0])\n",
    "print(maListe[1])\n",
    "print(maListe[2])\n",
    "print(maListe[3])\n",
    "print(maListe[4])\n"
   ]
  },
  {
   "cell_type": "code",
   "execution_count": 14,
   "metadata": {},
   "outputs": [
    {
     "name": "stdout",
     "output_type": "stream",
     "text": [
      "[4.7, 53, 2019, 'formation', 'Montpellier', True]\n",
      "------ print par element\n",
      "DevData\n",
      "53\n",
      "2019\n",
      "formation\n",
      "Montpellier\n",
      "True\n"
     ]
    }
   ],
   "source": [
    "maListe = [4.7 , 53, 2019, \"formation\", \"Montpellier\", True]\n",
    "print(maListe)\n",
    "maListe[0] = 'DevData' #affecter une nv valeur\n",
    "print('------ print par element')\n",
    "for str in maListe :\n",
    "    print(str)"
   ]
  },
  {
   "cell_type": "code",
   "execution_count": 15,
   "metadata": {},
   "outputs": [
    {
     "name": "stdout",
     "output_type": "stream",
     "text": [
      "D\n",
      "e\n",
      "v\n",
      "D\n",
      "a\n",
      "t\n",
      "a\n"
     ]
    }
   ],
   "source": [
    "a = 'DevData'\n",
    "for i in a : \n",
    "    print(i)"
   ]
  },
  {
   "cell_type": "code",
   "execution_count": 19,
   "metadata": {},
   "outputs": [
    {
     "name": "stdout",
     "output_type": "stream",
     "text": [
      "x a pour valeur 1\n",
      "x a pour valeur 2\n",
      "x a pour valeur 4\n",
      "x a pour valeur 8\n",
      "Fin\n"
     ]
    }
   ],
   "source": [
    "x = 1\n",
    "while x < 10 : \n",
    "    print(\"x a pour valeur\", x)\n",
    "    x = x * 2\n",
    "print('Fin')"
   ]
  },
  {
   "cell_type": "code",
   "execution_count": 23,
   "metadata": {},
   "outputs": [
    {
     "name": "stdout",
     "output_type": "stream",
     "text": [
      "adress in Ram pour a :  94563369409856\n",
      "adress in Ram pour b :  94563369409856\n",
      "adress in Ram pour b apres affecter :  94563369409856\n"
     ]
    }
   ],
   "source": [
    "a = 1\n",
    "b = a\n",
    "\n",
    "print('adress in Ram pour a : ', id(a))\n",
    "print('adress in Ram pour b : ', id(b))\n",
    "b = 1\n",
    "print('adress in Ram pour b apres affecter : ', id(b))"
   ]
  },
  {
   "cell_type": "code",
   "execution_count": 24,
   "metadata": {},
   "outputs": [
    {
     "name": "stdout",
     "output_type": "stream",
     "text": [
      "0\n",
      "1\n",
      "2\n",
      "3\n",
      "4\n"
     ]
    }
   ],
   "source": [
    "for i in range(5):\n",
    "    print(i)"
   ]
  },
  {
   "cell_type": "code",
   "execution_count": 25,
   "metadata": {},
   "outputs": [
    {
     "name": "stdout",
     "output_type": "stream",
     "text": [
      "5\n",
      "6\n",
      "7\n",
      "8\n",
      "9\n"
     ]
    }
   ],
   "source": [
    "for i in range(5,10):\n",
    "    print(i)"
   ]
  },
  {
   "cell_type": "code",
   "execution_count": 26,
   "metadata": {},
   "outputs": [
    {
     "name": "stdout",
     "output_type": "stream",
     "text": [
      "5\n",
      "7\n",
      "9\n"
     ]
    }
   ],
   "source": [
    "#range(debut, fin, increment)\n",
    "for i in range(5, 10, 2):\n",
    "    print(i)"
   ]
  },
  {
   "cell_type": "code",
   "execution_count": 27,
   "metadata": {},
   "outputs": [
    {
     "name": "stdout",
     "output_type": "stream",
     "text": [
      "[2, 3, 10, 29, 66, 127, 218, 345, 514, 731]\n"
     ]
    }
   ],
   "source": [
    "#créer un liste av fonction/expression qui va produire les valeurs à l'aide d'une boucle\n",
    "maListe = [i**3 + 2 for i in range(10)]\n",
    "print(maListe)"
   ]
  },
  {
   "cell_type": "code",
   "execution_count": 29,
   "metadata": {},
   "outputs": [
    {
     "name": "stdout",
     "output_type": "stream",
     "text": [
      "[2, 3, 10, 29, 66, 127, 218, 345, 514, 731]\n",
      "----- ajouter un ele à la fin\n",
      "[2, 3, 10, 29, 66, 127, 218, 345, 514, 731, 56]\n",
      "----- ajout un ele à la position précis 5\n",
      "[2, 3, 10, 29, 66, 56, 127, 218, 345, 514, 731, 56]\n"
     ]
    }
   ],
   "source": [
    "maListe = [i**3 + 2 for i in range(10)]\n",
    "print(maListe)\n",
    "x =56\n",
    "maListe.append(x) #ajouter un ele à la fin\n",
    "print('----- ajouter un ele à la fin')\n",
    "print(maListe)\n",
    "maListe.insert(5, x) #ajout un ele à la position précis 5\n",
    "print('----- ajout un ele à la position précis 5')\n",
    "print(maListe)"
   ]
  },
  {
   "cell_type": "code",
   "execution_count": 42,
   "metadata": {},
   "outputs": [
    {
     "name": "stdout",
     "output_type": "stream",
     "text": [
      "Exe 1. saisie un nombre, afficher il est pair/impair\n",
      "Saisie un entier : 7.8\n",
      "C'est un IMpair\n"
     ]
    }
   ],
   "source": [
    "print('Exe 1. saisie un nombre, afficher il est pair/impair')\n",
    "a = int(float(input('Saisie un entier : ')))\n",
    "if a % 2 == 0 :\n",
    "    print(\"C'est un Pair\")\n",
    "else : \n",
    "        print(\"C'est un IMpair\")"
   ]
  },
  {
   "cell_type": "code",
   "execution_count": 10,
   "metadata": {},
   "outputs": [
    {
     "ename": "SyntaxError",
     "evalue": "invalid syntax (<ipython-input-10-353b5132782d>, line 5)",
     "output_type": "error",
     "traceback": [
      "\u001b[0;36m  File \u001b[0;32m\"<ipython-input-10-353b5132782d>\"\u001b[0;36m, line \u001b[0;32m5\u001b[0m\n\u001b[0;31m    if (a % 2 == 0 ) :\u001b[0m\n\u001b[0m                     ^\u001b[0m\n\u001b[0;31mSyntaxError\u001b[0m\u001b[0;31m:\u001b[0m invalid syntax\n"
     ]
    }
   ],
   "source": [
    "#### PAS TERMINE ####\n",
    "print('Exe 1. saisie un nombre, afficher il est pair/impair')\n",
    "try :\n",
    "    a = int(float(input('Saisie un entier : '))\n",
    "    if (a % 2 == 0 ) :\n",
    "            print(\"C'est un Pair\")\n",
    "    else : \n",
    "            print(\"C'est un IMpair\")\n",
    "except ValueError :\n",
    "    print('Re-saisie un nombre :')\n",
    "    a = int(float(input('Saisie un entier : '))\n",
    "else :\n",
    "    print(\"FIN\")"
   ]
  },
  {
   "cell_type": "code",
   "execution_count": 49,
   "metadata": {},
   "outputs": [
    {
     "name": "stdout",
     "output_type": "stream",
     "text": [
      "Exe 2. saisie 3 longeurs de cotes, afficher ce triangle est rectangle ou non\n",
      "Saisie la longeur de 1ie côte : 7\n",
      "Saisie la longeur de 2ie côte : 9\n",
      "Saisie la longeur de 1ie côte : 4\n",
      "-->  Eh non, ce n'est pas un triangle rectangle.\n"
     ]
    }
   ],
   "source": [
    "print('Exe 2. saisie 3 longeurs de cotes, afficher ce triangle est rectangle ou non')\n",
    "a = float(input('Saisie la longeur de 1ie côte : '))\n",
    "b = float(input('Saisie la longeur de 2ie côte : '))\n",
    "c = float(input('Saisie la longeur de 1ie côte : '))\n",
    "if (a > 0) and (b > 0) and (c > 0) :\n",
    "    if (a*a + b*b == c*c) or (a*a+c*c == b*b) or (b*b+c*c == a*a) :\n",
    "        print(\"--> C'est un triangle rectangle.\")\n",
    "    else :\n",
    "         print(\"-->  Eh non, ce n'est pas un triangle rectangle.\")\n",
    "else : \n",
    "    print(\"Il faut saisir des nombres positives\")"
   ]
  },
  {
   "cell_type": "code",
   "execution_count": 82,
   "metadata": {},
   "outputs": [
    {
     "name": "stdout",
     "output_type": "stream",
     "text": [
      "Exe 2. saisie 3 longeurs de cotes, afficher ce triangle est rectangle ou non\n"
     ]
    },
    {
     "ename": "KeyboardInterrupt",
     "evalue": "Interrupted by user",
     "output_type": "error",
     "traceback": [
      "\u001b[0;31m---------------------------------------------------------------------------\u001b[0m",
      "\u001b[0;31mKeyboardInterrupt\u001b[0m                         Traceback (most recent call last)",
      "\u001b[0;32m<ipython-input-82-2fa6116bdb23>\u001b[0m in \u001b[0;36m<module>\u001b[0;34m\u001b[0m\n\u001b[1;32m      1\u001b[0m \u001b[0mprint\u001b[0m\u001b[0;34m(\u001b[0m\u001b[0;34m'Exe 2. saisie 3 longeurs de cotes, afficher ce triangle est rectangle ou non'\u001b[0m\u001b[0;34m)\u001b[0m\u001b[0;34m\u001b[0m\u001b[0;34m\u001b[0m\u001b[0m\n\u001b[0;32m----> 2\u001b[0;31m \u001b[0ma\u001b[0m \u001b[0;34m=\u001b[0m \u001b[0mfloat\u001b[0m\u001b[0;34m(\u001b[0m\u001b[0minput\u001b[0m\u001b[0;34m(\u001b[0m\u001b[0;34m'Saisie la longeur de 1ie côte : '\u001b[0m\u001b[0;34m)\u001b[0m\u001b[0;34m)\u001b[0m\u001b[0;34m\u001b[0m\u001b[0;34m\u001b[0m\u001b[0m\n\u001b[0m\u001b[1;32m      3\u001b[0m \u001b[0;32mwhile\u001b[0m \u001b[0;34m(\u001b[0m\u001b[0ma\u001b[0m \u001b[0;34m<=\u001b[0m \u001b[0;36m0\u001b[0m\u001b[0;34m)\u001b[0m \u001b[0;34m:\u001b[0m\u001b[0;34m\u001b[0m\u001b[0;34m\u001b[0m\u001b[0m\n\u001b[1;32m      4\u001b[0m     \u001b[0mprint\u001b[0m\u001b[0;34m(\u001b[0m\u001b[0;34m\"Il faut saisir des nombres positives\"\u001b[0m\u001b[0;34m)\u001b[0m\u001b[0;34m\u001b[0m\u001b[0;34m\u001b[0m\u001b[0m\n\u001b[1;32m      5\u001b[0m     \u001b[0ma\u001b[0m \u001b[0;34m=\u001b[0m \u001b[0mfloat\u001b[0m\u001b[0;34m(\u001b[0m\u001b[0minput\u001b[0m\u001b[0;34m(\u001b[0m\u001b[0;34m'Saisie la longeur de 1ie côte : '\u001b[0m\u001b[0;34m)\u001b[0m\u001b[0;34m)\u001b[0m\u001b[0;34m\u001b[0m\u001b[0;34m\u001b[0m\u001b[0m\n",
      "\u001b[0;32m~/anaconda3/lib/python3.8/site-packages/ipykernel/kernelbase.py\u001b[0m in \u001b[0;36mraw_input\u001b[0;34m(self, prompt)\u001b[0m\n\u001b[1;32m    858\u001b[0m                 \u001b[0;34m\"raw_input was called, but this frontend does not support input requests.\"\u001b[0m\u001b[0;34m\u001b[0m\u001b[0;34m\u001b[0m\u001b[0m\n\u001b[1;32m    859\u001b[0m             )\n\u001b[0;32m--> 860\u001b[0;31m         return self._input_request(str(prompt),\n\u001b[0m\u001b[1;32m    861\u001b[0m             \u001b[0mself\u001b[0m\u001b[0;34m.\u001b[0m\u001b[0m_parent_ident\u001b[0m\u001b[0;34m,\u001b[0m\u001b[0;34m\u001b[0m\u001b[0;34m\u001b[0m\u001b[0m\n\u001b[1;32m    862\u001b[0m             \u001b[0mself\u001b[0m\u001b[0;34m.\u001b[0m\u001b[0m_parent_header\u001b[0m\u001b[0;34m,\u001b[0m\u001b[0;34m\u001b[0m\u001b[0;34m\u001b[0m\u001b[0m\n",
      "\u001b[0;32m~/anaconda3/lib/python3.8/site-packages/ipykernel/kernelbase.py\u001b[0m in \u001b[0;36m_input_request\u001b[0;34m(self, prompt, ident, parent, password)\u001b[0m\n\u001b[1;32m    902\u001b[0m             \u001b[0;32mexcept\u001b[0m \u001b[0mKeyboardInterrupt\u001b[0m\u001b[0;34m:\u001b[0m\u001b[0;34m\u001b[0m\u001b[0;34m\u001b[0m\u001b[0m\n\u001b[1;32m    903\u001b[0m                 \u001b[0;31m# re-raise KeyboardInterrupt, to truncate traceback\u001b[0m\u001b[0;34m\u001b[0m\u001b[0;34m\u001b[0m\u001b[0;34m\u001b[0m\u001b[0m\n\u001b[0;32m--> 904\u001b[0;31m                 \u001b[0;32mraise\u001b[0m \u001b[0mKeyboardInterrupt\u001b[0m\u001b[0;34m(\u001b[0m\u001b[0;34m\"Interrupted by user\"\u001b[0m\u001b[0;34m)\u001b[0m \u001b[0;32mfrom\u001b[0m \u001b[0;32mNone\u001b[0m\u001b[0;34m\u001b[0m\u001b[0;34m\u001b[0m\u001b[0m\n\u001b[0m\u001b[1;32m    905\u001b[0m             \u001b[0;32mexcept\u001b[0m \u001b[0mException\u001b[0m \u001b[0;32mas\u001b[0m \u001b[0me\u001b[0m\u001b[0;34m:\u001b[0m\u001b[0;34m\u001b[0m\u001b[0;34m\u001b[0m\u001b[0m\n\u001b[1;32m    906\u001b[0m                 \u001b[0mself\u001b[0m\u001b[0;34m.\u001b[0m\u001b[0mlog\u001b[0m\u001b[0;34m.\u001b[0m\u001b[0mwarning\u001b[0m\u001b[0;34m(\u001b[0m\u001b[0;34m\"Invalid Message:\"\u001b[0m\u001b[0;34m,\u001b[0m \u001b[0mexc_info\u001b[0m\u001b[0;34m=\u001b[0m\u001b[0;32mTrue\u001b[0m\u001b[0;34m)\u001b[0m\u001b[0;34m\u001b[0m\u001b[0;34m\u001b[0m\u001b[0m\n",
      "\u001b[0;31mKeyboardInterrupt\u001b[0m: Interrupted by user"
     ]
    }
   ],
   "source": [
    "print('Exe 2. saisie 3 longeurs de cotes, afficher ce triangle est rectangle ou non')\n",
    "a = float(input('Saisie la longeur de 1ie côte : '))\n",
    "while (a <= 0) :\n",
    "    print(\"Il faut saisir des nombres positives\")\n",
    "    a = float(input('Saisie la longeur de 1ie côte : '))\n",
    "\n",
    "b = float(input('Saisie la longeur de 2e côte : '))\n",
    "while (b <= 0) :\n",
    "    print(\"Il faut saisir des nombres positives\")\n",
    "    b = float(input('Saisie la longeur de 2e côte : '))\n",
    "\n",
    "c = float(input('Saisie la longeur de 3e côte : '))\n",
    "while (c <= 0) :\n",
    "    print(\"Il faut saisir des nombres positives\")\n",
    "    c = float(input('Saisie la longeur de 3e côte : '))\n",
    "\n",
    "if (a*a + b*b == c*c) or (a*a+c*c == b*b) or (b*b+c*c == a*a) :\n",
    "        print(\"--> C'est un triangle rectangle.\")\n",
    "else :\n",
    "        print('------') \n",
    "        print(\"-->  Eh non, ce n'est pas un triangle rectangle.\")\n"
   ]
  },
  {
   "cell_type": "code",
   "execution_count": 168,
   "metadata": {},
   "outputs": [
    {
     "name": "stdout",
     "output_type": "stream",
     "text": [
      "Exe 3. saisie un prix TCC, afficher prix HT, et elle permet de saisir pls fois\n",
      "Entree 0 si vous voulez termniner :\n",
      "Saisie un prix TCC: -9\n",
      "NEGATIF ! Saisie un prix TCC en positif: 8\n",
      "prix TTC =  8.0  --- HT =  6.666666666666667\n",
      "Saisie un nouveau prix TCC: 0\n"
     ]
    },
    {
     "ename": "KeyboardInterrupt",
     "evalue": "",
     "output_type": "error",
     "traceback": [
      "\u001b[0;31m---------------------------------------------------------------------------\u001b[0m",
      "\u001b[0;31mKeyboardInterrupt\u001b[0m                         Traceback (most recent call last)",
      "\u001b[0;32m<ipython-input-168-8d5eb91c0c3f>\u001b[0m in \u001b[0;36m<module>\u001b[0;34m\u001b[0m\n\u001b[1;32m      5\u001b[0m     \u001b[0;32mif\u001b[0m \u001b[0;34m(\u001b[0m\u001b[0mprixTTC\u001b[0m \u001b[0;34m<\u001b[0m \u001b[0;36m0\u001b[0m\u001b[0;34m)\u001b[0m \u001b[0;34m:\u001b[0m\u001b[0;34m\u001b[0m\u001b[0;34m\u001b[0m\u001b[0m\n\u001b[1;32m      6\u001b[0m         \u001b[0mprixTTC\u001b[0m \u001b[0;34m=\u001b[0m \u001b[0mfloat\u001b[0m\u001b[0;34m(\u001b[0m\u001b[0minput\u001b[0m\u001b[0;34m(\u001b[0m\u001b[0;34m'NEGATIF ! Saisie un prix TCC en positif: '\u001b[0m\u001b[0;34m)\u001b[0m\u001b[0;34m)\u001b[0m\u001b[0;34m\u001b[0m\u001b[0;34m\u001b[0m\u001b[0m\n\u001b[0;32m----> 7\u001b[0;31m     \u001b[0;32mif\u001b[0m \u001b[0;34m(\u001b[0m\u001b[0mprixTTC\u001b[0m \u001b[0;34m>\u001b[0m \u001b[0;36m0\u001b[0m\u001b[0;34m)\u001b[0m \u001b[0;34m:\u001b[0m\u001b[0;34m\u001b[0m\u001b[0;34m\u001b[0m\u001b[0m\n\u001b[0m\u001b[1;32m      8\u001b[0m         \u001b[0mht\u001b[0m \u001b[0;34m=\u001b[0m \u001b[0mprixTTC\u001b[0m \u001b[0;34m/\u001b[0m \u001b[0;36m1.2\u001b[0m\u001b[0;34m;\u001b[0m\u001b[0;34m\u001b[0m\u001b[0;34m\u001b[0m\u001b[0m\n\u001b[1;32m      9\u001b[0m         \u001b[0mprint\u001b[0m \u001b[0;34m(\u001b[0m\u001b[0;34m\"prix TTC = \"\u001b[0m\u001b[0;34m,\u001b[0m \u001b[0mprixTTC\u001b[0m\u001b[0;34m,\u001b[0m \u001b[0;34m' --- HT = '\u001b[0m\u001b[0;34m,\u001b[0m \u001b[0mht\u001b[0m\u001b[0;34m)\u001b[0m\u001b[0;34m\u001b[0m\u001b[0;34m\u001b[0m\u001b[0m\n",
      "\u001b[0;31mKeyboardInterrupt\u001b[0m: "
     ]
    }
   ],
   "source": [
    "print('Exe 3. saisie un prix TCC, afficher prix HT, et elle permet de saisir pls fois')\n",
    "print('Entree 0 si vous voulez termniner :')\n",
    "prixTTC = float(input('Saisie un prix TCC: '))\n",
    "while (prixTTC <= 0) : \n",
    "    if (prixTTC < 0) :\n",
    "        prixTTC = float(input('NEGATIF ! Saisie un prix TCC en positif: '))\n",
    "    if (prixTTC > 0) :\n",
    "        ht = prixTTC / 1.2;\n",
    "        print (\"prix TTC = \", prixTTC, ' --- HT = ', ht)\n",
    "        prixTTC = float(input('Saisie un nouveau prix TCC: ')) \n",
    "print('Fin')"
   ]
  },
  {
   "cell_type": "code",
   "execution_count": 84,
   "metadata": {},
   "outputs": [
    {
     "name": "stdout",
     "output_type": "stream",
     "text": [
      "Exe5. vérifie si la liste [1, 2, 3, 4, 3, 2, 1] et un palindrome.\n",
      "C'est pas un palindrome !\n"
     ]
    }
   ],
   "source": [
    "print('Exe5. vérifie si la liste [1, 2, 3, 4, 3, 2, 1] et un palindrome.')\n",
    "liste = [1, 2, 3, 4, 3, 4, 1] \n",
    "palid = True\n",
    "for i in range(len(liste)//2) :\n",
    "    if liste[i] != liste[-(i+1)] :\n",
    "        palid = False\n",
    "if (palid == True) :\n",
    "    print(\"C'est un palindrome !\")\n",
    "else :\n",
    "    print(\"C'est pas un palindrome !\")"
   ]
  },
  {
   "cell_type": "code",
   "execution_count": 72,
   "metadata": {},
   "outputs": [
    {
     "name": "stdout",
     "output_type": "stream",
     "text": [
      "Exe5. vérifie si la liste [1, 2, 3, 4, 3, 2, 1] et un palindrome.\n",
      "[1, 2, 3, 4, 3, 2, 1]\n",
      "C'est un palindrome !\n"
     ]
    }
   ],
   "source": [
    "print('Exe5. vérifie si la liste [1, 2, 3, 4, 3, 2, 1] et un palindrome.')\n",
    "liste = [1, 2, 3, 4, 3, 2, 1] \n",
    "l = liste\n",
    "l.reverse()\n",
    "print(l)\n",
    "if (liste == l ) :\n",
    "    print(\"C'est un palindrome !\")\n",
    "else :\n",
    "    print(\"C'est pas un palindrome !\")"
   ]
  },
  {
   "cell_type": "code",
   "execution_count": 77,
   "metadata": {},
   "outputs": [
    {
     "name": "stdout",
     "output_type": "stream",
     "text": [
      "Exe6. une liste L3 qui contient une seul et unique fois tout les éléments de L1 et L2\n",
      "{1, 2, 3, 4, 5, 7, 8, 9}\n",
      "<class 'set'>\n"
     ]
    }
   ],
   "source": [
    "print('Exe6. une liste L3 qui contient une seul et unique fois tout les éléments de L1 et L2')\n",
    "L1 = [ 2, 7, 3, 1, 5, 7, 1 ] \n",
    "L2 = [ 8, 5, 9, 4, 1, 1, 5 ]\n",
    "print(set(L1 + L2))\n",
    "print(type(set(L1 + L2)) )"
   ]
  },
  {
   "cell_type": "code",
   "execution_count": 75,
   "metadata": {},
   "outputs": [
    {
     "name": "stdout",
     "output_type": "stream",
     "text": [
      "Exe6. une liste L3 qui contient une seul et unique fois tout les éléments de L1 et L2\n",
      "[2, 7, 3, 1, 5, 8, 9, 4]\n"
     ]
    }
   ],
   "source": [
    "print('Exe6. une liste L3 qui contient une seul et unique fois tout les éléments de L1 et L2')\n",
    "L1 = [ 2, 7, 3, 1, 5, 7, 1 ] \n",
    "L2 = [ 8, 5, 9, 4, 1, 1, 5 ]\n",
    "l3 = []\n",
    "for i in L1 : \n",
    "    if l3.count(i) == 0 :\n",
    "        l3.append(i)\n",
    "for j in L2 : \n",
    "    if l3.count(j) == 0 :\n",
    "        l3.append(j)\n",
    "print(l3)"
   ]
  },
  {
   "cell_type": "code",
   "execution_count": 78,
   "metadata": {},
   "outputs": [
    {
     "name": "stdout",
     "output_type": "stream",
     "text": [
      "[1, 2, 3, 4, 5, 7, 8, 9]\n"
     ]
    }
   ],
   "source": [
    "L1 = [ 2, 7, 3, 1, 5, 7, 1 ] \n",
    "L2 = [ 8, 5, 9, 4, 1, 1, 5 ]\n",
    "L3 = L1 + L2\n",
    "L3 = set(L3)\n",
    "L3 = list(L3)\n",
    "print(L3)"
   ]
  },
  {
   "cell_type": "code",
   "execution_count": 109,
   "metadata": {},
   "outputs": [
    {
     "name": "stdout",
     "output_type": "stream",
     "text": [
      "Votre nombre : hfdj\n",
      "Ce n'est pas un nombre, reessayez !\n"
     ]
    }
   ],
   "source": [
    "str = input(\"Votre nombre : \")\n",
    "try:\n",
    "    nombre = int(str)\n",
    "    str = input(\"Votre nombre : \")\n",
    "except ValueError:\n",
    "    print(\"Ce n'est pas un nombre, reessayez !\")\n",
    "    \n",
    "    "
   ]
  },
  {
   "cell_type": "code",
   "execution_count": 108,
   "metadata": {},
   "outputs": [
    {
     "name": "stdout",
     "output_type": "stream",
     "text": [
      "o\n",
      "j\n",
      "njou\n",
      "BONJOUR\n",
      "Bonsoir\n",
      "3\n"
     ]
    }
   ],
   "source": [
    "#travaille sur une chaine de character est pareil s/la liste\n",
    "A = \"Bonjour\"\n",
    "print(A[1])\n",
    "print(A[-4])\n",
    "print(A[2:-1])\n",
    "print(A.upper())\n",
    "print(A.replace(\"jour\", \"soir\"))\n",
    "print(A.find(\"jour\"))"
   ]
  },
  {
   "cell_type": "code",
   "execution_count": 133,
   "metadata": {},
   "outputs": [
    {
     "name": "stdout",
     "output_type": "stream",
     "text": [
      "Exe. saisir un verbe du 1 groupe -> affiche sa conjugaison\n",
      "Donnez-moi un verbe du 1 groupe : appeler\n",
      "je  appèle\n",
      "tu  appèles\n",
      "il/elle  appèle\n",
      "nous  appelons\n",
      "vous  appelez\n",
      "ils/elles  appelent\n",
      "FIN\n"
     ]
    }
   ],
   "source": [
    "print(\"Exe. saisir un verbe du 1 groupe -> affiche sa conjugaison\")\n",
    "str = input(\"Donnez-moi un verbe du 1 groupe : \")\n",
    "while (str[-2:] != \"er\") or str == 'aller' :\n",
    "        str = input(\"verbe n'est par terminé par er, reessayez: \")\n",
    "\n",
    "if (str[-4] == \"e\") :\n",
    "    print(\"je \", str[:-4]+\"è\"+str[-3]+\"e\")\n",
    "    print(\"tu \", str[:-4]+\"è\"+str[-3]+\"es\")\n",
    "    print(\"il/elle \", str[:-4]+\"è\"+str[-3]+\"e\")\n",
    "else : \n",
    "    print(\"je \", str[:-2]+\"e\")\n",
    "    print(\"tu \", str[:-2]+\"es\")\n",
    "    print(\"il/elle \", str[:-2]+\"e\")\n",
    "if (str[-3] == \"g\") :\n",
    "    print(\"nous \", str[:-2]+\"eons\")\n",
    "else :\n",
    "    print(\"nous \", str[:-2]+\"ons\")\n",
    "print(\"vous \", str[:-2]+\"ez\")\n",
    "print(\"ils/elles \", str[:-2]+\"ent\")\n",
    "    \n",
    "print(\"FIN\")"
   ]
  },
  {
   "cell_type": "code",
   "execution_count": 140,
   "metadata": {},
   "outputs": [
    {
     "name": "stdout",
     "output_type": "stream",
     "text": [
      "Exe. La longeur Hamming\n",
      "Entrez mot 1 : Havom\n",
      "Mot 2: havom\n",
      "OK\n",
      "Longeur Hamming =  0\n"
     ]
    }
   ],
   "source": [
    "print(\"Exe. La distance Hamming\")\n",
    "str1 = input(\"Entrez mot 1 : \")\n",
    "str2 = input(\"Mot 2: \")\n",
    "if (len(str1) == len(str2)) :\n",
    "    print(\"OK\")\n",
    "    longeur = 0\n",
    "    for i in range(len(str1)):\n",
    "        if (str1[i].upper() != str2[i].upper()) :\n",
    "            longeur +=1\n",
    "    print(\"Distance Hamming = \", longeur)\n",
    "else :\n",
    "    print(\"2 chaines ne sont pas meme longeur\")\n",
    "\n",
    "    "
   ]
  },
  {
   "cell_type": "code",
   "execution_count": 192,
   "metadata": {},
   "outputs": [
    {
     "name": "stdout",
     "output_type": "stream",
     "text": [
      "Exe. Afficher l'enver d'un string\n",
      "Entrez un mot pour renverser : 1234567\n",
      "7654321\n"
     ]
    }
   ],
   "source": [
    "print(\"Exe. Afficher l'enver d'un string\")\n",
    "mot = input(\"Entrez un mot pour renverser : \")\n",
    "ren = list(mot)\n",
    "ren.reverse()\n",
    "mot_ren = \"\"\n",
    "mot_ren = mot_ren.join(ren)\n",
    "print(mot_ren)     \n"
   ]
  },
  {
   "cell_type": "code",
   "execution_count": 183,
   "metadata": {},
   "outputs": [
    {
     "name": "stdout",
     "output_type": "stream",
     "text": [
      "Exe. Afficher l'enver d'un string\n",
      "Entrez un mot pour renverser : 1234567\n",
      "7654321\n"
     ]
    }
   ],
   "source": [
    "print(\"Exe. Afficher l'enver d'un string\")\n",
    "mot = input(\"Entrez un mot pour renverser : \")\n",
    "print(mot[::-1])"
   ]
  },
  {
   "cell_type": "code",
   "execution_count": 193,
   "metadata": {},
   "outputs": [
    {
     "ename": "NameError",
     "evalue": "name 'rint' is not defined",
     "output_type": "error",
     "traceback": [
      "\u001b[0;31m---------------------------------------------------------------------------\u001b[0m",
      "\u001b[0;31mNameError\u001b[0m                                 Traceback (most recent call last)",
      "\u001b[0;32m<ipython-input-193-6658ef471d78>\u001b[0m in \u001b[0;36m<module>\u001b[0;34m\u001b[0m\n\u001b[0;32m----> 1\u001b[0;31m \u001b[0mrint\u001b[0m\u001b[0;34m(\u001b[0m\u001b[0;34m\"Exe. Afficher l'enver d'un string\"\u001b[0m\u001b[0;34m)\u001b[0m\u001b[0;34m\u001b[0m\u001b[0;34m\u001b[0m\u001b[0m\n\u001b[0m\u001b[1;32m      2\u001b[0m \u001b[0mmot\u001b[0m \u001b[0;34m=\u001b[0m \u001b[0minput\u001b[0m\u001b[0;34m(\u001b[0m\u001b[0;34m\"Entrez un mot pour renverser : \"\u001b[0m\u001b[0;34m)\u001b[0m\u001b[0;34m\u001b[0m\u001b[0;34m\u001b[0m\u001b[0m\n",
      "\u001b[0;31mNameError\u001b[0m: name 'rint' is not defined"
     ]
    }
   ],
   "source": [
    "print(\"Exe. Afficher l'enver d'un string\")\n",
    "mot = input(\"Entrez un mot pour renverser : \")"
   ]
  },
  {
   "cell_type": "code",
   "execution_count": 203,
   "metadata": {},
   "outputs": [
    {
     "name": "stdout",
     "output_type": "stream",
     "text": [
      "solutions, si elles existe, du polynôme ax² + bx + c = 0\n",
      "a = 4\n",
      "b = 8\n",
      "c = 2\n",
      "3\n",
      "Delta =   32.000\n",
      "x1 =   -0.293\n",
      "x2 =   -1.707\n",
      "\n",
      "FIN\n"
     ]
    }
   ],
   "source": [
    "print(\"solutions, si elles existe, du polynôme ax² + bx + c = 0\")\n",
    "count = 0\n",
    "while (count < 3) :\n",
    "    try :\n",
    "        a = float(input('a = '))\n",
    "    except ValueError :\n",
    "        print(\"Il faut entrer un nombre quelconque, re-essayez: \")\n",
    "        a = float(input('a = '))\n",
    "    else :\n",
    "        count +=1\n",
    "    try :\n",
    "        b = float(input('b = '))\n",
    "    except ValueError :\n",
    "        print(\"Il faut entrer un nombre quelconque, re-essayez: \")\n",
    "        b = float(input('b = '))\n",
    "    else :\n",
    "        count +=1\n",
    "    try :\n",
    "        c = float(input('c = '))\n",
    "    except ValueError :\n",
    "        print(\"Il faut entrer un nombre quelconque, re-essayez: \")\n",
    "        c = float(input('c = '))\n",
    "    else :\n",
    "        count +=1\n",
    "print(count)\n",
    "delta = b ** 2 - 4 * a * c\n",
    "print(\"Delta = %8.3f\" % (delta))\n",
    "if (delta == 0) : \n",
    "    x = -b / (2 * a)\n",
    "    print(\"Il y a une solution x1 = x2 = %.3f\", x)\n",
    "elif (delta > 0) :\n",
    "    x1 = (-b + delta ** 0.5)/(2 * a)\n",
    "    x2 = (-b - delta ** 0.5)/(2 * a)\n",
    "    print(\"x1 = %8.3f\" % (x1))\n",
    "    print(\"x2 = %8.3f\" % (x2))\n",
    "else :\n",
    "    print(\"PAS de solution !\")\n",
    "print(\"\\nFIN\")\n",
    "\n",
    "\n"
   ]
  },
  {
   "cell_type": "code",
   "execution_count": 21,
   "metadata": {},
   "outputs": [
    {
     "name": "stdout",
     "output_type": "stream",
     "text": [
      "5. Additionner les n premiers entiers\n",
      "saisie n = -\n",
      "Il faut entrer un nombre entier, re-essayez: \n",
      "n = -7\n",
      "Ne calculer plus, cas n est négatif\n"
     ]
    }
   ],
   "source": [
    "print(\"5. Additionner les n premiers entiers\")\n",
    "total = 0\n",
    "try :\n",
    "        n = int(input('saisie n = '))\n",
    "except ValueError :\n",
    "        print(\"Il faut entrer un nombre entier, re-essayez: \")\n",
    "        n = int(input('n = '))\n",
    "if (n > 0) :\n",
    "    for i in range(n) :\n",
    "        total += i\n",
    "    total += n\n",
    "    print(\"Totalité de 1 -> n = \", total)\n",
    "else :\n",
    "    print(\"Ne calculer plus, cas n est négatif\")\n",
    "\n",
    "       "
   ]
  },
  {
   "cell_type": "code",
   "execution_count": null,
   "metadata": {},
   "outputs": [],
   "source": []
  }
 ],
 "metadata": {
  "kernelspec": {
   "display_name": "Python 3",
   "language": "python",
   "name": "python3"
  },
  "language_info": {
   "codemirror_mode": {
    "name": "ipython",
    "version": 3
   },
   "file_extension": ".py",
   "mimetype": "text/x-python",
   "name": "python",
   "nbconvert_exporter": "python",
   "pygments_lexer": "ipython3",
   "version": "3.8.5"
  }
 },
 "nbformat": 4,
 "nbformat_minor": 4
}
