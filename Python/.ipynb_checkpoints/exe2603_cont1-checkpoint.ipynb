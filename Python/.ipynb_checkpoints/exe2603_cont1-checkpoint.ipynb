{
 "cells": [
  {
   "cell_type": "code",
   "execution_count": 16,
   "metadata": {},
   "outputs": [
    {
     "name": "stdout",
     "output_type": "stream",
     "text": [
      "ex. Afficher 50 de la division 1 par 2 \n",
      "XX01234567890123456789012345678901234567890123456789\n",
      "0.50000000000000000000000000000000000000000000000000\n",
      "0.25000000000000000000000000000000000000000000000000\n",
      "0.12500000000000000000000000000000000000000000000000\n",
      "0.06250000000000000000000000000000000000000000000000\n",
      "0.03125000000000000000000000000000000000000000000000\n",
      "0.01562500000000000000000000000000000000000000000000\n",
      "0.00781250000000000000000000000000000000000000000000\n",
      "0.00390625000000000000000000000000000000000000000000\n",
      "0.00195312500000000000000000000000000000000000000000\n",
      "0.00097656250000000000000000000000000000000000000000\n",
      "0.00048828125000000000000000000000000000000000000000\n",
      "0.00024414062500000000000000000000000000000000000000\n",
      "0.00012207031250000000000000000000000000000000000000\n",
      "0.00006103515625000000000000000000000000000000000000\n",
      "0.00003051757812500000000000000000000000000000000000\n",
      "0.00001525878906250000000000000000000000000000000000\n",
      "0.00000762939453125000000000000000000000000000000000\n",
      "0.00000381469726562500000000000000000000000000000000\n",
      "0.00000190734863281250000000000000000000000000000000\n",
      "0.00000095367431640625000000000000000000000000000000\n",
      "0.00000047683715820312500000000000000000000000000000\n",
      "0.00000023841857910156250000000000000000000000000000\n",
      "0.00000011920928955078125000000000000000000000000000\n",
      "0.00000005960464477539062500000000000000000000000000\n",
      "0.00000002980232238769531250000000000000000000000000\n",
      "0.00000001490116119384765625000000000000000000000000\n",
      "0.00000000745058059692382812500000000000000000000000\n",
      "0.00000000372529029846191406250000000000000000000000\n",
      "0.00000000186264514923095703125000000000000000000000\n",
      "0.00000000093132257461547851562500000000000000000000\n",
      "0.00000000046566128730773925781250000000000000000000\n",
      "0.00000000023283064365386962890625000000000000000000\n",
      "0.00000000011641532182693481445312500000000000000000\n",
      "0.00000000005820766091346740722656250000000000000000\n",
      "0.00000000002910383045673370361328125000000000000000\n",
      "0.00000000001455191522836685180664062500000000000000\n",
      "0.00000000000727595761418342590332031250000000000000\n",
      "0.00000000000363797880709171295166015625000000000000\n",
      "0.00000000000181898940354585647583007812500000000000\n",
      "0.00000000000090949470177292823791503906250000000000\n",
      "0.00000000000045474735088646411895751953125000000000\n",
      "0.00000000000022737367544323205947875976562500000000\n",
      "0.00000000000011368683772161602973937988281250000000\n",
      "0.00000000000005684341886080801486968994140625000000\n",
      "0.00000000000002842170943040400743484497070312500000\n",
      "0.00000000000001421085471520200371742248535156250000\n",
      "0.00000000000000710542735760100185871124267578125000\n",
      "0.00000000000000355271367880050092935562133789062500\n",
      "0.00000000000000177635683940025046467781066894531250\n"
     ]
    }
   ],
   "source": [
    "print(\"ex. Afficher 50 de la division 1 par 2 \")\n",
    "print(\"%s%s\" % (\"XX\",\"0123456789\"*5))\n",
    "a = 1\n",
    "for i in range(1,50) :\n",
    "    a = a / 2\n",
    "    print(\"%.50f\" % (a))\n",
    "    #print(\"{.50f}\".format(x))"
   ]
  },
  {
   "cell_type": "code",
   "execution_count": 19,
   "metadata": {},
   "outputs": [
    {
     "name": "stdout",
     "output_type": "stream",
     "text": [
      "exe5. nombre de chiffre 7\n",
      "Saisie un nombre de 10 au 99 : 40\n",
      "17\n",
      "27\n",
      "37\n",
      "Il y a 3 nombres ayant 7\n",
      "FIN\n"
     ]
    }
   ],
   "source": [
    "print(\"exe5. nombre de chiffre 7\")\n",
    "cnt = 0\n",
    "num = int(input(\"Saisie un nombre de 10 au 99 : \"))\n",
    "if (num >= 10) and (num <= 99) :\n",
    "    for i in range(10,num+1) :\n",
    "        if (i % 10 == 7) or (i // 10 == 7) :\n",
    "            print(i)\n",
    "            cnt += 1\n",
    "else :\n",
    "    print(\"Nombre n'a pas 2 chiffre \")\n",
    "if (cnt > 0) :\n",
    "    print(\"Il y a %d nombres ayant 7\" % (cnt) )\n",
    "print(\"FIN\")"
   ]
  },
  {
   "cell_type": "code",
   "execution_count": 14,
   "metadata": {},
   "outputs": [
    {
     "name": "stdout",
     "output_type": "stream",
     "text": [
      "Exe6. Compter les consonnes dans un mot \n",
      "Saisie un mot : Hello\n",
      "Mot HELLO a 2 consonnes\n"
     ]
    }
   ],
   "source": [
    "print(\"Exe6. Compter les consonnes dans un mot \")\n",
    "str = input(\"Saisie un mot : \")\n",
    "str = str.upper();\n",
    "nbconsonne = 0\n",
    "for i in range(len(str)) :\n",
    "    if str[i] in ('A','E','O', 'U', 'I', 'Y') :\n",
    "        nbconsonne += 1\n",
    "print(\"Mot %s a %d consonnes\" % (str, nbconsonne))"
   ]
  },
  {
   "cell_type": "code",
   "execution_count": 6,
   "metadata": {},
   "outputs": [
    {
     "name": "stdout",
     "output_type": "stream",
     "text": [
      "Exe7. Encoder et décrypter un nom\n",
      "Saisie un mot : haizy\n",
      "KDLCB\n"
     ]
    }
   ],
   "source": [
    "print(\"Exe7. Encoder et décrypter un nom\")\n",
    "str = input(\"Saisie un mot : \").upper()\n",
    "#str = str.upper();\n",
    "tabABC = [\"A\", \"B\", \"C\"]\n",
    "dcrt = \"\"\n",
    "for i in range(len(str)) :\n",
    "    if (str[i] == \"X\") :\n",
    "        dcrt = dcrt + chr(ord(\"A\"))\n",
    "    elif (str[i] == \"Y\") :\n",
    "        dcrt = dcrt + chr(ord(\"B\"))\n",
    "    elif (str[i] == \"Z\") :\n",
    "        dcrt = dcrt + chr(ord(\"C\"))\n",
    "    else :\n",
    "        dcrt = dcrt + (chr(ord(str[i])+3))\n",
    "print(dcrt)\n"
   ]
  },
  {
   "cell_type": "code",
   "execution_count": 60,
   "metadata": {},
   "outputs": [
    {
     "name": "stdout",
     "output_type": "stream",
     "text": [
      "Exe9. Afficher le calendrier du mois \n",
      "Saisie nombre du mois: 4\n",
      "Saisie annee: 2021\n",
      "Jour  demarre: 4\n",
      "\n",
      "CALENDIER du 4/2021, jour de depart Jeu\n",
      "   Lun   Mar   Mer   Jeu   Ven   Sam   Dim\n",
      "                       1     2     3     4\n",
      "\n",
      "     5     6     7     8     9    10    11\n",
      "\n",
      "    12    13    14    15    16    17    18\n",
      "\n",
      "    19    20    21    22    23    24    25\n",
      "\n",
      "    26    27    28    29    30"
     ]
    }
   ],
   "source": [
    "print(\"Exe9. Afficher le calendrier du mois \")\n",
    "\n",
    "mois = 0\n",
    "annee = 0\n",
    "nbjour = 0\n",
    "jourDepart = 0\n",
    "listJour = [\"Lun\", \"Mar\", \"Mer\", \"Jeu\", \"Ven\", \"Sam\", \"Dim\"]\n",
    "\n",
    "#essayez d'entrer un chiffre du mois entre 1-12\n",
    "try : \n",
    "    mois = int(input(\"Saisie nombre du mois: \"))\n",
    "    if (mois < 1 or mois > 12) :\n",
    "        mois = int(input(\"Saisie nombre du mois: \"))\n",
    "except ValueError:\n",
    "    print(\"Il faut entrer un chiffre entre 1 - 12. Reessayez: \")\n",
    "    mois = int(input(\"Saisie nombre du mois: \"))\n",
    "\n",
    "#l'annee est un chiffre positif\n",
    "try : \n",
    "    annee = int(input(\"Saisie annee: \"))\n",
    "    if annee <= 0 :\n",
    "        annee = int(input(\"Saisie annee: \"))\n",
    "except ValueError:\n",
    "    print(\"Il faut entrer un chiffre. Reessayez: \")\n",
    "    annee = int(input(\"Saisie annee: \"))\n",
    "\n",
    "#le jour depart doit etre dans range 1-7\n",
    "try : \n",
    "    jourDepart = int(input(\"Jour  demarre: \"))\n",
    "    if jourDepart <= 0 :\n",
    "        jourDepart = int(input(\"Jour demarre est entre 1-7, reessayez: \"))\n",
    "    elif jourDepart > 7 :\n",
    "        jourDepart = int(input(\"Jour demarre est entre 1-7, reessayez: \"))\n",
    "except ValueError:\n",
    "    print(\"Il faut entrer un chiffre. Reessayez: \")\n",
    "    jourDepart = int(input(\"Jour de depart: \"))\n",
    "\n",
    "#caculer nombre jour du mois   \n",
    "if (mois in range(1,12+1)) : \n",
    "    if (mois in (1,3,5,7,8,10,12)) :\n",
    "        nbjour = 31;\n",
    "    elif (mois in (4,6,9,11)) :\n",
    "        nbjour = 30;\n",
    "    else :\n",
    "        if (annee % 100 == 0 and annee % 400 == 0) :\n",
    "            nbjour = 29\n",
    "        elif (annee % 100 == 0) :\n",
    "            nbjour = 28\n",
    "        elif (annee % 4 == 0) :\n",
    "            nbjour = 29\n",
    "        else :\n",
    "            nbjour = 28;\n",
    "\n",
    "print(\"\\nCALENDIER du {}/{}, jour de depart {}\".format(mois,annee, listJour[jourDepart-1]))\n",
    "\n",
    "#afficher le calendrier\n",
    "for njour in listJour : #afficher titre du jour\n",
    "    print(\"%6s\" %(njour), end=\"\")\n",
    "print()\n",
    "for nspace in range(1,jourDepart) : #affiche une espace devant le jour depart\n",
    "    print(\" \"*6, end=\"\")\n",
    "\n",
    "for day in range(1,nbjour+1) :\n",
    "    print(\"%6s\" %day, end=\"\")\n",
    "    if (jourDepart-1+day)%7 == 0 :\n",
    "        print(\"\\n\") #saute une nv ligne\n",
    " "
   ]
  },
  {
   "cell_type": "code",
   "execution_count": 70,
   "metadata": {},
   "outputs": [
    {
     "name": "stdout",
     "output_type": "stream",
     "text": [
      "8. Afficher les balises d’une page HTML \n",
      "html\n",
      "head\n",
      "title\n",
      "/title\n",
      "/head\n",
      "body\n",
      "/body\n",
      "/html\n"
     ]
    }
   ],
   "source": [
    "print(\"8. Afficher les balises d’une page HTML \")\n",
    "mock = \"\"\"<html> \n",
    "<head> <title>Mon Titre </title> </head> \n",
    "<body> Texte sur la page </body> \n",
    "</html>\"\"\"\n",
    "\n",
    "balise = []\n",
    "for b in range(len(mock)) :\n",
    "    if (mock[b] == '<') :\n",
    "        ind = mock.find(\">\", b+1)\n",
    "        print(mock[b+1:ind])\n",
    "        b += ind"
   ]
  },
  {
   "cell_type": "code",
   "execution_count": 79,
   "metadata": {},
   "outputs": [
    {
     "name": "stdout",
     "output_type": "stream",
     "text": [
      "10. Statistiques avec pile ou face\n",
      "entrez nombre de tirage : 1000\n",
      "Il y a 519 piles et 481 faces dans 1000 de tirages\n"
     ]
    }
   ],
   "source": [
    "import random\n",
    "print(\"10. Statistiques avec pile ou face\")\n",
    "nbtirage = int(input(\"entrez nombre de tirage : \"))\n",
    "nbPile = 0\n",
    "nbFace = 0\n",
    "if nbtirage > 0 :\n",
    "    for tir in range(nbtirage) :\n",
    "        PileFace = random.randint(0,1)\n",
    "        if (PileFace == 0) :\n",
    "            nbFace +=1\n",
    "        else :\n",
    "            nbPile +=1\n",
    "    if nbPile == 0 :\n",
    "        print(\"Il y a que {} face\".format(nbFace))\n",
    "    elif nbFace == 0 :\n",
    "        print(\"Il y a que {} face\".format(nbPile))\n",
    "    else :\n",
    "        print(\"Il y a {} piles et {} faces dans {} de tirages\".format(nbPile, nbFace, nbtirage))\n",
    "else :\n",
    "    print(\"nombre de tirage doit etre un nombre positif. FIN\")"
   ]
  },
  {
   "cell_type": "code",
   "execution_count": null,
   "metadata": {},
   "outputs": [],
   "source": []
  }
 ],
 "metadata": {
  "kernelspec": {
   "display_name": "Python 3",
   "language": "python",
   "name": "python3"
  },
  "language_info": {
   "codemirror_mode": {
    "name": "ipython",
    "version": 3
   },
   "file_extension": ".py",
   "mimetype": "text/x-python",
   "name": "python",
   "nbconvert_exporter": "python",
   "pygments_lexer": "ipython3",
   "version": "3.8.5"
  }
 },
 "nbformat": 4,
 "nbformat_minor": 4
}
