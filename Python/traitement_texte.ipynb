{
 "cells": [
  {
   "cell_type": "code",
   "execution_count": 4,
   "id": "83815fef",
   "metadata": {},
   "outputs": [
    {
     "name": "stdout",
     "output_type": "stream",
     "text": [
      "Interieur de test  3\n",
      "apres test  2\n"
     ]
    }
   ],
   "source": [
    "#global: utilise un variable globa\n",
    "a=2\n",
    "def test():\n",
    "    global a\n",
    "    a=3\n",
    "    print(\"Interieur de test \", a)\n",
    "test()\n",
    "print(\"apres test \", a)"
   ]
  },
  {
   "cell_type": "code",
   "execution_count": 5,
   "id": "9fb00ca0",
   "metadata": {},
   "outputs": [
    {
     "name": "stdout",
     "output_type": "stream",
     "text": [
      "Je m'applelle pour x =  10\n",
      "Je m'applelle pour x =  5.0\n",
      "Je m'applelle pour x =  2.5\n",
      "je ne m'appelle par pour x =  1.25\n"
     ]
    },
    {
     "data": {
      "text/plain": [
       "4"
      ]
     },
     "execution_count": 5,
     "metadata": {},
     "output_type": "execute_result"
    }
   ],
   "source": [
    "#Fonction récursive\n",
    "def recursive(x) :\n",
    "    if  x/2 < 1 : \n",
    "        print(\"je ne m'appelle par pour x = \", x)\n",
    "        return 1\n",
    "    else :\n",
    "        print(\"Je m'applelle pour x = \", x)\n",
    "        return recursive(x/2) + 1 #compte dans fonc récursive\n",
    "recursive(10)"
   ]
  },
  {
   "cell_type": "code",
   "execution_count": 16,
   "id": "30e28e66",
   "metadata": {},
   "outputs": [],
   "source": [
    "s1 = \"Du passe faision table rase\"\n",
    "l1 = (i for i in s1)\n",
    "l2 = s1.split(\"as\")\n",
    "l3 = s1.split()\n"
   ]
  },
  {
   "cell_type": "code",
   "execution_count": 17,
   "id": "3aee6ff7",
   "metadata": {},
   "outputs": [
    {
     "name": "stdout",
     "output_type": "stream",
     "text": [
      "<generator object <genexpr> at 0x7fc21c5ee270>\n",
      "['Du p', 'se faision table r', 'e']\n",
      "['Du', 'passe', 'faision', 'table', 'rase']\n"
     ]
    }
   ],
   "source": [
    "print(l1)\n",
    "print(l2)\n",
    "print(l3)"
   ]
  },
  {
   "cell_type": "code",
   "execution_count": 18,
   "id": "21507271",
   "metadata": {},
   "outputs": [],
   "source": [
    "l1 = ['H','e','l','l','o','W']\n",
    "s1 = \"\".join(l1)\n",
    "s2 = \"\".join(l2)"
   ]
  },
  {
   "cell_type": "code",
   "execution_count": 20,
   "id": "178e7df0",
   "metadata": {},
   "outputs": [
    {
     "name": "stdout",
     "output_type": "stream",
     "text": [
      "s1 =  HelloW\n",
      "s2 =  Du pse faision table re\n"
     ]
    }
   ],
   "source": [
    "print('s1 = ', s1)\n",
    "print('s2 = ', s2)"
   ]
  },
  {
   "cell_type": "code",
   "execution_count": 22,
   "id": "9ed20733",
   "metadata": {},
   "outputs": [
    {
     "name": "stdout",
     "output_type": "stream",
     "text": [
      "s2 =  faisons TABLE\n"
     ]
    }
   ],
   "source": [
    "s1 = 'Faisons table rase'\n",
    "s2 = s1[:8].lower() + s1[8:13].upper()\n",
    "print('s2 = ',s2)"
   ]
  },
  {
   "cell_type": "code",
   "execution_count": 31,
   "id": "d63ea7c9",
   "metadata": {},
   "outputs": [
    {
     "name": "stdout",
     "output_type": "stream",
     "text": [
      "3\n"
     ]
    }
   ],
   "source": [
    "s3 = \"Ce texte contient deux foir le mot texte.\"\n",
    "print(s3.find('texte',0))"
   ]
  },
  {
   "cell_type": "code",
   "execution_count": 29,
   "id": "83fc401d",
   "metadata": {},
   "outputs": [
    {
     "name": "stdout",
     "output_type": "stream",
     "text": [
      "35\n"
     ]
    }
   ],
   "source": [
    "print(s3.find('texte',4))"
   ]
  },
  {
   "cell_type": "code",
   "execution_count": 30,
   "id": "cf36a9fe",
   "metadata": {},
   "outputs": [
    {
     "name": "stdout",
     "output_type": "stream",
     "text": [
      "-1\n"
     ]
    }
   ],
   "source": [
    "print(s3.find('texte',36))"
   ]
  },
  {
   "cell_type": "code",
   "execution_count": 32,
   "id": "469b9449",
   "metadata": {},
   "outputs": [
    {
     "name": "stdout",
     "output_type": "stream",
     "text": [
      "3\n",
      "35\n",
      "-1\n"
     ]
    }
   ],
   "source": [
    "s3 = \"Ce texte contient deux foir le mot texte.\"\n",
    "max = 0\n",
    "while max > -1 :\n",
    "    max = s3.find('texte', max+1)\n",
    "    print(max)"
   ]
  },
  {
   "cell_type": "code",
   "execution_count": 36,
   "id": "4b3ecbda",
   "metadata": {},
   "outputs": [
    {
     "name": "stdout",
     "output_type": "stream",
     "text": [
      "i =  21\n",
      " Le prix est de ----deux \n",
      "j =  17\n",
      " Le prix est de $--- \n",
      " Le prix est de $2.15 \n"
     ]
    }
   ],
   "source": [
    "#utilise une combination de slicing\n",
    "s4 = \" Le prix est de deux euros.\"\n",
    "if 'euros' in s4 :\n",
    "    i = s4.index('euros')\n",
    "    print('i = ', i)\n",
    "    s2 = s4[:i-5] + '$' + s4[i-5:i]\n",
    "    print(s4[:i-5] + \"----\" + s4[i-5:i] )\n",
    "    j = s2.find('deux')\n",
    "    print('j = ', j)\n",
    "    print(s2[:j] + \"---\" + s2[j+4:])\n",
    "    s3 = s2[:j] + '2.15' + s2[j+4:]\n",
    "    print(s3)"
   ]
  },
  {
   "cell_type": "code",
   "execution_count": 38,
   "id": "68d332e9",
   "metadata": {},
   "outputs": [
    {
     "name": "stdout",
     "output_type": "stream",
     "text": [
      " Le prix est de $2.15.\n"
     ]
    }
   ],
   "source": [
    "s5 = s4.replace('deux euros', '$2.15')\n",
    "print(s5)"
   ]
  },
  {
   "cell_type": "code",
   "execution_count": 39,
   "id": "c14d7ae0",
   "metadata": {},
   "outputs": [
    {
     "name": "stdout",
     "output_type": "stream",
     "text": [
      "300  -  nombre\n",
      "?\n",
      "mot\n",
      "?\n"
     ]
    }
   ],
   "source": [
    "s = '300 seulement ?'\n",
    "l = s.split()\n",
    "for mot in l : \n",
    "    if mot.isalpha() :\n",
    "        print('mot')\n",
    "    if mot.isnumeric():\n",
    "        print(mot, ' - ','nombre')\n",
    "    if mot.isalnum() : \n",
    "        print('?')"
   ]
  },
  {
   "cell_type": "code",
   "execution_count": 63,
   "id": "5a217081",
   "metadata": {},
   "outputs": [
    {
     "name": "stdout",
     "output_type": "stream",
     "text": [
      "l1 =  ['Le', 'Argentine']\n",
      "l2 =  ['PIB', 'Argentine', 'baisse', 'depuis']\n",
      "l3 =  ['Le', 'P', 'I', 'B', 'Argentine']\n"
     ]
    }
   ],
   "source": [
    "# A regular expression : librairie re\n",
    "from re import findall\n",
    "s = \"Le PIB de l'Argentine baisse depuis 3 ans\"\n",
    "# + repète la lettre précédent 1-n fois\n",
    "l1 = findall('[A-Z][a-z]+', s) \n",
    "# * motif précedent 1,n fois, ou pas du tout\n",
    "l2 = findall('[a-zA-Z]*[iI][a-zA-Z]*', s)\n",
    "l3 = findall('[A-Z][a-z]*', s) \n",
    "print(\"l1 = \", l1)\n",
    "print(\"l2 = \", l2)\n",
    "print(\"l3 = \", l3)"
   ]
  },
  {
   "cell_type": "code",
   "execution_count": 64,
   "id": "84ed4929",
   "metadata": {},
   "outputs": [
    {
     "name": "stdout",
     "output_type": "stream",
     "text": [
      "Le PIB de l'Argentine baisse depuis 3 ans\n",
      "l4 =  ['Le', 'de', 'Argentine', 'baisse', 'de']\n"
     ]
    }
   ],
   "source": [
    "from re import findall\n",
    "l4 = findall('[a-zA-Z]*e',s)\n",
    "print(s)\n",
    "print(\"l4 = \", l4)"
   ]
  },
  {
   "cell_type": "code",
   "execution_count": 60,
   "id": "4ec177f7",
   "metadata": {},
   "outputs": [
    {
     "name": "stdout",
     "output_type": "stream",
     "text": [
      "['0678878584', '09.34.67.12.11', '03 11 23 20 38', '03.11 23 2038']\n"
     ]
    }
   ],
   "source": [
    "from re import findall\n",
    "motif = '0[1-9](?:[\\s\\.]?[0-9]{2}){4}'\n",
    "n1 = \"0678878584\"\n",
    "n2 = \"09.34.67.12.11\"\n",
    "n3 = \"03 11 23 20 38,\"\n",
    "n4 = \"03 11 23 20,\"\n",
    "n5 = \"03.11 23 2038,\"\n",
    "n6 = \"03-23-20-20-38\"\n",
    "s1 = n1 + n2 + n3 + n4 + n5 + n6\n",
    "print(findall(motif,s1))"
   ]
  },
  {
   "cell_type": "code",
   "execution_count": 70,
   "id": "9cc2e9a5",
   "metadata": {},
   "outputs": [
    {
     "name": "stdout",
     "output_type": "stream",
     "text": [
      "Un texte  du javascript dedans.\n",
      "Un texte HTML avec des baliseset meme var i = 5;  du javascript dedans.\n",
      "Un texte HTML avec des baliseset meme var i = 5;  du javascript dedans.\n"
     ]
    }
   ],
   "source": [
    "from re import sub\n",
    "s = 'Un texte <strong>HTML</strong> avec des balises'\n",
    "s += 'et meme <script type=\"text/javascript\">'\n",
    "s += 'var i = 5; </script> du javascript dedans.'\n",
    "s1 = sub('<.*>', '' , s)\n",
    "s2 = sub('<[a-z\\\\/\"=\\s\"]*>', '' , s)\n",
    "# ^ n'import character sauf >\n",
    "s3 = sub('<[^>]*>','',s)\n",
    "print(s1)\n",
    "print(s2)\n",
    "print(s3)"
   ]
  },
  {
   "cell_type": "code",
   "execution_count": 66,
   "id": "687ac015",
   "metadata": {},
   "outputs": [
    {
     "name": "stdout",
     "output_type": "stream",
     "text": [
      "['Anthony Marais', 'Alex Beuil', 'Brahiman', 'Julien Bosse']\n"
     ]
    }
   ],
   "source": [
    "#de Yanice\n",
    "# chaine de caractères avec des prénoms séparés par des virgules\n",
    "mon_csv = \"Anthony Marais,Alex Beuil,Brahiman,Julien Bosse\"\n",
    "# on peut transformer la chaine en list de prénoms en splittant au niveau des virgules\n",
    "print(mon_csv.split(',')) # résultat: ['Anthony Marais', 'Alex Beuil', 'Brahiman', 'Julien Bosse']"
   ]
  },
  {
   "cell_type": "code",
   "execution_count": 72,
   "id": "bdace5e7",
   "metadata": {},
   "outputs": [
    {
     "name": "stdout",
     "output_type": "stream",
     "text": [
      "97 - 65\n",
      "122 - 90\n",
      "32\n"
     ]
    }
   ],
   "source": [
    "print(ord('a'), '-', ord('A') )\n",
    "print(ord('z'), '-', ord('Z') )\n",
    "print(ord('z')-ord('Z'))"
   ]
  },
  {
   "cell_type": "code",
   "execution_count": 61,
   "id": "4bb8a750",
   "metadata": {},
   "outputs": [
    {
     "name": "stdout",
     "output_type": "stream",
     "text": [
      "--- exercise 1 ---\n",
      "str1 =  hello tout Le monde du Promo 123\n",
      "Resultat =  ['Le', 'Promo']\n"
     ]
    }
   ],
   "source": [
    "#exer 1: Ecrire une fonction hascap(s) \n",
    "# qui renvoie tout les mots de la chaînes commençant par une majuscule\n",
    "\n",
    "def hascap(s):\n",
    "    r = s.split()\n",
    "    list_mas = []\n",
    "    for i in range(len(r)) :\n",
    "        mot = r[i]\n",
    "        if (ord(mot[0]) >= 65) & (ord(mot[0]) <= 90) : #ou ord(mot[0]) in range(65,91)\n",
    "            list_mas.append(mot)\n",
    "    return list_mas\n",
    "    \n",
    "str1 = 'hello tout Le monde du Promo 123'\n",
    "resultat1 = hascap(str1)\n",
    "\n",
    "print(\"--- exercise 1 ---\")\n",
    "print(\"str1 = \", str1)\n",
    "print(\"Resultat = \", resultat1)"
   ]
  },
  {
   "cell_type": "code",
   "execution_count": 64,
   "id": "255fcc40",
   "metadata": {},
   "outputs": [
    {
     "name": "stdout",
     "output_type": "stream",
     "text": [
      "--- exercise 2 ---\n",
      "\n",
      "str2 =  Le prix est de 27 euros.\n",
      "Resultat =  Le prix est de 54 euros.\n"
     ]
    }
   ],
   "source": [
    "#exe 2: va doubler la valeur de toutles nombre dans la chaine s. \n",
    "# Exemple : « Le prix est de 27 euros »\n",
    "# devient « Le prix est de 54 euros ».\n",
    "\n",
    "def inflation(s) :\n",
    "    p = s.split()\n",
    "    for i, c in enumerate(p) :\n",
    "        if c.isnumeric() :\n",
    "            #double = int(c) * 2\n",
    "            #d =  str(double) \n",
    "            #ou d =  f\"{double}\"\n",
    "            # p[i] = d\n",
    "            p[i] = str(int(c)*                                                                                                                                                                                                                                                                                                                                                                                                                                                                                                                                                                                                                                                                                                                                                                                                                                                                                                                                                                                                                                                                                                                                                                                                                                                                    2)\n",
    "    return \" \".join(p)\n",
    "\n",
    "ph = \"Le prix est de 27 euros.\"\n",
    "resultat2 = inflation(ph)\n",
    "\n",
    "print(\"--- exercise 2 ---\\n\")\n",
    "print(\"str2 = \", ph)\n",
    "print(\"Resultat = \", resultat2)\n"
   ]
  },
  {
   "cell_type": "code",
   "execution_count": 5,
   "id": "8e34a554",
   "metadata": {},
   "outputs": [
    {
     "name": "stdout",
     "output_type": "stream",
     "text": [
      "--- exercise 3 ---\n",
      "\n",
      "['Onze ans déjà que cela ', 'passe vite Vous vous ', 'étiez servis simplement ', 'de vos armes la mort ', 'n‘éblouit pas les yeux ', 'des partisans Vous ', 'aviez vos portraits sur ', 'les murs de nos villes ']\n"
     ]
    }
   ],
   "source": [
    "#exe3: \n",
    "from re import findall\n",
    "def ligne(s) :\n",
    "    list_mot = s.split()\n",
    "    ds_line = []\n",
    "    line = \"\"\n",
    "    size_line = 0\n",
    "    for i in range(len(list_mot)) : \n",
    "        if ((size_line + len(list_mot[i]) + 1) <= 24) :\n",
    "            size_line += len(list_mot[i])+1\n",
    "            line += list_mot[i] + \" \"\n",
    "        else :\n",
    "            ds_line.append(line)\n",
    "            line = list_mot[i] + \" \"\n",
    "            size_line = len(list_mot[i])+1\n",
    "    ds_line.append(line)   \n",
    "    return ds_line\n",
    "\n",
    "mon_s = \"Onze ans déjà que cela passe vite Vous \"\n",
    "mon_s += \"vous étiez servis simplement de vos armes la \"\n",
    "mon_s += \"mort n‘éblouit pas les yeux des partisans Vous \"\n",
    "mon_s += \"aviez vos portraits sur les murs de nos villes \"\n",
    "resultat3 = ligne(mon_s)\n",
    "print(\"--- exercise 3 ---\\n\")\n",
    "print(resultat3)"
   ]
  },
  {
   "cell_type": "code",
   "execution_count": 77,
   "id": "a29e44c1",
   "metadata": {},
   "outputs": [
    {
     "name": "stdout",
     "output_type": "stream",
     "text": [
      "--- exercise 4 ---\n",
      "\n",
      "chaine =  Les 2 maquereaux valent 6.50 euros et va baisse -0.75 euros \n",
      "['2', '6.50', '-0.75']\n"
     ]
    }
   ],
   "source": [
    "#exe4: Proposer un programme qui renvoie la liste de tout les nombres \n",
    "#(ycompris décimaux et négatifs) d’une chaîne de caractères\n",
    "from re import findall\n",
    "def trouve_nombre(s) :\n",
    "    p = s.split()\n",
    "    ls_num = []\n",
    "    for m in p :\n",
    "        if m.isalpha() :\n",
    "            continue\n",
    "        elif m.isnumeric() : \n",
    "            ls_num.append(m)\n",
    "        else : \n",
    "            x = findall('-?[0-9]+[.,]?[0-9]*', m)\n",
    "            ls_num.append(x[0])\n",
    "    return ls_num\n",
    "\n",
    "mon_s4 = \"Les 2 maquereaux valent 6.50 euros et va baisse -0.75 euros \"\n",
    "resultat4 = trouve_nombre(mon_s4)\n",
    "\n",
    "print(\"--- exercise 4 ---\\n\")\n",
    "print(\"chaine = \", mon_s4)\n",
    "print(resultat4)"
   ]
  },
  {
   "cell_type": "code",
   "execution_count": 76,
   "id": "f7a307d5",
   "metadata": {},
   "outputs": [
    {
     "name": "stdout",
     "output_type": "stream",
     "text": [
      "--- exercise 5 ---\n",
      "\n",
      "chaine 1 =  Les 2 maquereaux valent 6.50 euros et va baisser -1.75 euros\n",
      "-->  Les 2 maquereaux valent 7 euros et va baisser -2 euros\n",
      "\n",
      "chaine 2 =  Les 3 cahiers valent 9.9 euros et va augementer 1.25 euros\n",
      "-->  Les 3 cahiers valent 10 euros et va augementer 1 euros\n"
     ]
    }
   ],
   "source": [
    "#Ex5; arrondi(s) qui dans la chaîne s troncature tout les nombre décimaux. On autorise les nombres négatifs.\n",
    "def arrondi(s) :\n",
    "    s_en_mot = s.split()\n",
    "    ls_num = []\n",
    "    for pos, ch in enumerate(s_en_mot) :\n",
    "        if ch.isalpha() | ch.isnumeric() :\n",
    "            continue\n",
    "        else : \n",
    "            x = findall('-?[0-9]+[.,]?[0-9]*', ch)\n",
    "            num = x[0]\n",
    "            i = num.index('.')\n",
    "            if int(num[i+1:i+2])>= 5 :\n",
    "                if int(num[:i])>= 0 :\n",
    "                    rnd = int(num[:i])+1\n",
    "                else : \n",
    "                    rnd = int(num[:i])-1\n",
    "            else :\n",
    "                rnd = round(float(num))\n",
    "            s_en_mot[pos] = str(rnd)\n",
    "    return \" \".join(s_en_mot)\n",
    "mon_s5 = \"Les 2 maquereaux valent 6.50 euros et va baisser -1.75 euros\"\n",
    "mon_s6 = \"Les 3 cahiers valent 9.9 euros et va augementer 1.25 euros\"\n",
    "resultat5 = arrondi(mon_s5)\n",
    "resultat6 = arrondi(mon_s6)\n",
    "\n",
    "print(\"--- exercise 5 ---\\n\")\n",
    "print(\"chaine 1 = \", mon_s5)\n",
    "print(\"--> \",resultat5)\n",
    "print()\n",
    "print(\"chaine 2 = \", mon_s6)\n",
    "print(\"--> \",resultat6)"
   ]
  },
  {
   "cell_type": "code",
   "execution_count": 74,
   "id": "39a5a061",
   "metadata": {},
   "outputs": [
    {
     "name": "stdout",
     "output_type": "stream",
     "text": [
      "['2', '6.50', '-1.75']\n"
     ]
    }
   ],
   "source": [
    "#sol 2\n",
    "mon_s7 = \"Les 2 maquereaux valent 6.50 euros et va baisser -1.75 euros\"\n",
    "motif = '-?[0-9]+[.,]?[0-9]*'\n",
    "l_num = findall(motif,mon_s7)\n",
    "print(l_num)"
   ]
  },
  {
   "cell_type": "code",
   "execution_count": 59,
   "id": "0ffd2cd1",
   "metadata": {},
   "outputs": [
    {
     "name": "stdout",
     "output_type": "stream",
     "text": [
      "['Il', 'Divine', 'Enfant']\n"
     ]
    }
   ],
   "source": [
    "#code d'Rafik\n",
    "def hascap(s):\n",
    "    mots = s.split()\n",
    "    majs = []\n",
    "    for m in mots:\n",
    "        if ord(m[0]) in range(65, 91):\n",
    "            majs.append(m)\n",
    "    return majs\n",
    "print(hascap(\"Il est venu le Divine Enfant\"))"
   ]
  },
  {
   "cell_type": "code",
   "execution_count": 93,
   "id": "0355e05b",
   "metadata": {},
   "outputs": [
    {
     "name": "stdout",
     "output_type": "stream",
     "text": [
      "0 --  \n",
      "5 --  Onze \n",
      "9 --  Onze ans \n",
      "14 --  Onze ans déjà \n",
      "18 --  Onze ans déjà que \n",
      "23 --  Onze ans déjà que cela \n",
      "6 --  passe \n",
      "11 --  passe vite \n",
      "16 --  passe vite Vous \n",
      "21 --  passe vite Vous vous \n",
      "6 --  étiez \n",
      "13 --  étiez servis \n",
      "24 --  étiez servis simplement \n",
      "3 --  de \n",
      "7 --  de vos \n",
      "13 --  de vos armes \n",
      "16 --  de vos armes la \n",
      "21 --  de vos armes la mort \n",
      "10 --  n‘éblouit \n",
      "14 --  n‘éblouit pas \n",
      "18 --  n‘éblouit pas les \n",
      "23 --  n‘éblouit pas les yeux \n",
      "4 --  des \n",
      "14 --  des partisans \n",
      "19 --  des partisans Vous \n",
      "6 --  aviez \n",
      "10 --  aviez vos \n",
      "20 --  aviez vos portraits \n",
      "24 --  aviez vos portraits sur \n",
      "4 --  les \n",
      "9 --  les murs \n",
      "12 --  les murs de \n",
      "16 --  les murs de nos \n",
      "--- exercise 3 ---\n",
      "\n",
      "['Onze ans déjà que cela ', 'passe vite Vous vous ', 'étiez servis simplement ', 'de vos armes la mort ', 'n‘éblouit pas les yeux ', 'des partisans Vous ', 'aviez vos portraits sur ', 'les murs de nos villes ']\n"
     ]
    }
   ],
   "source": [
    "#exe3: Solution 2 : decouper par ligne de 24 char (de Rafik)\n",
    "from re import findall\n",
    "def ligne(s) :\n",
    "    list_mot = s.split()\n",
    "    ds_line = [\"\"]\n",
    "    for mot in list_mot : \n",
    "        mot += \" \"  #ajout une espace derriere du mot\n",
    "        print(len(ds_line[-1]),\"-- \", ds_line[-1])\n",
    "        if len(ds_line[-1]) + len(mot) <= 24 : #si on ajoute mot de l'element dernier dont sa taille est moins 24\n",
    "            ds_line[-1] += mot #ajoute mot de l'element dernier\n",
    "        else :\n",
    "            ds_line.append(mot)\n",
    "    #ds_line.append(line)   #ajoute ligne dont la taille est moins 24 char\n",
    "    return ds_line\n",
    "\n",
    "mon_s = \"Onze ans déjà que cela passe vite Vous \"\n",
    "mon_s += \"vous étiez servis simplement de vos armes la \"\n",
    "mon_s += \"mort n‘éblouit pas les yeux des partisans Vous \"\n",
    "mon_s += \"aviez vos portraits sur les murs de nos villes \"\n",
    "resultat3 = ligne(mon_s)\n",
    "print(\"--- exercise 3 ---\\n\")\n",
    "print(resultat3)"
   ]
  },
  {
   "cell_type": "code",
   "execution_count": 95,
   "id": "8d3a194b",
   "metadata": {},
   "outputs": [
    {
     "name": "stdout",
     "output_type": "stream",
     "text": [
      "L'evolution sur 3 jours est de 7 points\n"
     ]
    }
   ],
   "source": [
    "# Rafik\n",
    "from re import *\n",
    "\n",
    "def tronc(s):\n",
    "    motif = r\"(-?)([0-9]+)[,.]?[0-9]*\"\n",
    "    return sub(motif, r\"\\1\\2\", s)\n",
    "s = \"L'evolution sur 3,5 jours est de 7.76 points\"\n",
    "print(tronc(s))\n",
    "\n"
   ]
  },
  {
   "cell_type": "code",
   "execution_count": null,
   "id": "eaa210d5",
   "metadata": {},
   "outputs": [],
   "source": []
  }
 ],
 "metadata": {
  "kernelspec": {
   "display_name": "Python 3",
   "language": "python",
   "name": "python3"
  },
  "language_info": {
   "codemirror_mode": {
    "name": "ipython",
    "version": 3
   },
   "file_extension": ".py",
   "mimetype": "text/x-python",
   "name": "python",
   "nbconvert_exporter": "python",
   "pygments_lexer": "ipython3",
   "version": "3.8.8"
  }
 },
 "nbformat": 4,
 "nbformat_minor": 5
}
