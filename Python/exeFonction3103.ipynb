{
 "cells": [
  {
   "cell_type": "code",
   "execution_count": 14,
   "metadata": {},
   "outputs": [
    {
     "name": "stdout",
     "output_type": "stream",
     "text": [
      "ex1. Calculer le minimum d’une liste\n",
      "Saisie nombre d'element dans la list: 10\n",
      "\n",
      " maList =  [73, 31, 30, 40, 73, 49, 81, 74, 40, 70]\n",
      "73\n",
      "31\n",
      "30\n",
      "Le minimum =  30\n"
     ]
    }
   ],
   "source": [
    "#1. Calculer le minimum d’une liste\n",
    "from random import randint\n",
    "\n",
    "#func: calcul le minumum d'1 liste\n",
    "def minListe(li) :\n",
    "    lmin = li[0]\n",
    "    print(lmin)\n",
    "    for e in li :\n",
    "        if e < lmin :\n",
    "            lmin = e\n",
    "    return lmin\n",
    "\n",
    "#func: creation une liste\n",
    "def creerListe(size) :\n",
    "    a = []\n",
    "    for i in range(size) :\n",
    "        a.append(randint(0,100))\n",
    "    return a\n",
    "\n",
    "print(\"ex1. Calculer le minimum d’une liste\")\n",
    "nb = int(input(\"Saisie nombre d'element dans la list: \"))\n",
    "malist = creerListe(nb)\n",
    "print(\"\\n maList = \", malist)\n",
    "print(\"Le minimum =  {}\".format(minListe(malist)))"
   ]
  },
  {
   "cell_type": "markdown",
   "metadata": {},
   "source": [
    "#2. Calculer la durée de remboursement d’un prêt \n",
    "\n",
    "print(\"Ex2. Calculer la durée de remboursement d’un prêt \")\n",
    "prixBien = saisiePrixRem(\"Prix de bien\")\n",
    "if (prixBien <= 0) :\n",
    "    print(\"Prix de bien doit etre un chiffre positif : \")\n",
    "    prixBien = saisiePrixRem(\"Prix de bien\")\n",
    "\n",
    "rem_mensuel = saisiePrixRem(\"remboursement mensuel\")\n",
    "if (rem_mensuel <= 0) :\n",
    "    print(\"Remboursement doit etre un chiffre positif : \")\n",
    "    rem_mensuel = saisiePrixRem(\"remboursement mensuel\")\n",
    "    \n",
    "mois, sinteret = dureePayment(prixBien, rem_mensuel)\n",
    "print(\"Prix de bien = %.2f\" %prixBien)\n",
    "print(\"Remboursement mensuel = %.2f\" %rem_mensuel)\n",
    "print(\"-----------\\n Vous devez rembourser une duree de {} mois\".format(mois))\n",
    "print(\"Interet = %.2f\" % sinteret)\n",
    "\n",
    "def saisiePrixRem(typeSaisie) :\n",
    "    try :\n",
    "        montant = float(input(\"Le {} \".format(typeSaisie)))\n",
    "    except ValueError  :\n",
    "        print(typeSaisie,\" doit etre un chiffre. Reessayez :\")\n",
    "        montant = float(input( \"{} = \".format(typeSaisie)))\n",
    "    return montant\n",
    "\n",
    "\n",
    "def dureePayment(prix, rem, taux = 0.1) :\n",
    "    reste = prix\n",
    "    interet = 0\n",
    "    sumInteret = 0\n",
    "    nbMois = 0\n",
    "    while reste > 0 :\n",
    "        interet = reste * taux\n",
    "        sumInteret += reste * taux\n",
    "        reste = reste - (rem - reste * taux)\n",
    "        nbMois += 1\n",
    "    \n",
    "    return nbMois, sumInteret\n"
   ]
  },
  {
   "cell_type": "code",
   "execution_count": null,
   "metadata": {},
   "outputs": [],
   "source": []
  },
  {
   "cell_type": "code",
   "execution_count": null,
   "metadata": {},
   "outputs": [],
   "source": []
  }
 ],
 "metadata": {
  "kernelspec": {
   "display_name": "Python 3",
   "language": "python",
   "name": "python3"
  },
  "language_info": {
   "codemirror_mode": {
    "name": "ipython",
    "version": 3
   },
   "file_extension": ".py",
   "mimetype": "text/x-python",
   "name": "python",
   "nbconvert_exporter": "python",
   "pygments_lexer": "ipython3",
   "version": "3.8.5"
  }
 },
 "nbformat": 4,
 "nbformat_minor": 4
}
