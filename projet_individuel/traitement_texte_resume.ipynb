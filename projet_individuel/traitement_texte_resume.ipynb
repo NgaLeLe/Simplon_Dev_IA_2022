{
 "cells": [
  {
   "cell_type": "markdown",
   "id": "f3b95361",
   "metadata": {},
   "source": [
    "# 1. Parsing (X)HTML: fonc balise2dico(t)"
   ]
  },
  {
   "cell_type": "raw",
   "id": "95690613",
   "metadata": {},
   "source": [
    "Proposez une fonction balise2dico(t)qui \n",
    "- renvoie un dictionnaire des balises issues d’une chaîne de caractères t, \n",
    "- indexées par le numéro du 1ercaractère de la balise dans le texte.\n",
    "Par exemple : \n",
    "*Petite subtilité : faire en sorte que le dictionnaire puisse contenir les balises doublonées."
   ]
  },
  {
   "cell_type": "code",
   "execution_count": 59,
   "id": "69ec7e2c",
   "metadata": {},
   "outputs": [],
   "source": [
    "from re import findall\n",
    "\n",
    "def balise2dico(t) :\n",
    "    tmp_dic = {}\n",
    "    patern_ouvert = '<\\/?[a-z]*[0-9]?>'\n",
    "    \n",
    "    result = findall(patern_ouvert, t)\n",
    "    # si existe des balises dans la chaine de char --> findall retourne \n",
    "    # une liste d'element correspondant du pattern --> taille de liste > 0 \n",
    "    if len(result)>0 :\n",
    "        #position de depart de recherche\n",
    "        range_recherche = 0\n",
    "        for k in range(len(result)) :\n",
    "            tmp_dic[t.find(result[k], range_recherche )] = result[k]\n",
    "            range_recherche += len(result[k]) \n",
    "    return tmp_dic\n",
    "    \n",
    "s = \"C'est une texte <strong> HTML </strong> qui utilise <h1>des balises</h1> en tete\"\n",
    "s = s + \" C'est <em> fou </em> les chaines <strong>des chars </strong> \"\n",
    "dic = balise2dico(s)"
   ]
  },
  {
   "cell_type": "code",
   "execution_count": 60,
   "id": "6b3093a7",
   "metadata": {},
   "outputs": [
    {
     "data": {
      "text/plain": [
       "{16: '<strong>',\n",
       " 30: '</strong>',\n",
       " 52: '<h1>',\n",
       " 67: '</h1>',\n",
       " 87: '<em>',\n",
       " 96: '</em>',\n",
       " 114: '<strong>',\n",
       " 132: '</strong>'}"
      ]
     },
     "execution_count": 60,
     "metadata": {},
     "output_type": "execute_result"
    }
   ],
   "source": [
    "dic"
   ]
  },
  {
   "cell_type": "code",
   "execution_count": 129,
   "id": "06efcb2c",
   "metadata": {},
   "outputs": [
    {
     "name": "stdout",
     "output_type": "stream",
     "text": [
      "{16: '<strong>', 30: '</strong>', 52: '<h1>', 67: '</h1>', 87: '<em>', 96: '</em>', 114: '<strong>', 132: '</strong>'}\n"
     ]
    }
   ],
   "source": [
    "#Solution 2 : utilisation finditer\n",
    "import re as re\n",
    "\n",
    "def balise2dico2(t) :\n",
    "    tmp_dic = {}\n",
    "    regex = r\"<\\/?[a-z]*[0-9]?>\"\n",
    "    \n",
    "    result = finditer(regex, t)\n",
    "\n",
    "    for ele in result :\n",
    "        tmp_dic[ele.start()] = ele.group()\n",
    "    return tmp_dic\n",
    "    \n",
    "s = \"C'est une texte <strong> HTML </strong> qui utilise <h1>des balises</h1> en tete\"\n",
    "s = s + \" C'est <em> fou </em> les chaines <strong>des chars </strong> \"\n",
    "dic = balise2dico2(s)\n",
    "print(dic)"
   ]
  },
  {
   "cell_type": "markdown",
   "id": "f9b6790b",
   "metadata": {},
   "source": [
    "# EX2. fonction interpreter()"
   ]
  },
  {
   "cell_type": "raw",
   "id": "829dec91",
   "metadata": {},
   "source": [
    "Proposez une fonction interpreter(t)qui \n",
    "- supprime les balise d’un texte mais, \n",
    "- lorsqu'un bloc de texte est compris entre une balise <h*> (l’* représentant un chiffre) -> fait passer le bloc en majuscules."
   ]
  },
  {
   "cell_type": "code",
   "execution_count": 12,
   "id": "7a4121f8",
   "metadata": {},
   "outputs": [
    {
     "name": "stdout",
     "output_type": "stream",
     "text": [
      "C'est DES BALISES en tete. C'est  foles  les chaines DES CHARS  dans le document. HEADING 6 est là. C'est  foles  les chaines DES CHARS  dans le document. HEADING 6 est là.\n"
     ]
    }
   ],
   "source": [
    "import re as re\n",
    "def interpreter(t) :\n",
    "    motif_h = re.compile(r'<h[0-9]?>(.*?)</h[0-9]?>')\n",
    "    motif = re.compile(r'<\\/?[a-zA-Z]+[0-9]?>')\n",
    "\n",
    "    iter = re.finditer(motif_h, t)\n",
    "    \n",
    "    for i in iter:\n",
    "        t = t[0:i.start()]+t[i.start():i.end()].upper()+t[i.end():]\n",
    "    tmp_s = re.sub(motif,'',t)\n",
    "    return tmp_s\n",
    "    \n",
    "s = \"C'est <h1>des balises</h1> en tete.\"\n",
    "s += \" C'est <em> foles </em> les chaines <h2>des chars </h2> dans le document. \"\n",
    "s += \"<h6>Heading 6</h6> est là.\"\n",
    "s += \" C'est <em> foles </em> les chaines <h2>des chars </h2> dans le document. \"\n",
    "s += \"<h>Heading 6</h> est là.\"\n",
    "\n",
    "s_result = interpreter(s)\n",
    "print(s_result)"
   ]
  },
  {
   "cell_type": "markdown",
   "id": "63e1e87f",
   "metadata": {},
   "source": [
    "# EX2. de Yoan "
   ]
  },
  {
   "cell_type": "code",
   "execution_count": 14,
   "id": "4a483e45",
   "metadata": {},
   "outputs": [
    {
     "name": "stdout",
     "output_type": "stream",
     "text": [
      "C'est DES BALISES en tete. C'est  foles  les chaines DES CHARS  dans le document. HEADING 6 est là. C'est  foles  les chaines DES CHARS  dans le document. Heading 6 est là.\n"
     ]
    }
   ],
   "source": [
    "from re import sub\n",
    "def interpreterY(s):\n",
    "    maj = sub('<h[0-9]+>[^<]+', lambda x : x.group(0).upper(),s)\n",
    "    rets = sub('<[^>]*>', '', maj)\n",
    "    return rets\n",
    "\n",
    "s_resultY = interpreterY(s)\n",
    "print(s_resultY)"
   ]
  },
  {
   "cell_type": "markdown",
   "id": "f111f0a4",
   "metadata": {},
   "source": [
    "# Ex3. xml2csv(t)"
   ]
  },
  {
   "cell_type": "raw",
   "id": "549bf20a",
   "metadata": {},
   "source": [
    "Proposez une fonction une fonction xml2csv(t)qui \n",
    "- prend en argument des balises xml dont ont suppose connue la structure\n",
    "- renvoie un tableau de données sous format csv. "
   ]
  },
  {
   "cell_type": "raw",
   "id": "e0e38a85",
   "metadata": {},
   "source": [
    "# de Rafix "
   ]
  },
  {
   "cell_type": "code",
   "execution_count": 16,
   "id": "d5825245",
   "metadata": {},
   "outputs": [
    {
     "name": "stdout",
     "output_type": "stream",
     "text": [
      "['', '<taille>159</taille><poids>57</poids></individu>', '<taille>168</taille><poids>71</poids></individu>']\n"
     ]
    },
    {
     "data": {
      "text/plain": [
       "' 159,57; 168,71;'"
      ]
     },
     "execution_count": 16,
     "metadata": {},
     "output_type": "execute_result"
    }
   ],
   "source": [
    "def xml2csv(t):\n",
    "    data = t.split('<individu>')\n",
    "    for i, x in enumerate(data):\n",
    "        y = sub('</[^>]*></individu>',';',x)\n",
    "        y = sub('</[^>]*>', ',', y)\n",
    "        data[i] = sub('<[^>]*>', '', y)\n",
    "    t = \" \".join(data)\n",
    "    return t\n",
    "\n",
    "s2 = \"<individu><taille>159</taille><poids>57</poids></individu>\"\n",
    "s2 += \"<individu><taille>168</taille><poids>71</poids></individu>\"\n",
    "\n",
    "xml2csv(s2)"
   ]
  },
  {
   "cell_type": "code",
   "execution_count": null,
   "id": "371feec4",
   "metadata": {},
   "outputs": [],
   "source": []
  }
 ],
 "metadata": {
  "kernelspec": {
   "display_name": "Python 3",
   "language": "python",
   "name": "python3"
  },
  "language_info": {
   "codemirror_mode": {
    "name": "ipython",
    "version": 3
   },
   "file_extension": ".py",
   "mimetype": "text/x-python",
   "name": "python",
   "nbconvert_exporter": "python",
   "pygments_lexer": "ipython3",
   "version": "3.8.8"
  }
 },
 "nbformat": 4,
 "nbformat_minor": 5
}
