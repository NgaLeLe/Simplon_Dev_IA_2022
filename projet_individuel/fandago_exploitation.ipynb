{
 "cells": [
  {
   "cell_type": "code",
   "execution_count": 1,
   "id": "ed0d8453",
   "metadata": {},
   "outputs": [
    {
     "data": {
      "text/plain": [
       "'/home/simplon/exoPython/Simplon_Dev_IA_2022/projet_individuel'"
      ]
     },
     "execution_count": 1,
     "metadata": {},
     "output_type": "execute_result"
    }
   ],
   "source": [
    "%pwd"
   ]
  },
  {
   "cell_type": "code",
   "execution_count": 2,
   "id": "6478bd7a",
   "metadata": {},
   "outputs": [
    {
     "data": {
      "text/html": [
       "<div>\n",
       "<style scoped>\n",
       "    .dataframe tbody tr th:only-of-type {\n",
       "        vertical-align: middle;\n",
       "    }\n",
       "\n",
       "    .dataframe tbody tr th {\n",
       "        vertical-align: top;\n",
       "    }\n",
       "\n",
       "    .dataframe thead th {\n",
       "        text-align: right;\n",
       "    }\n",
       "</style>\n",
       "<table border=\"1\" class=\"dataframe\">\n",
       "  <thead>\n",
       "    <tr style=\"text-align: right;\">\n",
       "      <th></th>\n",
       "      <th>FILM</th>\n",
       "      <th>RottenTomatoes</th>\n",
       "      <th>RottenTomatoes_User</th>\n",
       "      <th>Metacritic</th>\n",
       "      <th>Metacritic_User</th>\n",
       "      <th>IMDB</th>\n",
       "      <th>Fandango_Stars</th>\n",
       "      <th>Fandango_Ratingvalue</th>\n",
       "      <th>RT_norm</th>\n",
       "      <th>RT_user_norm</th>\n",
       "      <th>...</th>\n",
       "      <th>IMDB_norm</th>\n",
       "      <th>RT_norm_round</th>\n",
       "      <th>RT_user_norm_round</th>\n",
       "      <th>Metacritic_norm_round</th>\n",
       "      <th>Metacritic_user_norm_round</th>\n",
       "      <th>IMDB_norm_round</th>\n",
       "      <th>Metacritic_user_vote_count</th>\n",
       "      <th>IMDB_user_vote_count</th>\n",
       "      <th>Fandango_votes</th>\n",
       "      <th>Fandango_Difference</th>\n",
       "    </tr>\n",
       "  </thead>\n",
       "  <tbody>\n",
       "    <tr>\n",
       "      <th>0</th>\n",
       "      <td>Avengers: Age of Ultron (2015)</td>\n",
       "      <td>74</td>\n",
       "      <td>86</td>\n",
       "      <td>66</td>\n",
       "      <td>7.1</td>\n",
       "      <td>7.8</td>\n",
       "      <td>5.0</td>\n",
       "      <td>4.5</td>\n",
       "      <td>3.70</td>\n",
       "      <td>4.3</td>\n",
       "      <td>...</td>\n",
       "      <td>3.90</td>\n",
       "      <td>3.5</td>\n",
       "      <td>4.5</td>\n",
       "      <td>3.5</td>\n",
       "      <td>3.5</td>\n",
       "      <td>4.0</td>\n",
       "      <td>1330</td>\n",
       "      <td>271107</td>\n",
       "      <td>14846</td>\n",
       "      <td>0.5</td>\n",
       "    </tr>\n",
       "    <tr>\n",
       "      <th>1</th>\n",
       "      <td>Cinderella (2015)</td>\n",
       "      <td>85</td>\n",
       "      <td>80</td>\n",
       "      <td>67</td>\n",
       "      <td>7.5</td>\n",
       "      <td>7.1</td>\n",
       "      <td>5.0</td>\n",
       "      <td>4.5</td>\n",
       "      <td>4.25</td>\n",
       "      <td>4.0</td>\n",
       "      <td>...</td>\n",
       "      <td>3.55</td>\n",
       "      <td>4.5</td>\n",
       "      <td>4.0</td>\n",
       "      <td>3.5</td>\n",
       "      <td>4.0</td>\n",
       "      <td>3.5</td>\n",
       "      <td>249</td>\n",
       "      <td>65709</td>\n",
       "      <td>12640</td>\n",
       "      <td>0.5</td>\n",
       "    </tr>\n",
       "    <tr>\n",
       "      <th>2</th>\n",
       "      <td>Ant-Man (2015)</td>\n",
       "      <td>80</td>\n",
       "      <td>90</td>\n",
       "      <td>64</td>\n",
       "      <td>8.1</td>\n",
       "      <td>7.8</td>\n",
       "      <td>5.0</td>\n",
       "      <td>4.5</td>\n",
       "      <td>4.00</td>\n",
       "      <td>4.5</td>\n",
       "      <td>...</td>\n",
       "      <td>3.90</td>\n",
       "      <td>4.0</td>\n",
       "      <td>4.5</td>\n",
       "      <td>3.0</td>\n",
       "      <td>4.0</td>\n",
       "      <td>4.0</td>\n",
       "      <td>627</td>\n",
       "      <td>103660</td>\n",
       "      <td>12055</td>\n",
       "      <td>0.5</td>\n",
       "    </tr>\n",
       "    <tr>\n",
       "      <th>3</th>\n",
       "      <td>Do You Believe? (2015)</td>\n",
       "      <td>18</td>\n",
       "      <td>84</td>\n",
       "      <td>22</td>\n",
       "      <td>4.7</td>\n",
       "      <td>5.4</td>\n",
       "      <td>5.0</td>\n",
       "      <td>4.5</td>\n",
       "      <td>0.90</td>\n",
       "      <td>4.2</td>\n",
       "      <td>...</td>\n",
       "      <td>2.70</td>\n",
       "      <td>1.0</td>\n",
       "      <td>4.0</td>\n",
       "      <td>1.0</td>\n",
       "      <td>2.5</td>\n",
       "      <td>2.5</td>\n",
       "      <td>31</td>\n",
       "      <td>3136</td>\n",
       "      <td>1793</td>\n",
       "      <td>0.5</td>\n",
       "    </tr>\n",
       "    <tr>\n",
       "      <th>4</th>\n",
       "      <td>Hot Tub Time Machine 2 (2015)</td>\n",
       "      <td>14</td>\n",
       "      <td>28</td>\n",
       "      <td>29</td>\n",
       "      <td>3.4</td>\n",
       "      <td>5.1</td>\n",
       "      <td>3.5</td>\n",
       "      <td>3.0</td>\n",
       "      <td>0.70</td>\n",
       "      <td>1.4</td>\n",
       "      <td>...</td>\n",
       "      <td>2.55</td>\n",
       "      <td>0.5</td>\n",
       "      <td>1.5</td>\n",
       "      <td>1.5</td>\n",
       "      <td>1.5</td>\n",
       "      <td>2.5</td>\n",
       "      <td>88</td>\n",
       "      <td>19560</td>\n",
       "      <td>1021</td>\n",
       "      <td>0.5</td>\n",
       "    </tr>\n",
       "  </tbody>\n",
       "</table>\n",
       "<p>5 rows × 22 columns</p>\n",
       "</div>"
      ],
      "text/plain": [
       "                             FILM  RottenTomatoes  RottenTomatoes_User  \\\n",
       "0  Avengers: Age of Ultron (2015)              74                   86   \n",
       "1               Cinderella (2015)              85                   80   \n",
       "2                  Ant-Man (2015)              80                   90   \n",
       "3          Do You Believe? (2015)              18                   84   \n",
       "4   Hot Tub Time Machine 2 (2015)              14                   28   \n",
       "\n",
       "   Metacritic  Metacritic_User  IMDB  Fandango_Stars  Fandango_Ratingvalue  \\\n",
       "0          66              7.1   7.8             5.0                   4.5   \n",
       "1          67              7.5   7.1             5.0                   4.5   \n",
       "2          64              8.1   7.8             5.0                   4.5   \n",
       "3          22              4.7   5.4             5.0                   4.5   \n",
       "4          29              3.4   5.1             3.5                   3.0   \n",
       "\n",
       "   RT_norm  RT_user_norm  ...  IMDB_norm  RT_norm_round  RT_user_norm_round  \\\n",
       "0     3.70           4.3  ...       3.90            3.5                 4.5   \n",
       "1     4.25           4.0  ...       3.55            4.5                 4.0   \n",
       "2     4.00           4.5  ...       3.90            4.0                 4.5   \n",
       "3     0.90           4.2  ...       2.70            1.0                 4.0   \n",
       "4     0.70           1.4  ...       2.55            0.5                 1.5   \n",
       "\n",
       "   Metacritic_norm_round  Metacritic_user_norm_round  IMDB_norm_round  \\\n",
       "0                    3.5                         3.5              4.0   \n",
       "1                    3.5                         4.0              3.5   \n",
       "2                    3.0                         4.0              4.0   \n",
       "3                    1.0                         2.5              2.5   \n",
       "4                    1.5                         1.5              2.5   \n",
       "\n",
       "   Metacritic_user_vote_count  IMDB_user_vote_count  Fandango_votes  \\\n",
       "0                        1330                271107           14846   \n",
       "1                         249                 65709           12640   \n",
       "2                         627                103660           12055   \n",
       "3                          31                  3136            1793   \n",
       "4                          88                 19560            1021   \n",
       "\n",
       "   Fandango_Difference  \n",
       "0                  0.5  \n",
       "1                  0.5  \n",
       "2                  0.5  \n",
       "3                  0.5  \n",
       "4                  0.5  \n",
       "\n",
       "[5 rows x 22 columns]"
      ]
     },
     "execution_count": 2,
     "metadata": {},
     "output_type": "execute_result"
    }
   ],
   "source": [
    "#fandango_scores.csv\n",
    "import pandas as pd\n",
    "reviews = pd.read_csv(\"donnees/fandango_scores.csv\")\n",
    "reviews.head()"
   ]
  },
  {
   "cell_type": "markdown",
   "id": "d661fc1b",
   "metadata": {},
   "source": [
    "1. Sélectionner les colonnes suivantes et assigner les au dataframe norm_reviews:"
   ]
  },
  {
   "cell_type": "code",
   "execution_count": 3,
   "id": "9e2af0a0",
   "metadata": {},
   "outputs": [],
   "source": [
    "norm_reviews = reviews[['FILM', 'RT_user_norm', 'Metacritic_user_nom', 'IMDB_norm', 'Fandango_Ratingvalue', 'Fandango_Stars']] "
   ]
  },
  {
   "cell_type": "markdown",
   "id": "fd7053c6",
   "metadata": {},
   "source": [
    "2. Afficher les premières lignes de norm_reviews."
   ]
  },
  {
   "cell_type": "code",
   "execution_count": 4,
   "id": "933f000f",
   "metadata": {},
   "outputs": [
    {
     "data": {
      "text/html": [
       "<div>\n",
       "<style scoped>\n",
       "    .dataframe tbody tr th:only-of-type {\n",
       "        vertical-align: middle;\n",
       "    }\n",
       "\n",
       "    .dataframe tbody tr th {\n",
       "        vertical-align: top;\n",
       "    }\n",
       "\n",
       "    .dataframe thead th {\n",
       "        text-align: right;\n",
       "    }\n",
       "</style>\n",
       "<table border=\"1\" class=\"dataframe\">\n",
       "  <thead>\n",
       "    <tr style=\"text-align: right;\">\n",
       "      <th></th>\n",
       "      <th>FILM</th>\n",
       "      <th>RT_user_norm</th>\n",
       "      <th>Metacritic_user_nom</th>\n",
       "      <th>IMDB_norm</th>\n",
       "      <th>Fandango_Ratingvalue</th>\n",
       "      <th>Fandango_Stars</th>\n",
       "    </tr>\n",
       "  </thead>\n",
       "  <tbody>\n",
       "    <tr>\n",
       "      <th>1</th>\n",
       "      <td>Cinderella (2015)</td>\n",
       "      <td>4.0</td>\n",
       "      <td>3.75</td>\n",
       "      <td>3.55</td>\n",
       "      <td>4.5</td>\n",
       "      <td>5.0</td>\n",
       "    </tr>\n",
       "    <tr>\n",
       "      <th>2</th>\n",
       "      <td>Ant-Man (2015)</td>\n",
       "      <td>4.5</td>\n",
       "      <td>4.05</td>\n",
       "      <td>3.90</td>\n",
       "      <td>4.5</td>\n",
       "      <td>5.0</td>\n",
       "    </tr>\n",
       "    <tr>\n",
       "      <th>3</th>\n",
       "      <td>Do You Believe? (2015)</td>\n",
       "      <td>4.2</td>\n",
       "      <td>2.35</td>\n",
       "      <td>2.70</td>\n",
       "      <td>4.5</td>\n",
       "      <td>5.0</td>\n",
       "    </tr>\n",
       "    <tr>\n",
       "      <th>4</th>\n",
       "      <td>Hot Tub Time Machine 2 (2015)</td>\n",
       "      <td>1.4</td>\n",
       "      <td>1.70</td>\n",
       "      <td>2.55</td>\n",
       "      <td>3.0</td>\n",
       "      <td>3.5</td>\n",
       "    </tr>\n",
       "    <tr>\n",
       "      <th>5</th>\n",
       "      <td>The Water Diviner (2015)</td>\n",
       "      <td>3.1</td>\n",
       "      <td>3.40</td>\n",
       "      <td>3.60</td>\n",
       "      <td>4.0</td>\n",
       "      <td>4.5</td>\n",
       "    </tr>\n",
       "  </tbody>\n",
       "</table>\n",
       "</div>"
      ],
      "text/plain": [
       "                            FILM  RT_user_norm  Metacritic_user_nom  \\\n",
       "1              Cinderella (2015)           4.0                 3.75   \n",
       "2                 Ant-Man (2015)           4.5                 4.05   \n",
       "3         Do You Believe? (2015)           4.2                 2.35   \n",
       "4  Hot Tub Time Machine 2 (2015)           1.4                 1.70   \n",
       "5       The Water Diviner (2015)           3.1                 3.40   \n",
       "\n",
       "   IMDB_norm  Fandango_Ratingvalue  Fandango_Stars  \n",
       "1       3.55                   4.5             5.0  \n",
       "2       3.90                   4.5             5.0  \n",
       "3       2.70                   4.5             5.0  \n",
       "4       2.55                   3.0             3.5  \n",
       "5       3.60                   4.0             4.5  "
      ]
     },
     "execution_count": 4,
     "metadata": {},
     "output_type": "execute_result"
    }
   ],
   "source": [
    "norm_reviews.loc[1:5]"
   ]
  },
  {
   "cell_type": "code",
   "execution_count": 5,
   "id": "109e6598",
   "metadata": {},
   "outputs": [
    {
     "data": {
      "text/plain": [
       "FILM                    0\n",
       "RT_user_norm            0\n",
       "Metacritic_user_nom     0\n",
       "IMDB_norm               0\n",
       "Fandango_Ratingvalue    0\n",
       "Fandango_Stars          0\n",
       "dtype: int64"
      ]
     },
     "execution_count": 5,
     "metadata": {},
     "output_type": "execute_result"
    }
   ],
   "source": [
    "#verifier les données qui contient val maquant\n",
    "norm_reviews.isnull().sum()"
   ]
  },
  {
   "cell_type": "code",
   "execution_count": 6,
   "id": "e92f05ca",
   "metadata": {},
   "outputs": [
    {
     "data": {
      "text/plain": [
       "<Figure size 432x288 with 0 Axes>"
      ]
     },
     "metadata": {},
     "output_type": "display_data"
    },
    {
     "data": {
      "image/png": "[encoded data removed]",
      "text/plain": [
       "<Figure size 432x288 with 1 Axes>"
      ]
     },
     "metadata": {
      "needs_background": "light"
     },
     "output_type": "display_data"
    }
   ],
   "source": [
    "import matplotlib.pyplot as plt\n",
    "from numpy import arange\n",
    "\n",
    "#creer un dictionnaire de nom du colonne \n",
    "#key : id du col, ça fonctionne par norm_reviews.columns.get_loc(k)\n",
    "#value : name du col\n",
    "dic_col_id = {norm_reviews.columns.get_loc(k) : k  for k in norm_reviews.columns  }\n",
    "\n",
    "#list des cols pour grafik\n",
    "num_cols = [dic_col_id[i] for i in range(1,6)]\n",
    "\n",
    "#creer bar_positions\n",
    "bar_positions = arange(5)+1\n",
    "\n",
    "#creer bar_height qui contient des val des cols num_cols pour film 'Aven...'\n",
    "bar_heights = norm_reviews[num_cols].loc[norm_reviews['FILM']=='Avengers: Age of Ultron (2015)'].values[0]\n",
    "width = 0.5\n",
    "\n",
    "plt.figure()\n",
    "fig, ax = plt.subplots()\n",
    "\n",
    "ax.bar(bar_positions,bar_heights, width, color = 'blue')\n",
    "#creer xstick du range 1-5, placer trait du tick\n",
    "\n",
    "ax.set_xticks(range(1,6))\n",
    "#met label(intitulé) du xtick du valeur dans la liste ds cols num_cols\n",
    "ax.set_xticklabels(num_cols, rotation=90)\n",
    "\n",
    "ax.set_title(\"Graphique à barre du film Avenger\")\n",
    "plt.show()"
   ]
  },
  {
   "cell_type": "markdown",
   "id": "de5789a0",
   "metadata": {},
   "source": [
    "# Aligner l'intitulé et le trait sur l'axe x"
   ]
  },
  {
   "cell_type": "raw",
   "id": "0f431fcd",
   "metadata": {},
   "source": [
    "\n",
    "•Créer un sous-graphique et assigner l'objet Figure à la variable figet l'objet Axes à la variable ax.\n",
    "•Générer un diagramme en barre avec:\n",
    "•Les coordonnées x de toutes les barres définie par bar_positions qui doit prendre les valeurs 1,2,3,4 et 5\n",
    "•La hauteur de chaque barres définie par bar_heights qui doit prendre les 5 colonnes qui nous intéressent pour le film ‘Avengers: Age of Ultron(2015)’\n",
    "•Avec l’argument width vous pouvez gérer l’épaisseur des barres. Fixé-là à 0.5\n",
    "•Placer les 5 traits correspondant aux barres.\n",
    "•Placer les intitulés de num_colset faire une rotation de 90 degrés.\n",
    "•Nommer l'axe x par 'Sources de notation'.\n",
    "•Nommer l'axe y par 'Note moyenne'.\n",
    "•Définir le titre par 'Moyenne des notes utilisateurs pour le film Avengers: Age of Ultron(2015)'.\n",
    "•Afficher le diagramme.\n"
   ]
  },
  {
   "cell_type": "code",
   "execution_count": 7,
   "id": "2417a92f",
   "metadata": {},
   "outputs": [
    {
     "data": {
      "text/plain": [
       "<Figure size 432x288 with 0 Axes>"
      ]
     },
     "metadata": {},
     "output_type": "display_data"
    },
    {
     "data": {
      "image/png": "[encoded data removed]",
      "text/plain": [
       "<Figure size 432x288 with 1 Axes>"
      ]
     },
     "metadata": {
      "needs_background": "light"
     },
     "output_type": "display_data"
    }
   ],
   "source": [
    "import matplotlib.pyplot as plt\n",
    "from numpy import arange\n",
    "\n",
    "bar_heights = norm_reviews[num_cols].loc[norm_reviews['FILM']=='Avengers: Age of Ultron (2015)'].values[0]\n",
    "width = 0.5\n",
    "\n",
    "plt.figure()\n",
    "fig, ax = plt.subplots()\n",
    "\n",
    "ax.bar(bar_positions,bar_heights, width, color = 'green')\n",
    "\n",
    "#creer xstick du range 1-5, placer trait du tick\n",
    "ax.set_xticks(range(1,6))\n",
    "\n",
    "#met label(intitulé) du xtick du valeur dans la liste ds cols num_cols\n",
    "ax.set_xticklabels(num_cols, rotation=90, color=\"#FF0FAC\")\n",
    "\n",
    "ax.set_xlabel(\"Sources de notation\")\n",
    "ax.set_ylabel(\"Note moyenne\")\n",
    "ax.set_title(\"Moyenne des notes utilisateurs pour le film Avengers: Age of Ultron(2015)\")\n",
    "\n",
    "plt.show()\n",
    "\n",
    "#conclusion: Metacritic a la plus base de note moyen, Fandago a la plus haute de note"
   ]
  },
  {
   "cell_type": "markdown",
   "id": "2b5e0800",
   "metadata": {},
   "source": [
    "# Diagramme en barres horizontales"
   ]
  },
  {
   "cell_type": "code",
   "execution_count": 8,
   "id": "538aa90c",
   "metadata": {},
   "outputs": [
    {
     "data": {
      "image/png": "[encoded data removed]",
      "text/plain": [
       "<Figure size 432x288 with 1 Axes>"
      ]
     },
     "metadata": {
      "needs_background": "light"
     },
     "output_type": "display_data"
    }
   ],
   "source": [
    "import matplotlib.pyplot as plt\n",
    "\n",
    "bar_heights = norm_reviews[num_cols].loc[norm_reviews['FILM']=='Avengers: Age of Ultron (2015)'].values[0]\n",
    "width = 0.5\n",
    "bar_positions = arange(5)+1\n",
    "\n",
    "fig, ax = plt.subplots()\n",
    "ax.barh(bar_positions,bar_heights, width, color = 'orange')\n",
    "\n",
    "ax.set_yticks(bar_positions)\n",
    "ax.set_yticklabels(num_cols)\n",
    "\n",
    "ax.set_ylabel(\"Sources de notation\")\n",
    "ax.set_xlabel(\"Note moyenne\")\n",
    "ax.set_title(\"Moyenne des notes utilisateurs pour le film Avengers: Age of Ultron(2015)\")\n",
    "\n",
    "plt.show()"
   ]
  },
  {
   "cell_type": "markdown",
   "id": "a8e26d06",
   "metadata": {},
   "source": [
    "# Graphique à nuage de points"
   ]
  },
  {
   "cell_type": "markdown",
   "id": "6b1c9c70",
   "metadata": {},
   "source": [
    "Générer un graphique à nuage de points avec la colonne 'Fandango_Ratingvalue' sur l'axe x et etla colonne 'RT_user_norm' pour l'axe y.\n",
    "•Définir pour l'axe x 'Fandango' et 'RottenTomatoes' pour l'axe y.\n",
    "•Afficher le graphique résultant."
   ]
  },
  {
   "cell_type": "code",
   "execution_count": 9,
   "id": "e14127ec",
   "metadata": {},
   "outputs": [
    {
     "data": {
      "image/png": "[encoded data removed]",
      "text/plain": [
       "<Figure size 432x288 with 1 Axes>"
      ]
     },
     "metadata": {
      "needs_background": "light"
     },
     "output_type": "display_data"
    }
   ],
   "source": [
    "import matplotlib.pyplot as plt\n",
    "\n",
    "#\n",
    "fig, ax = plt.subplots()\n",
    "\n",
    "ax.scatter(norm_reviews['Fandango_Ratingvalue'], norm_reviews['RT_user_norm'], marker='x', color='#F0A400')\n",
    "ax.set_xlabel('Fandango')\n",
    "ax.set_ylabel('RottenTomatoes')\n",
    "\n",
    "plt.show()\n",
    "plt.close()\n",
    "#conclusion: fandago ça donne les notes"
   ]
  },
  {
   "cell_type": "markdown",
   "id": "f083b74b",
   "metadata": {},
   "source": [
    "# Intervertir les axes"
   ]
  },
  {
   "cell_type": "markdown",
   "id": "5d3941af",
   "metadata": {},
   "source": [
    "Assigner à la variable fig la figure retourné par plt.figure()\n",
    "•Nous allons ici un graphiques avec deux sous-graphiques à l’aide de la méthode add_subplot() répartie sur une ligne et deux colonnes:\n",
    "•Avec fig.add_subplot(...,...,...) assigné à ax1 l’axe de la 1èrefigure.\n",
    "•Avec fig.add_subplot(...,...,...) assigné à ax1 l’axe de la 2èmefigure.\n",
    "•Pour le sous-graphique associé à la variable ax1.\n",
    "    •Générer un graphique à nuage de points avec la colonne 'Fandango_Ratingvalue' sur l'axe x et la colonne 'RT_user_norm' sur l'axe y\n",
    "    •Définir pour l'axe x 'Fandango' et pour l'axe y 'RottenTomatoes'\n",
    "•Pour le sous-graphique associé à la variable ax2.\n",
    "    •Générer un graphique à nuage de points avec la colonne 'RT_user_norm' sur l'axe x et la colonne 'Fandango_Ratingvalue' sur l'axe y\n",
    "    •Définir pour l'axe x 'RottenTomatoes' et pour l'axe y 'fandango'\n",
    "•Afficher le graphique résultant."
   ]
  },
  {
   "cell_type": "code",
   "execution_count": 10,
   "id": "fe102ec0",
   "metadata": {},
   "outputs": [
    {
     "data": {
      "image/png": "[encoded data removed]",
      "text/plain": [
       "<Figure size 720x360 with 2 Axes>"
      ]
     },
     "metadata": {
      "needs_background": "light"
     },
     "output_type": "display_data"
    }
   ],
   "source": [
    "import matplotlib.pyplot as plt\n",
    "fig, ax = plt.subplots(1, 2, figsize=(10,5))\n",
    "myColor='green'\n",
    "ax1 = ax[0]\n",
    "ax1.scatter(norm_reviews['Fandango_Ratingvalue'], norm_reviews['RT_user_norm'], color='pink', marker='D')\n",
    "ax1.set_xlabel('Fandango', color=myColor)\n",
    "ax1.set_ylabel('RottenTomatoes', color=myColor)\n",
    "\n",
    "ax2 = ax[1]\n",
    "ax2.scatter(norm_reviews['RT_user_norm'], norm_reviews['Fandango_Ratingvalue'], marker='*', color='blue')\n",
    "ax2.set_ylabel('Fandango', color=myColor)\n",
    "ax2.set_xlabel('RottenTomatoes', color=myColor)\n",
    "\n",
    "plt.show()\n"
   ]
  },
  {
   "cell_type": "code",
   "execution_count": 19,
   "id": "bf57cc69",
   "metadata": {},
   "outputs": [
    {
     "data": {
      "image/png": "[encoded data removed]",
      "text/plain": [
       "<Figure size 720x360 with 2 Axes>"
      ]
     },
     "metadata": {
      "needs_background": "light"
     },
     "output_type": "display_data"
    }
   ],
   "source": [
    "import matplotlib.pyplot as plt\n",
    "fig = plt.figure(figsize=(10,5))\n",
    "ax1 = fig.add_subplot(1,2,1)\n",
    "ax1.plot(norm_reviews['Fandango_Ratingvalue'], norm_reviews['RT_user_norm'], linestyle='', color='red', marker='.', markersize=10)\n",
    "ax1.set_xlabel('Fandago')\n",
    "ax1.set_ylabel('Rotten Tomatoes')\n",
    "\n",
    "ax2 = fig.add_subplot(1,2,2)\n",
    "ax2.plot(norm_reviews['RT_user_norm'], norm_reviews['Fandango_Ratingvalue'], linestyle='', marker='*', color='blue')\n",
    "ax2.set_ylabel('Fandango', color=myColor)\n",
    "ax2.set_xlabel('RottenTomatoes', color=myColor)\n",
    "\n",
    "plt.show()\n",
    "\n",
    "#explication: il y a relation linéaire"
   ]
  },
  {
   "cell_type": "markdown",
   "id": "869404ff",
   "metadata": {},
   "source": [
    "# Comparaison de corrélations (9)"
   ]
  },
  {
   "cell_type": "markdown",
   "id": "fb64f3cb",
   "metadata": {},
   "source": [
    "Tracer un graphiques avec 3 sous-graphiques:\n",
    "•Pour le sous-graphique associé à la variable ax1:\n",
    "    •Générer un graphique à nuage de points avec la colonne 'Fandango_Ratingvalue' sur l'axe x et la colonne 'RT_user_norm' sur l'axe y\n",
    "    •Définir pour l'axe x 'Fandango' et pour l'axe y 'RottenTomatoes'\n",
    "    •Définir les limites des axes x et y en les fixant de 0 à 5 avec .set_xlim(..,..) et set_ylim(..,..)\n",
    "•Pour le sous-graphique associé à la variable ax2:\n",
    "    •Générer un graphique à nuage de points avec la colonne 'Fandango_Ratingvalue' sur l'axe x et la colonne 'Metacritic_user_nom' sur l'axe y\n",
    "    •Définir pour l'axe x 'Fandango' et pour l'axe y 'Metacritic'\n",
    "    •Définir les limites des axes x et y en les fixant de 0 à 5\n",
    "•Pour le sous-graphique associé à la variable ax3:\n",
    "    •Générer un graphique à nuage de points avec la colonne 'Fandango_Ratingvalue' sur l'axe x et la colonne 'IMDB_norm' sur l'axe y\n",
    "    •Définir pour l'axe x 'Fandango' et pour l'axe y 'IMDB'\n",
    "    •Définir les limites des axes x et y en les fixant de 0 à 5\n",
    "•Afficher le graphique\n"
   ]
  },
  {
   "cell_type": "code",
   "execution_count": 12,
   "id": "cb2136b4",
   "metadata": {},
   "outputs": [
    {
     "data": {
      "image/png": "[encoded data removed]",
      "text/plain": [
       "<Figure size 720x576 with 4 Axes>"
      ]
     },
     "metadata": {
      "needs_background": "light"
     },
     "output_type": "display_data"
    }
   ],
   "source": [
    "import matplotlib.pyplot as plt\n",
    "\n",
    "fig, ax = plt.subplots(2, 2, figsize=(10,8))\n",
    "ax1 = ax[0,0]\n",
    "ax1.scatter(norm_reviews['Fandango_Ratingvalue'], norm_reviews['RT_user_norm'], marker='v')\n",
    "ax1.set_xlabel('Fandango')\n",
    "ax1.set_ylabel('RottenTomatoes')\n",
    "ax1.set_xlim(0,5)\n",
    "ax1.set_ylim(0,5)\n",
    "\n",
    "ax2 = ax[0,1]\n",
    "ax2.scatter(norm_reviews['Fandango_Ratingvalue'], norm_reviews['Metacritic_user_nom'], marker='*', color=\"#337F45\")\n",
    "ax2.set_xlabel('Fandango')\n",
    "ax2.set_ylabel('Metacritic')\n",
    "ax2.set_xlim(0,5)\n",
    "ax2.set_ylim(0,5)\n",
    "\n",
    "ax3 = ax[1,0]\n",
    "ax3.scatter(norm_reviews['Fandango_Ratingvalue'], norm_reviews['IMDB_norm'], marker='.', color=\"#FA0045\")\n",
    "ax3.set_xlabel('Fandango')\n",
    "ax3.set_ylabel('IMDB_norm')\n",
    "ax3.set_xlim(0,5)\n",
    "ax3.set_ylim(0,5)\n",
    "plt.show()"
   ]
  },
  {
   "cell_type": "markdown",
   "id": "8dea4fa0",
   "metadata": {},
   "source": [
    "# Utilise add_subplot"
   ]
  },
  {
   "cell_type": "code",
   "execution_count": 25,
   "id": "0aaa6a5d",
   "metadata": {},
   "outputs": [
    {
     "data": {
      "image/png": "[encoded data removed]",
      "text/plain": [
       "<Figure size 1080x360 with 3 Axes>"
      ]
     },
     "metadata": {
      "needs_background": "light"
     },
     "output_type": "display_data"
    }
   ],
   "source": [
    "import matplotlib.pyplot as plt\n",
    "fig = plt.figure(figsize=(15,5))\n",
    "ax1 = fig.add_subplot(1,3,1) \n",
    "ax2 = fig.add_subplot(1,3,2)\n",
    "ax3 = fig.add_subplot(1,3,3)\n",
    "\n",
    "ax1.scatter(norm_reviews['Fandango_Ratingvalue'], norm_reviews['RT_user_norm'], \n",
    "            marker='v', color=\"#3111F1\")\n",
    "ax1.set_xlabel('Fandango')\n",
    "ax1.set_ylabel('RottenTomatoes')\n",
    "ax1.set_xlim(0,5)\n",
    "ax1.set_ylim(0,5)\n",
    "#le pluspart des notes de Fandago des films ayant des notes plus 2.5, sont étalé de 1 à 5\n",
    "\n",
    "ax2.scatter(norm_reviews['Fandango_Ratingvalue'], norm_reviews['Metacritic_user_nom'], \n",
    "            marker='*', color=\"#337F45\")\n",
    "ax2.set_xlabel('Fandango')\n",
    "ax2.set_ylabel('Metacritic')\n",
    "ax2.set_xlim(0,5)\n",
    "ax2.set_ylim(0,5)\n",
    "#\n",
    "\n",
    "ax3.scatter(norm_reviews['Fandango_Ratingvalue'], norm_reviews['IMDB_norm'], \n",
    "            marker='.', color=\"#FA0045\")\n",
    "ax3.set_xlabel('Fandango')\n",
    "ax3.set_ylabel('IMDB_norm')\n",
    "ax3.set_xlim(0,5)\n",
    "ax3.set_ylim(0,5)\n",
    "#Fandago se fait la tendance des films\n",
    "plt.show()"
   ]
  },
  {
   "cell_type": "code",
   "execution_count": 26,
   "id": "4012b7e0",
   "metadata": {},
   "outputs": [
    {
     "data": {
      "text/html": [
       "<div>\n",
       "<style scoped>\n",
       "    .dataframe tbody tr th:only-of-type {\n",
       "        vertical-align: middle;\n",
       "    }\n",
       "\n",
       "    .dataframe tbody tr th {\n",
       "        vertical-align: top;\n",
       "    }\n",
       "\n",
       "    .dataframe thead th {\n",
       "        text-align: right;\n",
       "    }\n",
       "</style>\n",
       "<table border=\"1\" class=\"dataframe\">\n",
       "  <thead>\n",
       "    <tr style=\"text-align: right;\">\n",
       "      <th></th>\n",
       "      <th>RT_user_norm</th>\n",
       "      <th>Metacritic_user_nom</th>\n",
       "      <th>IMDB_norm</th>\n",
       "      <th>Fandango_Ratingvalue</th>\n",
       "      <th>Fandango_Stars</th>\n",
       "    </tr>\n",
       "  </thead>\n",
       "  <tbody>\n",
       "    <tr>\n",
       "      <th>RT_user_norm</th>\n",
       "      <td>1.000000</td>\n",
       "      <td>0.687132</td>\n",
       "      <td>0.895297</td>\n",
       "      <td>0.724329</td>\n",
       "      <td>0.703683</td>\n",
       "    </tr>\n",
       "    <tr>\n",
       "      <th>Metacritic_user_nom</th>\n",
       "      <td>0.687132</td>\n",
       "      <td>1.000000</td>\n",
       "      <td>0.756265</td>\n",
       "      <td>0.336945</td>\n",
       "      <td>0.337497</td>\n",
       "    </tr>\n",
       "    <tr>\n",
       "      <th>IMDB_norm</th>\n",
       "      <td>0.895297</td>\n",
       "      <td>0.756265</td>\n",
       "      <td>1.000000</td>\n",
       "      <td>0.600354</td>\n",
       "      <td>0.587295</td>\n",
       "    </tr>\n",
       "    <tr>\n",
       "      <th>Fandango_Ratingvalue</th>\n",
       "      <td>0.724329</td>\n",
       "      <td>0.336945</td>\n",
       "      <td>0.600354</td>\n",
       "      <td>1.000000</td>\n",
       "      <td>0.959709</td>\n",
       "    </tr>\n",
       "    <tr>\n",
       "      <th>Fandango_Stars</th>\n",
       "      <td>0.703683</td>\n",
       "      <td>0.337497</td>\n",
       "      <td>0.587295</td>\n",
       "      <td>0.959709</td>\n",
       "      <td>1.000000</td>\n",
       "    </tr>\n",
       "  </tbody>\n",
       "</table>\n",
       "</div>"
      ],
      "text/plain": [
       "                      RT_user_norm  Metacritic_user_nom  IMDB_norm  \\\n",
       "RT_user_norm              1.000000             0.687132   0.895297   \n",
       "Metacritic_user_nom       0.687132             1.000000   0.756265   \n",
       "IMDB_norm                 0.895297             0.756265   1.000000   \n",
       "Fandango_Ratingvalue      0.724329             0.336945   0.600354   \n",
       "Fandango_Stars            0.703683             0.337497   0.587295   \n",
       "\n",
       "                      Fandango_Ratingvalue  Fandango_Stars  \n",
       "RT_user_norm                      0.724329        0.703683  \n",
       "Metacritic_user_nom               0.336945        0.337497  \n",
       "IMDB_norm                         0.600354        0.587295  \n",
       "Fandango_Ratingvalue              1.000000        0.959709  \n",
       "Fandango_Stars                    0.959709        1.000000  "
      ]
     },
     "execution_count": 26,
     "metadata": {},
     "output_type": "execute_result"
    }
   ],
   "source": [
    "norm_reviews.corr()"
   ]
  },
  {
   "cell_type": "markdown",
   "id": "d67ccf2b",
   "metadata": {},
   "source": [
    "On peut regarder la ligne fandago_Ratingvalue: "
   ]
  },
  {
   "cell_type": "markdown",
   "id": "95abde8a",
   "metadata": {},
   "source": [
    "# Distribution de fréquences(10)"
   ]
  },
  {
   "cell_type": "code",
   "execution_count": 32,
   "id": "fb027d17",
   "metadata": {},
   "outputs": [],
   "source": [
    "import numpy as np\n",
    "\n",
    "#creer une series de frequent du col TMDB_norm\n",
    "imdb_distribution = norm_reviews['IMDB_norm'].value_counts()\n",
    "\n",
    "#trie cet series par index de series\n",
    "imdb_distribution = imdb_distribution.loc[sorted(imdb_distribution.index)]\n",
    "\n",
    "#soit \n",
    "# imdb_distribution = imdb_distribution.sort_index()"
   ]
  },
  {
   "cell_type": "code",
   "execution_count": 33,
   "id": "551deae5",
   "metadata": {},
   "outputs": [
    {
     "data": {
      "text/plain": [
       "2.00     1\n",
       "2.10     1\n",
       "2.15     1\n",
       "2.20     1\n",
       "2.30     2\n",
       "2.45     2\n",
       "2.50     1\n",
       "2.55     1\n",
       "2.60     2\n",
       "2.70     4\n",
       "2.75     5\n",
       "2.80     2\n",
       "2.85     1\n",
       "2.90     1\n",
       "2.95     3\n",
       "3.00     2\n",
       "3.05     4\n",
       "3.10     1\n",
       "3.15     9\n",
       "3.20     6\n",
       "3.25     4\n",
       "3.30     9\n",
       "3.35     7\n",
       "3.40     1\n",
       "3.45     7\n",
       "3.50     4\n",
       "3.55     7\n",
       "3.60    10\n",
       "3.65     5\n",
       "3.70     8\n",
       "3.75     6\n",
       "3.80     3\n",
       "3.85     4\n",
       "3.90     9\n",
       "3.95     2\n",
       "4.00     1\n",
       "4.05     1\n",
       "4.10     4\n",
       "4.15     1\n",
       "4.20     2\n",
       "4.30     1\n",
       "Name: IMDB_norm, dtype: int64"
      ]
     },
     "execution_count": 33,
     "metadata": {},
     "output_type": "execute_result"
    }
   ],
   "source": [
    "#afficher series\n",
    "imdb_distribution"
   ]
  },
  {
   "cell_type": "markdown",
   "id": "86698061",
   "metadata": {},
   "source": [
    "Générer un histogramme des valeurs de la colonne 'Fandango_Ratingvalue' en utilisant un range de 0 à 5."
   ]
  },
  {
   "cell_type": "code",
   "execution_count": 34,
   "id": "c0dab615",
   "metadata": {},
   "outputs": [
    {
     "data": {
      "image/png": "[encoded data removed]",
      "text/plain": [
       "<Figure size 432x288 with 1 Axes>"
      ]
     },
     "metadata": {
      "needs_background": "light"
     },
     "output_type": "display_data"
    }
   ],
   "source": [
    "#histogramme p10\n",
    "import matplotlib.pyplot as plt\n",
    "\n",
    "fig, ax = plt.subplots()\n",
    "\n",
    "#bins: nombre de barre s/histogramme\n",
    "#ax est classe\n",
    "ax.hist(norm_reviews['Fandango_Ratingvalue'], range=(0,5), bins=20)\n",
    "\n",
    "plt.show()"
   ]
  },
  {
   "cell_type": "markdown",
   "id": "a60e7e5e",
   "metadata": {},
   "source": [
    "on a des notes assez relevé, ça concentre à partir de note 3.5"
   ]
  },
  {
   "cell_type": "markdown",
   "id": "71d9c98d",
   "metadata": {},
   "source": [
    "# Comparaison d'histogrammes(12)"
   ]
  },
  {
   "cell_type": "code",
   "execution_count": 43,
   "id": "66f068c0",
   "metadata": {},
   "outputs": [
    {
     "data": {
      "image/png": "[encoded data removed]",
      "text/plain": [
       "<Figure size 720x576 with 4 Axes>"
      ]
     },
     "metadata": {
      "needs_background": "light"
     },
     "output_type": "display_data"
    }
   ],
   "source": [
    "import matplotlib.pyplot as plt\n",
    "\n",
    "fig, ax = plt.subplots(2, 2, figsize=(10,8))\n",
    "\n",
    "\n",
    "# AXE 1\n",
    "#Générer un histogramme des valeurs de la colonne 'Fandango_Ratingvalue' en utilisant \n",
    "# 20 classes (argument bins=20) et un intervalle de 0 à 5 (argument range=(0,5)).\n",
    "ax1 = ax[0,0]\n",
    "ax1.hist(norm_reviews['Fandango_Ratingvalue'], range=(0,5), bins=20, color='yellow')\n",
    "ax1.set_ylim([0, 50])\n",
    "ax1.set_title('Fandago')\n",
    "\n",
    "#AXE 2\n",
    "# Générer un histogramme des valeurs de la colonne 'RT_user_norm' \n",
    "# en utilisant 20 classes (bins) \n",
    "# et un intervalle de 0 à 5\n",
    "ax2 = ax[0,1]\n",
    "ax2.hist(norm_reviews['RT_user_norm'], range=(0,5), bins=20, color='green')\n",
    "ax2.set_ylim([0, 50])\n",
    "ax2.set_title('Rate_user')\n",
    "\n",
    "ax3 = ax[1,0]\n",
    "ax3.hist(norm_reviews['Metacritic_user_nom'], range=(0,5), bins=20, color='brown')\n",
    "ax3.set_ylim([0, 50])\n",
    "ax3.set_title('Metacritc')\n",
    "\n",
    "ax4 = ax[1,1]\n",
    "ax4.hist(norm_reviews['IMDB_norm'], range=(0,5), bins=20, color='#33F212')\n",
    "ax4.set_ylim([0, 50])\n",
    "ax4.set_title('IMDB')\n",
    "\n",
    "fig.subplots_adjust(wspace=0.4, hspace=0.3) \n",
    "#si grafik a plusieurs figure, on peut configurer l'espace entre des figures\n",
    "plt.show()\n",
    "#ET_user: la note est beaucoup bien étalé entre 1 et moins 5\n",
    "#Metacritic: est moins étalé, mais la fréquence est concentré de "
   ]
  },
  {
   "cell_type": "markdown",
   "id": "c36817a3",
   "metadata": {},
   "source": [
    "# Plusieurs diagrammes à boîtes (12)"
   ]
  },
  {
   "cell_type": "code",
   "execution_count": 17,
   "id": "3215550f",
   "metadata": {},
   "outputs": [
    {
     "ename": "ValueError",
     "evalue": "The number of FixedLocator locations (1), usually from a call to set_ticks, does not match the number of ticklabels (12).",
     "output_type": "error",
     "traceback": [
      "\u001b[0;31m---------------------------------------------------------------------------\u001b[0m",
      "\u001b[0;31mValueError\u001b[0m                                Traceback (most recent call last)",
      "\u001b[0;32m<ipython-input-17-7c27b88fe1bd>\u001b[0m in \u001b[0;36m<module>\u001b[0;34m\u001b[0m\n\u001b[1;32m      6\u001b[0m     \u001b[0max\u001b[0m\u001b[0;34m[\u001b[0m\u001b[0mnum_cols\u001b[0m\u001b[0;34m.\u001b[0m\u001b[0mindex\u001b[0m\u001b[0;34m(\u001b[0m\u001b[0mc\u001b[0m\u001b[0;34m)\u001b[0m\u001b[0;34m]\u001b[0m\u001b[0;34m.\u001b[0m\u001b[0mboxplot\u001b[0m\u001b[0;34m(\u001b[0m\u001b[0mnorm_reviews\u001b[0m\u001b[0;34m[\u001b[0m\u001b[0mc\u001b[0m\u001b[0;34m]\u001b[0m\u001b[0;34m,\u001b[0m\u001b[0mshowfliers\u001b[0m\u001b[0;34m=\u001b[0m\u001b[0;32mFalse\u001b[0m\u001b[0;34m)\u001b[0m\u001b[0;34m\u001b[0m\u001b[0;34m\u001b[0m\u001b[0m\n\u001b[1;32m      7\u001b[0m     \u001b[0max\u001b[0m\u001b[0;34m[\u001b[0m\u001b[0mnum_cols\u001b[0m\u001b[0;34m.\u001b[0m\u001b[0mindex\u001b[0m\u001b[0;34m(\u001b[0m\u001b[0mc\u001b[0m\u001b[0;34m)\u001b[0m\u001b[0;34m]\u001b[0m\u001b[0;34m.\u001b[0m\u001b[0mset_ylim\u001b[0m\u001b[0;34m(\u001b[0m\u001b[0;34m[\u001b[0m\u001b[0;36m0\u001b[0m\u001b[0;34m,\u001b[0m\u001b[0;36m5\u001b[0m\u001b[0;34m]\u001b[0m\u001b[0;34m)\u001b[0m\u001b[0;34m\u001b[0m\u001b[0;34m\u001b[0m\u001b[0m\n\u001b[0;32m----> 8\u001b[0;31m     \u001b[0max\u001b[0m\u001b[0;34m[\u001b[0m\u001b[0mnum_cols\u001b[0m\u001b[0;34m.\u001b[0m\u001b[0mindex\u001b[0m\u001b[0;34m(\u001b[0m\u001b[0mc\u001b[0m\u001b[0;34m)\u001b[0m\u001b[0;34m]\u001b[0m\u001b[0;34m.\u001b[0m\u001b[0mset_xticklabels\u001b[0m\u001b[0;34m(\u001b[0m\u001b[0mc\u001b[0m\u001b[0;34m)\u001b[0m\u001b[0;34m\u001b[0m\u001b[0;34m\u001b[0m\u001b[0m\n\u001b[0m\u001b[1;32m      9\u001b[0m \u001b[0m_\u001b[0m\u001b[0;34m\u001b[0m\u001b[0;34m\u001b[0m\u001b[0m\n\u001b[1;32m     10\u001b[0m \u001b[0mplt\u001b[0m\u001b[0;34m.\u001b[0m\u001b[0mshow\u001b[0m\u001b[0;34m(\u001b[0m\u001b[0;34m)\u001b[0m\u001b[0;34m\u001b[0m\u001b[0;34m\u001b[0m\u001b[0m\n",
      "\u001b[0;32m~/anaconda3/lib/python3.8/site-packages/matplotlib/axes/_base.py\u001b[0m in \u001b[0;36mwrapper\u001b[0;34m(self, *args, **kwargs)\u001b[0m\n\u001b[1;32m     61\u001b[0m \u001b[0;34m\u001b[0m\u001b[0m\n\u001b[1;32m     62\u001b[0m         \u001b[0;32mdef\u001b[0m \u001b[0mwrapper\u001b[0m\u001b[0;34m(\u001b[0m\u001b[0mself\u001b[0m\u001b[0;34m,\u001b[0m \u001b[0;34m*\u001b[0m\u001b[0margs\u001b[0m\u001b[0;34m,\u001b[0m \u001b[0;34m**\u001b[0m\u001b[0mkwargs\u001b[0m\u001b[0;34m)\u001b[0m\u001b[0;34m:\u001b[0m\u001b[0;34m\u001b[0m\u001b[0;34m\u001b[0m\u001b[0m\n\u001b[0;32m---> 63\u001b[0;31m             \u001b[0;32mreturn\u001b[0m \u001b[0mget_method\u001b[0m\u001b[0;34m(\u001b[0m\u001b[0mself\u001b[0m\u001b[0;34m)\u001b[0m\u001b[0;34m(\u001b[0m\u001b[0;34m*\u001b[0m\u001b[0margs\u001b[0m\u001b[0;34m,\u001b[0m \u001b[0;34m**\u001b[0m\u001b[0mkwargs\u001b[0m\u001b[0;34m)\u001b[0m\u001b[0;34m\u001b[0m\u001b[0;34m\u001b[0m\u001b[0m\n\u001b[0m\u001b[1;32m     64\u001b[0m \u001b[0;34m\u001b[0m\u001b[0m\n\u001b[1;32m     65\u001b[0m         \u001b[0mwrapper\u001b[0m\u001b[0;34m.\u001b[0m\u001b[0m__module__\u001b[0m \u001b[0;34m=\u001b[0m \u001b[0mowner\u001b[0m\u001b[0;34m.\u001b[0m\u001b[0m__module__\u001b[0m\u001b[0;34m\u001b[0m\u001b[0;34m\u001b[0m\u001b[0m\n",
      "\u001b[0;32m~/anaconda3/lib/python3.8/site-packages/matplotlib/cbook/deprecation.py\u001b[0m in \u001b[0;36mwrapper\u001b[0;34m(*args, **kwargs)\u001b[0m\n\u001b[1;32m    449\u001b[0m                 \u001b[0;34m\"parameter will become keyword-only %(removal)s.\"\u001b[0m\u001b[0;34m,\u001b[0m\u001b[0;34m\u001b[0m\u001b[0;34m\u001b[0m\u001b[0m\n\u001b[1;32m    450\u001b[0m                 name=name, obj_type=f\"parameter of {func.__name__}()\")\n\u001b[0;32m--> 451\u001b[0;31m         \u001b[0;32mreturn\u001b[0m \u001b[0mfunc\u001b[0m\u001b[0;34m(\u001b[0m\u001b[0;34m*\u001b[0m\u001b[0margs\u001b[0m\u001b[0;34m,\u001b[0m \u001b[0;34m**\u001b[0m\u001b[0mkwargs\u001b[0m\u001b[0;34m)\u001b[0m\u001b[0;34m\u001b[0m\u001b[0;34m\u001b[0m\u001b[0m\n\u001b[0m\u001b[1;32m    452\u001b[0m \u001b[0;34m\u001b[0m\u001b[0m\n\u001b[1;32m    453\u001b[0m     \u001b[0;32mreturn\u001b[0m \u001b[0mwrapper\u001b[0m\u001b[0;34m\u001b[0m\u001b[0;34m\u001b[0m\u001b[0m\n",
      "\u001b[0;32m~/anaconda3/lib/python3.8/site-packages/matplotlib/axis.py\u001b[0m in \u001b[0;36m_set_ticklabels\u001b[0;34m(self, labels, fontdict, minor, **kwargs)\u001b[0m\n\u001b[1;32m   1794\u001b[0m         \u001b[0;32mif\u001b[0m \u001b[0mfontdict\u001b[0m \u001b[0;32mis\u001b[0m \u001b[0;32mnot\u001b[0m \u001b[0;32mNone\u001b[0m\u001b[0;34m:\u001b[0m\u001b[0;34m\u001b[0m\u001b[0;34m\u001b[0m\u001b[0m\n\u001b[1;32m   1795\u001b[0m             \u001b[0mkwargs\u001b[0m\u001b[0;34m.\u001b[0m\u001b[0mupdate\u001b[0m\u001b[0;34m(\u001b[0m\u001b[0mfontdict\u001b[0m\u001b[0;34m)\u001b[0m\u001b[0;34m\u001b[0m\u001b[0;34m\u001b[0m\u001b[0m\n\u001b[0;32m-> 1796\u001b[0;31m         \u001b[0;32mreturn\u001b[0m \u001b[0mself\u001b[0m\u001b[0;34m.\u001b[0m\u001b[0mset_ticklabels\u001b[0m\u001b[0;34m(\u001b[0m\u001b[0mlabels\u001b[0m\u001b[0;34m,\u001b[0m \u001b[0mminor\u001b[0m\u001b[0;34m=\u001b[0m\u001b[0mminor\u001b[0m\u001b[0;34m,\u001b[0m \u001b[0;34m**\u001b[0m\u001b[0mkwargs\u001b[0m\u001b[0;34m)\u001b[0m\u001b[0;34m\u001b[0m\u001b[0;34m\u001b[0m\u001b[0m\n\u001b[0m\u001b[1;32m   1797\u001b[0m \u001b[0;34m\u001b[0m\u001b[0m\n\u001b[1;32m   1798\u001b[0m     \u001b[0;34m@\u001b[0m\u001b[0mcbook\u001b[0m\u001b[0;34m.\u001b[0m\u001b[0m_make_keyword_only\u001b[0m\u001b[0;34m(\u001b[0m\u001b[0;34m\"3.2\"\u001b[0m\u001b[0;34m,\u001b[0m \u001b[0;34m\"minor\"\u001b[0m\u001b[0;34m)\u001b[0m\u001b[0;34m\u001b[0m\u001b[0;34m\u001b[0m\u001b[0m\n",
      "\u001b[0;32m~/anaconda3/lib/python3.8/site-packages/matplotlib/axis.py\u001b[0m in \u001b[0;36mset_ticklabels\u001b[0;34m(self, ticklabels, minor, **kwargs)\u001b[0m\n\u001b[1;32m   1715\u001b[0m             \u001b[0;31m# remove all tick labels, so only error for > 0 ticklabels\u001b[0m\u001b[0;34m\u001b[0m\u001b[0;34m\u001b[0m\u001b[0;34m\u001b[0m\u001b[0m\n\u001b[1;32m   1716\u001b[0m             \u001b[0;32mif\u001b[0m \u001b[0mlen\u001b[0m\u001b[0;34m(\u001b[0m\u001b[0mlocator\u001b[0m\u001b[0;34m.\u001b[0m\u001b[0mlocs\u001b[0m\u001b[0;34m)\u001b[0m \u001b[0;34m!=\u001b[0m \u001b[0mlen\u001b[0m\u001b[0;34m(\u001b[0m\u001b[0mticklabels\u001b[0m\u001b[0;34m)\u001b[0m \u001b[0;32mand\u001b[0m \u001b[0mlen\u001b[0m\u001b[0;34m(\u001b[0m\u001b[0mticklabels\u001b[0m\u001b[0;34m)\u001b[0m \u001b[0;34m!=\u001b[0m \u001b[0;36m0\u001b[0m\u001b[0;34m:\u001b[0m\u001b[0;34m\u001b[0m\u001b[0;34m\u001b[0m\u001b[0m\n\u001b[0;32m-> 1717\u001b[0;31m                 raise ValueError(\n\u001b[0m\u001b[1;32m   1718\u001b[0m                     \u001b[0;34m\"The number of FixedLocator locations\"\u001b[0m\u001b[0;34m\u001b[0m\u001b[0;34m\u001b[0m\u001b[0m\n\u001b[1;32m   1719\u001b[0m                     \u001b[0;34mf\" ({len(locator.locs)}), usually from a call to\"\u001b[0m\u001b[0;34m\u001b[0m\u001b[0;34m\u001b[0m\u001b[0m\n",
      "\u001b[0;31mValueError\u001b[0m: The number of FixedLocator locations (1), usually from a call to set_ticks, does not match the number of ticklabels (12)."
     ]
    },
    {
     "data": {
      "image/png": "[encoded data removed]",
      "text/plain": [
       "<Figure size 1080x288 with 5 Axes>"
      ]
     },
     "metadata": {
      "needs_background": "light"
     },
     "output_type": "display_data"
    }
   ],
   "source": [
    "import matplotlib.pyplot as plt\n",
    "\n",
    "fig, ax = plt.subplots(1, 5, figsize=(15,4))\n",
    "\n",
    "for c in num_cols :\n",
    "    ax[num_cols.index(c)].boxplot(norm_reviews[c],showfliers=False)\n",
    "    ax[num_cols.index(c)].set_ylim([0,5])\n",
    "    ax[num_cols.index(c)].set_xticklabels(c)\n",
    "_\n",
    "plt.show()"
   ]
  },
  {
   "cell_type": "code",
   "execution_count": 44,
   "id": "084dfe77",
   "metadata": {},
   "outputs": [
    {
     "data": {
      "image/png": "[encoded data removed]",
      "text/plain": [
       "<Figure size 864x576 with 1 Axes>"
      ]
     },
     "metadata": {
      "needs_background": "light"
     },
     "output_type": "display_data"
    }
   ],
   "source": [
    "import matplotlib.pyplot as plt\n",
    "\n",
    "#cree les donnees pour chaque boite contenant des valuers du col\n",
    "data_user = norm_reviews[\"RT_user_norm\"].tolist() \n",
    "data_meta = norm_reviews[\"Metacritic_user_nom\"].tolist() \n",
    "data_imdb = norm_reviews[\"IMDB_norm\"].tolist() \n",
    "data_fand = norm_reviews[\"Fandango_Ratingvalue\"].tolist() \n",
    "\n",
    "#creer list de box_name par selectionner des éléments dans list num_cols\n",
    "box_name = num_cols[0:4]\n",
    "\n",
    "#cree des donnes pour toutes de boites \n",
    "data_boites = [data_user, data_meta, data_imdb, data_fand]\n",
    "\n",
    "fig, ax = plt.subplots(figsize=(12,8))\n",
    "ax.boxplot(data_boites)\n",
    "ax.set_ylim([0,5])\n",
    "ax.set_title(\"Boite à moustache par des variables\".upper(), color='blue')\n",
    "\n",
    "plt.xticks([1,2,3,4],box_name, rotation=90)\n",
    "plt.show()"
   ]
  },
  {
   "cell_type": "code",
   "execution_count": 45,
   "id": "fcc4c1bb",
   "metadata": {},
   "outputs": [
    {
     "data": {
      "text/plain": [
       "['RT_user_norm', 'Metacritic_user_nom', 'IMDB_norm', 'Fandango_Ratingvalue']"
      ]
     },
     "execution_count": 45,
     "metadata": {},
     "output_type": "execute_result"
    }
   ],
   "source": [
    "box_name = num_cols[0:4]\n",
    "box_name"
   ]
  },
  {
   "cell_type": "code",
   "execution_count": null,
   "id": "31a33426",
   "metadata": {},
   "outputs": [],
   "source": []
  }
 ],
 "metadata": {
  "kernelspec": {
   "display_name": "Python 3",
   "language": "python",
   "name": "python3"
  },
  "language_info": {
   "codemirror_mode": {
    "name": "ipython",
    "version": 3
   },
   "file_extension": ".py",
   "mimetype": "text/x-python",
   "name": "python",
   "nbconvert_exporter": "python",
   "pygments_lexer": "ipython3",
   "version": "3.8.8"
  }
 },
 "nbformat": 4,
 "nbformat_minor": 5
}
